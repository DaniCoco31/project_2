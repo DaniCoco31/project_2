{
 "cells": [
  {
   "cell_type": "code",
   "execution_count": null,
   "metadata": {},
   "outputs": [],
   "source": [
    "import pandas as pd\n",
    "import numpy as np\n",
    "import seaborn as sns\n",
    "import matplotlib.pyplot as plt\n",
    "import plotly.express as px\n",
    "from scipy.stats import ttest_ind, chi2_contingency\n",
    "from scipy.stats import ttest_ind"
   ]
  },
  {
   "cell_type": "code",
   "execution_count": null,
   "metadata": {},
   "outputs": [],
   "source": [
    "import sys\n",
    "sys.path.append('../src')\n",
    "from functions import *"
   ]
  },
  {
   "cell_type": "markdown",
   "metadata": {},
   "source": [
    "# Loading the Data"
   ]
  },
  {
   "cell_type": "code",
   "execution_count": null,
   "metadata": {},
   "outputs": [],
   "source": [
    "sys.path.append('../src')\n",
    "df_test_final = pd.read_csv('../Data/raw/df_test_final.csv')\n",
    "df_control_final = pd.read_csv('../Data/raw/df_control_final.csv')\n",
    "pd.set_option('display.max_columns', None)"
   ]
  },
  {
   "cell_type": "markdown",
   "metadata": {},
   "source": [
    "# df_control"
   ]
  },
  {
   "cell_type": "markdown",
   "metadata": {},
   "source": [
    "## Check the data types"
   ]
  },
  {
   "cell_type": "code",
   "execution_count": null,
   "metadata": {},
   "outputs": [],
   "source": [
    "# Convert specified columns to integer data type\n",
    "df_control_final['client_id'] = df_control_final['client_id'].astype(object)\n",
    "df_control_final['visit_visitor_id'] = df_control_final['visit_visitor_id'].astype(object)\n",
    "df_control_final['start_time'] = round(df_control_final['start_time'].astype(float),2)\n",
    "df_control_final['step_1'] = round(df_control_final['step_1'].astype(float),2)\n",
    "df_control_final['step_2'] = round(df_control_final['step_2'].astype(float),2)\n",
    "df_control_final['step_3'] = round(df_control_final['step_3'].astype(float),2)\n",
    "df_control_final['date'] = pd.to_datetime(df_control_final.date)\n",
    "df_control_final['bt_1'] = df_control_final['bt_1'].astype(int)\n",
    "df_control_final['bt_2'] = df_control_final['bt_2'].astype(int)\n",
    "df_control_final['bt_3'] = df_control_final['bt_3'].astype(int)\n",
    "df_control_final['total_navigation'] = df_control_final['total_navigation'].astype(int)\n",
    "df_control_final['last_step'] = df_control_final['last_step'].astype(object)\n",
    "df_control_final['completion'] = df_control_final['completion'].astype(bool)\n",
    "df_control_final['total_time_visit'] = round(df_control_final['total_time_visit'].astype(float),2)\n",
    "df_control_final['Variation'] = df_control_final['Variation'].astype(object)\n",
    "df_control_final['clnt_tenure_yr'] = df_control_final['clnt_tenure_yr'].astype(int)\n",
    "df_control_final['clnt_tenure_mnth'] = df_control_final['clnt_tenure_mnth'].astype(int)\n",
    "df_control_final['clnt_age'] = df_control_final['clnt_age'].astype(int)\n",
    "df_control_final['gendr'] = df_control_final['gendr'].astype(object)\n",
    "df_control_final['num_accts'] = df_control_final['num_accts'].astype(int)\n",
    "df_control_final['calls_6_mnth'] = df_control_final['calls_6_mnth'].astype(int)\n",
    "df_control_final['logons_6_mnth'] = df_control_final['logons_6_mnth'].astype(int)"
   ]
  },
  {
   "cell_type": "code",
   "execution_count": null,
   "metadata": {},
   "outputs": [],
   "source": [
    "df_control_final.dtypes"
   ]
  },
  {
   "cell_type": "markdown",
   "metadata": {},
   "source": [
    "## Categorical columns"
   ]
  },
  {
   "cell_type": "code",
   "execution_count": null,
   "metadata": {},
   "outputs": [],
   "source": [
    "# Extracting column names with numerical data types from the dataframe\n",
    "df_control_final.select_dtypes(\"object\").columns\n"
   ]
  },
  {
   "cell_type": "code",
   "execution_count": null,
   "metadata": {},
   "outputs": [],
   "source": [
    "test_categorical_columns = ['last_step', 'gendr']"
   ]
  },
  {
   "cell_type": "code",
   "execution_count": null,
   "metadata": {},
   "outputs": [],
   "source": [
    "# Extracting column names with numerical data types from the dataframe\n",
    "df_control_final.select_dtypes(\"object\").nunique().sort_values(ascending=False)"
   ]
  },
  {
   "cell_type": "code",
   "execution_count": null,
   "metadata": {},
   "outputs": [],
   "source": [
    "frequency_proportion(df_control_final, 'last_step')"
   ]
  },
  {
   "cell_type": "code",
   "execution_count": null,
   "metadata": {},
   "outputs": [],
   "source": [
    "frequency_proportion(df_control_final, 'gendr')"
   ]
  },
  {
   "cell_type": "code",
   "execution_count": null,
   "metadata": {},
   "outputs": [],
   "source": [
    "cross_table(df_control_final, 'start_time')"
   ]
  },
  {
   "cell_type": "code",
   "execution_count": null,
   "metadata": {},
   "outputs": [],
   "source": [
    "frequency_proportion(df_control_final, 'start_time')"
   ]
  },
  {
   "cell_type": "code",
   "execution_count": null,
   "metadata": {},
   "outputs": [],
   "source": [
    "tab_control_last_step = cross_table(df_control_final, 'last_step')\n",
    "tab_control_last_step"
   ]
  },
  {
   "cell_type": "code",
   "execution_count": null,
   "metadata": {},
   "outputs": [],
   "source": [
    "# Calculating the proportions for each value in 'tab_test_last_step' and rounding the results to two decimal places\n",
    "(tab_control_last_step['count'] / tab_control_last_step['count'].sum()).round(2)"
   ]
  },
  {
   "cell_type": "code",
   "execution_count": null,
   "metadata": {},
   "outputs": [],
   "source": [
    "tab_control_last_step.plot(x='last_step', y='count', kind='bar')\n",
    "plt.xlabel('Last Step')\n",
    "plt.ylabel('Count')\n",
    "plt.title('Last Step Distribution in Control Group')\n",
    "plt.show()"
   ]
  },
  {
   "cell_type": "code",
   "execution_count": null,
   "metadata": {},
   "outputs": [],
   "source": [
    "tab_control_gender = cross_table(df_control_final, 'gendr')\n",
    "tab_control_gender"
   ]
  },
  {
   "cell_type": "code",
   "execution_count": null,
   "metadata": {},
   "outputs": [],
   "source": [
    "# Calculating the proportions for each value in 'tab_test_last_step' and rounding the results to two decimal places\n",
    "(tab_control_gender['count'] / tab_control_gender['count'].sum()).round(2)"
   ]
  },
  {
   "cell_type": "code",
   "execution_count": null,
   "metadata": {},
   "outputs": [],
   "source": [
    "tab_control_gender.plot.pie(y='count', labels=tab_control_gender['gendr'], autopct='%1.1f%%')\n",
    "plt.title('Gender Distribution in Control Group')\n",
    "plt.axis('equal')\n",
    "plt.show()"
   ]
  },
  {
   "cell_type": "markdown",
   "metadata": {},
   "source": [
    "## Numerical columns"
   ]
  },
  {
   "cell_type": "code",
   "execution_count": null,
   "metadata": {},
   "outputs": [],
   "source": [
    "# Extracting column names with numerical data types from the dataframe\n",
    "df_control_final.select_dtypes(\"number\").columns"
   ]
  },
  {
   "cell_type": "code",
   "execution_count": null,
   "metadata": {},
   "outputs": [],
   "source": [
    "df_control_final.dtypes"
   ]
  },
  {
   "cell_type": "code",
   "execution_count": null,
   "metadata": {},
   "outputs": [],
   "source": [
    "control_numerical_columns = ['start_time', 'step_1', 'step_2', 'step_3', 'bt_1', 'bt_2', 'bt_3', 'total_navigation', 'total_time_visit', 'clnt_tenure_yr','clnt_tenure_mnth', 'clnt_age', 'num_accts', 'bal', 'calls_6_mnth', 'logons_6_mnth']\n",
    "control_numerical_columns"
   ]
  },
  {
   "cell_type": "code",
   "execution_count": null,
   "metadata": {},
   "outputs": [],
   "source": [
    "# Extracting column names with numerical data types from the dataframe\n",
    "df_control_final.select_dtypes(\"number\").nunique().sort_values(ascending=False)"
   ]
  },
  {
   "cell_type": "code",
   "execution_count": null,
   "metadata": {},
   "outputs": [],
   "source": [
    "df_control_final.describe()"
   ]
  },
  {
   "cell_type": "code",
   "execution_count": null,
   "metadata": {},
   "outputs": [],
   "source": [
    "# Plot histograms for each numeric column with values on top\n",
    "for column in control_numerical_columns:\n",
    "    plt.figure()\n",
    "    df_control_final[column].hist(bins=35)\n",
    "    plt.title(f'Chart: {column}')\n",
    "    plt.xlabel(column)\n",
    "    plt.ylabel('Frequency')\n",
    "    plt.show()"
   ]
  },
  {
   "cell_type": "markdown",
   "metadata": {},
   "source": [
    "## Check for outliers"
   ]
  },
  {
   "cell_type": "code",
   "execution_count": null,
   "metadata": {},
   "outputs": [],
   "source": [
    "control_numerical_columns"
   ]
  },
  {
   "cell_type": "code",
   "execution_count": null,
   "metadata": {},
   "outputs": [],
   "source": [
    "for column in control_numerical_columns:\n",
    "    plt.figure()\n",
    "    df_test_final.boxplot(column=column)\n",
    "    plt.title(f'Box plot of {column}')\n",
    "    plt.show()"
   ]
  },
  {
   "cell_type": "markdown",
   "metadata": {},
   "source": [
    "# FINAL OF THE CONTROL\n"
   ]
  },
  {
   "cell_type": "markdown",
   "metadata": {},
   "source": [
    "# df_test"
   ]
  },
  {
   "cell_type": "markdown",
   "metadata": {},
   "source": [
    "## Check the data types"
   ]
  },
  {
   "cell_type": "markdown",
   "metadata": {},
   "source": [
    "## Univariate Analysis - df_test"
   ]
  },
  {
   "cell_type": "code",
   "execution_count": null,
   "metadata": {},
   "outputs": [],
   "source": [
    "# Convert specified columns to integer data type\n",
    "df_test_final['client_id'] = df_test_final['client_id'].astype(object)\n",
    "df_test_final['visit_visitor_id'] = df_test_final['visit_visitor_id'].astype(object)\n",
    "df_test_final['start_time'] = round(df_test_final['start_time'].astype(float),2)\n",
    "df_test_final['step_1'] = round(df_test_final['step_1'].astype(float),2)\n",
    "df_test_final['step_2'] = round(df_test_final['step_2'].astype(float),2)\n",
    "df_test_final['step_3'] = round(df_test_final['step_3'].astype(float),2)\n",
    "df_test_final['date'] = pd.to_datetime(df_test_final.date)\n",
    "df_test_final['bt_1'] = df_test_final['bt_1'].astype(int)\n",
    "df_test_final['bt_2'] = df_test_final['bt_2'].astype(int)\n",
    "df_test_final['bt_3'] = df_test_final['bt_3'].astype(int)\n",
    "df_test_final['total_navigation'] = df_test_final['total_navigation'].astype(int)\n",
    "df_test_final['last_step'] = df_test_final['last_step'].astype(object)\n",
    "df_test_final['completion'] = df_test_final['completion'].astype(bool)\n",
    "df_test_final['total_time_visit'] = round(df_test_final['total_time_visit'].astype(float),2)\n",
    "df_test_final['Variation'] = df_test_final['Variation'].astype(object)\n",
    "df_test_final['clnt_tenure_yr'] = df_test_final['clnt_tenure_yr'].astype(int)\n",
    "df_test_final['clnt_tenure_mnth'] = df_test_final['clnt_tenure_mnth'].astype(int)\n",
    "df_test_final['clnt_age'] = df_test_final['clnt_age'].astype(int)\n",
    "df_test_final['gendr'] = df_test_final['gendr'].astype(object)\n",
    "df_test_final['num_accts'] = df_test_final['num_accts'].astype(int)\n",
    "df_test_final['calls_6_mnth'] = df_test_final['calls_6_mnth'].astype(int)\n",
    "df_test_final['logons_6_mnth'] = df_test_final['logons_6_mnth'].astype(int)"
   ]
  },
  {
   "cell_type": "code",
   "execution_count": null,
   "metadata": {},
   "outputs": [],
   "source": [
    "df_test_final.dtypes\n"
   ]
  },
  {
   "cell_type": "markdown",
   "metadata": {},
   "source": [
    "## Categorical columns"
   ]
  },
  {
   "cell_type": "code",
   "execution_count": null,
   "metadata": {},
   "outputs": [],
   "source": [
    "# Extracting column names with numerical data types from the dataframe\n",
    "df_test_final.select_dtypes(\"object\").columns\n"
   ]
  },
  {
   "cell_type": "code",
   "execution_count": null,
   "metadata": {},
   "outputs": [],
   "source": [
    "test_categorical_columns = ['last_step', 'gendr']"
   ]
  },
  {
   "cell_type": "code",
   "execution_count": null,
   "metadata": {},
   "outputs": [],
   "source": [
    "# Extracting column names with numerical data types from the dataframe\n",
    "df_test_final.select_dtypes(\"object\").nunique().sort_values(ascending=False)"
   ]
  },
  {
   "cell_type": "code",
   "execution_count": null,
   "metadata": {},
   "outputs": [],
   "source": [
    "frequency_proportion(df_test_final, 'last_step')"
   ]
  },
  {
   "cell_type": "code",
   "execution_count": null,
   "metadata": {},
   "outputs": [],
   "source": [
    "frequency_proportion(df_test_final, 'gendr')"
   ]
  },
  {
   "cell_type": "code",
   "execution_count": null,
   "metadata": {},
   "outputs": [],
   "source": [
    "cross_table(df_test_final, 'start_time')"
   ]
  },
  {
   "cell_type": "code",
   "execution_count": null,
   "metadata": {},
   "outputs": [],
   "source": [
    "frequency_proportion(df_test_final, 'start_time')"
   ]
  },
  {
   "cell_type": "code",
   "execution_count": null,
   "metadata": {},
   "outputs": [],
   "source": [
    "tab_test_last_step = cross_table(df_test_final, 'last_step')\n",
    "tab_test_last_step"
   ]
  },
  {
   "cell_type": "code",
   "execution_count": null,
   "metadata": {},
   "outputs": [],
   "source": [
    "# Calculating the proportions for each value in 'tab_test_last_step' and rounding the results to two decimal places\n",
    "(tab_test_last_step['count'] / tab_test_last_step['count'].sum()).round(2)"
   ]
  },
  {
   "cell_type": "code",
   "execution_count": null,
   "metadata": {},
   "outputs": [],
   "source": [
    "tab_test_last_step.plot(x='last_step', y='count', kind='bar')\n",
    "plt.xlabel('Last Step')\n",
    "plt.ylabel('Count')\n",
    "plt.title('Last Step Distribution in Test Group')\n",
    "plt.show()"
   ]
  },
  {
   "cell_type": "code",
   "execution_count": null,
   "metadata": {},
   "outputs": [],
   "source": [
    "\n",
    "tab_test_gender = cross_table(df_test_final, 'gendr')\n",
    "tab_test_gender\n"
   ]
  },
  {
   "cell_type": "code",
   "execution_count": null,
   "metadata": {},
   "outputs": [],
   "source": [
    "# Calculating the proportions for each value in 'tab_test_last_step' and rounding the results to two decimal places\n",
    "(tab_test_gender['count'] / tab_test_gender['count'].sum()).round(2)"
   ]
  },
  {
   "cell_type": "code",
   "execution_count": null,
   "metadata": {},
   "outputs": [],
   "source": [
    "tab_test_gender.plot.pie(y='count', labels=tab_test_gender['gendr'], autopct='%1.1f%%')\n",
    "plt.title('Gender Distribution in Test Group')\n",
    "plt.axis('equal')\n",
    "plt.show()"
   ]
  },
  {
   "cell_type": "markdown",
   "metadata": {},
   "source": [
    "## Numerical columns"
   ]
  },
  {
   "cell_type": "markdown",
   "metadata": {},
   "source": [
    "### Centrality and Dispersion Measures"
   ]
  },
  {
   "cell_type": "code",
   "execution_count": null,
   "metadata": {},
   "outputs": [],
   "source": [
    "# Extracting column names with numerical data types from the dataframe\n",
    "df_test_final.select_dtypes(\"number\").columns"
   ]
  },
  {
   "cell_type": "code",
   "execution_count": null,
   "metadata": {},
   "outputs": [],
   "source": [
    "df_test_final.dtypes"
   ]
  },
  {
   "cell_type": "code",
   "execution_count": null,
   "metadata": {},
   "outputs": [],
   "source": [
    "\n",
    "test_numerical_columns = ['start_time', 'step_1', 'step_2', 'step_3', 'bt_1', 'bt_2', 'bt_3', 'total_navigation', 'total_time_visit', 'clnt_tenure_yr','clnt_tenure_mnth', 'clnt_age', 'num_accts', 'bal', 'calls_6_mnth', 'logons_6_mnth']"
   ]
  },
  {
   "cell_type": "code",
   "execution_count": null,
   "metadata": {},
   "outputs": [],
   "source": [
    "test_numerical_columns"
   ]
  },
  {
   "cell_type": "code",
   "execution_count": null,
   "metadata": {},
   "outputs": [],
   "source": [
    "# Extracting column names with numerical data types from the dataframe\n",
    "df_test_final.select_dtypes(\"number\").nunique().sort_values(ascending=False)\n"
   ]
  },
  {
   "cell_type": "code",
   "execution_count": null,
   "metadata": {},
   "outputs": [],
   "source": [
    "df_test_final.describe()"
   ]
  },
  {
   "cell_type": "code",
   "execution_count": null,
   "metadata": {},
   "outputs": [],
   "source": [
    "# Plot histograms for each numeric column with values on top\n",
    "for column in test_numerical_columns:\n",
    "    plt.figure()\n",
    "    df_test_final[column].hist(bins=35)\n",
    "    plt.title(f'Chart: {column}')\n",
    "    plt.xlabel(column)\n",
    "    plt.ylabel('Frequency')\n",
    "    plt.show()"
   ]
  },
  {
   "cell_type": "markdown",
   "metadata": {},
   "source": [
    "## Check for outliers"
   ]
  },
  {
   "cell_type": "code",
   "execution_count": null,
   "metadata": {},
   "outputs": [],
   "source": [
    "test_numerical_columns"
   ]
  },
  {
   "cell_type": "code",
   "execution_count": null,
   "metadata": {},
   "outputs": [],
   "source": [
    "for column in test_numerical_columns:\n",
    "    plt.figure()\n",
    "    df_test_final.boxplot(column=column)\n",
    "    plt.title(f'Box plot of {column}')\n",
    "    plt.show()"
   ]
  },
  {
   "cell_type": "code",
   "execution_count": null,
   "metadata": {},
   "outputs": [],
   "source": [
    "test_numerical_columns"
   ]
  }
 ],
 "metadata": {
  "kernelspec": {
   "display_name": ".venv",
   "language": "python",
   "name": "python3"
  },
  "language_info": {
   "codemirror_mode": {
    "name": "ipython",
    "version": 3
   },
   "file_extension": ".py",
   "mimetype": "text/x-python",
   "name": "python",
   "nbconvert_exporter": "python",
   "pygments_lexer": "ipython3",
   "version": "3.10.12"
  }
 },
 "nbformat": 4,
 "nbformat_minor": 2
}
