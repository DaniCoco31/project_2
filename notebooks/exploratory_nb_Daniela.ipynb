{
 "cells": [
  {
   "cell_type": "code",
   "execution_count": null,
   "metadata": {},
   "outputs": [],
   "source": [
    "\n",
    "import pandas as pd \n",
    "df = pd.read_csv('input.txt', delimiter=',', header=None) # Adjust delimiter if needed df.to_csv('output.csv', index=False) # index=False to avoid adding row numbers"
   ]
  },
  {
   "cell_type": "code",
   "execution_count": 3,
   "metadata": {},
   "outputs": [
    {
     "name": "stdout",
     "output_type": "stream",
     "text": [
      "| client_id   | visitor_id            | visit_id                     | process_step   | date_time           |\n",
      "|:------------|:----------------------|:-----------------------------|:---------------|:--------------------|\n",
      "| 763412      | 601952081_10457207388 | 397475557_40440946728_419634 | confirm        | 2017-06-06 08:56:00 |\n",
      "| 6019349     | 442094451_91531546617 | 154620534_35331068705_522317 | confirm        | 2017-06-01 11:59:27 |\n",
      "| 6019349     | 442094451_91531546617 | 154620534_35331068705_522317 | step_3         | 2017-06-01 11:58:48 |\n",
      "| 6019349     | 442094451_91531546617 | 154620534_35331068705_522317 | step_2         | 2017-06-01 11:58:08 |\n",
      "| 6019349     | 442094451_91531546617 | 154620534_35331068705_522317 | step_1         | 2017-06-01 11:57:58 |\n"
     ]
    }
   ],
   "source": [
    "import pandas as pd\n",
    "\n",
    "pd.set_option('display.max_rows', None)\n",
    "pd.set_option('display.max_columns', None)\n",
    "\n",
    "# Read the text file into a DataFrame\n",
    "df_demo = pd.read_csv('../Data/raw/df_final_demo.txt', delimiter=',', header=0)\n",
    "df_final = pd.read_csv('../Data/raw/df_final_experiment_clients.txt', delimiter=',', header=0)\n",
    "df_final = pd.read_csv('../Data/raw/df_final_web_data_pt_1.txt', delimiter=',', header=0)\n",
    "df = pd.read_csv('../Data/raw/df_final_web_data_pt_2.txt', delimiter=',', header=0)\n",
    "\n",
    "# Display the first 5 rows\n",
    "print(df.head().to_markdown(index=False, numalign=\"left\", stralign=\"left\"))\n",
    "\n",
    "# Write the DataFrame to a new CSV file\n",
    "df.to_csv('output.csv', index=False)"
   ]
  },
  {
   "cell_type": "code",
   "execution_count": null,
   "metadata": {},
   "outputs": [],
   "source": []
  }
 ],
 "metadata": {
  "kernelspec": {
   "display_name": "base",
   "language": "python",
   "name": "python3"
  },
  "language_info": {
   "codemirror_mode": {
    "name": "ipython",
    "version": 3
   },
   "file_extension": ".py",
   "mimetype": "text/x-python",
   "name": "python",
   "nbconvert_exporter": "python",
   "pygments_lexer": "ipython3",
   "version": "3.11.7"
  }
 },
 "nbformat": 4,
 "nbformat_minor": 2
}
