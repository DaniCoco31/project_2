{
 "cells": [
  {
   "cell_type": "markdown",
   "metadata": {},
   "source": [
    "# 1. Import Libraries"
   ]
  },
  {
   "cell_type": "code",
   "execution_count": null,
   "metadata": {},
   "outputs": [],
   "source": [
    "import pandas as pd\n",
    "import numpy as np\n",
    "import seaborn as sns\n",
    "import matplotlib.pyplot as plt\n",
    "import plotly.express as px\n",
    "from scipy.stats import ttest_ind, chi2_contingency\n",
    "from scipy.stats import ttest_ind"
   ]
  },
  {
   "cell_type": "code",
   "execution_count": null,
   "metadata": {},
   "outputs": [],
   "source": [
    "import sys\n",
    "sys.path.append('../src')\n",
    "from functions import *"
   ]
  },
  {
   "cell_type": "code",
   "execution_count": null,
   "metadata": {},
   "outputs": [],
   "source": [
    "sys.path.append('../src')\n",
    "combined_df = pd.read_csv('../Data/Cleaned_Data/combined_df.csv')\n",
    "pd.set_option('display.max_columns', None)"
   ]
  },
  {
   "cell_type": "markdown",
   "metadata": {},
   "source": [
    "# 2. Data Preprocessing\n",
    "### Ensure that the data types are correctly assigned, especially for categorical variables."
   ]
  },
  {
   "cell_type": "code",
   "execution_count": null,
   "metadata": {},
   "outputs": [],
   "source": [
    "combined_df = convert_data_types(combined_df)"
   ]
  },
  {
   "cell_type": "markdown",
   "metadata": {},
   "source": [
    "# 3. Define Bivariate Analysis"
   ]
  },
  {
   "cell_type": "code",
   "execution_count": 35,
   "metadata": {},
   "outputs": [
    {
     "data": {
      "text/html": [
       "<div>\n",
       "<style scoped>\n",
       "    .dataframe tbody tr th:only-of-type {\n",
       "        vertical-align: middle;\n",
       "    }\n",
       "\n",
       "    .dataframe tbody tr th {\n",
       "        vertical-align: top;\n",
       "    }\n",
       "\n",
       "    .dataframe thead th {\n",
       "        text-align: right;\n",
       "    }\n",
       "</style>\n",
       "<table border=\"1\" class=\"dataframe\">\n",
       "  <thead>\n",
       "    <tr style=\"text-align: right;\">\n",
       "      <th></th>\n",
       "      <th>clnt_tenure_yr</th>\n",
       "      <th>clnt_age</th>\n",
       "      <th>completion</th>\n",
       "      <th>count</th>\n",
       "    </tr>\n",
       "  </thead>\n",
       "  <tbody>\n",
       "    <tr>\n",
       "      <th>0</th>\n",
       "      <td>2</td>\n",
       "      <td>19</td>\n",
       "      <td>True</td>\n",
       "      <td>1</td>\n",
       "    </tr>\n",
       "    <tr>\n",
       "      <th>1</th>\n",
       "      <td>2</td>\n",
       "      <td>22</td>\n",
       "      <td>False</td>\n",
       "      <td>1</td>\n",
       "    </tr>\n",
       "    <tr>\n",
       "      <th>2</th>\n",
       "      <td>2</td>\n",
       "      <td>22</td>\n",
       "      <td>True</td>\n",
       "      <td>1</td>\n",
       "    </tr>\n",
       "    <tr>\n",
       "      <th>3</th>\n",
       "      <td>2</td>\n",
       "      <td>25</td>\n",
       "      <td>False</td>\n",
       "      <td>6</td>\n",
       "    </tr>\n",
       "    <tr>\n",
       "      <th>4</th>\n",
       "      <td>2</td>\n",
       "      <td>25</td>\n",
       "      <td>True</td>\n",
       "      <td>3</td>\n",
       "    </tr>\n",
       "    <tr>\n",
       "      <th>...</th>\n",
       "      <td>...</td>\n",
       "      <td>...</td>\n",
       "      <td>...</td>\n",
       "      <td>...</td>\n",
       "    </tr>\n",
       "    <tr>\n",
       "      <th>3544</th>\n",
       "      <td>52</td>\n",
       "      <td>62</td>\n",
       "      <td>False</td>\n",
       "      <td>2</td>\n",
       "    </tr>\n",
       "    <tr>\n",
       "      <th>3545</th>\n",
       "      <td>52</td>\n",
       "      <td>62</td>\n",
       "      <td>True</td>\n",
       "      <td>1</td>\n",
       "    </tr>\n",
       "    <tr>\n",
       "      <th>3546</th>\n",
       "      <td>54</td>\n",
       "      <td>39</td>\n",
       "      <td>False</td>\n",
       "      <td>2</td>\n",
       "    </tr>\n",
       "    <tr>\n",
       "      <th>3547</th>\n",
       "      <td>55</td>\n",
       "      <td>48</td>\n",
       "      <td>False</td>\n",
       "      <td>1</td>\n",
       "    </tr>\n",
       "    <tr>\n",
       "      <th>3548</th>\n",
       "      <td>55</td>\n",
       "      <td>72</td>\n",
       "      <td>False</td>\n",
       "      <td>1</td>\n",
       "    </tr>\n",
       "  </tbody>\n",
       "</table>\n",
       "<p>3549 rows × 4 columns</p>\n",
       "</div>"
      ],
      "text/plain": [
       "      clnt_tenure_yr  clnt_age  completion  count\n",
       "0                  2        19        True      1\n",
       "1                  2        22       False      1\n",
       "2                  2        22        True      1\n",
       "3                  2        25       False      6\n",
       "4                  2        25        True      3\n",
       "...              ...       ...         ...    ...\n",
       "3544              52        62       False      2\n",
       "3545              52        62        True      1\n",
       "3546              54        39       False      2\n",
       "3547              55        48       False      1\n",
       "3548              55        72       False      1\n",
       "\n",
       "[3549 rows x 4 columns]"
      ]
     },
     "execution_count": 35,
     "metadata": {},
     "output_type": "execute_result"
    }
   ],
   "source": [
    "# Tenure + Age + Completion Control\n",
    "tenure_age_completion_control = combined_df[combined_df['Variation'] == 'Control'].groupby(['clnt_tenure_yr', 'clnt_age', 'completion']).size().reset_index(name='count')\n",
    "tenure_age_completion_control.to_csv('../Tables/tenure_age_completion.csv', index=False)\n",
    "tenure_age_completion_control"
   ]
  },
  {
   "cell_type": "code",
   "execution_count": 36,
   "metadata": {},
   "outputs": [
    {
     "data": {
      "image/png": "[encoded data removed]",
      "text/plain": [
       "<Figure size 640x480 with 1 Axes>"
      ]
     },
     "metadata": {},
     "output_type": "display_data"
    }
   ],
   "source": [
    "# Tenure + Age + Completion Control Visualization\n",
    "sns.barplot(data=tenure_age_completion_control, x='clnt_tenure_yr', y='count', hue='completion')\n",
    "plt.title('Tenure + Age + Completion Control')\n",
    "plt.xlabel('Tenure (Years)')\n",
    "plt.ylabel('Count')\n",
    "plt.show()"
   ]
  },
  {
   "cell_type": "code",
   "execution_count": 37,
   "metadata": {},
   "outputs": [
    {
     "data": {
      "text/html": [
       "<div>\n",
       "<style scoped>\n",
       "    .dataframe tbody tr th:only-of-type {\n",
       "        vertical-align: middle;\n",
       "    }\n",
       "\n",
       "    .dataframe tbody tr th {\n",
       "        vertical-align: top;\n",
       "    }\n",
       "\n",
       "    .dataframe thead th {\n",
       "        text-align: right;\n",
       "    }\n",
       "</style>\n",
       "<table border=\"1\" class=\"dataframe\">\n",
       "  <thead>\n",
       "    <tr style=\"text-align: right;\">\n",
       "      <th></th>\n",
       "      <th>clnt_tenure_yr</th>\n",
       "      <th>clnt_age</th>\n",
       "      <th>completion</th>\n",
       "      <th>count</th>\n",
       "    </tr>\n",
       "  </thead>\n",
       "  <tbody>\n",
       "    <tr>\n",
       "      <th>0</th>\n",
       "      <td>2</td>\n",
       "      <td>21</td>\n",
       "      <td>True</td>\n",
       "      <td>1</td>\n",
       "    </tr>\n",
       "    <tr>\n",
       "      <th>1</th>\n",
       "      <td>2</td>\n",
       "      <td>22</td>\n",
       "      <td>False</td>\n",
       "      <td>1</td>\n",
       "    </tr>\n",
       "    <tr>\n",
       "      <th>2</th>\n",
       "      <td>2</td>\n",
       "      <td>23</td>\n",
       "      <td>False</td>\n",
       "      <td>1</td>\n",
       "    </tr>\n",
       "    <tr>\n",
       "      <th>3</th>\n",
       "      <td>2</td>\n",
       "      <td>23</td>\n",
       "      <td>True</td>\n",
       "      <td>4</td>\n",
       "    </tr>\n",
       "    <tr>\n",
       "      <th>4</th>\n",
       "      <td>2</td>\n",
       "      <td>24</td>\n",
       "      <td>False</td>\n",
       "      <td>1</td>\n",
       "    </tr>\n",
       "    <tr>\n",
       "      <th>...</th>\n",
       "      <td>...</td>\n",
       "      <td>...</td>\n",
       "      <td>...</td>\n",
       "      <td>...</td>\n",
       "    </tr>\n",
       "    <tr>\n",
       "      <th>3614</th>\n",
       "      <td>51</td>\n",
       "      <td>60</td>\n",
       "      <td>True</td>\n",
       "      <td>1</td>\n",
       "    </tr>\n",
       "    <tr>\n",
       "      <th>3615</th>\n",
       "      <td>55</td>\n",
       "      <td>42</td>\n",
       "      <td>False</td>\n",
       "      <td>1</td>\n",
       "    </tr>\n",
       "    <tr>\n",
       "      <th>3616</th>\n",
       "      <td>55</td>\n",
       "      <td>42</td>\n",
       "      <td>True</td>\n",
       "      <td>1</td>\n",
       "    </tr>\n",
       "    <tr>\n",
       "      <th>3617</th>\n",
       "      <td>55</td>\n",
       "      <td>45</td>\n",
       "      <td>True</td>\n",
       "      <td>1</td>\n",
       "    </tr>\n",
       "    <tr>\n",
       "      <th>3618</th>\n",
       "      <td>55</td>\n",
       "      <td>78</td>\n",
       "      <td>False</td>\n",
       "      <td>1</td>\n",
       "    </tr>\n",
       "  </tbody>\n",
       "</table>\n",
       "<p>3619 rows × 4 columns</p>\n",
       "</div>"
      ],
      "text/plain": [
       "      clnt_tenure_yr  clnt_age  completion  count\n",
       "0                  2        21        True      1\n",
       "1                  2        22       False      1\n",
       "2                  2        23       False      1\n",
       "3                  2        23        True      4\n",
       "4                  2        24       False      1\n",
       "...              ...       ...         ...    ...\n",
       "3614              51        60        True      1\n",
       "3615              55        42       False      1\n",
       "3616              55        42        True      1\n",
       "3617              55        45        True      1\n",
       "3618              55        78       False      1\n",
       "\n",
       "[3619 rows x 4 columns]"
      ]
     },
     "execution_count": 37,
     "metadata": {},
     "output_type": "execute_result"
    }
   ],
   "source": [
    "# Tenure + Age + Completion Test\n",
    "tenure_age_completion_test = combined_df[combined_df['Variation'] == 'Test'].groupby(['clnt_tenure_yr', 'clnt_age', 'completion']).size().reset_index(name='count')\n",
    "tenure_age_completion_test.to_csv('../Tables/tenure_age_completion.csv', index=False)\n",
    "tenure_age_completion_test"
   ]
  },
  {
   "cell_type": "code",
   "execution_count": 38,
   "metadata": {},
   "outputs": [
    {
     "data": {
      "image/png": "[encoded data removed]",
      "text/plain": [
       "<Figure size 640x480 with 1 Axes>"
      ]
     },
     "metadata": {},
     "output_type": "display_data"
    }
   ],
   "source": [
    "# Tenure + Age + Completion Test Visualization\n",
    "sns.barplot(data=tenure_age_completion_test, x='clnt_tenure_yr', y='count', hue='completion')\n",
    "plt.title('Tenure + Age + Completion Test')\n",
    "plt.xlabel('Tenure (Years)')\n",
    "plt.ylabel('Count')\n",
    "plt.show()"
   ]
  },
  {
   "cell_type": "code",
   "execution_count": 40,
   "metadata": {},
   "outputs": [
    {
     "data": {
      "text/html": [
       "<div>\n",
       "<style scoped>\n",
       "    .dataframe tbody tr th:only-of-type {\n",
       "        vertical-align: middle;\n",
       "    }\n",
       "\n",
       "    .dataframe tbody tr th {\n",
       "        vertical-align: top;\n",
       "    }\n",
       "\n",
       "    .dataframe thead th {\n",
       "        text-align: right;\n",
       "    }\n",
       "</style>\n",
       "<table border=\"1\" class=\"dataframe\">\n",
       "  <thead>\n",
       "    <tr style=\"text-align: right;\">\n",
       "      <th></th>\n",
       "      <th>clnt_tenure_yr</th>\n",
       "      <th>gendr</th>\n",
       "      <th>completion</th>\n",
       "      <th>count</th>\n",
       "    </tr>\n",
       "  </thead>\n",
       "  <tbody>\n",
       "    <tr>\n",
       "      <th>0</th>\n",
       "      <td>2</td>\n",
       "      <td>F</td>\n",
       "      <td>False</td>\n",
       "      <td>5</td>\n",
       "    </tr>\n",
       "    <tr>\n",
       "      <th>1</th>\n",
       "      <td>2</td>\n",
       "      <td>F</td>\n",
       "      <td>True</td>\n",
       "      <td>2</td>\n",
       "    </tr>\n",
       "    <tr>\n",
       "      <th>2</th>\n",
       "      <td>2</td>\n",
       "      <td>M</td>\n",
       "      <td>False</td>\n",
       "      <td>3</td>\n",
       "    </tr>\n",
       "    <tr>\n",
       "      <th>3</th>\n",
       "      <td>2</td>\n",
       "      <td>M</td>\n",
       "      <td>True</td>\n",
       "      <td>3</td>\n",
       "    </tr>\n",
       "    <tr>\n",
       "      <th>4</th>\n",
       "      <td>2</td>\n",
       "      <td>Other</td>\n",
       "      <td>False</td>\n",
       "      <td>27</td>\n",
       "    </tr>\n",
       "    <tr>\n",
       "      <th>...</th>\n",
       "      <td>...</td>\n",
       "      <td>...</td>\n",
       "      <td>...</td>\n",
       "      <td>...</td>\n",
       "    </tr>\n",
       "    <tr>\n",
       "      <th>235</th>\n",
       "      <td>52</td>\n",
       "      <td>F</td>\n",
       "      <td>False</td>\n",
       "      <td>2</td>\n",
       "    </tr>\n",
       "    <tr>\n",
       "      <th>236</th>\n",
       "      <td>52</td>\n",
       "      <td>F</td>\n",
       "      <td>True</td>\n",
       "      <td>1</td>\n",
       "    </tr>\n",
       "    <tr>\n",
       "      <th>237</th>\n",
       "      <td>54</td>\n",
       "      <td>F</td>\n",
       "      <td>False</td>\n",
       "      <td>2</td>\n",
       "    </tr>\n",
       "    <tr>\n",
       "      <th>238</th>\n",
       "      <td>55</td>\n",
       "      <td>F</td>\n",
       "      <td>False</td>\n",
       "      <td>1</td>\n",
       "    </tr>\n",
       "    <tr>\n",
       "      <th>239</th>\n",
       "      <td>55</td>\n",
       "      <td>M</td>\n",
       "      <td>False</td>\n",
       "      <td>1</td>\n",
       "    </tr>\n",
       "  </tbody>\n",
       "</table>\n",
       "<p>240 rows × 4 columns</p>\n",
       "</div>"
      ],
      "text/plain": [
       "     clnt_tenure_yr  gendr  completion  count\n",
       "0                 2      F       False      5\n",
       "1                 2      F        True      2\n",
       "2                 2      M       False      3\n",
       "3                 2      M        True      3\n",
       "4                 2  Other       False     27\n",
       "..              ...    ...         ...    ...\n",
       "235              52      F       False      2\n",
       "236              52      F        True      1\n",
       "237              54      F       False      2\n",
       "238              55      F       False      1\n",
       "239              55      M       False      1\n",
       "\n",
       "[240 rows x 4 columns]"
      ]
     },
     "execution_count": 40,
     "metadata": {},
     "output_type": "execute_result"
    }
   ],
   "source": [
    "# Tenure + Gender + Completion Control\n",
    "tenure_gender_completion_control = combined_df[combined_df['Variation'] == 'Control'].groupby(['clnt_tenure_yr', 'gendr', 'completion']).size().reset_index(name='count')\n",
    "tenure_gender_completion_control.to_csv('../Tables/tenure_gender_completion_control.csv', index=False)\n",
    "tenure_gender_completion_control\n"
   ]
  },
  {
   "cell_type": "code",
   "execution_count": 39,
   "metadata": {},
   "outputs": [
    {
     "data": {
      "image/png": "[encoded data removed]",
      "text/plain": [
       "<Figure size 640x480 with 1 Axes>"
      ]
     },
     "metadata": {},
     "output_type": "display_data"
    }
   ],
   "source": [
    "# Tenure + Gender + Completion Control Visualization\n",
    "sns.barplot(data=tenure_gender_completion_control, x='clnt_tenure_yr', y='count', hue='gendr')\n",
    "plt.title('Tenure + Gender + Completion Control')\n",
    "plt.xlabel('Tenure (Years)')\n",
    "plt.ylabel('Count')\n",
    "plt.show()"
   ]
  },
  {
   "cell_type": "code",
   "execution_count": 41,
   "metadata": {},
   "outputs": [
    {
     "data": {
      "text/html": [
       "<div>\n",
       "<style scoped>\n",
       "    .dataframe tbody tr th:only-of-type {\n",
       "        vertical-align: middle;\n",
       "    }\n",
       "\n",
       "    .dataframe tbody tr th {\n",
       "        vertical-align: top;\n",
       "    }\n",
       "\n",
       "    .dataframe thead th {\n",
       "        text-align: right;\n",
       "    }\n",
       "</style>\n",
       "<table border=\"1\" class=\"dataframe\">\n",
       "  <thead>\n",
       "    <tr style=\"text-align: right;\">\n",
       "      <th></th>\n",
       "      <th>clnt_tenure_yr</th>\n",
       "      <th>gendr</th>\n",
       "      <th>completion</th>\n",
       "      <th>count</th>\n",
       "    </tr>\n",
       "  </thead>\n",
       "  <tbody>\n",
       "    <tr>\n",
       "      <th>0</th>\n",
       "      <td>2</td>\n",
       "      <td>F</td>\n",
       "      <td>False</td>\n",
       "      <td>1</td>\n",
       "    </tr>\n",
       "    <tr>\n",
       "      <th>1</th>\n",
       "      <td>2</td>\n",
       "      <td>F</td>\n",
       "      <td>True</td>\n",
       "      <td>2</td>\n",
       "    </tr>\n",
       "    <tr>\n",
       "      <th>2</th>\n",
       "      <td>2</td>\n",
       "      <td>M</td>\n",
       "      <td>False</td>\n",
       "      <td>1</td>\n",
       "    </tr>\n",
       "    <tr>\n",
       "      <th>3</th>\n",
       "      <td>2</td>\n",
       "      <td>M</td>\n",
       "      <td>True</td>\n",
       "      <td>4</td>\n",
       "    </tr>\n",
       "    <tr>\n",
       "      <th>4</th>\n",
       "      <td>2</td>\n",
       "      <td>Other</td>\n",
       "      <td>False</td>\n",
       "      <td>12</td>\n",
       "    </tr>\n",
       "    <tr>\n",
       "      <th>...</th>\n",
       "      <td>...</td>\n",
       "      <td>...</td>\n",
       "      <td>...</td>\n",
       "      <td>...</td>\n",
       "    </tr>\n",
       "    <tr>\n",
       "      <th>239</th>\n",
       "      <td>51</td>\n",
       "      <td>F</td>\n",
       "      <td>False</td>\n",
       "      <td>1</td>\n",
       "    </tr>\n",
       "    <tr>\n",
       "      <th>240</th>\n",
       "      <td>51</td>\n",
       "      <td>F</td>\n",
       "      <td>True</td>\n",
       "      <td>3</td>\n",
       "    </tr>\n",
       "    <tr>\n",
       "      <th>241</th>\n",
       "      <td>55</td>\n",
       "      <td>M</td>\n",
       "      <td>False</td>\n",
       "      <td>1</td>\n",
       "    </tr>\n",
       "    <tr>\n",
       "      <th>242</th>\n",
       "      <td>55</td>\n",
       "      <td>M</td>\n",
       "      <td>True</td>\n",
       "      <td>2</td>\n",
       "    </tr>\n",
       "    <tr>\n",
       "      <th>243</th>\n",
       "      <td>55</td>\n",
       "      <td>Other</td>\n",
       "      <td>False</td>\n",
       "      <td>1</td>\n",
       "    </tr>\n",
       "  </tbody>\n",
       "</table>\n",
       "<p>244 rows × 4 columns</p>\n",
       "</div>"
      ],
      "text/plain": [
       "     clnt_tenure_yr  gendr  completion  count\n",
       "0                 2      F       False      1\n",
       "1                 2      F        True      2\n",
       "2                 2      M       False      1\n",
       "3                 2      M        True      4\n",
       "4                 2  Other       False     12\n",
       "..              ...    ...         ...    ...\n",
       "239              51      F       False      1\n",
       "240              51      F        True      3\n",
       "241              55      M       False      1\n",
       "242              55      M        True      2\n",
       "243              55  Other       False      1\n",
       "\n",
       "[244 rows x 4 columns]"
      ]
     },
     "execution_count": 41,
     "metadata": {},
     "output_type": "execute_result"
    }
   ],
   "source": [
    "# Tenure + Gender + Completion Test\n",
    "tenure_gender_completion_test = combined_df[combined_df['Variation'] == 'Test'].groupby(['clnt_tenure_yr', 'gendr', 'completion']).size().reset_index(name='count')\n",
    "tenure_gender_completion_test.to_csv('../Tables/tenure_gender_completion_test.csv', index=False)\n",
    "tenure_gender_completion_test\n"
   ]
  },
  {
   "cell_type": "code",
   "execution_count": 42,
   "metadata": {},
   "outputs": [
    {
     "data": {
      "image/png": "[encoded data removed]",
      "text/plain": [
       "<Figure size 640x480 with 1 Axes>"
      ]
     },
     "metadata": {},
     "output_type": "display_data"
    }
   ],
   "source": [
    "# Tenure + Gender + Completion Test Visualization\n",
    "sns.barplot(data=tenure_gender_completion_test, x='clnt_tenure_yr', y='count', hue='gendr')\n",
    "plt.title('Tenure + Gender + Completion Test')\n",
    "plt.xlabel('Tenure (Years)')\n",
    "plt.ylabel('Count')\n",
    "plt.show()"
   ]
  },
  {
   "cell_type": "code",
   "execution_count": null,
   "metadata": {},
   "outputs": [],
   "source": [
    "# Balance + Tenure + Completion Control\n",
    "balance_tenure_completion_control = combined_df[combined_df['Variation'] == 'Control'].groupby(['clnt_tenure_yr', 'bal', 'completion']).size().reset_index(name='count')\n",
    "balance_tenure_completion_control.to_csv('../Tables/balance_tenure_completion_control.csv', index=False)\n",
    "balance_tenure_completion_control"
   ]
  },
  {
   "cell_type": "code",
   "execution_count": null,
   "metadata": {},
   "outputs": [],
   "source": [
    "# Balance + Tenure + Completion Control Visualization\n",
    "sns.scatterplot(data=balance_tenure_completion_control, x='bal', y='clnt_tenure_yr', hue='completion')\n",
    "plt.title('Balance + Tenure + Completion Control')\n",
    "plt.xlabel('Balance')\n",
    "plt.ylabel('Tenure (Years)')\n",
    "plt.show()"
   ]
  },
  {
   "cell_type": "code",
   "execution_count": null,
   "metadata": {},
   "outputs": [],
   "source": [
    "# Balance + Tenure + Completion Test\n",
    "balance_tenure_completion_test = combined_df[combined_df['Variation'] == 'Test'].groupby(['clnt_tenure_yr', 'bal', 'completion']).size().reset_index(name='count')\n",
    "balance_tenure_completion_test.to_csv('../Tables/balance_tenure_completion_test.csv', index=False)\n",
    "balance_tenure_completion_test"
   ]
  },
  {
   "cell_type": "code",
   "execution_count": null,
   "metadata": {},
   "outputs": [],
   "source": [
    "# Balance + Tenure + Completion Test Visualization\n",
    "sns.scatterplot(data=balance_tenure_completion_test, x='bal', y='clnt_tenure_yr', hue='completion')\n",
    "plt.title('Balance + Tenure + Completion Test')\n",
    "plt.xlabel('Balance')\n",
    "plt.ylabel('Tenure (Years)')\n",
    "plt.show()"
   ]
  },
  {
   "cell_type": "code",
   "execution_count": null,
   "metadata": {},
   "outputs": [],
   "source": [
    "# Total Navigation + Last Step Control\n",
    "total_nav_last_step_control = combined_df[combined_df['Variation'] == 'Control'].groupby(['total_navigation', 'last_step']).size().reset_index(name='count')\n",
    "total_nav_last_step_control.to_csv('../Tables/total_nav_last_step_control.csv', index=False)\n",
    "total_nav_last_step_control"
   ]
  },
  {
   "cell_type": "code",
   "execution_count": null,
   "metadata": {},
   "outputs": [],
   "source": [
    "\n",
    "# Total Navigation + Last Step Control Visualization\n",
    "sns.barplot(data=total_nav_last_step_control, x='total_navigation', y='count', hue='last_step')\n",
    "plt.title('Total Navigation + Last Step Control')\n",
    "plt.xlabel('Total Navigation')\n",
    "plt.ylabel('Count')\n",
    "plt.show()"
   ]
  },
  {
   "cell_type": "code",
   "execution_count": null,
   "metadata": {},
   "outputs": [],
   "source": [
    "# Total Navigation + Last Step Test\n",
    "total_nav_last_step_test = combined_df[combined_df['Variation'] == 'Test'].groupby(['total_navigation', 'last_step']).size().reset_index(name='count')\n",
    "total_nav_last_step_test.to_csv('../Tables/total_nav_last_step_test.csv', index=False)\n",
    "total_nav_last_step_test"
   ]
  },
  {
   "cell_type": "code",
   "execution_count": null,
   "metadata": {},
   "outputs": [],
   "source": [
    "# Total Navigation + Last Step Test Visualization\n",
    "sns.barplot(data=total_nav_last_step_test, x='total_navigation', y='count', hue='last_step')\n",
    "plt.title('Total Navigation + Last Step Test')\n",
    "plt.xlabel('Total Navigation')\n",
    "plt.ylabel('Count')\n",
    "plt.show()"
   ]
  },
  {
   "cell_type": "code",
   "execution_count": null,
   "metadata": {},
   "outputs": [],
   "source": [
    "# Total Navigation and Completions Control\n",
    "total_nav_completion_control = combined_df[combined_df['Variation'] == 'Control'].groupby(['total_navigation', 'completion']).size().reset_index(name='count')\n",
    "total_nav_completion_control.to_csv('../Tables/total_nav_completion_control.csv', index=False)\n",
    "total_nav_completion_control"
   ]
  },
  {
   "cell_type": "code",
   "execution_count": null,
   "metadata": {},
   "outputs": [],
   "source": [
    "# Total Navigation and Completions Control Visualization\n",
    "sns.barplot(data=total_nav_completion_control, x='total_navigation', y='count', hue='completion')\n",
    "plt.title('Total Navigation and Completions Control')\n",
    "plt.xlabel('Total Navigation')\n",
    "plt.ylabel('Count')\n",
    "plt.show()"
   ]
  },
  {
   "cell_type": "code",
   "execution_count": null,
   "metadata": {},
   "outputs": [],
   "source": [
    "# Total Navigation and Completions Test\n",
    "total_nav_completion_test = combined_df[combined_df['Variation'] == 'Test'].groupby(['total_navigation', 'completion']).size().reset_index(name='count')\n",
    "total_nav_completion_test.to_csv('../Tables/total_nav_completion_test.csv', index=False)\n",
    "total_nav_completion_test"
   ]
  },
  {
   "cell_type": "code",
   "execution_count": null,
   "metadata": {},
   "outputs": [],
   "source": [
    "# Total Navigation and Completions Test Visualization\n",
    "sns.barplot(data=total_nav_completion_test, x='total_navigation', y='count', hue='completion')\n",
    "plt.title('Total Navigation and Completions Test')\n",
    "plt.xlabel('Total Navigation')\n",
    "plt.ylabel('Count')\n",
    "plt.show()"
   ]
  },
  {
   "cell_type": "code",
   "execution_count": null,
   "metadata": {},
   "outputs": [],
   "source": [
    "# Step Where Clients Drop Control\n",
    "steps_drop_control = combined_df[combined_df['Variation'] == 'Control'].groupby('last_step').size().reset_index(name='count')\n",
    "steps_drop_control.to_csv('../Tables/steps_drop_control.csv', index=False)\n",
    "steps_drop_control"
   ]
  },
  {
   "cell_type": "code",
   "execution_count": null,
   "metadata": {},
   "outputs": [],
   "source": [
    "# Step Where Clients Drop Control Visualization\n",
    "sns.barplot(data=steps_drop_control, x='last_step', y='count')\n",
    "plt.title('Step Where Clients Drop Control')\n",
    "plt.xlabel('Last Step')\n",
    "plt.ylabel('Count')\n",
    "plt.show()"
   ]
  },
  {
   "cell_type": "code",
   "execution_count": null,
   "metadata": {},
   "outputs": [],
   "source": [
    "# Step Where Clients Drop Test\n",
    "steps_drop_test = combined_df[combined_df['Variation'] == 'Test'].groupby('last_step').size().reset_index(name='count')\n",
    "steps_drop_test.to_csv('../Tables/steps_drop_test.csv', index=False)\n",
    "steps_drop_test"
   ]
  },
  {
   "cell_type": "code",
   "execution_count": null,
   "metadata": {},
   "outputs": [],
   "source": [
    "# Step Where Clients Drop Test Visualization\n",
    "sns.barplot(data=steps_drop_test, x='last_step', y='count')\n",
    "plt.title('Step Where Clients Drop Test')\n",
    "plt.xlabel('Last Step')\n",
    "plt.ylabel('Count')\n",
    "plt.show()\n"
   ]
  },
  {
   "cell_type": "markdown",
   "metadata": {},
   "source": [
    "# 4. Calculate Correlation Coefficients"
   ]
  },
  {
   "cell_type": "markdown",
   "metadata": {},
   "source": []
  }
 ],
 "metadata": {
  "kernelspec": {
   "display_name": ".venv",
   "language": "python",
   "name": "python3"
  },
  "language_info": {
   "codemirror_mode": {
    "name": "ipython",
    "version": 3
   },
   "file_extension": ".py",
   "mimetype": "text/x-python",
   "name": "python",
   "nbconvert_exporter": "python",
   "pygments_lexer": "ipython3",
   "version": "3.10.12"
  }
 },
 "nbformat": 4,
 "nbformat_minor": 2
}
