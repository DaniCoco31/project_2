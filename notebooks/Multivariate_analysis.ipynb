{
 "cells": [
  {
   "cell_type": "markdown",
   "metadata": {},
   "source": [
    "# 1. Import Libraries"
   ]
  },
  {
   "cell_type": "code",
   "execution_count": null,
   "metadata": {},
   "outputs": [],
   "source": [
    "import pandas as pd\n",
    "import numpy as np\n",
    "import seaborn as sns\n",
    "import matplotlib.pyplot as plt\n",
    "import plotly.express as px\n",
    "from scipy.stats import ttest_ind, chi2_contingency\n",
    "from scipy.stats import ttest_ind"
   ]
  },
  {
   "cell_type": "code",
   "execution_count": null,
   "metadata": {},
   "outputs": [],
   "source": [
    "import sys\n",
    "sys.path.append('../src')\n",
    "from functions import *"
   ]
  },
  {
   "cell_type": "code",
   "execution_count": null,
   "metadata": {},
   "outputs": [],
   "source": [
    "sys.path.append('../src')\n",
    "combined_df = pd.read_csv('../Data/Cleaned_Data/combined_df.csv')\n",
    "pd.set_option('display.max_columns', None)"
   ]
  },
  {
   "cell_type": "markdown",
   "metadata": {},
   "source": [
    "# 2. Data Preprocessing\n",
    "### Ensure that the data types are correctly assigned, especially for categorical variables."
   ]
  },
  {
   "cell_type": "code",
   "execution_count": null,
   "metadata": {},
   "outputs": [],
   "source": [
    "combined_df = convert_data_types(combined_df)"
   ]
  },
  {
   "cell_type": "markdown",
   "metadata": {},
   "source": [
    "# 3. Define Bivariate Analysis"
   ]
  },
  {
   "cell_type": "code",
   "execution_count": null,
   "metadata": {},
   "outputs": [],
   "source": [
    "# Tenure + Age + Completion Control\n",
    "tenure_age_completion_control = combined_df[combined_df['Variation'] == 'Control'].groupby(['clnt_tenure_yr', 'clnt_age', 'completion']).size().reset_index(name='count')\n",
    "tenure_age_completion_control.to_csv('../Tables/tenure_age_completion.csv', index=False)\n",
    "tenure_age_completion_control"
   ]
  },
  {
   "cell_type": "code",
   "execution_count": null,
   "metadata": {},
   "outputs": [],
   "source": [
    "# Tenure + Age + Completion Control Visualization\n",
    "sns.barplot(data=tenure_age_completion_control, x='clnt_tenure_yr', y='count', hue='completion')\n",
    "plt.title('Tenure + Age + Completion Control')\n",
    "plt.xlabel('Tenure (Years)')\n",
    "plt.ylabel('Count')\n",
    "plt.show()"
   ]
  },
  {
   "cell_type": "code",
   "execution_count": null,
   "metadata": {},
   "outputs": [],
   "source": [
    "# Tenure + Age + Completion Test\n",
    "tenure_age_completion_test = combined_df[combined_df['Variation'] == 'Test'].groupby(['clnt_tenure_yr', 'clnt_age', 'completion']).size().reset_index(name='count')\n",
    "tenure_age_completion_test.to_csv('../Tables/tenure_age_completion.csv', index=False)\n",
    "tenure_age_completion_test"
   ]
  },
  {
   "cell_type": "code",
   "execution_count": null,
   "metadata": {},
   "outputs": [],
   "source": [
    "# Tenure + Age + Completion Test Visualization\n",
    "sns.barplot(data=tenure_age_completion_test, x='clnt_tenure_yr', y='count', hue='completion')\n",
    "plt.title('Tenure + Age + Completion Test')\n",
    "plt.xlabel('Tenure (Years)')\n",
    "plt.ylabel('Count')\n",
    "plt.show()"
   ]
  },
  {
   "cell_type": "code",
   "execution_count": null,
   "metadata": {},
   "outputs": [],
   "source": [
    "# Tenure + Gender + Completion Control\n",
    "tenure_gender_completion_control = combined_df[combined_df['Variation'] == 'Control'].groupby(['clnt_tenure_yr', 'gendr', 'completion']).size().reset_index(name='count')\n",
    "tenure_gender_completion_control.to_csv('../Tables/tenure_gender_completion_control.csv', index=False)\n",
    "tenure_gender_completion_control\n"
   ]
  },
  {
   "cell_type": "code",
   "execution_count": null,
   "metadata": {},
   "outputs": [],
   "source": [
    "# Tenure + Gender + Completion Control Visualization\n",
    "sns.barplot(data=tenure_gender_completion_control, x='clnt_tenure_yr', y='count', hue='gendr')\n",
    "plt.title('Tenure + Gender + Completion Control')\n",
    "plt.xlabel('Tenure (Years)')\n",
    "plt.ylabel('Count')\n",
    "plt.show()"
   ]
  },
  {
   "cell_type": "code",
   "execution_count": null,
   "metadata": {},
   "outputs": [],
   "source": [
    "# Tenure + Gender + Completion Test\n",
    "tenure_gender_completion_test = combined_df[combined_df['Variation'] == 'Test'].groupby(['clnt_tenure_yr', 'gendr', 'completion']).size().reset_index(name='count')\n",
    "tenure_gender_completion_test.to_csv('../Tables/tenure_gender_completion_test.csv', index=False)\n",
    "tenure_gender_completion_test\n"
   ]
  },
  {
   "cell_type": "code",
   "execution_count": null,
   "metadata": {},
   "outputs": [],
   "source": [
    "# Tenure + Gender + Completion Test Visualization\n",
    "sns.barplot(data=tenure_gender_completion_test, x='clnt_tenure_yr', y='count', hue='gendr')\n",
    "plt.title('Tenure + Gender + Completion Test')\n",
    "plt.xlabel('Tenure (Years)')\n",
    "plt.ylabel('Count')\n",
    "plt.show()"
   ]
  },
  {
   "cell_type": "code",
   "execution_count": null,
   "metadata": {},
   "outputs": [],
   "source": [
    "# Balance + Tenure + Completion Control\n",
    "balance_tenure_completion_control = combined_df[combined_df['Variation'] == 'Control'].groupby(['clnt_tenure_yr', 'bal', 'completion']).size().reset_index(name='count')\n",
    "balance_tenure_completion_control.to_csv('../Tables/balance_tenure_completion_control.csv', index=False)\n",
    "balance_tenure_completion_control"
   ]
  },
  {
   "cell_type": "code",
   "execution_count": null,
   "metadata": {},
   "outputs": [],
   "source": [
    "# Balance + Tenure + Completion Control Visualization\n",
    "sns.scatterplot(data=balance_tenure_completion_control, x='bal', y='clnt_tenure_yr', hue='completion')\n",
    "plt.title('Balance + Tenure + Completion Control')\n",
    "plt.xlabel('Balance')\n",
    "plt.ylabel('Tenure (Years)')\n",
    "plt.show()"
   ]
  },
  {
   "cell_type": "code",
   "execution_count": null,
   "metadata": {},
   "outputs": [],
   "source": [
    "# Balance + Tenure + Completion Test\n",
    "balance_tenure_completion_test = combined_df[combined_df['Variation'] == 'Test'].groupby(['clnt_tenure_yr', 'bal', 'completion']).size().reset_index(name='count')\n",
    "balance_tenure_completion_test.to_csv('../Tables/balance_tenure_completion_test.csv', index=False)\n",
    "balance_tenure_completion_test"
   ]
  },
  {
   "cell_type": "code",
   "execution_count": null,
   "metadata": {},
   "outputs": [],
   "source": [
    "# Balance + Tenure + Completion Test Visualization\n",
    "sns.scatterplot(data=balance_tenure_completion_test, x='bal', y='clnt_tenure_yr', hue='completion')\n",
    "plt.title('Balance + Tenure + Completion Test')\n",
    "plt.xlabel('Balance')\n",
    "plt.ylabel('Tenure (Years)')\n",
    "plt.show()"
   ]
  },
  {
   "cell_type": "code",
   "execution_count": null,
   "metadata": {},
   "outputs": [],
   "source": [
    "# Total Navigation + Last Step Control\n",
    "total_nav_last_step_control = combined_df[combined_df['Variation'] == 'Control'].groupby(['total_navigation', 'last_step']).size().reset_index(name='count')\n",
    "total_nav_last_step_control.to_csv('../Tables/total_nav_last_step_control.csv', index=False)\n",
    "total_nav_last_step_control"
   ]
  },
  {
   "cell_type": "code",
   "execution_count": null,
   "metadata": {},
   "outputs": [],
   "source": [
    "\n",
    "# Total Navigation + Last Step Control Visualization\n",
    "sns.barplot(data=total_nav_last_step_control, x='total_navigation', y='count', hue='last_step')\n",
    "plt.title('Total Navigation + Last Step Control')\n",
    "plt.xlabel('Total Navigation')\n",
    "plt.ylabel('Count')\n",
    "plt.show()"
   ]
  },
  {
   "cell_type": "code",
   "execution_count": null,
   "metadata": {},
   "outputs": [],
   "source": [
    "# Total Navigation + Last Step Test\n",
    "total_nav_last_step_test = combined_df[combined_df['Variation'] == 'Test'].groupby(['total_navigation', 'last_step']).size().reset_index(name='count')\n",
    "total_nav_last_step_test.to_csv('../Tables/total_nav_last_step_test.csv', index=False)\n",
    "total_nav_last_step_test"
   ]
  },
  {
   "cell_type": "code",
   "execution_count": null,
   "metadata": {},
   "outputs": [],
   "source": [
    "# Total Navigation + Last Step Test Visualization\n",
    "sns.barplot(data=total_nav_last_step_test, x='total_navigation', y='count', hue='last_step')\n",
    "plt.title('Total Navigation + Last Step Test')\n",
    "plt.xlabel('Total Navigation')\n",
    "plt.ylabel('Count')\n",
    "plt.show()"
   ]
  },
  {
   "cell_type": "code",
   "execution_count": null,
   "metadata": {},
   "outputs": [],
   "source": [
    "# Total Navigation and Completions Control\n",
    "total_nav_completion_control = combined_df[combined_df['Variation'] == 'Control'].groupby(['total_navigation', 'completion']).size().reset_index(name='count')\n",
    "total_nav_completion_control.to_csv('../Tables/total_nav_completion_control.csv', index=False)\n",
    "total_nav_completion_control"
   ]
  },
  {
   "cell_type": "code",
   "execution_count": null,
   "metadata": {},
   "outputs": [],
   "source": [
    "# Total Navigation and Completions Control Visualization\n",
    "sns.barplot(data=total_nav_completion_control, x='total_navigation', y='count', hue='completion')\n",
    "plt.title('Total Navigation and Completions Control')\n",
    "plt.xlabel('Total Navigation')\n",
    "plt.ylabel('Count')\n",
    "plt.show()"
   ]
  },
  {
   "cell_type": "code",
   "execution_count": null,
   "metadata": {},
   "outputs": [],
   "source": [
    "# Total Navigation and Completions Test\n",
    "total_nav_completion_test = combined_df[combined_df['Variation'] == 'Test'].groupby(['total_navigation', 'completion']).size().reset_index(name='count')\n",
    "total_nav_completion_test.to_csv('../Tables/total_nav_completion_test.csv', index=False)\n",
    "total_nav_completion_test"
   ]
  },
  {
   "cell_type": "code",
   "execution_count": null,
   "metadata": {},
   "outputs": [],
   "source": [
    "# Total Navigation and Completions Test Visualization\n",
    "sns.barplot(data=total_nav_completion_test, x='total_navigation', y='count', hue='completion')\n",
    "plt.title('Total Navigation and Completions Test')\n",
    "plt.xlabel('Total Navigation')\n",
    "plt.ylabel('Count')\n",
    "plt.show()"
   ]
  },
  {
   "cell_type": "code",
   "execution_count": null,
   "metadata": {},
   "outputs": [],
   "source": [
    "# Step Where Clients Drop Control\n",
    "steps_drop_control = combined_df[combined_df['Variation'] == 'Control'].groupby('last_step').size().reset_index(name='count')\n",
    "steps_drop_control.to_csv('../Tables/steps_drop_control.csv', index=False)\n",
    "steps_drop_control"
   ]
  },
  {
   "cell_type": "code",
   "execution_count": null,
   "metadata": {},
   "outputs": [],
   "source": [
    "# Step Where Clients Drop Control Visualization\n",
    "sns.barplot(data=steps_drop_control, x='last_step', y='count')\n",
    "plt.title('Step Where Clients Drop Control')\n",
    "plt.xlabel('Last Step')\n",
    "plt.ylabel('Count')\n",
    "plt.show()"
   ]
  },
  {
   "cell_type": "code",
   "execution_count": null,
   "metadata": {},
   "outputs": [],
   "source": [
    "# Step Where Clients Drop Test\n",
    "steps_drop_test = combined_df[combined_df['Variation'] == 'Test'].groupby('last_step').size().reset_index(name='count')\n",
    "steps_drop_test.to_csv('../Tables/steps_drop_test.csv', index=False)\n",
    "steps_drop_test"
   ]
  },
  {
   "cell_type": "code",
   "execution_count": null,
   "metadata": {},
   "outputs": [],
   "source": [
    "# Step Where Clients Drop Test Visualization\n",
    "sns.barplot(data=steps_drop_test, x='last_step', y='count')\n",
    "plt.title('Step Where Clients Drop Test')\n",
    "plt.xlabel('Last Step')\n",
    "plt.ylabel('Count')\n",
    "plt.show()\n"
   ]
  },
  {
   "cell_type": "markdown",
   "metadata": {},
   "source": [
    "# 4. Calculate Correlation Coefficients"
   ]
  },
  {
   "cell_type": "markdown",
   "metadata": {},
   "source": []
  }
 ],
 "metadata": {
  "kernelspec": {
   "display_name": ".venv",
   "language": "python",
   "name": "python3"
  },
  "language_info": {
   "codemirror_mode": {
    "name": "ipython",
    "version": 3
   },
   "file_extension": ".py",
   "mimetype": "text/x-python",
   "name": "python",
   "nbconvert_exporter": "python",
   "pygments_lexer": "ipython3",
   "version": "3.10.12"
  }
 },
 "nbformat": 4,
 "nbformat_minor": 2
}
