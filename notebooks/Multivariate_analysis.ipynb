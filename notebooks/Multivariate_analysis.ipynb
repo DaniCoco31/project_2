{
 "cells": [
  {
   "cell_type": "code",
   "execution_count": 1,
   "metadata": {},
   "outputs": [],
   "source": [
    "import pandas as pd\n",
    "import numpy as np\n",
    "import seaborn as sns\n",
    "import matplotlib.pyplot as plt\n",
    "import plotly.express as px\n",
    "from scipy.stats import ttest_ind, chi2_contingency\n",
    "from scipy.stats import ttest_ind"
   ]
  },
  {
   "cell_type": "code",
   "execution_count": 2,
   "metadata": {},
   "outputs": [],
   "source": [
    "import sys\n",
    "sys.path.append('../src')\n",
    "from functions import *"
   ]
  },
  {
   "cell_type": "markdown",
   "metadata": {},
   "source": [
    "# Loading the Data"
   ]
  },
  {
   "cell_type": "code",
   "execution_count": 3,
   "metadata": {},
   "outputs": [],
   "source": [
    "sys.path.append('../src')\n",
    "df_test_final = pd.read_csv('../Data/raw/df_test_final.csv')\n",
    "df_control_final = pd.read_csv('../Data/raw/df_control_final.csv')\n",
    "pd.set_option('display.max_columns', None)"
   ]
  },
  {
   "cell_type": "markdown",
   "metadata": {},
   "source": [
    "# Check the data types"
   ]
  },
  {
   "cell_type": "markdown",
   "metadata": {},
   "source": [
    "## df_control "
   ]
  },
  {
   "cell_type": "code",
   "execution_count": 4,
   "metadata": {},
   "outputs": [],
   "source": [
    "# Convert specified columns to integer data type\n",
    "df_control_final['client_id'] = df_control_final['client_id'].astype(object)\n",
    "df_control_final['visit_visitor_id'] = df_control_final['visit_visitor_id'].astype(object)\n",
    "df_control_final['start_time'] = round(df_control_final['start_time'].astype(float),2)\n",
    "df_control_final['step_1'] = round(df_control_final['step_1'].astype(float),2)\n",
    "df_control_final['step_2'] = round(df_control_final['step_2'].astype(float),2)\n",
    "df_control_final['step_3'] = round(df_control_final['step_3'].astype(float),2)\n",
    "df_control_final['date'] = pd.to_datetime(df_control_final.date)\n",
    "df_control_final['bt_1'] = df_control_final['bt_1'].astype(int)\n",
    "df_control_final['bt_2'] = df_control_final['bt_2'].astype(int)\n",
    "df_control_final['bt_3'] = df_control_final['bt_3'].astype(int)\n",
    "df_control_final['total_navigation'] = df_control_final['total_navigation'].astype(int)\n",
    "df_control_final['last_step'] = df_control_final['last_step'].astype(object)\n",
    "df_control_final['completion'] = df_control_final['completion'].astype(bool)\n",
    "df_control_final['total_time_visit'] = round(df_control_final['total_time_visit'].astype(float),2)\n",
    "df_control_final['Variation'] = df_control_final['Variation'].astype(object)\n",
    "df_control_final['clnt_tenure_yr'] = df_control_final['clnt_tenure_yr'].astype(int)\n",
    "df_control_final['clnt_tenure_mnth'] = df_control_final['clnt_tenure_mnth'].astype(int)\n",
    "df_control_final['clnt_age'] = df_control_final['clnt_age'].astype(int)\n",
    "df_control_final['gendr'] = df_control_final['gendr'].astype(object)\n",
    "df_control_final['num_accts'] = df_control_final['num_accts'].astype(int)\n",
    "df_control_final['calls_6_mnth'] = df_control_final['calls_6_mnth'].astype(int)\n",
    "df_control_final['logons_6_mnth'] = df_control_final['logons_6_mnth'].astype(int)"
   ]
  },
  {
   "cell_type": "code",
   "execution_count": 5,
   "metadata": {},
   "outputs": [
    {
     "data": {
      "text/plain": [
       "client_id                   object\n",
       "visit_visitor_id            object\n",
       "start_time                 float64\n",
       "step_1                     float64\n",
       "step_2                     float64\n",
       "step_3                     float64\n",
       "date                datetime64[ns]\n",
       "bt_1                         int64\n",
       "bt_2                         int64\n",
       "bt_3                         int64\n",
       "total_navigation             int64\n",
       "last_step                   object\n",
       "completion                    bool\n",
       "total_time_visit           float64\n",
       "Variation                   object\n",
       "clnt_tenure_yr               int64\n",
       "clnt_tenure_mnth             int64\n",
       "clnt_age                     int64\n",
       "gendr                       object\n",
       "num_accts                    int64\n",
       "bal                        float64\n",
       "calls_6_mnth                 int64\n",
       "logons_6_mnth                int64\n",
       "dtype: object"
      ]
     },
     "execution_count": 5,
     "metadata": {},
     "output_type": "execute_result"
    }
   ],
   "source": [
    "df_control_final.dtypes"
   ]
  },
  {
   "cell_type": "markdown",
   "metadata": {},
   "source": [
    "## df_test"
   ]
  },
  {
   "cell_type": "code",
   "execution_count": 6,
   "metadata": {},
   "outputs": [],
   "source": [
    "# Convert specified columns to integer data type\n",
    "df_test_final['client_id'] = df_test_final['client_id'].astype(object)\n",
    "df_test_final['visit_visitor_id'] = df_test_final['visit_visitor_id'].astype(object)\n",
    "df_test_final['start_time'] = round(df_test_final['start_time'].astype(float),2)\n",
    "df_test_final['step_1'] = round(df_test_final['step_1'].astype(float),2)\n",
    "df_test_final['step_2'] = round(df_test_final['step_2'].astype(float),2)\n",
    "df_test_final['step_3'] = round(df_test_final['step_3'].astype(float),2)\n",
    "df_test_final['date'] = pd.to_datetime(df_test_final.date)\n",
    "df_test_final['bt_1'] = df_test_final['bt_1'].astype(int)\n",
    "df_test_final['bt_2'] = df_test_final['bt_2'].astype(int)\n",
    "df_test_final['bt_3'] = df_test_final['bt_3'].astype(int)\n",
    "df_test_final['total_navigation'] = df_test_final['total_navigation'].astype(int)\n",
    "df_test_final['last_step'] = df_test_final['last_step'].astype(object)\n",
    "df_test_final['completion'] = df_test_final['completion'].astype(bool)\n",
    "df_test_final['total_time_visit'] = round(df_test_final['total_time_visit'].astype(float),2)\n",
    "df_test_final['Variation'] = df_test_final['Variation'].astype(object)\n",
    "df_test_final['clnt_tenure_yr'] = df_test_final['clnt_tenure_yr'].astype(int)\n",
    "df_test_final['clnt_tenure_mnth'] = df_test_final['clnt_tenure_mnth'].astype(int)\n",
    "df_test_final['clnt_age'] = df_test_final['clnt_age'].astype(int)\n",
    "df_test_final['gendr'] = df_test_final['gendr'].astype(object)\n",
    "df_test_final['num_accts'] = df_test_final['num_accts'].astype(int)\n",
    "df_test_final['calls_6_mnth'] = df_test_final['calls_6_mnth'].astype(int)\n",
    "df_test_final['logons_6_mnth'] = df_test_final['logons_6_mnth'].astype(int)"
   ]
  },
  {
   "cell_type": "code",
   "execution_count": 7,
   "metadata": {},
   "outputs": [
    {
     "data": {
      "text/plain": [
       "client_id                   object\n",
       "visit_visitor_id            object\n",
       "start_time                 float64\n",
       "step_1                     float64\n",
       "step_2                     float64\n",
       "step_3                     float64\n",
       "date                datetime64[ns]\n",
       "bt_1                         int64\n",
       "bt_2                         int64\n",
       "bt_3                         int64\n",
       "total_navigation             int64\n",
       "last_step                   object\n",
       "completion                    bool\n",
       "total_time_visit           float64\n",
       "Variation                   object\n",
       "clnt_tenure_yr               int64\n",
       "clnt_tenure_mnth             int64\n",
       "clnt_age                     int64\n",
       "gendr                       object\n",
       "num_accts                    int64\n",
       "bal                        float64\n",
       "calls_6_mnth                 int64\n",
       "logons_6_mnth                int64\n",
       "dtype: object"
      ]
     },
     "execution_count": 7,
     "metadata": {},
     "output_type": "execute_result"
    }
   ],
   "source": [
    "df_test_final.dtypes\n"
   ]
  },
  {
   "cell_type": "code",
   "execution_count": 8,
   "metadata": {},
   "outputs": [],
   "source": [
    "combined_df = pd.concat([df_control_final, df_test_final], ignore_index=True)\n",
    "combined_df\n",
    "combined_df.to_csv('../Data/combined_df.csv', index=False)"
   ]
  },
  {
   "cell_type": "code",
   "execution_count": 9,
   "metadata": {},
   "outputs": [
    {
     "data": {
      "text/plain": [
       "client_id                   object\n",
       "visit_visitor_id            object\n",
       "start_time                 float64\n",
       "step_1                     float64\n",
       "step_2                     float64\n",
       "step_3                     float64\n",
       "date                datetime64[ns]\n",
       "bt_1                         int64\n",
       "bt_2                         int64\n",
       "bt_3                         int64\n",
       "total_navigation             int64\n",
       "last_step                   object\n",
       "completion                    bool\n",
       "total_time_visit           float64\n",
       "Variation                   object\n",
       "clnt_tenure_yr               int64\n",
       "clnt_tenure_mnth             int64\n",
       "clnt_age                     int64\n",
       "gendr                       object\n",
       "num_accts                    int64\n",
       "bal                        float64\n",
       "calls_6_mnth                 int64\n",
       "logons_6_mnth                int64\n",
       "dtype: object"
      ]
     },
     "execution_count": 9,
     "metadata": {},
     "output_type": "execute_result"
    }
   ],
   "source": [
    "combined_df.dtypes"
   ]
  },
  {
   "cell_type": "code",
   "execution_count": null,
   "metadata": {},
   "outputs": [],
   "source": []
  }
 ],
 "metadata": {
  "kernelspec": {
   "display_name": ".venv",
   "language": "python",
   "name": "python3"
  },
  "language_info": {
   "codemirror_mode": {
    "name": "ipython",
    "version": 3
   },
   "file_extension": ".py",
   "mimetype": "text/x-python",
   "name": "python",
   "nbconvert_exporter": "python",
   "pygments_lexer": "ipython3",
   "version": "3.10.12"
  }
 },
 "nbformat": 4,
 "nbformat_minor": 2
}
