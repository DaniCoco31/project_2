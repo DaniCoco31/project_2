{
 "cells": [
  {
   "cell_type": "code",
   "execution_count": 66,
   "metadata": {},
   "outputs": [],
   "source": [
    "import pandas as pd\n",
    "import matplotlib.pyplot as plt\n",
    "import sys\n",
    "sys.path.append('../src')\n",
    "from functions import *\n",
    "\n",
    "df_clients_profile = pd.read_csv('../Data/raw/df_final_demo.txt')\n",
    "df_web_data_1 = pd.read_csv('../Data/raw/df_final_web_data_pt_1.txt')\n",
    "df_web_data_2 = pd.read_csv('../Data/raw/df_final_web_data_pt_2.txt')\n",
    "df_experiment_clients = pd.read_csv('../Data/raw/df_final_experiment_clients.txt')\n",
    "pd.set_option('display.max_columns', None)\n",
    "df_web_data = pd.concat([df_web_data_1, df_web_data_2], ignore_index= True)"
   ]
  },
  {
   "cell_type": "code",
   "execution_count": null,
   "metadata": {},
   "outputs": [],
   "source": [
    "#lenght of the dataframes\n",
    "lenght_clients_profile = print(df_clients_profile.shape)\n",
    "lenght_experiment_clients = print(df_experiment_clients.shape)\n",
    "lengt_web_data = print(df_web_data.shape)"
   ]
  },
  {
   "cell_type": "code",
   "execution_count": null,
   "metadata": {},
   "outputs": [],
   "source": [
    "#clean df\n",
    "df_clients_profile = print_clean_data(df_clients_profile)"
   ]
  },
  {
   "cell_type": "code",
   "execution_count": null,
   "metadata": {},
   "outputs": [],
   "source": [
    "#clean df\n",
    "df_experiment_clients = print_clean_data(df_experiment_clients)"
   ]
  },
  {
   "cell_type": "code",
   "execution_count": null,
   "metadata": {},
   "outputs": [],
   "source": [
    "#clean df\n",
    "df_web_data = print_clean_data(df_web_data)"
   ]
  },
  {
   "cell_type": "code",
   "execution_count": null,
   "metadata": {},
   "outputs": [],
   "source": [
    "df_null_experiment_clients = df_experiment_clients.isna()\n",
    "df_null_experiment_clients"
   ]
  },
  {
   "cell_type": "code",
   "execution_count": null,
   "metadata": {},
   "outputs": [],
   "source": [
    "df_experiment_clients"
   ]
  },
  {
   "cell_type": "code",
   "execution_count": null,
   "metadata": {},
   "outputs": [],
   "source": [
    "#setting aside the clients that wont be part if the experiment\n",
    "null_df_experiment_clients = df_experiment_clients[df_experiment_clients['Variation'].isnull()]\n",
    "null_df_experiment_clients"
   ]
  },
  {
   "cell_type": "code",
   "execution_count": null,
   "metadata": {},
   "outputs": [],
   "source": [
    "#id of clients that are part of the test\n",
    "df_experiment_clients_Test = df_experiment_clients[df_experiment_clients['Variation'] == 'Test']\n",
    "df_experiment_clients_Test.head(10)"
   ]
  },
  {
   "cell_type": "code",
   "execution_count": null,
   "metadata": {},
   "outputs": [],
   "source": [
    "df_test = pd.merge(df_experiment_clients_Test, df_clients_profile, on='client_id', how='inner')\n",
    "df_test = pd.merge(df_web_data, df_test, on='client_id', how='inner')\n",
    "#change the data type to datetime\n",
    "df_test['date_time'] = pd.to_datetime(df_test['date_time']) \n",
    "\n",
    "df_test_latest_confirm = df_test[df_test['process_step'] == 'confirm'].sort_values('date_time').drop_duplicates('visit_id', keep='last')\n",
    "\n",
    "# Combine with other process steps\n",
    "df_test = pd.concat([df_test_latest_confirm, df_test[df_test['process_step'] != 'confirm']])\n",
    "\n",
    "# Sort the final DataFrame by the original index and date_time\n",
    "df_test = df_test.sort_index().sort_values('date_time').reset_index(drop=True)\n",
    "df_test.sample(5)"
   ]
  },
  {
   "cell_type": "code",
   "execution_count": 105,
   "metadata": {},
   "outputs": [
    {
     "data": {
      "text/html": [
       "<div>\n",
       "<style scoped>\n",
       "    .dataframe tbody tr th:only-of-type {\n",
       "        vertical-align: middle;\n",
       "    }\n",
       "\n",
       "    .dataframe tbody tr th {\n",
       "        vertical-align: top;\n",
       "    }\n",
       "\n",
       "    .dataframe thead th {\n",
       "        text-align: right;\n",
       "    }\n",
       "</style>\n",
       "<table border=\"1\" class=\"dataframe\">\n",
       "  <thead>\n",
       "    <tr style=\"text-align: right;\">\n",
       "      <th></th>\n",
       "      <th>client_id</th>\n",
       "      <th>Variation</th>\n",
       "    </tr>\n",
       "  </thead>\n",
       "  <tbody>\n",
       "    <tr>\n",
       "      <th>2</th>\n",
       "      <td>4033851</td>\n",
       "      <td>Control</td>\n",
       "    </tr>\n",
       "    <tr>\n",
       "      <th>4</th>\n",
       "      <td>9294070</td>\n",
       "      <td>Control</td>\n",
       "    </tr>\n",
       "    <tr>\n",
       "      <th>7</th>\n",
       "      <td>6651403</td>\n",
       "      <td>Control</td>\n",
       "    </tr>\n",
       "    <tr>\n",
       "      <th>9</th>\n",
       "      <td>2105948</td>\n",
       "      <td>Control</td>\n",
       "    </tr>\n",
       "    <tr>\n",
       "      <th>12</th>\n",
       "      <td>9814849</td>\n",
       "      <td>Control</td>\n",
       "    </tr>\n",
       "    <tr>\n",
       "      <th>14</th>\n",
       "      <td>7286739</td>\n",
       "      <td>Control</td>\n",
       "    </tr>\n",
       "    <tr>\n",
       "      <th>15</th>\n",
       "      <td>4446011</td>\n",
       "      <td>Control</td>\n",
       "    </tr>\n",
       "    <tr>\n",
       "      <th>20</th>\n",
       "      <td>4229407</td>\n",
       "      <td>Control</td>\n",
       "    </tr>\n",
       "    <tr>\n",
       "      <th>24</th>\n",
       "      <td>2842481</td>\n",
       "      <td>Control</td>\n",
       "    </tr>\n",
       "    <tr>\n",
       "      <th>27</th>\n",
       "      <td>1218661</td>\n",
       "      <td>Control</td>\n",
       "    </tr>\n",
       "  </tbody>\n",
       "</table>\n",
       "</div>"
      ],
      "text/plain": [
       "    client_id Variation\n",
       "2     4033851   Control\n",
       "4     9294070   Control\n",
       "7     6651403   Control\n",
       "9     2105948   Control\n",
       "12    9814849   Control\n",
       "14    7286739   Control\n",
       "15    4446011   Control\n",
       "20    4229407   Control\n",
       "24    2842481   Control\n",
       "27    1218661   Control"
      ]
     },
     "execution_count": 105,
     "metadata": {},
     "output_type": "execute_result"
    }
   ],
   "source": [
    "df_experiment_clients_Control = df_experiment_clients[df_experiment_clients['Variation'] == 'Control']\n",
    "df_experiment_clients_Control.head(10)"
   ]
  },
  {
   "cell_type": "code",
   "execution_count": 106,
   "metadata": {},
   "outputs": [],
   "source": [
    "df_control = pd.merge(df_experiment_clients_Control, df_clients_profile, on='client_id', how='inner')\n",
    "df_control = pd.merge(df_web_data, df_control, on='client_id', how='inner')\n",
    "#change the data type to datetime\n",
    "df_control['date_time'] = pd.to_datetime(df_control['date_time'])\n",
    "df_latest_confirm = df_control[df_control['process_step'] == 'confirm'].sort_values('date_time').drop_duplicates('visit_id', keep='last')\n",
    "\n",
    "# Combine with other process steps\n",
    "df_control = pd.concat([df_latest_confirm, df_control[df_control['process_step'] != 'confirm']])\n",
    "\n",
    "# Sort the final DataFrame by the original index and date_time\n",
    "df_control = df_control.sort_index().sort_values('date_time').reset_index(drop=True)"
   ]
  },
  {
   "cell_type": "code",
   "execution_count": 108,
   "metadata": {},
   "outputs": [],
   "source": [
    "Completion_rate_test = df_test[df_test['process_step'] == 'confirm']['visit_id'].nunique() / df_test['visit_id'].nunique() * 100"
   ]
  },
  {
   "cell_type": "code",
   "execution_count": 109,
   "metadata": {},
   "outputs": [
    {
     "data": {
      "text/plain": [
       "58.51734166307626"
      ]
     },
     "execution_count": 109,
     "metadata": {},
     "output_type": "execute_result"
    }
   ],
   "source": [
    "Completion_rate_test"
   ]
  },
  {
   "cell_type": "code",
   "execution_count": 110,
   "metadata": {},
   "outputs": [
    {
     "data": {
      "text/plain": [
       "43.20874623007324"
      ]
     },
     "execution_count": 110,
     "metadata": {},
     "output_type": "execute_result"
    }
   ],
   "source": [
    "Completion_rate_control = df_control[df_control['process_step'] == 'confirm']['visit_id'].nunique() / df_test['visit_id'].nunique() * 100\n",
    "Completion_rate_control"
   ]
  },
  {
   "cell_type": "code",
   "execution_count": 89,
   "metadata": {},
   "outputs": [
    {
     "name": "stderr",
     "output_type": "stream",
     "text": [
      "C:\\Users\\reetu\\AppData\\Local\\Temp\\ipykernel_7760\\1827866774.py:7: DeprecationWarning: DataFrameGroupBy.apply operated on the grouping columns. This behavior is deprecated, and in a future version of pandas the grouping columns will be excluded from the operation. Either pass `include_groups=False` to exclude the groupings or explicitly select the grouping columns after groupby to silence this warning.\n",
      "  time_spent_df = df_test.groupby('visit_id').apply(calculate_time_spent).reset_index()\n"
     ]
    }
   ],
   "source": [
    "def calculate_time_spent(group):\n",
    "    group = group.sort_values('date_time')\n",
    "    group['time_spent'] = group['date_time'].diff().fillna(pd.Timedelta(seconds=0))\n",
    "    time_spent = group.groupby('process_step')['time_spent'].mean().dt.total_seconds()\n",
    "    return time_spent\n",
    "\n",
    "time_spent_df = df_test.groupby('visit_id').apply(calculate_time_spent).reset_index()\n",
    "average_time_spent = time_spent_df.groupby('process_step')['time_spent'].mean()"
   ]
  },
  {
   "cell_type": "code",
   "execution_count": 90,
   "metadata": {},
   "outputs": [
    {
     "data": {
      "text/plain": [
       "process_step\n",
       "confirm    121.176844\n",
       "start       34.459363\n",
       "step_1      33.235002\n",
       "step_2      41.502085\n",
       "step_3      92.496816\n",
       "Name: time_spent, dtype: float64"
      ]
     },
     "execution_count": 90,
     "metadata": {},
     "output_type": "execute_result"
    }
   ],
   "source": [
    "average_time_spent"
   ]
  },
  {
   "cell_type": "code",
   "execution_count": 96,
   "metadata": {},
   "outputs": [
    {
     "data": {
      "text/plain": [
       "np.float64(92.51)"
      ]
     },
     "execution_count": 96,
     "metadata": {},
     "output_type": "execute_result"
    }
   ],
   "source": [
    "# Assuming 'previous_step' column indicates the previous step a user was at\n",
    "df_test['backward_move'] = df_test.groupby('visit_id')['process_step'].shift(1) > df_test['process_step']\n",
    "error_rate_test = (df_test['backward_move'].sum() / df_test['visit_id'].nunique() * 100).round(2)\n",
    "error_rate_test"
   ]
  },
  {
   "cell_type": "code",
   "execution_count": 97,
   "metadata": {},
   "outputs": [
    {
     "data": {
      "text/plain": [
       "np.float64(75.3)"
      ]
     },
     "execution_count": 97,
     "metadata": {},
     "output_type": "execute_result"
    }
   ],
   "source": [
    "df_control['backward_move'] = df_control.groupby('visit_id')['process_step'].shift(1) > df_control['process_step']\n",
    "error_rate_control = (df_control['backward_move'].sum() / df_control['visit_id'].nunique() * 100).round(2)\n",
    "error_rate_control"
   ]
  },
  {
   "cell_type": "code",
   "execution_count": null,
   "metadata": {},
   "outputs": [],
   "source": []
  },
  {
   "cell_type": "code",
   "execution_count": 101,
   "metadata": {},
   "outputs": [
    {
     "name": "stderr",
     "output_type": "stream",
     "text": [
      "C:\\Users\\reetu\\AppData\\Local\\Temp\\ipykernel_7760\\3031222085.py:5: FutureWarning: Series.__getitem__ treating keys as positions is deprecated. In a future version, integer keys will always be treated as labels (consistent with DataFrame behavior). To access a value by position, use `ser.iloc[pos]`\n",
      "  drop_offs = users_reaching_step - users_reaching_step.shift(-1, fill_value=users_reaching_step[0])\n"
     ]
    },
    {
     "data": {
      "text/plain": [
       "process_step\n",
       "confirm   -52.579265\n",
       "start      14.693730\n",
       "step_1     13.371045\n",
       "step_2      9.455985\n",
       "step_3      2.050843\n",
       "Name: visit_id, dtype: float64"
      ]
     },
     "execution_count": 101,
     "metadata": {},
     "output_type": "execute_result"
    }
   ],
   "source": [
    "# Number of users reaching each step\n",
    "users_reaching_step = df_test.groupby('process_step')['visit_id'].nunique()\n",
    "\n",
    "# Number of users abandoning each step\n",
    "drop_offs = users_reaching_step - users_reaching_step.shift(-1, fill_value=users_reaching_step[0])\n",
    "\n",
    "drop_off_rate_test = (drop_offs / users_reaching_step) * 100\n",
    "drop_off_rate_test"
   ]
  },
  {
   "cell_type": "code",
   "execution_count": 102,
   "metadata": {},
   "outputs": [
    {
     "name": "stderr",
     "output_type": "stream",
     "text": [
      "C:\\Users\\reetu\\AppData\\Local\\Temp\\ipykernel_7760\\3935763715.py:5: FutureWarning: Series.__getitem__ treating keys as positions is deprecated. In a future version, integer keys will always be treated as labels (consistent with DataFrame behavior). To access a value by position, use `ser.iloc[pos]`\n",
      "  drop_offs = users_reaching_step - users_reaching_step.shift(-1, fill_value=users_reaching_step[0])\n"
     ]
    },
    {
     "data": {
      "text/plain": [
       "process_step\n",
       "confirm   -92.633678\n",
       "start      23.817535\n",
       "step_1     14.481060\n",
       "step_2      9.127024\n",
       "step_3     12.316940\n",
       "Name: visit_id, dtype: float64"
      ]
     },
     "execution_count": 102,
     "metadata": {},
     "output_type": "execute_result"
    }
   ],
   "source": [
    "# Number of users reaching each step\n",
    "users_reaching_step = df_control.groupby('process_step')['visit_id'].nunique()\n",
    "\n",
    "# Number of users abandoning each step\n",
    "drop_offs = users_reaching_step - users_reaching_step.shift(-1, fill_value=users_reaching_step[0])\n",
    "\n",
    "drop_off_rate_control = (drop_offs / users_reaching_step) * 100\n",
    "drop_off_rate_control"
   ]
  },
  {
   "cell_type": "code",
   "execution_count": 103,
   "metadata": {},
   "outputs": [
    {
     "data": {
      "text/plain": [
       "np.float64(4.681602757432142)"
      ]
     },
     "execution_count": 103,
     "metadata": {},
     "output_type": "execute_result"
    }
   ],
   "source": [
    "# Calculate the average path length for users who completed the process\n",
    "path_lengths = df_test.groupby('visit_id')['process_step'].count()\n",
    "average_path_length_test = path_lengths.mean()\n",
    "average_path_length_test"
   ]
  },
  {
   "cell_type": "code",
   "execution_count": 104,
   "metadata": {},
   "outputs": [
    {
     "data": {
      "text/plain": [
       "np.float64(4.4115381030786915)"
      ]
     },
     "execution_count": 104,
     "metadata": {},
     "output_type": "execute_result"
    }
   ],
   "source": [
    "path_lengths = df_control.groupby('visit_id')['process_step'].count()\n",
    "average_path_length_control = path_lengths.mean()\n",
    "average_path_length_control"
   ]
  },
  {
   "cell_type": "code",
   "execution_count": null,
   "metadata": {},
   "outputs": [],
   "source": [
    "# Ensure 'start_times' has unique indices\n",
    "start_times = df_test[df_test['process_step'] == 'start'].groupby('visit_id')['date_time'].min()\n",
    "\n",
    "# Map start times to the DataFrame\n",
    "df_test = df_test.sort_values(by=['visit_id', 'date_time'])\n",
    "df_test['start_time'] = df_test['visit_id'].map(start_times)\n",
    "\n",
    "# Calculate time spent in minutes\n",
    "df_test['time_spent_seconds'] = (df_test['date_time'] - df_test['start_time']).dt.total_seconds() \n",
    "\n",
    "# Drop 'start_time' column\n",
    "df_test= df_test.drop(columns=['start_time'])\n",
    "\n",
    "# Create a new DataFrame with the final step\n",
    "df_test_last_step = df_test.sort_values(by=['visit_id', 'date_time']).drop_duplicates(subset=['visit_id'], keep='last')\n",
    "\n",
    "df_test_last_step[['client_id', 'visit_id', 'process_step', 'date_time', 'time_spent_seconds']].head(10)"
   ]
  },
  {
   "cell_type": "code",
   "execution_count": null,
   "metadata": {},
   "outputs": [],
   "source": [
    "step_counts = df_test_last_step['process_step'].value_counts()\n",
    "# Plot the counts of each step\n",
    "plt.figure(figsize=(10, 6))\n",
    "step_counts.plot(kind='bar', color='skyblue')\n",
    "plt.title('Count of Each Process Step')\n",
    "plt.xlabel('Process Step')\n",
    "plt.ylabel('Count')\n",
    "plt.xticks(rotation=45)\n",
    "plt.grid(axis='y', linestyle='--', alpha=0.7)\n",
    "plt.tight_layout()\n",
    "plt.show()"
   ]
  },
  {
   "cell_type": "code",
   "execution_count": 65,
   "metadata": {},
   "outputs": [
    {
     "data": {
      "text/html": [
       "<div>\n",
       "<style scoped>\n",
       "    .dataframe tbody tr th:only-of-type {\n",
       "        vertical-align: middle;\n",
       "    }\n",
       "\n",
       "    .dataframe tbody tr th {\n",
       "        vertical-align: top;\n",
       "    }\n",
       "\n",
       "    .dataframe thead th {\n",
       "        text-align: right;\n",
       "    }\n",
       "</style>\n",
       "<table border=\"1\" class=\"dataframe\">\n",
       "  <thead>\n",
       "    <tr style=\"text-align: right;\">\n",
       "      <th></th>\n",
       "      <th>visit_id</th>\n",
       "      <th>process_step</th>\n",
       "      <th>date_time</th>\n",
       "      <th>time_spent_seconds</th>\n",
       "    </tr>\n",
       "  </thead>\n",
       "  <tbody>\n",
       "    <tr>\n",
       "      <th>98990</th>\n",
       "      <td>100030127_47967100085_936361</td>\n",
       "      <td>start</td>\n",
       "      <td>2017-03-22 11:07:49</td>\n",
       "      <td>0.0</td>\n",
       "    </tr>\n",
       "    <tr>\n",
       "      <th>11353</th>\n",
       "      <td>100037962_47432393712_705583</td>\n",
       "      <td>start</td>\n",
       "      <td>2017-04-14 16:44:03</td>\n",
       "      <td>132.0</td>\n",
       "    </tr>\n",
       "    <tr>\n",
       "      <th>644</th>\n",
       "      <td>100057941_88477660212_944512</td>\n",
       "      <td>step_3</td>\n",
       "      <td>2017-04-09 11:34:24</td>\n",
       "      <td>254.0</td>\n",
       "    </tr>\n",
       "    <tr>\n",
       "      <th>100305</th>\n",
       "      <td>10006594_66157970412_679648</td>\n",
       "      <td>step_3</td>\n",
       "      <td>2017-04-13 11:56:12</td>\n",
       "      <td>354.0</td>\n",
       "    </tr>\n",
       "    <tr>\n",
       "      <th>87269</th>\n",
       "      <td>100071743_53464757454_616703</td>\n",
       "      <td>start</td>\n",
       "      <td>2017-04-07 10:50:20</td>\n",
       "      <td>0.0</td>\n",
       "    </tr>\n",
       "    <tr>\n",
       "      <th>138346</th>\n",
       "      <td>10007589_47780784567_391490</td>\n",
       "      <td>confirm</td>\n",
       "      <td>2017-05-18 08:03:33</td>\n",
       "      <td>721.0</td>\n",
       "    </tr>\n",
       "    <tr>\n",
       "      <th>105311</th>\n",
       "      <td>100096068_8301717872_987164</td>\n",
       "      <td>step_1</td>\n",
       "      <td>2017-05-22 18:15:14</td>\n",
       "      <td>13.0</td>\n",
       "    </tr>\n",
       "    <tr>\n",
       "      <th>50370</th>\n",
       "      <td>100105975_18174738494_196339</td>\n",
       "      <td>start</td>\n",
       "      <td>2017-04-10 06:30:30</td>\n",
       "      <td>13.0</td>\n",
       "    </tr>\n",
       "    <tr>\n",
       "      <th>24790</th>\n",
       "      <td>100195539_90558871716_822894</td>\n",
       "      <td>step_1</td>\n",
       "      <td>2017-03-30 10:46:18</td>\n",
       "      <td>363.0</td>\n",
       "    </tr>\n",
       "    <tr>\n",
       "      <th>123870</th>\n",
       "      <td>10024125_38177552152_999695</td>\n",
       "      <td>step_1</td>\n",
       "      <td>2017-05-01 09:03:51</td>\n",
       "      <td>21.0</td>\n",
       "    </tr>\n",
       "  </tbody>\n",
       "</table>\n",
       "</div>"
      ],
      "text/plain": [
       "                            visit_id process_step           date_time  \\\n",
       "98990   100030127_47967100085_936361        start 2017-03-22 11:07:49   \n",
       "11353   100037962_47432393712_705583        start 2017-04-14 16:44:03   \n",
       "644     100057941_88477660212_944512       step_3 2017-04-09 11:34:24   \n",
       "100305   10006594_66157970412_679648       step_3 2017-04-13 11:56:12   \n",
       "87269   100071743_53464757454_616703        start 2017-04-07 10:50:20   \n",
       "138346   10007589_47780784567_391490      confirm 2017-05-18 08:03:33   \n",
       "105311   100096068_8301717872_987164       step_1 2017-05-22 18:15:14   \n",
       "50370   100105975_18174738494_196339        start 2017-04-10 06:30:30   \n",
       "24790   100195539_90558871716_822894       step_1 2017-03-30 10:46:18   \n",
       "123870   10024125_38177552152_999695       step_1 2017-05-01 09:03:51   \n",
       "\n",
       "        time_spent_seconds  \n",
       "98990                  0.0  \n",
       "11353                132.0  \n",
       "644                  254.0  \n",
       "100305               354.0  \n",
       "87269                  0.0  \n",
       "138346               721.0  \n",
       "105311                13.0  \n",
       "50370                 13.0  \n",
       "24790                363.0  \n",
       "123870                21.0  "
      ]
     },
     "execution_count": 65,
     "metadata": {},
     "output_type": "execute_result"
    }
   ],
   "source": [
    "# Ensure 'start_times' has unique indices\n",
    "start_times = df_control[df_control['process_step'] == 'start'].groupby('visit_id')['date_time'].min()\n",
    "\n",
    "\n",
    "# Map start times to the DataFrame\n",
    "df_control = df_control.sort_values(by=['visit_id', 'date_time'])\n",
    "df_control['start_time'] = df_control['visit_id'].map(start_times)\n",
    "\n",
    "# Calculate time spent in minutes\n",
    "df_control['time_spent_seconds'] = (df_control['date_time'] - df_control['start_time']).dt.total_seconds() \n",
    "\n",
    "# Drop 'start_time' column\n",
    "df_control = df_control.drop(columns=['start_time'])\n",
    "\n",
    "# Create a new DataFrame with the final step\n",
    "df_control_last_step= df_control.sort_values(by=['visit_id', 'date_time']).drop_duplicates(subset=['visit_id'], keep='last')\n",
    "\n",
    "df_control_last_step[['visit_id', 'process_step', 'date_time', 'time_spent_seconds']].head(10)"
   ]
  },
  {
   "cell_type": "code",
   "execution_count": null,
   "metadata": {},
   "outputs": [],
   "source": [
    "step_counts = df_control_last_step['process_step'].value_counts()\n",
    "# Plot the counts of each step\n",
    "plt.figure(figsize=(10, 6))\n",
    "step_counts.plot(kind='bar', color='skyblue')\n",
    "plt.title('Count of Each Process Step')\n",
    "plt.xlabel('Process Step')\n",
    "plt.ylabel('Count')\n",
    "plt.xticks(rotation=45)\n",
    "plt.grid(axis='y', linestyle='--', alpha=0.7)\n",
    "plt.tight_layout()\n",
    "plt.show()"
   ]
  },
  {
   "cell_type": "code",
   "execution_count": null,
   "metadata": {},
   "outputs": [],
   "source": [
    "\n",
    "control_counts = df_control_last_step['process_step'].value_counts()\n",
    "test_counts = df_test_last_step['process_step'].value_counts()\n",
    "\n",
    "# Combine the counts into a single DataFrame\n",
    "combined_counts = pd.DataFrame({\n",
    "    'Control': control_counts,\n",
    "    'Test': test_counts\n",
    "}).fillna(0)\n",
    "\n",
    "# Define the desired order of process steps\n",
    "desired_order = ['start', 'step_1', 'step_2', 'step_3', 'confirm']\n",
    "\n",
    "# Reindex the DataFrame to reflect the desired order\n",
    "combined_counts = combined_counts.reindex(desired_order)\n",
    "\n",
    "# Plot the combined counts\n",
    "plt.figure(figsize=(12, 8))\n",
    "combined_counts.plot(kind='bar', color=['skyblue', 'lightgreen'])\n",
    "plt.title('Count of Each Process Step (Control vs Test)')\n",
    "plt.xlabel('Process Step')\n",
    "plt.ylabel('Count')\n",
    "plt.xticks(rotation=45)\n",
    "plt.grid(axis='y', linestyle='--', alpha=0.7)\n",
    "plt.legend(title='Dataset')\n",
    "plt.tight_layout()\n",
    "plt.show()"
   ]
  },
  {
   "cell_type": "code",
   "execution_count": null,
   "metadata": {},
   "outputs": [],
   "source": [
    "\n"
   ]
  },
  {
   "cell_type": "markdown",
   "metadata": {},
   "source": [
    "# Day 1 & 2 (Week 5)\n",
    "\n",
    "Answer the following questions about demographics:\n",
    "\n",
    "Who are the primary clients using this online process?\n",
    "Are the primary clients younger or older, new or long-standing?\n"
   ]
  },
  {
   "cell_type": "code",
   "execution_count": null,
   "metadata": {},
   "outputs": [],
   "source": [
    "result = df_test[df_test['visit_id'] == '100217156_67053490690_383412']\n",
    "result"
   ]
  },
  {
   "cell_type": "code",
   "execution_count": null,
   "metadata": {},
   "outputs": [],
   "source": [
    "# Displaying the data types of each column in the dataframe\n",
    "df_test.dtypes"
   ]
  },
  {
   "cell_type": "code",
   "execution_count": null,
   "metadata": {},
   "outputs": [],
   "source": [
    "# Displaying the data types of each column in the dataframe\n",
    "df_control.dtypes"
   ]
  },
  {
   "cell_type": "code",
   "execution_count": null,
   "metadata": {},
   "outputs": [],
   "source": [
    "# Retrieving the unique data types present in the df_test\n",
    "list(set(df_test.dtypes.tolist()))"
   ]
  },
  {
   "cell_type": "code",
   "execution_count": null,
   "metadata": {},
   "outputs": [],
   "source": [
    "# Retrieving the unique data types present in the df_control\n",
    "list(set(df_control.dtypes.tolist()))"
   ]
  },
  {
   "cell_type": "code",
   "execution_count": null,
   "metadata": {},
   "outputs": [],
   "source": [
    "# Extracting column names with numerical data types from the dataframe\n",
    "df_test.select_dtypes(\"number\").columns"
   ]
  },
  {
   "cell_type": "code",
   "execution_count": null,
   "metadata": {},
   "outputs": [],
   "source": [
    "# Counting and sorting the unique values for each numerical column in descending order\n",
    "df_test.select_dtypes(\"number\").nunique().sort_values(ascending=False)"
   ]
  },
  {
   "cell_type": "code",
   "execution_count": null,
   "metadata": {},
   "outputs": [],
   "source": [
    "# Extracting column names with numerical data types from the dataframe\n",
    "df_control.select_dtypes(\"number\").columns"
   ]
  },
  {
   "cell_type": "code",
   "execution_count": null,
   "metadata": {},
   "outputs": [],
   "source": [
    "# Counting and sorting the unique values for each numerical column in descending order\n",
    "df_control.select_dtypes(\"number\").nunique().sort_values(ascending=False)"
   ]
  },
  {
   "cell_type": "code",
   "execution_count": null,
   "metadata": {},
   "outputs": [],
   "source": []
  }
 ],
 "metadata": {
  "kernelspec": {
   "display_name": ".venv",
   "language": "python",
   "name": "python3"
  },
  "language_info": {
   "codemirror_mode": {
    "name": "ipython",
    "version": 3
   },
   "file_extension": ".py",
   "mimetype": "text/x-python",
   "name": "python",
   "nbconvert_exporter": "python",
   "pygments_lexer": "ipython3",
   "version": "3.11.7"
  }
 },
 "nbformat": 4,
 "nbformat_minor": 2
}
