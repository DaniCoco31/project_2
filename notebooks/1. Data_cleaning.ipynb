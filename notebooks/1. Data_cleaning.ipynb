{
 "cells": [
  {
   "cell_type": "code",
   "execution_count": null,
   "metadata": {},
   "outputs": [],
   "source": [
    "import pandas as pd\n",
    "import sys\n",
    "import numpy as np\n",
    "sys.path.append('../src')\n",
    "from functions import *\n",
    "import seaborn as sns\n",
    "import matplotlib.pyplot as plt\n",
    "from scipy.stats import *"
   ]
  },
  {
   "cell_type": "markdown",
   "metadata": {},
   "source": [
    "# Loading the Data:"
   ]
  },
  {
   "cell_type": "code",
   "execution_count": null,
   "metadata": {},
   "outputs": [],
   "source": [
    "df_clients_profile = pd.read_csv('../Data/Raw/df_final_demo.txt')\n",
    "df_web_data_1 = pd.read_csv('../Data/Raw/df_final_web_data_pt_1.txt')\n",
    "df_web_data_2 = pd.read_csv('../Data/Raw/df_final_web_data_pt_2.txt')\n",
    "df_experiment_clients = pd.read_csv('../Data/Raw/df_final_experiment_clients.txt')\n",
    "pd.set_option('display.max_columns', None) # To display all columns\n",
    "df_web_data = pd.concat([df_web_data_1, df_web_data_2], ignore_index= True)"
   ]
  },
  {
   "cell_type": "markdown",
   "metadata": {},
   "source": [
    "# Exploratory Data Analysis (EDA):"
   ]
  },
  {
   "cell_type": "markdown",
   "metadata": {},
   "source": [
    "## Initial Exploration"
   ]
  },
  {
   "cell_type": "code",
   "execution_count": null,
   "metadata": {},
   "outputs": [],
   "source": [
    "df_clients_profile.head(10)"
   ]
  },
  {
   "cell_type": "code",
   "execution_count": null,
   "metadata": {},
   "outputs": [],
   "source": [
    "df_clients_profile.shape"
   ]
  },
  {
   "cell_type": "code",
   "execution_count": null,
   "metadata": {},
   "outputs": [],
   "source": [
    "df_experiment_clients.head(10)"
   ]
  },
  {
   "cell_type": "code",
   "execution_count": null,
   "metadata": {},
   "outputs": [],
   "source": [
    "df_experiment_clients.shape"
   ]
  },
  {
   "cell_type": "code",
   "execution_count": null,
   "metadata": {},
   "outputs": [],
   "source": [
    "df_web_data.head(10)"
   ]
  },
  {
   "cell_type": "code",
   "execution_count": null,
   "metadata": {},
   "outputs": [],
   "source": [
    "df_web_data.shape"
   ]
  },
  {
   "cell_type": "markdown",
   "metadata": {},
   "source": [
    "### Exploring numerical and categorical variables"
   ]
  },
  {
   "cell_type": "code",
   "execution_count": null,
   "metadata": {},
   "outputs": [],
   "source": [
    "# Retrieving the unique data types present in the dataframe columns\n",
    "df_clients_profile.info()"
   ]
  },
  {
   "cell_type": "code",
   "execution_count": null,
   "metadata": {},
   "outputs": [],
   "source": [
    "df_experiment_clients.info()"
   ]
  },
  {
   "cell_type": "code",
   "execution_count": null,
   "metadata": {},
   "outputs": [],
   "source": [
    "df_web_data.info()"
   ]
  },
  {
   "cell_type": "code",
   "execution_count": null,
   "metadata": {},
   "outputs": [],
   "source": [
    "# Extracting column names with numerical data types from the dataframe\n",
    "numerical_columns_profile = df_clients_profile.select_dtypes(include=[np.number]).columns\n",
    "print(numerical_columns_profile)"
   ]
  },
  {
   "cell_type": "code",
   "execution_count": null,
   "metadata": {},
   "outputs": [],
   "source": [
    "# Extracting column names with numerical data types from the dataframe\n",
    "numerical_columns_web = df_web_data.select_dtypes(include=[np.number]).columns\n",
    "print(numerical_columns_web)"
   ]
  },
  {
   "cell_type": "code",
   "execution_count": null,
   "metadata": {},
   "outputs": [],
   "source": [
    "# Extracting column names with numerical data types from the dataframe\n",
    "numerical_columns_exp_cli = df_web_data.select_dtypes(include=[np.number]).columns\n",
    "print(numerical_columns_exp_cli)"
   ]
  },
  {
   "cell_type": "code",
   "execution_count": null,
   "metadata": {},
   "outputs": [],
   "source": [
    "# Separating between discrete and continuous variables, as discrete ones could potentially be treated as categorical.\n",
    "# Remember to adjust the threshold (in this case, < 20) based on your dataset's specific characteristics and domain knowledge.\n",
    "potential_categorical_from_numerical_profile = df_clients_profile.select_dtypes(\"number\").loc[:, df_clients_profile.select_dtypes(\"number\").nunique() < 5]\n",
    "potential_categorical_from_numerical_profile"
   ]
  },
  {
   "cell_type": "code",
   "execution_count": null,
   "metadata": {},
   "outputs": [],
   "source": [
    "# Separating between discrete and continuous variables, as discrete ones could potentially be treated as categorical.\n",
    "# Remember to adjust the threshold (in this case, < 20) based on your dataset's specific characteristics and domain knowledge.\n",
    "potential_categorical_from_numerical_web= df_web_data.select_dtypes(\"number\").loc[:, df_web_data.select_dtypes(\"number\").nunique() < 5]\n",
    "potential_categorical_from_numerical_web"
   ]
  },
  {
   "cell_type": "code",
   "execution_count": null,
   "metadata": {},
   "outputs": [],
   "source": [
    "# Separating between discrete and continuous variables, as discrete ones could potentially be treated as categorical.\n",
    "# Remember to adjust the threshold (in this case, < 20) based on your dataset's specific characteristics and domain knowledge.\n",
    "potential_categorical_from_numerical_exp_cli= df_experiment_clients.select_dtypes(\"number\").loc[:, df_experiment_clients.select_dtypes(\"number\").nunique() < 5]\n",
    "potential_categorical_from_numerical_exp_cli"
   ]
  },
  {
   "cell_type": "code",
   "execution_count": null,
   "metadata": {},
   "outputs": [],
   "source": [
    "# Retrieving column names with object (typically string) data types from the dataframe\n",
    "df_clients_profile.select_dtypes(\"object\").columns"
   ]
  },
  {
   "cell_type": "code",
   "execution_count": null,
   "metadata": {},
   "outputs": [],
   "source": [
    "# Retrieving column names with object (typically string) data types from the dataframe\n",
    "df_web_data.select_dtypes(\"object\").columns"
   ]
  },
  {
   "cell_type": "code",
   "execution_count": null,
   "metadata": {},
   "outputs": [],
   "source": [
    "# Retrieving column names with object (typically string) data types from the dataframe\n",
    "df_experiment_clients.select_dtypes(\"object\").columns"
   ]
  },
  {
   "cell_type": "code",
   "execution_count": null,
   "metadata": {},
   "outputs": [],
   "source": [
    "df_clients_profile.columns"
   ]
  },
  {
   "cell_type": "code",
   "execution_count": null,
   "metadata": {},
   "outputs": [],
   "source": [
    "df_clients_profile['gendr'] = df_clients_profile['gendr'].replace(['U', 'X'], 'Other')"
   ]
  },
  {
   "cell_type": "markdown",
   "metadata": {},
   "source": [
    "## Drop duplicates values"
   ]
  },
  {
   "cell_type": "code",
   "execution_count": null,
   "metadata": {},
   "outputs": [],
   "source": [
    "#clean df_clients_profile\n",
    "df_clients_profile = print_clean_data(df_clients_profile)"
   ]
  },
  {
   "cell_type": "code",
   "execution_count": null,
   "metadata": {},
   "outputs": [],
   "source": [
    "#clean df_experiment_clients\n",
    "df_experiment_clients = print_clean_data(df_experiment_clients)"
   ]
  },
  {
   "cell_type": "code",
   "execution_count": null,
   "metadata": {},
   "outputs": [],
   "source": [
    "#clean df_web_data\n",
    "df_web_data = print_clean_data(df_web_data)"
   ]
  },
  {
   "cell_type": "code",
   "execution_count": null,
   "metadata": {},
   "outputs": [],
   "source": [
    "df_web_data.head(20)"
   ]
  },
  {
   "cell_type": "markdown",
   "metadata": {},
   "source": [
    "# Data Typing/Formatting"
   ]
  },
  {
   "cell_type": "code",
   "execution_count": null,
   "metadata": {},
   "outputs": [],
   "source": [
    "df_clients_profile.head(10)"
   ]
  },
  {
   "cell_type": "code",
   "execution_count": null,
   "metadata": {},
   "outputs": [],
   "source": [
    "df_clients_profile.dtypes"
   ]
  },
  {
   "cell_type": "code",
   "execution_count": null,
   "metadata": {},
   "outputs": [],
   "source": [
    "df_experiment_clients.dtypes"
   ]
  },
  {
   "cell_type": "code",
   "execution_count": null,
   "metadata": {},
   "outputs": [],
   "source": [
    "df_web_data.dtypes"
   ]
  },
  {
   "cell_type": "code",
   "execution_count": null,
   "metadata": {},
   "outputs": [],
   "source": [
    "df_web_data['date_time'] = pd.to_datetime(df_web_data['date_time'], format='%Y-%m-%d %H:%M:%S')"
   ]
  },
  {
   "cell_type": "code",
   "execution_count": null,
   "metadata": {},
   "outputs": [],
   "source": [
    "df_web_data.dtypes"
   ]
  },
  {
   "cell_type": "code",
   "execution_count": null,
   "metadata": {},
   "outputs": [],
   "source": [
    "# Convert specified columns to integer data type\n",
    "df_clients_profile['clnt_tenure_yr'] = df_clients_profile['clnt_tenure_yr'].astype(int)\n",
    "df_clients_profile['clnt_tenure_mnth'] = df_clients_profile['clnt_tenure_mnth'].astype(int)\n",
    "df_clients_profile['clnt_age'] = df_clients_profile['clnt_age'].astype(int)\n",
    "df_clients_profile['num_accts'] = df_clients_profile['num_accts'].astype(int)\n",
    "df_clients_profile['calls_6_mnth'] = df_clients_profile['calls_6_mnth'].astype(int)\n",
    "df_clients_profile['logons_6_mnth'] = df_clients_profile['logons_6_mnth'].astype(int)"
   ]
  },
  {
   "cell_type": "code",
   "execution_count": null,
   "metadata": {},
   "outputs": [],
   "source": [
    "df_clients_profile.dtypes"
   ]
  },
  {
   "cell_type": "markdown",
   "metadata": {},
   "source": [
    "## Create a data frame with the clients that won't participe in the experiment."
   ]
  },
  {
   "cell_type": "code",
   "execution_count": null,
   "metadata": {},
   "outputs": [],
   "source": [
    "#setting aside the clients that wont be part if the experiment\n",
    "null_df_experiment_clients = df_experiment_clients[df_experiment_clients['Variation'].isnull()]\n",
    "null_df_experiment_clients"
   ]
  },
  {
   "cell_type": "markdown",
   "metadata": {},
   "source": [
    "## Merge the clients in the web data"
   ]
  },
  {
   "cell_type": "markdown",
   "metadata": {},
   "source": [
    "# df_test\n",
    "### Identify the clients part of the test group"
   ]
  },
  {
   "cell_type": "code",
   "execution_count": null,
   "metadata": {},
   "outputs": [],
   "source": [
    "#id of clients that are part of the test\n",
    "df_experiment_clients_Test = df_experiment_clients[df_experiment_clients['Variation'] == 'Test']\n",
    "df_experiment_clients_Test.head(10)"
   ]
  },
  {
   "cell_type": "markdown",
   "metadata": {},
   "source": [
    "### df_test: combine visit_id with visitor_id and reoganize the columns."
   ]
  },
  {
   "cell_type": "code",
   "execution_count": null,
   "metadata": {},
   "outputs": [],
   "source": [
    "final_df_test = pd.merge(df_experiment_clients_Test, df_clients_profile, on='client_id', how='inner')\n",
    "final_df_test = pd.merge(df_web_data, final_df_test, on='client_id', how='inner')\n",
    "df_test = final_df_test\n",
    "df_test.head(15)"
   ]
  },
  {
   "cell_type": "markdown",
   "metadata": {},
   "source": [
    "### Create the csv file to df_test"
   ]
  },
  {
   "cell_type": "code",
   "execution_count": null,
   "metadata": {},
   "outputs": [],
   "source": [
    "df_test.to_csv('../Data/Cleaned_Data/df_test.csv', index=False)"
   ]
  },
  {
   "cell_type": "markdown",
   "metadata": {},
   "source": [
    "# df_control\n",
    "### Identify the clients part of the control group"
   ]
  },
  {
   "cell_type": "code",
   "execution_count": null,
   "metadata": {},
   "outputs": [],
   "source": [
    "#id of clients that are part of the test\n",
    "df_experiment_clients_control = df_experiment_clients[df_experiment_clients['Variation'] == 'Control']\n",
    "df_experiment_clients_control.head(10)"
   ]
  },
  {
   "cell_type": "markdown",
   "metadata": {},
   "source": [
    "### df_control: combine visit_id with visitor_id and reoganize the columns."
   ]
  },
  {
   "cell_type": "code",
   "execution_count": null,
   "metadata": {},
   "outputs": [],
   "source": [
    "final_df_control = pd.merge(df_experiment_clients_control, df_clients_profile, on='client_id', how='inner')\n",
    "final_df_control = pd.merge(df_web_data, final_df_control, on='client_id', how='inner')\n",
    "df_control = final_df_control\n",
    "df_control.head(15)"
   ]
  },
  {
   "cell_type": "markdown",
   "metadata": {},
   "source": [
    "### Create the csv file to df_control"
   ]
  },
  {
   "cell_type": "code",
   "execution_count": null,
   "metadata": {},
   "outputs": [],
   "source": [
    "df_control.to_csv('../Data/Cleaned_Data/df_control.csv', index=False)"
   ]
  },
  {
   "cell_type": "markdown",
   "metadata": {},
   "source": [
    "# df_combine"
   ]
  },
  {
   "cell_type": "markdown",
   "metadata": {},
   "source": [
    "# Combine df_test and df_control"
   ]
  },
  {
   "cell_type": "code",
   "execution_count": null,
   "metadata": {},
   "outputs": [],
   "source": [
    "df_combined = pd.concat([df_test, df_control]).reset_index(drop=True)\n",
    "df_combined.to_csv('../Data/Cleaned_Data/df_combined.csv', index=False)"
   ]
  },
  {
   "cell_type": "markdown",
   "metadata": {},
   "source": [
    "# Pivot and create new columns"
   ]
  },
  {
   "cell_type": "markdown",
   "metadata": {},
   "source": [
    "# df_test to df_test_final"
   ]
  },
  {
   "cell_type": "code",
   "execution_count": null,
   "metadata": {},
   "outputs": [],
   "source": [
    "df_test.head(2)"
   ]
  },
  {
   "cell_type": "code",
   "execution_count": null,
   "metadata": {},
   "outputs": [],
   "source": [
    "# Assuming df_control is your DataFrame\n",
    "# 1. Data Preparation:\n",
    "df_test['date_time'] = pd.to_datetime(df_test['date_time'])\n",
    "df_test['date'] = df_test['date_time'].dt.date\n",
    "df_test['visit_visitor_id'] = df_test['visit_id'].astype(str) + \"_\" + df_test['visitor_id'].astype(str)"
   ]
  },
  {
   "cell_type": "code",
   "execution_count": null,
   "metadata": {},
   "outputs": [],
   "source": [
    "# 2. Calculate time differences per step and make them positive:\n",
    "df_test = df_test.sort_values(by=['visit_id', 'client_id', 'date_time'])\n",
    "df_test['next_date_time'] = df_test.groupby(['visit_id', 'client_id'])['date_time'].shift(-1)\n",
    "df_test['time_diff_seconds'] = (df_test['next_date_time'] - df_test['date_time']).dt.total_seconds()\n",
    "df_test['time_diff_minutes'] = df_test['time_diff_seconds'] / 60\n",
    "\n",
    "# Get Last Step:\n",
    "last_step_df = df_test.groupby('visit_visitor_id')['process_step'].last().reset_index()\n",
    "last_step_df = last_step_df.rename(columns={'process_step': 'last_step'})"
   ]
  },
  {
   "cell_type": "code",
   "execution_count": null,
   "metadata": {},
   "outputs": [],
   "source": [
    "# 3. Calculate the number of steps per visit:\n",
    "df_test = pd.concat([df_test, pd.get_dummies(df_test['process_step'], prefix='count')], axis=1)\n",
    "df_steps_sum = df_test.groupby(by=['client_id', 'visit_id', 'visitor_id'])[['count_confirm', \n",
    "'count_start', 'count_step_1', 'count_step_2', 'count_step_3']].agg('sum')"
   ]
  },
  {
   "cell_type": "code",
   "execution_count": null,
   "metadata": {},
   "outputs": [],
   "source": [
    "# 4. Pivot the table to have one row per visit:\n",
    "df_pivot = df_test.pivot_table(index=['client_id', 'visitor_id', 'visit_id'], columns='process_step', values='time_diff_minutes', fill_value=0, aggfunc='sum')\n",
    "df_pivot = df_pivot.reset_index()\n",
    "df_pivot.columns.name = None\n",
    "test_time_counts = pd.merge(df_pivot, df_steps_sum, on=['client_id', 'visitor_id', 'visit_id'])\n"
   ]
  },
  {
   "cell_type": "code",
   "execution_count": null,
   "metadata": {},
   "outputs": [],
   "source": [
    "# 5. Merge the data with the clients' profile and get initial and final dates:\n",
    "final_df_Test = pd.merge(test_time_counts, df_experiment_clients_Test, on='client_id', how='inner')\n",
    "final_df_Test = pd.merge(final_df_Test, df_clients_profile, on='client_id', how='inner')\n",
    "\n",
    "df_test_date = df_web_data.groupby(by = ['client_id', 'visit_id', 'visitor_id']).agg({'date_time': ['min', 'max']})\n",
    "df_test_date.columns = [''.join(col).strip() if isinstance(col, tuple) else col for col in df_test_date.columns]\n",
    "final_df_Test = pd.merge(df_test_date, final_df_Test, on=['client_id', 'visit_id', 'visitor_id'], how='inner')\n",
    "\n",
    "# Ensure visit_visitor_id exists in final_df_Test for the merge:\n",
    "final_df_Test['visit_visitor_id'] = final_df_Test['visit_id'].astype(str) + \"_\" + final_df_Test['visitor_id'].astype(str)  \n",
    "\n",
    "# Calculate total time spent in the website:\n",
    "final_df_Test['total_time_visit'] = (final_df_Test['date_timemax'] - final_df_Test['date_timemin']).dt.total_seconds() / 60\n",
    "\n",
    "# Merge with last_step_df:\n",
    "final_df_Test = pd.merge(final_df_Test, last_step_df, on='visit_visitor_id', how='left')\n",
    "\n",
    "# Extract the date from date_timemax into a new column called date\n",
    "final_df_Test['date'] = final_df_Test['date_timemax'].dt.date\n",
    "\n",
    "# Remove unnecessary columns \n",
    "final_df_Test = final_df_Test.drop(columns=['visit_id', 'visitor_id'])\n",
    "\n",
    "# Rename columns:\n",
    "final_df_Test = final_df_Test.rename(columns={\n",
    "    'date_timemin': 'initial_date', \n",
    "    'date_timemax': 'final_date', \n",
    "    'start': 'start_time', \n",
    "    'confirm': 'time_completion', \n",
    "    'count_confirm': 'completion',\n",
    "    'count_start': 'start_step', \n",
    "    'count_step_1': '1st_step', \n",
    "    'count_step_2': '2nd_step', \n",
    "    'count_step_3': '3rd_step',\n",
    "    'Variation': 'variation'\n",
    "})\n",
    "\n",
    "# Total navigations between start and last step (including start and last):\n",
    "final_df_Test['navigations_bt_start_last'] = final_df_Test.apply(\n",
    "    lambda row: row['start_step'] + row['1st_step'] + row['2nd_step'] + row['3rd_step'] + 1, \n",
    "    axis=1\n",
    ")\n"
   ]
  },
  {
   "cell_type": "code",
   "execution_count": null,
   "metadata": {},
   "outputs": [],
   "source": [
    "# 6. Create the final order of columns:\n",
    "new_order = ['client_id', 'visit_visitor_id', 'start_time', 'step_1', 'step_2', 'step_3', 'time_completion', 'navigations_bt_start_last', \n",
    "             'completion', 'start_step', '1st_step', '2nd_step', '3rd_step', 'last_step', 'variation', 'clnt_tenure_yr', 'clnt_tenure_mnth', \n",
    "             'clnt_age', 'gendr', 'num_accts', 'bal', 'calls_6_mnth', 'logons_6_mnth', 'date', 'initial_date', 'total_time_visit', 'final_date']\n",
    "df_test_final = final_df_Test[new_order]\n",
    "\n",
    "# Save the final DataFrame to CSV\n",
    "df_test_final.to_csv('../Data/Cleaned_Data/df_test_final.csv', index=False)\n",
    "\n",
    "# Convert data types if necessary\n",
    "df_test_final = convert_data_types_final(df_test_final)\n",
    "df_test_final.dtypes"
   ]
  },
  {
   "cell_type": "code",
   "execution_count": null,
   "metadata": {},
   "outputs": [],
   "source": [
    "df_test_final.to_csv('../Data/Cleaned_Data/df_test_final.csv', index=False)"
   ]
  },
  {
   "cell_type": "code",
   "execution_count": null,
   "metadata": {},
   "outputs": [],
   "source": [
    "df_test_final = convert_data_types_final(df_test_final)"
   ]
  },
  {
   "cell_type": "code",
   "execution_count": null,
   "metadata": {},
   "outputs": [],
   "source": [
    "df_test_final.dtypes"
   ]
  },
  {
   "cell_type": "markdown",
   "metadata": {},
   "source": [
    "### Create the csv file to df_test_final"
   ]
  },
  {
   "cell_type": "code",
   "execution_count": null,
   "metadata": {},
   "outputs": [],
   "source": [
    "df_test_final.to_csv('../Data/Cleaned_Data/df_test_final.csv', index=False)"
   ]
  },
  {
   "cell_type": "markdown",
   "metadata": {},
   "source": [
    "# df_control to df_control_final"
   ]
  },
  {
   "cell_type": "code",
   "execution_count": null,
   "metadata": {},
   "outputs": [],
   "source": [
    "# 1. Data Preparation\n",
    "df_control['date_time'] = pd.to_datetime(df_control['date_time'])\n",
    "df_control['date'] = df_control['date_time'].dt.date\n",
    "df_control['visit_visitor_id'] = df_control['visit_id'].astype(str) + \"_\" + df_control['visitor_id'].astype(str)"
   ]
  },
  {
   "cell_type": "code",
   "execution_count": null,
   "metadata": {},
   "outputs": [],
   "source": [
    "# 2. Calculate time differences per step and make them positive:\n",
    "df_control = df_control.sort_values(by=['visit_id', 'client_id', 'date_time'])\n",
    "df_control['next_date_time'] = df_control.groupby(['visit_id', 'client_id'])['date_time'].shift(-1)\n",
    "df_control['time_diff_seconds'] = (df_control['next_date_time'] - df_control['date_time']).dt.total_seconds()\n",
    "df_control['time_diff_minutes'] = df_control['time_diff_seconds'] / 60\n",
    "\n",
    "# Get Last Step:\n",
    "last_step_df_control = df_control.groupby('visit_visitor_id')['process_step'].last().reset_index()\n",
    "last_step_df_control = last_step_df_control.rename(columns={'process_step': 'last_step'})\n"
   ]
  },
  {
   "cell_type": "code",
   "execution_count": null,
   "metadata": {},
   "outputs": [],
   "source": [
    "# 3. Calculate the number of steps per visit:\n",
    "df_control = pd.concat([df_control, pd.get_dummies(df_control['process_step'], prefix='count')], axis=1)\n",
    "df_steps_sum_control = df_control.groupby(by=['client_id', 'visit_id', 'visitor_id'])[['count_confirm', \n",
    "'count_start', 'count_step_1', 'count_step_2', 'count_step_3']].agg('sum')"
   ]
  },
  {
   "cell_type": "code",
   "execution_count": null,
   "metadata": {},
   "outputs": [],
   "source": [
    "# 4. Pivot the table to have one row per visit:\n",
    "df_pivot_control = df_control.pivot_table(index=['client_id', 'visitor_id', 'visit_id'], columns='process_step', values='time_diff_minutes', fill_value=0, aggfunc='sum')\n",
    "df_pivot_control = df_pivot_control.reset_index()\n",
    "df_pivot_control.columns.name = None\n",
    "control_time_counts = pd.merge(df_pivot_control, df_steps_sum_control, on=['client_id', 'visitor_id', 'visit_id'])"
   ]
  },
  {
   "cell_type": "code",
   "execution_count": null,
   "metadata": {},
   "outputs": [],
   "source": [
    "# 4. Pivot the table to have one row per visit:\n",
    "df_pivot_control = df_control.pivot_table(index=['client_id', 'visitor_id', 'visit_id'], columns='process_step', values='time_diff_minutes', fill_value=0, aggfunc='sum')\n",
    "df_pivot_control = df_pivot_control.reset_index()\n",
    "df_pivot_control.columns.name = None\n",
    "control_time_counts = pd.merge(df_pivot_control, df_steps_sum_control, on=['client_id', 'visitor_id', 'visit_id'])"
   ]
  },
  {
   "cell_type": "code",
   "execution_count": null,
   "metadata": {},
   "outputs": [],
   "source": [
    "# 5. Merge the data with the clients' profile and get initial and final dates:\n",
    "final_df_Control = pd.merge(control_time_counts, df_experiment_clients, on='client_id', how='inner')\n",
    "final_df_Control = pd.merge(final_df_Control, df_clients_profile, on='client_id', how='inner')\n",
    "\n",
    "df_control_date = df_web_data.groupby(by = ['client_id', 'visit_id', 'visitor_id']).agg({'date_time': ['min', 'max']})\n",
    "df_control_date.columns = [''.join(col).strip() if isinstance(col, tuple) else col for col in df_control_date.columns]\n",
    "final_df_Control = pd.merge(df_control_date, final_df_Control, on=['client_id', 'visit_id', 'visitor_id'], how='inner')\n",
    "\n",
    "# Ensure visit_visitor_id exists in final_df_Control for the merge:\n",
    "final_df_Control['visit_visitor_id'] = final_df_Control['visit_id'].astype(str) + \"_\" + final_df_Control['visitor_id'].astype(str)  \n",
    "\n",
    "# Calculate total time spent in the website:\n",
    "final_df_Control['total_time_visit'] = (final_df_Control['date_timemax'] - final_df_Control['date_timemin']).dt.total_seconds() / 60\n",
    "\n",
    "# Merge with last_step_df_control:\n",
    "final_df_Control = pd.merge(final_df_Control, last_step_df_control, on='visit_visitor_id', how='left')\n",
    "\n",
    "# Extract the date from date_timemax into a new column called date\n",
    "final_df_Control['date'] = final_df_Control['date_timemax'].dt.date\n",
    "\n",
    "# Remove unnecessary columns \n",
    "final_df_Control = final_df_Control.drop(columns=['visit_id', 'visitor_id'])\n",
    "\n",
    "# Rename columns:\n",
    "final_df_Control = final_df_Control.rename(columns={\n",
    "    'date_timemin': 'initial_date', \n",
    "    'date_timemax': 'final_date', \n",
    "    'start': 'start_time', \n",
    "    'confirm': 'time_completion', \n",
    "    'count_confirm': 'completion',\n",
    "    'count_start': 'start_step', \n",
    "    'count_step_1': '1st_step', \n",
    "    'count_step_2': '2nd_step', \n",
    "    'count_step_3': '3rd_step',\n",
    "    'Variation': 'variation'\n",
    "})\n",
    "\n",
    "# Total navigations between start and last step (including start and last):\n",
    "final_df_Control['navigations_bt_start_last'] = final_df_Control['start_step'] + final_df_Control['1st_step'] + final_df_Control['2nd_step'] + final_df_Control['3rd_step'] + 1"
   ]
  },
  {
   "cell_type": "code",
   "execution_count": null,
   "metadata": {},
   "outputs": [],
   "source": [
    "# 6. Create the final order of columns:\n",
    "new_order_control = ['client_id', 'visit_visitor_id', 'start_time', 'step_1', 'step_2', 'step_3', 'time_completion', 'navigations_bt_start_last', \n",
    "                    'completion', 'start_step', '1st_step', '2nd_step', '3rd_step', 'last_step', 'variation', 'clnt_tenure_yr', 'clnt_tenure_mnth', \n",
    "                    'clnt_age', 'gendr', 'num_accts', 'bal', 'calls_6_mnth', 'logons_6_mnth', 'date', 'initial_date', 'total_time_visit', 'final_date']\n",
    "df_control_final = final_df_Control[new_order_control]\n",
    "\n",
    "# Save the final DataFrame to CSV\n",
    "df_control_final.to_csv('../Data/Cleaned_Data/df_control_final.csv', index=False)\n",
    "\n",
    "# Convert data types if necessary\n",
    "df_control_final = convert_data_types_final(df_control_final)"
   ]
  },
  {
   "cell_type": "markdown",
   "metadata": {},
   "source": [
    "# New Data Frames"
   ]
  },
  {
   "cell_type": "markdown",
   "metadata": {},
   "source": [
    "## df_control_final"
   ]
  },
  {
   "cell_type": "code",
   "execution_count": null,
   "metadata": {},
   "outputs": [],
   "source": [
    "df_control_final.head(10)"
   ]
  },
  {
   "cell_type": "markdown",
   "metadata": {},
   "source": [
    "## df_test_final"
   ]
  },
  {
   "cell_type": "code",
   "execution_count": null,
   "metadata": {},
   "outputs": [],
   "source": [
    "df_test_final.head(10)"
   ]
  },
  {
   "cell_type": "markdown",
   "metadata": {},
   "source": [
    "# df_final\n",
    "### Create the csv file to combine_df"
   ]
  },
  {
   "cell_type": "code",
   "execution_count": null,
   "metadata": {},
   "outputs": [],
   "source": [
    "df_final = pd.concat([df_test_final, df_control_final], ignore_index=True)"
   ]
  },
  {
   "cell_type": "code",
   "execution_count": null,
   "metadata": {},
   "outputs": [],
   "source": [
    "df_final = convert_data_types(df_final)"
   ]
  },
  {
   "cell_type": "code",
   "execution_count": null,
   "metadata": {},
   "outputs": [],
   "source": [
    "df_final.to_csv('../Data/Cleaned_Data/df_final.csv', index=False)"
   ]
  },
  {
   "cell_type": "code",
   "execution_count": null,
   "metadata": {},
   "outputs": [],
   "source": [
    "df_final.sample(15)"
   ]
  }
 ],
 "metadata": {
  "kernelspec": {
   "display_name": ".venv",
   "language": "python",
   "name": "python3"
  },
  "language_info": {
   "codemirror_mode": {
    "name": "ipython",
    "version": 3
   },
   "file_extension": ".py",
   "mimetype": "text/x-python",
   "name": "python",
   "nbconvert_exporter": "python",
   "pygments_lexer": "ipython3",
   "version": "3.10.12"
  }
 },
 "nbformat": 4,
 "nbformat_minor": 2
}
