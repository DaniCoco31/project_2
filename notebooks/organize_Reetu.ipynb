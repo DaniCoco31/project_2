{
 "cells": [
  {
   "cell_type": "code",
   "execution_count": 1,
   "metadata": {},
   "outputs": [],
   "source": [
    "import pandas as pd\n",
    "import sys\n",
    "sys.path.append('../src')\n",
    "from functions import *\n",
    "import seaborn as sns\n",
    "import matplotlib.pyplot as plt\n",
    "from scipy.stats import ttest_ind, chi2_contingency\n",
    "from scipy.stats import ttest_ind\n",
    "from scipy.stats import pearsonr\n",
    "\n",
    "\n",
    "df_clients_profile = pd.read_csv('../Data/raw/df_final_demo.txt')\n",
    "df_web_data_1 = pd.read_csv('../Data/raw/df_final_web_data_pt_1.txt')\n",
    "df_web_data_2 = pd.read_csv('../Data/raw/df_final_web_data_pt_2.txt')\n",
    "df_experiment_clients = pd.read_csv('../Data/raw/df_final_experiment_clients.txt')\n",
    "pd.set_option('display.max_columns', None)\n",
    "df_web_data = pd.concat([df_web_data_1, df_web_data_2], ignore_index= True)"
   ]
  },
  {
   "cell_type": "code",
   "execution_count": 2,
   "metadata": {},
   "outputs": [
    {
     "name": "stdout",
     "output_type": "stream",
     "text": [
      "Before\n",
      "client_id            0\n",
      "clnt_tenure_yr      14\n",
      "clnt_tenure_mnth    14\n",
      "clnt_age            15\n",
      "gendr               14\n",
      "num_accts           14\n",
      "bal                 14\n",
      "calls_6_mnth        14\n",
      "logons_6_mnth       14\n",
      "dtype: int64\n",
      "------------------------------------------\n",
      "------------------------------------------\n",
      "After\n",
      "client_id           0\n",
      "clnt_tenure_yr      0\n",
      "clnt_tenure_mnth    0\n",
      "clnt_age            0\n",
      "gendr               0\n",
      "num_accts           0\n",
      "bal                 0\n",
      "calls_6_mnth        0\n",
      "logons_6_mnth       0\n",
      "dtype: int64\n"
     ]
    }
   ],
   "source": [
    "#clean df_clients_profile\n",
    "df_clients_profile = print_clean_data(df_clients_profile)"
   ]
  },
  {
   "cell_type": "code",
   "execution_count": 3,
   "metadata": {},
   "outputs": [
    {
     "name": "stdout",
     "output_type": "stream",
     "text": [
      "Before\n",
      "client_id        0\n",
      "Variation    20109\n",
      "dtype: int64\n",
      "------------------------------------------\n",
      "To many NaN values in column: Variation\n",
      "------------------------------------------\n",
      "After\n",
      "client_id        0\n",
      "Variation    20109\n",
      "dtype: int64\n"
     ]
    }
   ],
   "source": [
    "#clean df_experiment_clients\n",
    "df_experiment_clients = print_clean_data(df_experiment_clients)"
   ]
  },
  {
   "cell_type": "code",
   "execution_count": 4,
   "metadata": {},
   "outputs": [
    {
     "name": "stdout",
     "output_type": "stream",
     "text": [
      "Before\n",
      "client_id       0\n",
      "visitor_id      0\n",
      "visit_id        0\n",
      "process_step    0\n",
      "date_time       0\n",
      "dtype: int64\n",
      "------------------------------------------\n",
      "------------------------------------------\n",
      "After\n",
      "client_id       0\n",
      "visitor_id      0\n",
      "visit_id        0\n",
      "process_step    0\n",
      "date_time       0\n",
      "dtype: int64\n"
     ]
    }
   ],
   "source": [
    "#clean df_web_data\n",
    "df_web_data = print_clean_data(df_web_data)"
   ]
  },
  {
   "cell_type": "code",
   "execution_count": null,
   "metadata": {},
   "outputs": [],
   "source": [
    "df_web_data.head(5)"
   ]
  },
  {
   "cell_type": "markdown",
   "metadata": {},
   "source": [
    "## Create a data frame with the clients that won't participe in the experiment."
   ]
  },
  {
   "cell_type": "code",
   "execution_count": 5,
   "metadata": {},
   "outputs": [
    {
     "data": {
      "text/html": [
       "<div>\n",
       "<style scoped>\n",
       "    .dataframe tbody tr th:only-of-type {\n",
       "        vertical-align: middle;\n",
       "    }\n",
       "\n",
       "    .dataframe tbody tr th {\n",
       "        vertical-align: top;\n",
       "    }\n",
       "\n",
       "    .dataframe thead th {\n",
       "        text-align: right;\n",
       "    }\n",
       "</style>\n",
       "<table border=\"1\" class=\"dataframe\">\n",
       "  <thead>\n",
       "    <tr style=\"text-align: right;\">\n",
       "      <th></th>\n",
       "      <th>client_id</th>\n",
       "      <th>Variation</th>\n",
       "    </tr>\n",
       "  </thead>\n",
       "  <tbody>\n",
       "    <tr>\n",
       "      <th>50500</th>\n",
       "      <td>5459747</td>\n",
       "      <td>NaN</td>\n",
       "    </tr>\n",
       "    <tr>\n",
       "      <th>50501</th>\n",
       "      <td>8031000</td>\n",
       "      <td>NaN</td>\n",
       "    </tr>\n",
       "    <tr>\n",
       "      <th>50502</th>\n",
       "      <td>1847030</td>\n",
       "      <td>NaN</td>\n",
       "    </tr>\n",
       "    <tr>\n",
       "      <th>50503</th>\n",
       "      <td>9713157</td>\n",
       "      <td>NaN</td>\n",
       "    </tr>\n",
       "    <tr>\n",
       "      <th>50504</th>\n",
       "      <td>7775828</td>\n",
       "      <td>NaN</td>\n",
       "    </tr>\n",
       "    <tr>\n",
       "      <th>...</th>\n",
       "      <td>...</td>\n",
       "      <td>...</td>\n",
       "    </tr>\n",
       "    <tr>\n",
       "      <th>70604</th>\n",
       "      <td>2443347</td>\n",
       "      <td>NaN</td>\n",
       "    </tr>\n",
       "    <tr>\n",
       "      <th>70605</th>\n",
       "      <td>8788427</td>\n",
       "      <td>NaN</td>\n",
       "    </tr>\n",
       "    <tr>\n",
       "      <th>70606</th>\n",
       "      <td>266828</td>\n",
       "      <td>NaN</td>\n",
       "    </tr>\n",
       "    <tr>\n",
       "      <th>70607</th>\n",
       "      <td>1266421</td>\n",
       "      <td>NaN</td>\n",
       "    </tr>\n",
       "    <tr>\n",
       "      <th>70608</th>\n",
       "      <td>9895983</td>\n",
       "      <td>NaN</td>\n",
       "    </tr>\n",
       "  </tbody>\n",
       "</table>\n",
       "<p>20109 rows × 2 columns</p>\n",
       "</div>"
      ],
      "text/plain": [
       "       client_id Variation\n",
       "50500    5459747       NaN\n",
       "50501    8031000       NaN\n",
       "50502    1847030       NaN\n",
       "50503    9713157       NaN\n",
       "50504    7775828       NaN\n",
       "...          ...       ...\n",
       "70604    2443347       NaN\n",
       "70605    8788427       NaN\n",
       "70606     266828       NaN\n",
       "70607    1266421       NaN\n",
       "70608    9895983       NaN\n",
       "\n",
       "[20109 rows x 2 columns]"
      ]
     },
     "execution_count": 5,
     "metadata": {},
     "output_type": "execute_result"
    }
   ],
   "source": [
    "#setting aside the clients that wont be part if the experiment\n",
    "null_df_experiment_clients = df_experiment_clients[df_experiment_clients['Variation'].isnull()]\n",
    "null_df_experiment_clients"
   ]
  },
  {
   "cell_type": "markdown",
   "metadata": {},
   "source": [
    "## Merge the clients in the web data"
   ]
  },
  {
   "cell_type": "markdown",
   "metadata": {},
   "source": [
    "### Identify the clients part of the test group"
   ]
  },
  {
   "cell_type": "code",
   "execution_count": 7,
   "metadata": {},
   "outputs": [
    {
     "data": {
      "text/html": [
       "<div>\n",
       "<style scoped>\n",
       "    .dataframe tbody tr th:only-of-type {\n",
       "        vertical-align: middle;\n",
       "    }\n",
       "\n",
       "    .dataframe tbody tr th {\n",
       "        vertical-align: top;\n",
       "    }\n",
       "\n",
       "    .dataframe thead th {\n",
       "        text-align: right;\n",
       "    }\n",
       "</style>\n",
       "<table border=\"1\" class=\"dataframe\">\n",
       "  <thead>\n",
       "    <tr style=\"text-align: right;\">\n",
       "      <th></th>\n",
       "      <th>client_id</th>\n",
       "      <th>Variation</th>\n",
       "    </tr>\n",
       "  </thead>\n",
       "  <tbody>\n",
       "    <tr>\n",
       "      <th>0</th>\n",
       "      <td>9988021</td>\n",
       "      <td>Test</td>\n",
       "    </tr>\n",
       "    <tr>\n",
       "      <th>1</th>\n",
       "      <td>8320017</td>\n",
       "      <td>Test</td>\n",
       "    </tr>\n",
       "    <tr>\n",
       "      <th>3</th>\n",
       "      <td>1982004</td>\n",
       "      <td>Test</td>\n",
       "    </tr>\n",
       "    <tr>\n",
       "      <th>5</th>\n",
       "      <td>9466803</td>\n",
       "      <td>Test</td>\n",
       "    </tr>\n",
       "    <tr>\n",
       "      <th>6</th>\n",
       "      <td>3170143</td>\n",
       "      <td>Test</td>\n",
       "    </tr>\n",
       "    <tr>\n",
       "      <th>8</th>\n",
       "      <td>5887227</td>\n",
       "      <td>Test</td>\n",
       "    </tr>\n",
       "    <tr>\n",
       "      <th>10</th>\n",
       "      <td>438567</td>\n",
       "      <td>Test</td>\n",
       "    </tr>\n",
       "    <tr>\n",
       "      <th>11</th>\n",
       "      <td>2519971</td>\n",
       "      <td>Test</td>\n",
       "    </tr>\n",
       "    <tr>\n",
       "      <th>13</th>\n",
       "      <td>5407849</td>\n",
       "      <td>Test</td>\n",
       "    </tr>\n",
       "    <tr>\n",
       "      <th>16</th>\n",
       "      <td>5308474</td>\n",
       "      <td>Test</td>\n",
       "    </tr>\n",
       "  </tbody>\n",
       "</table>\n",
       "</div>"
      ],
      "text/plain": [
       "    client_id Variation\n",
       "0     9988021      Test\n",
       "1     8320017      Test\n",
       "3     1982004      Test\n",
       "5     9466803      Test\n",
       "6     3170143      Test\n",
       "8     5887227      Test\n",
       "10     438567      Test\n",
       "11    2519971      Test\n",
       "13    5407849      Test\n",
       "16    5308474      Test"
      ]
     },
     "execution_count": 7,
     "metadata": {},
     "output_type": "execute_result"
    }
   ],
   "source": [
    "#id of clients that are part of the test\n",
    "df_experiment_clients_Test = df_experiment_clients[df_experiment_clients['Variation'] == 'Test']\n",
    "df_experiment_clients_Test.head(10)"
   ]
  },
  {
   "cell_type": "markdown",
   "metadata": {},
   "source": [
    "### df_test: combine visit_id with visitor_id and reoganize the columns."
   ]
  },
  {
   "cell_type": "code",
   "execution_count": 8,
   "metadata": {},
   "outputs": [
    {
     "data": {
      "text/html": [
       "<div>\n",
       "<style scoped>\n",
       "    .dataframe tbody tr th:only-of-type {\n",
       "        vertical-align: middle;\n",
       "    }\n",
       "\n",
       "    .dataframe tbody tr th {\n",
       "        vertical-align: top;\n",
       "    }\n",
       "\n",
       "    .dataframe thead th {\n",
       "        text-align: right;\n",
       "    }\n",
       "</style>\n",
       "<table border=\"1\" class=\"dataframe\">\n",
       "  <thead>\n",
       "    <tr style=\"text-align: right;\">\n",
       "      <th></th>\n",
       "      <th>client_id</th>\n",
       "      <th>visitor_id</th>\n",
       "      <th>visit_id</th>\n",
       "      <th>process_step</th>\n",
       "      <th>date_time</th>\n",
       "      <th>Variation</th>\n",
       "      <th>clnt_tenure_yr</th>\n",
       "      <th>clnt_tenure_mnth</th>\n",
       "      <th>clnt_age</th>\n",
       "      <th>gendr</th>\n",
       "      <th>num_accts</th>\n",
       "      <th>bal</th>\n",
       "      <th>calls_6_mnth</th>\n",
       "      <th>logons_6_mnth</th>\n",
       "    </tr>\n",
       "  </thead>\n",
       "  <tbody>\n",
       "    <tr>\n",
       "      <th>0</th>\n",
       "      <td>9988021</td>\n",
       "      <td>580560515_7732621733</td>\n",
       "      <td>781255054_21935453173_531117</td>\n",
       "      <td>step_3</td>\n",
       "      <td>2017-04-17 15:27:07</td>\n",
       "      <td>Test</td>\n",
       "      <td>5.0</td>\n",
       "      <td>64.0</td>\n",
       "      <td>79.0</td>\n",
       "      <td>U</td>\n",
       "      <td>2.0</td>\n",
       "      <td>189023.86</td>\n",
       "      <td>1.0</td>\n",
       "      <td>4.0</td>\n",
       "    </tr>\n",
       "    <tr>\n",
       "      <th>1</th>\n",
       "      <td>9988021</td>\n",
       "      <td>580560515_7732621733</td>\n",
       "      <td>781255054_21935453173_531117</td>\n",
       "      <td>step_2</td>\n",
       "      <td>2017-04-17 15:26:51</td>\n",
       "      <td>Test</td>\n",
       "      <td>5.0</td>\n",
       "      <td>64.0</td>\n",
       "      <td>79.0</td>\n",
       "      <td>U</td>\n",
       "      <td>2.0</td>\n",
       "      <td>189023.86</td>\n",
       "      <td>1.0</td>\n",
       "      <td>4.0</td>\n",
       "    </tr>\n",
       "    <tr>\n",
       "      <th>2</th>\n",
       "      <td>9988021</td>\n",
       "      <td>580560515_7732621733</td>\n",
       "      <td>781255054_21935453173_531117</td>\n",
       "      <td>step_3</td>\n",
       "      <td>2017-04-17 15:19:22</td>\n",
       "      <td>Test</td>\n",
       "      <td>5.0</td>\n",
       "      <td>64.0</td>\n",
       "      <td>79.0</td>\n",
       "      <td>U</td>\n",
       "      <td>2.0</td>\n",
       "      <td>189023.86</td>\n",
       "      <td>1.0</td>\n",
       "      <td>4.0</td>\n",
       "    </tr>\n",
       "    <tr>\n",
       "      <th>3</th>\n",
       "      <td>9988021</td>\n",
       "      <td>580560515_7732621733</td>\n",
       "      <td>781255054_21935453173_531117</td>\n",
       "      <td>step_2</td>\n",
       "      <td>2017-04-17 15:19:13</td>\n",
       "      <td>Test</td>\n",
       "      <td>5.0</td>\n",
       "      <td>64.0</td>\n",
       "      <td>79.0</td>\n",
       "      <td>U</td>\n",
       "      <td>2.0</td>\n",
       "      <td>189023.86</td>\n",
       "      <td>1.0</td>\n",
       "      <td>4.0</td>\n",
       "    </tr>\n",
       "    <tr>\n",
       "      <th>4</th>\n",
       "      <td>9988021</td>\n",
       "      <td>580560515_7732621733</td>\n",
       "      <td>781255054_21935453173_531117</td>\n",
       "      <td>step_3</td>\n",
       "      <td>2017-04-17 15:18:04</td>\n",
       "      <td>Test</td>\n",
       "      <td>5.0</td>\n",
       "      <td>64.0</td>\n",
       "      <td>79.0</td>\n",
       "      <td>U</td>\n",
       "      <td>2.0</td>\n",
       "      <td>189023.86</td>\n",
       "      <td>1.0</td>\n",
       "      <td>4.0</td>\n",
       "    </tr>\n",
       "  </tbody>\n",
       "</table>\n",
       "</div>"
      ],
      "text/plain": [
       "   client_id            visitor_id                      visit_id process_step  \\\n",
       "0    9988021  580560515_7732621733  781255054_21935453173_531117       step_3   \n",
       "1    9988021  580560515_7732621733  781255054_21935453173_531117       step_2   \n",
       "2    9988021  580560515_7732621733  781255054_21935453173_531117       step_3   \n",
       "3    9988021  580560515_7732621733  781255054_21935453173_531117       step_2   \n",
       "4    9988021  580560515_7732621733  781255054_21935453173_531117       step_3   \n",
       "\n",
       "            date_time Variation  clnt_tenure_yr  clnt_tenure_mnth  clnt_age  \\\n",
       "0 2017-04-17 15:27:07      Test             5.0              64.0      79.0   \n",
       "1 2017-04-17 15:26:51      Test             5.0              64.0      79.0   \n",
       "2 2017-04-17 15:19:22      Test             5.0              64.0      79.0   \n",
       "3 2017-04-17 15:19:13      Test             5.0              64.0      79.0   \n",
       "4 2017-04-17 15:18:04      Test             5.0              64.0      79.0   \n",
       "\n",
       "  gendr  num_accts        bal  calls_6_mnth  logons_6_mnth  \n",
       "0     U        2.0  189023.86           1.0            4.0  \n",
       "1     U        2.0  189023.86           1.0            4.0  \n",
       "2     U        2.0  189023.86           1.0            4.0  \n",
       "3     U        2.0  189023.86           1.0            4.0  \n",
       "4     U        2.0  189023.86           1.0            4.0  "
      ]
     },
     "execution_count": 8,
     "metadata": {},
     "output_type": "execute_result"
    }
   ],
   "source": [
    "final_df_Test = pd.merge(df_experiment_clients_Test, df_clients_profile, on='client_id', how='inner')\n",
    "final_df_Test = pd.merge(df_web_data, final_df_Test, on='client_id', how='inner')\n",
    "df_test = final_df_Test\n",
    "\n",
    "#change the data type to datetime\n",
    "df_test['date_time'] = pd.to_datetime(df_test['date_time']) \n",
    "df_test.head(5)"
   ]
  },
  {
   "cell_type": "markdown",
   "metadata": {},
   "source": [
    "### df_control: combine visit_id with visitor_id and reoganize the columns."
   ]
  },
  {
   "cell_type": "code",
   "execution_count": 9,
   "metadata": {},
   "outputs": [
    {
     "data": {
      "text/html": [
       "<div>\n",
       "<style scoped>\n",
       "    .dataframe tbody tr th:only-of-type {\n",
       "        vertical-align: middle;\n",
       "    }\n",
       "\n",
       "    .dataframe tbody tr th {\n",
       "        vertical-align: top;\n",
       "    }\n",
       "\n",
       "    .dataframe thead th {\n",
       "        text-align: right;\n",
       "    }\n",
       "</style>\n",
       "<table border=\"1\" class=\"dataframe\">\n",
       "  <thead>\n",
       "    <tr style=\"text-align: right;\">\n",
       "      <th></th>\n",
       "      <th>client_id</th>\n",
       "      <th>Variation</th>\n",
       "    </tr>\n",
       "  </thead>\n",
       "  <tbody>\n",
       "    <tr>\n",
       "      <th>2</th>\n",
       "      <td>4033851</td>\n",
       "      <td>Control</td>\n",
       "    </tr>\n",
       "    <tr>\n",
       "      <th>4</th>\n",
       "      <td>9294070</td>\n",
       "      <td>Control</td>\n",
       "    </tr>\n",
       "    <tr>\n",
       "      <th>7</th>\n",
       "      <td>6651403</td>\n",
       "      <td>Control</td>\n",
       "    </tr>\n",
       "    <tr>\n",
       "      <th>9</th>\n",
       "      <td>2105948</td>\n",
       "      <td>Control</td>\n",
       "    </tr>\n",
       "    <tr>\n",
       "      <th>12</th>\n",
       "      <td>9814849</td>\n",
       "      <td>Control</td>\n",
       "    </tr>\n",
       "    <tr>\n",
       "      <th>14</th>\n",
       "      <td>7286739</td>\n",
       "      <td>Control</td>\n",
       "    </tr>\n",
       "    <tr>\n",
       "      <th>15</th>\n",
       "      <td>4446011</td>\n",
       "      <td>Control</td>\n",
       "    </tr>\n",
       "    <tr>\n",
       "      <th>20</th>\n",
       "      <td>4229407</td>\n",
       "      <td>Control</td>\n",
       "    </tr>\n",
       "    <tr>\n",
       "      <th>24</th>\n",
       "      <td>2842481</td>\n",
       "      <td>Control</td>\n",
       "    </tr>\n",
       "    <tr>\n",
       "      <th>27</th>\n",
       "      <td>1218661</td>\n",
       "      <td>Control</td>\n",
       "    </tr>\n",
       "  </tbody>\n",
       "</table>\n",
       "</div>"
      ],
      "text/plain": [
       "    client_id Variation\n",
       "2     4033851   Control\n",
       "4     9294070   Control\n",
       "7     6651403   Control\n",
       "9     2105948   Control\n",
       "12    9814849   Control\n",
       "14    7286739   Control\n",
       "15    4446011   Control\n",
       "20    4229407   Control\n",
       "24    2842481   Control\n",
       "27    1218661   Control"
      ]
     },
     "execution_count": 9,
     "metadata": {},
     "output_type": "execute_result"
    }
   ],
   "source": [
    "#id of clients that are part of the control group\n",
    "df_experiment_clients_Control = df_experiment_clients[df_experiment_clients['Variation'] == 'Control']\n",
    "df_experiment_clients_Control.head(10)"
   ]
  },
  {
   "cell_type": "code",
   "execution_count": 11,
   "metadata": {},
   "outputs": [
    {
     "data": {
      "text/html": [
       "<div>\n",
       "<style scoped>\n",
       "    .dataframe tbody tr th:only-of-type {\n",
       "        vertical-align: middle;\n",
       "    }\n",
       "\n",
       "    .dataframe tbody tr th {\n",
       "        vertical-align: top;\n",
       "    }\n",
       "\n",
       "    .dataframe thead th {\n",
       "        text-align: right;\n",
       "    }\n",
       "</style>\n",
       "<table border=\"1\" class=\"dataframe\">\n",
       "  <thead>\n",
       "    <tr style=\"text-align: right;\">\n",
       "      <th></th>\n",
       "      <th>client_id</th>\n",
       "      <th>visitor_id</th>\n",
       "      <th>visit_id</th>\n",
       "      <th>process_step</th>\n",
       "      <th>date_time</th>\n",
       "      <th>Variation</th>\n",
       "      <th>clnt_tenure_yr</th>\n",
       "      <th>clnt_tenure_mnth</th>\n",
       "      <th>clnt_age</th>\n",
       "      <th>gendr</th>\n",
       "      <th>num_accts</th>\n",
       "      <th>bal</th>\n",
       "      <th>calls_6_mnth</th>\n",
       "      <th>logons_6_mnth</th>\n",
       "    </tr>\n",
       "  </thead>\n",
       "  <tbody>\n",
       "    <tr>\n",
       "      <th>0</th>\n",
       "      <td>4033851</td>\n",
       "      <td>762728880_76361333336</td>\n",
       "      <td>949661017_22392791362_127391</td>\n",
       "      <td>confirm</td>\n",
       "      <td>2017-04-05 12:29:03</td>\n",
       "      <td>Control</td>\n",
       "      <td>12.0</td>\n",
       "      <td>149.0</td>\n",
       "      <td>63.5</td>\n",
       "      <td>M</td>\n",
       "      <td>2.0</td>\n",
       "      <td>142642.26</td>\n",
       "      <td>5.0</td>\n",
       "      <td>8.0</td>\n",
       "    </tr>\n",
       "    <tr>\n",
       "      <th>1</th>\n",
       "      <td>4033851</td>\n",
       "      <td>762728880_76361333336</td>\n",
       "      <td>949661017_22392791362_127391</td>\n",
       "      <td>confirm</td>\n",
       "      <td>2017-04-05 12:29:01</td>\n",
       "      <td>Control</td>\n",
       "      <td>12.0</td>\n",
       "      <td>149.0</td>\n",
       "      <td>63.5</td>\n",
       "      <td>M</td>\n",
       "      <td>2.0</td>\n",
       "      <td>142642.26</td>\n",
       "      <td>5.0</td>\n",
       "      <td>8.0</td>\n",
       "    </tr>\n",
       "    <tr>\n",
       "      <th>2</th>\n",
       "      <td>4033851</td>\n",
       "      <td>762728880_76361333336</td>\n",
       "      <td>949661017_22392791362_127391</td>\n",
       "      <td>confirm</td>\n",
       "      <td>2017-04-05 12:28:52</td>\n",
       "      <td>Control</td>\n",
       "      <td>12.0</td>\n",
       "      <td>149.0</td>\n",
       "      <td>63.5</td>\n",
       "      <td>M</td>\n",
       "      <td>2.0</td>\n",
       "      <td>142642.26</td>\n",
       "      <td>5.0</td>\n",
       "      <td>8.0</td>\n",
       "    </tr>\n",
       "    <tr>\n",
       "      <th>3</th>\n",
       "      <td>4033851</td>\n",
       "      <td>762728880_76361333336</td>\n",
       "      <td>949661017_22392791362_127391</td>\n",
       "      <td>step_3</td>\n",
       "      <td>2017-04-05 12:26:08</td>\n",
       "      <td>Control</td>\n",
       "      <td>12.0</td>\n",
       "      <td>149.0</td>\n",
       "      <td>63.5</td>\n",
       "      <td>M</td>\n",
       "      <td>2.0</td>\n",
       "      <td>142642.26</td>\n",
       "      <td>5.0</td>\n",
       "      <td>8.0</td>\n",
       "    </tr>\n",
       "    <tr>\n",
       "      <th>4</th>\n",
       "      <td>4033851</td>\n",
       "      <td>762728880_76361333336</td>\n",
       "      <td>949661017_22392791362_127391</td>\n",
       "      <td>step_2</td>\n",
       "      <td>2017-04-05 12:24:43</td>\n",
       "      <td>Control</td>\n",
       "      <td>12.0</td>\n",
       "      <td>149.0</td>\n",
       "      <td>63.5</td>\n",
       "      <td>M</td>\n",
       "      <td>2.0</td>\n",
       "      <td>142642.26</td>\n",
       "      <td>5.0</td>\n",
       "      <td>8.0</td>\n",
       "    </tr>\n",
       "  </tbody>\n",
       "</table>\n",
       "</div>"
      ],
      "text/plain": [
       "   client_id             visitor_id                      visit_id  \\\n",
       "0    4033851  762728880_76361333336  949661017_22392791362_127391   \n",
       "1    4033851  762728880_76361333336  949661017_22392791362_127391   \n",
       "2    4033851  762728880_76361333336  949661017_22392791362_127391   \n",
       "3    4033851  762728880_76361333336  949661017_22392791362_127391   \n",
       "4    4033851  762728880_76361333336  949661017_22392791362_127391   \n",
       "\n",
       "  process_step           date_time Variation  clnt_tenure_yr  \\\n",
       "0      confirm 2017-04-05 12:29:03   Control            12.0   \n",
       "1      confirm 2017-04-05 12:29:01   Control            12.0   \n",
       "2      confirm 2017-04-05 12:28:52   Control            12.0   \n",
       "3       step_3 2017-04-05 12:26:08   Control            12.0   \n",
       "4       step_2 2017-04-05 12:24:43   Control            12.0   \n",
       "\n",
       "   clnt_tenure_mnth  clnt_age gendr  num_accts        bal  calls_6_mnth  \\\n",
       "0             149.0      63.5     M        2.0  142642.26           5.0   \n",
       "1             149.0      63.5     M        2.0  142642.26           5.0   \n",
       "2             149.0      63.5     M        2.0  142642.26           5.0   \n",
       "3             149.0      63.5     M        2.0  142642.26           5.0   \n",
       "4             149.0      63.5     M        2.0  142642.26           5.0   \n",
       "\n",
       "   logons_6_mnth  \n",
       "0            8.0  \n",
       "1            8.0  \n",
       "2            8.0  \n",
       "3            8.0  \n",
       "4            8.0  "
      ]
     },
     "execution_count": 11,
     "metadata": {},
     "output_type": "execute_result"
    }
   ],
   "source": [
    "df_experiment_clients_Control = df_experiment_clients[df_experiment_clients['Variation'] == 'Control']\n",
    "final_df_Control = pd.merge(df_experiment_clients_Control, df_clients_profile, on='client_id', how='inner')\n",
    "final_df_Control = pd.merge(df_web_data, final_df_Control, on='client_id', how='inner')\n",
    "df_control = final_df_Control\n",
    "\n",
    "#change the data type to datetime\n",
    "df_control['date_time'] = pd.to_datetime(df_control['date_time']) \n",
    "df_control.head(5)"
   ]
  },
  {
   "cell_type": "markdown",
   "metadata": {},
   "source": [
    "### Combine df_test and df_control as df_combined for comparative analysis"
   ]
  },
  {
   "cell_type": "code",
   "execution_count": 12,
   "metadata": {},
   "outputs": [
    {
     "data": {
      "text/plain": [
       "(321195, 14)"
      ]
     },
     "execution_count": 12,
     "metadata": {},
     "output_type": "execute_result"
    }
   ],
   "source": [
    "df_combined = pd.concat([df_test, df_control]).reset_index(drop=True)\n",
    "df_combined.shape"
   ]
  },
  {
   "cell_type": "code",
   "execution_count": 123,
   "metadata": {},
   "outputs": [],
   "source": [
    "# Save the DataFrame to CSV\n",
    "\n",
    "df_combined.to_csv('../Data/Tableau/df_combined.csv', index=False)\n"
   ]
  },
  {
   "cell_type": "markdown",
   "metadata": {},
   "source": [
    "## Pivot and create new columns"
   ]
  },
  {
   "cell_type": "markdown",
   "metadata": {},
   "source": [
    "### df_test"
   ]
  },
  {
   "cell_type": "code",
   "execution_count": null,
   "metadata": {},
   "outputs": [],
   "source": [
    "df_test"
   ]
  },
  {
   "cell_type": "code",
   "execution_count": 13,
   "metadata": {},
   "outputs": [],
   "source": [
    "# Assuming df_control is your DataFrame\n",
    "# 1. Data Preparation:\n",
    "df_test['date_time'] = pd.to_datetime(df_test['date_time'])\n",
    "df_test['date'] = df_test['date_time'].dt.date\n",
    "# Combine visit_id and visitor_id into a new column\n",
    "df_test['visit_visitor_id'] = df_test['visit_id'].astype(str) + \"_\" + df_test['visitor_id'].astype(str)"
   ]
  },
  {
   "cell_type": "code",
   "execution_count": 14,
   "metadata": {},
   "outputs": [],
   "source": [
    "# 2. Calculate time differences per step and make them positive:\n",
    "# We need to sort the dataframe before calculating the time difference\n",
    "df_test = df_test.sort_values(by=['visit_id', 'client_id', 'date_time'])\n",
    "\n",
    "df_test['next_date_time'] = df_test.groupby(['visit_id', 'client_id'])['date_time'].shift(-1)\n",
    "\n",
    "# Calculate time spent in seconds, but make sure it's always positive\n",
    "df_test['time_diff_seconds'] = (df_test['next_date_time'] - df_test['date_time']).dt.total_seconds()\n",
    "df_test['time_diff_minutes'] = df_test['time_diff_seconds'] / 60"
   ]
  },
  {
   "cell_type": "code",
   "execution_count": 26,
   "metadata": {},
   "outputs": [
    {
     "data": {
      "text/html": [
       "<div>\n",
       "<style scoped>\n",
       "    .dataframe tbody tr th:only-of-type {\n",
       "        vertical-align: middle;\n",
       "    }\n",
       "\n",
       "    .dataframe tbody tr th {\n",
       "        vertical-align: top;\n",
       "    }\n",
       "\n",
       "    .dataframe thead th {\n",
       "        text-align: right;\n",
       "    }\n",
       "</style>\n",
       "<table border=\"1\" class=\"dataframe\">\n",
       "  <thead>\n",
       "    <tr style=\"text-align: right;\">\n",
       "      <th></th>\n",
       "      <th>client_id</th>\n",
       "      <th>visitor_id</th>\n",
       "      <th>visit_id</th>\n",
       "      <th>confirm</th>\n",
       "      <th>start</th>\n",
       "      <th>step_1</th>\n",
       "      <th>step_2</th>\n",
       "      <th>step_3</th>\n",
       "    </tr>\n",
       "  </thead>\n",
       "  <tbody>\n",
       "    <tr>\n",
       "      <th>0</th>\n",
       "      <td>555</td>\n",
       "      <td>402506806_56087378777</td>\n",
       "      <td>637149525_38041617439_716659</td>\n",
       "      <td>0.000000</td>\n",
       "      <td>0.116667</td>\n",
       "      <td>0.533333</td>\n",
       "      <td>1.650000</td>\n",
       "      <td>0.333333</td>\n",
       "    </tr>\n",
       "    <tr>\n",
       "      <th>1</th>\n",
       "      <td>647</td>\n",
       "      <td>66758770_53988066587</td>\n",
       "      <td>40369564_40101682850_311847</td>\n",
       "      <td>0.000000</td>\n",
       "      <td>0.116667</td>\n",
       "      <td>0.300000</td>\n",
       "      <td>3.150000</td>\n",
       "      <td>2.716667</td>\n",
       "    </tr>\n",
       "    <tr>\n",
       "      <th>2</th>\n",
       "      <td>934</td>\n",
       "      <td>810392784_45004760546</td>\n",
       "      <td>7076463_57954418406_971348</td>\n",
       "      <td>0.000000</td>\n",
       "      <td>2.366667</td>\n",
       "      <td>0.000000</td>\n",
       "      <td>0.000000</td>\n",
       "      <td>0.000000</td>\n",
       "    </tr>\n",
       "    <tr>\n",
       "      <th>3</th>\n",
       "      <td>1336</td>\n",
       "      <td>920624746_32603333901</td>\n",
       "      <td>583743392_96265099036_939815</td>\n",
       "      <td>0.000000</td>\n",
       "      <td>0.416667</td>\n",
       "      <td>0.433333</td>\n",
       "      <td>0.850000</td>\n",
       "      <td>1.816667</td>\n",
       "    </tr>\n",
       "    <tr>\n",
       "      <th>4</th>\n",
       "      <td>1336</td>\n",
       "      <td>920624746_32603333901</td>\n",
       "      <td>614001770_19101025926_112779</td>\n",
       "      <td>1.366667</td>\n",
       "      <td>0.000000</td>\n",
       "      <td>0.000000</td>\n",
       "      <td>0.000000</td>\n",
       "      <td>0.000000</td>\n",
       "    </tr>\n",
       "    <tr>\n",
       "      <th>5</th>\n",
       "      <td>1346</td>\n",
       "      <td>123474046_4204671056</td>\n",
       "      <td>27144337_83739845380_214282</td>\n",
       "      <td>0.000000</td>\n",
       "      <td>2.650000</td>\n",
       "      <td>3.366667</td>\n",
       "      <td>0.816667</td>\n",
       "      <td>1.416667</td>\n",
       "    </tr>\n",
       "    <tr>\n",
       "      <th>6</th>\n",
       "      <td>1516</td>\n",
       "      <td>182314299_63168583136</td>\n",
       "      <td>255400977_38039535960_779641</td>\n",
       "      <td>0.000000</td>\n",
       "      <td>0.933333</td>\n",
       "      <td>0.583333</td>\n",
       "      <td>10.116667</td>\n",
       "      <td>4.266667</td>\n",
       "    </tr>\n",
       "    <tr>\n",
       "      <th>7</th>\n",
       "      <td>1516</td>\n",
       "      <td>182314299_63168583136</td>\n",
       "      <td>481123290_95510977345_707323</td>\n",
       "      <td>0.000000</td>\n",
       "      <td>1.333333</td>\n",
       "      <td>1.666667</td>\n",
       "      <td>1.083333</td>\n",
       "      <td>0.000000</td>\n",
       "    </tr>\n",
       "    <tr>\n",
       "      <th>8</th>\n",
       "      <td>1643</td>\n",
       "      <td>121807985_20524560478</td>\n",
       "      <td>753205700_16851596206_134483</td>\n",
       "      <td>0.000000</td>\n",
       "      <td>1.000000</td>\n",
       "      <td>0.266667</td>\n",
       "      <td>9.700000</td>\n",
       "      <td>0.500000</td>\n",
       "    </tr>\n",
       "    <tr>\n",
       "      <th>9</th>\n",
       "      <td>1643</td>\n",
       "      <td>910842861_51062379179</td>\n",
       "      <td>379946188_1773022140_107963</td>\n",
       "      <td>0.000000</td>\n",
       "      <td>0.000000</td>\n",
       "      <td>0.000000</td>\n",
       "      <td>0.000000</td>\n",
       "      <td>0.000000</td>\n",
       "    </tr>\n",
       "  </tbody>\n",
       "</table>\n",
       "</div>"
      ],
      "text/plain": [
       "   client_id             visitor_id                      visit_id   confirm  \\\n",
       "0        555  402506806_56087378777  637149525_38041617439_716659  0.000000   \n",
       "1        647   66758770_53988066587   40369564_40101682850_311847  0.000000   \n",
       "2        934  810392784_45004760546    7076463_57954418406_971348  0.000000   \n",
       "3       1336  920624746_32603333901  583743392_96265099036_939815  0.000000   \n",
       "4       1336  920624746_32603333901  614001770_19101025926_112779  1.366667   \n",
       "5       1346   123474046_4204671056   27144337_83739845380_214282  0.000000   \n",
       "6       1516  182314299_63168583136  255400977_38039535960_779641  0.000000   \n",
       "7       1516  182314299_63168583136  481123290_95510977345_707323  0.000000   \n",
       "8       1643  121807985_20524560478  753205700_16851596206_134483  0.000000   \n",
       "9       1643  910842861_51062379179   379946188_1773022140_107963  0.000000   \n",
       "\n",
       "      start    step_1     step_2    step_3  \n",
       "0  0.116667  0.533333   1.650000  0.333333  \n",
       "1  0.116667  0.300000   3.150000  2.716667  \n",
       "2  2.366667  0.000000   0.000000  0.000000  \n",
       "3  0.416667  0.433333   0.850000  1.816667  \n",
       "4  0.000000  0.000000   0.000000  0.000000  \n",
       "5  2.650000  3.366667   0.816667  1.416667  \n",
       "6  0.933333  0.583333  10.116667  4.266667  \n",
       "7  1.333333  1.666667   1.083333  0.000000  \n",
       "8  1.000000  0.266667   9.700000  0.500000  \n",
       "9  0.000000  0.000000   0.000000  0.000000  "
      ]
     },
     "execution_count": 26,
     "metadata": {},
     "output_type": "execute_result"
    }
   ],
   "source": [
    "# 3. Pivot to Create Step Columns:\n",
    "df_pivot = df_test.pivot_table(index=['client_id', 'visitor_id', 'visit_id'], columns='process_step', values='time_diff_minutes', fill_value=0, aggfunc='sum')\n",
    "df_pivot = df_pivot.reset_index()\n",
    "df_pivot.columns.name = None  # Remove the 'process_step' header\n",
    "df_pivot.head(10)"
   ]
  },
  {
   "cell_type": "code",
   "execution_count": 27,
   "metadata": {},
   "outputs": [],
   "source": [
    "# 4. Rename Columns & Calculate Total Time:\n",
    "df_pivot = df_pivot.rename(columns={'confirm': 'confirm_time', 'start': 'start_time', 'step_1': 'step_1', 'step_2': 'step_2', 'step_3': 'step_3'})\n",
    "\n",
    "df_pivot['total_time_visit'] = df_pivot[['start_time', 'step_1', 'step_2', 'step_3', 'confirm_time']].sum(axis=1)\n",
    "\n",
    "# 5. Merge with Original Data and Select/Reorder Columns:\n",
    "final_df_t = pd.merge(df_pivot, df_test[['client_id', 'visit_id','Variation', 'clnt_tenure_yr',\n",
    "       'clnt_tenure_mnth', 'clnt_age', 'gendr', 'num_accts', 'bal',\n",
    "       'calls_6_mnth', 'logons_6_mnth', 'date', 'process_step']], on=['client_id', 'visit_id'], how='left')"
   ]
  },
  {
   "cell_type": "code",
   "execution_count": 28,
   "metadata": {},
   "outputs": [],
   "source": [
    "# Get last step per visit_id\n",
    "final_df_t['last_step'] = final_df_t.groupby('visit_id')['process_step'].transform('last')\n",
    "\n",
    "# Add new columns counting the number of times each step was visited\n",
    "step_counts = df_test.groupby(['visit_visitor_id', 'process_step']).size().unstack(fill_value=0)\n",
    "\n",
    "# Add new columns counting the number of times each step was visited\n",
    "final_df_t['visit_visitor_id'] = final_df_t['visit_id'].astype(str) + \"_\" + final_df_t['visitor_id'].astype(str)\n",
    "final_df_t['start_step'] = final_df_t['visit_visitor_id'].map(step_counts.get('start', pd.Series())).fillna(0).astype(int)\n",
    "final_df_t['1st_step'] = final_df_t['visit_visitor_id'].map(step_counts.get('step_1', pd.Series())).fillna(0).astype(int)\n",
    "final_df_t['2nd_step'] = final_df_t['visit_visitor_id'].map(step_counts.get('step_2', pd.Series())).fillna(0).astype(int)\n",
    "final_df_t['3rd_step'] = final_df_t['visit_visitor_id'].map(step_counts.get('step_3', pd.Series())).fillna(0).astype(int)\n",
    "\n",
    "\n",
    "# Create completion column\n",
    "final_df_t['completion'] = final_df_t['last_step'].apply(lambda x: 1 if x == 'confirm' else 0)\n",
    "\n",
    "# Create total_navigation column\n",
    "final_df_t['navigations_bt_start_last'] =  final_df_t['1st_step'] + final_df_t['2nd_step'] + final_df_t['3rd_step'] "
   ]
  },
  {
   "cell_type": "code",
   "execution_count": 29,
   "metadata": {},
   "outputs": [],
   "source": [
    "# Drop visit_visitor_id column if no longer needed\n",
    "final_df_t.drop(['visit_id', 'visitor_id','process_step', 'confirm_time'], axis=1, inplace=True)\n",
    "final_df_t.drop_duplicates(subset='visit_visitor_id', keep='first', inplace=True)\n",
    "# Reorder columns for better visualization\n",
    "df_test_final = final_df_t.reindex(columns=[\n",
    "    'client_id', 'visit_visitor_id', 'start_time', 'step_1', 'step_2', 'step_3', \n",
    "    'date', 'start_step', '1st_step', '2nd_step', '3rd_step', 'navigations_bt_start_last', 'last_step', 'completion',\n",
    "    'total_time_visit', 'Variation', 'clnt_tenure_yr', 'clnt_tenure_mnth', \n",
    "    'clnt_age', 'gendr', 'num_accts', 'bal', 'calls_6_mnth', 'logons_6_mnth'\n",
    "])\n"
   ]
  },
  {
   "cell_type": "code",
   "execution_count": null,
   "metadata": {},
   "outputs": [],
   "source": [
    "df_test_final.head(10)"
   ]
  },
  {
   "cell_type": "markdown",
   "metadata": {},
   "source": [
    "### df_control"
   ]
  },
  {
   "cell_type": "code",
   "execution_count": 30,
   "metadata": {},
   "outputs": [],
   "source": [
    "# Assuming df_control is your DataFrame\n",
    "# 1. Data Preparation:\n",
    "df_control['date_time'] = pd.to_datetime(df_control['date_time'])\n",
    "df_control['date'] = df_control['date_time'].dt.date\n",
    "# Combine visit_id and visitor_id into a new column\n",
    "df_control['visit_visitor_id'] = df_control['visit_id'].astype(str) + \"_\" + df_control['visitor_id'].astype(str)"
   ]
  },
  {
   "cell_type": "code",
   "execution_count": 19,
   "metadata": {},
   "outputs": [],
   "source": [
    "# 2. Calculate time differences per step and make them positive:\n",
    "# We need to sort the dataframe before calculating the time difference\n",
    "df_control = df_control.sort_values(by=['visit_id', 'client_id', 'date_time'])\n",
    "\n",
    "df_control['next_date_time'] = df_control.groupby(['visit_id', 'client_id'])['date_time'].shift(-1)\n",
    "\n",
    "# Calculate time spent in seconds, but make sure it's always positive\n",
    "df_control['time_diff_seconds'] = (df_control['next_date_time'] - df_control['date_time']).dt.total_seconds()\n",
    "df_control['time_diff_minutes'] = df_control['time_diff_seconds'] / 60"
   ]
  },
  {
   "cell_type": "code",
   "execution_count": 20,
   "metadata": {},
   "outputs": [],
   "source": [
    "# 3. Pivot to Create Step Columns:\n",
    "df_pivot_c = df_control.pivot_table(index=['client_id', 'visitor_id', 'visit_id'], columns='process_step', values='time_diff_minutes', fill_value=0, aggfunc='sum')\n",
    "df_pivot_c = df_pivot_c.reset_index()\n",
    "df_pivot_c.columns.name = None  # Remove the 'process_step' header"
   ]
  },
  {
   "cell_type": "code",
   "execution_count": 21,
   "metadata": {},
   "outputs": [],
   "source": [
    "# 4. Rename Columns & Calculate Total Time:\n",
    "df_pivot_c = df_pivot_c.rename(columns={'confirm': 'confirm_time', 'start': 'start_time', 'step_1': 'step_1', 'step_2': 'step_2', 'step_3': 'step_3'})\n",
    "\n",
    "df_pivot_c['total_time_visit'] = df_pivot_c[['start_time', 'step_1', 'step_2', 'step_3', 'confirm_time']].sum(axis=1)\n",
    "\n",
    "# 5. Merge with Original Data and Select/Reorder Columns:\n",
    "final_df_c = pd.merge(df_pivot_c, df_control[['client_id', 'visit_id','Variation', 'clnt_tenure_yr',\n",
    "       'clnt_tenure_mnth', 'clnt_age', 'gendr', 'num_accts', 'bal',\n",
    "       'calls_6_mnth', 'logons_6_mnth', 'date', 'process_step']], on=['client_id', 'visit_id'], how='left')"
   ]
  },
  {
   "cell_type": "code",
   "execution_count": 22,
   "metadata": {},
   "outputs": [],
   "source": [
    "# Get last step per visit_id\n",
    "final_df_c['last_step'] = final_df_c.groupby('visit_id')['process_step'].transform('last')\n",
    "\n",
    "# Add new columns counting the number of times each step was visited\n",
    "step_counts = df_control.groupby(['visit_visitor_id', 'process_step']).size().unstack(fill_value=0)\n",
    "\n",
    "# Add new columns counting the number of times each step was visited\n",
    "final_df_c['visit_visitor_id'] = final_df_c['visit_id'].astype(str) + \"_\" + final_df_c['visitor_id'].astype(str)\n",
    "final_df_c['start_step'] = final_df_c['visit_visitor_id'].map(step_counts.get('start', pd.Series())).fillna(0).astype(int)\n",
    "final_df_c['1st_step'] = final_df_c['visit_visitor_id'].map(step_counts.get('step_1', pd.Series())).fillna(0).astype(int)\n",
    "final_df_c['2nd_step'] = final_df_c['visit_visitor_id'].map(step_counts.get('step_2', pd.Series())).fillna(0).astype(int)\n",
    "final_df_c['3rd_step'] = final_df_c['visit_visitor_id'].map(step_counts.get('step_3', pd.Series())).fillna(0).astype(int)\n",
    "\n",
    "\n",
    "# Create completion column\n",
    "final_df_c['completion'] = final_df_c['last_step'].apply(lambda x: 1 if x == 'confirm' else 0)\n",
    "\n",
    "# Create total_navigation column\n",
    "\n",
    "final_df_c['navigations_bt_start_last'] = final_df_c['1st_step'] + final_df_c['2nd_step'] + final_df_c['3rd_step'] "
   ]
  },
  {
   "cell_type": "code",
   "execution_count": 23,
   "metadata": {},
   "outputs": [],
   "source": [
    "\n",
    "# Drop visit_visitor_id column if no longer needed\n",
    "final_df_c.drop(['visit_id', 'visitor_id','process_step', 'confirm_time'], axis=1, inplace=True)\n",
    "final_df_c.drop_duplicates(subset='visit_visitor_id', keep='first', inplace=True)\n",
    "# Reorder columns for better visualization\n",
    "df_control_final = final_df_c.reindex(columns=[\n",
    "    'client_id', 'visit_visitor_id', 'start_time', 'step_1', 'step_2', 'step_3', \n",
    "    'date', 'start_step', '1st_step', '2nd_step', '3rd_step', 'navigations_bt_start_last', 'last_step', 'completion',\n",
    "    'total_time_visit', 'Variation', 'clnt_tenure_yr', 'clnt_tenure_mnth', \n",
    "    'clnt_age', 'gendr', 'num_accts', 'bal', 'calls_6_mnth', 'logons_6_mnth'\n",
    "])\n"
   ]
  },
  {
   "cell_type": "code",
   "execution_count": 24,
   "metadata": {},
   "outputs": [
    {
     "data": {
      "text/html": [
       "<div>\n",
       "<style scoped>\n",
       "    .dataframe tbody tr th:only-of-type {\n",
       "        vertical-align: middle;\n",
       "    }\n",
       "\n",
       "    .dataframe tbody tr th {\n",
       "        vertical-align: top;\n",
       "    }\n",
       "\n",
       "    .dataframe thead th {\n",
       "        text-align: right;\n",
       "    }\n",
       "</style>\n",
       "<table border=\"1\" class=\"dataframe\">\n",
       "  <thead>\n",
       "    <tr style=\"text-align: right;\">\n",
       "      <th></th>\n",
       "      <th>client_id</th>\n",
       "      <th>visit_visitor_id</th>\n",
       "      <th>start_time</th>\n",
       "      <th>step_1</th>\n",
       "      <th>step_2</th>\n",
       "      <th>step_3</th>\n",
       "      <th>date</th>\n",
       "      <th>start_step</th>\n",
       "      <th>1st_step</th>\n",
       "      <th>2nd_step</th>\n",
       "      <th>3rd_step</th>\n",
       "      <th>navigations_bt_start_last</th>\n",
       "      <th>last_step</th>\n",
       "      <th>completion</th>\n",
       "      <th>total_time_visit</th>\n",
       "      <th>Variation</th>\n",
       "      <th>clnt_tenure_yr</th>\n",
       "      <th>clnt_tenure_mnth</th>\n",
       "      <th>clnt_age</th>\n",
       "      <th>gendr</th>\n",
       "      <th>num_accts</th>\n",
       "      <th>bal</th>\n",
       "      <th>calls_6_mnth</th>\n",
       "      <th>logons_6_mnth</th>\n",
       "    </tr>\n",
       "  </thead>\n",
       "  <tbody>\n",
       "    <tr>\n",
       "      <th>0</th>\n",
       "      <td>1028</td>\n",
       "      <td>557292053_87239438319_391157_42237450_62128060588</td>\n",
       "      <td>0.816667</td>\n",
       "      <td>1.566667</td>\n",
       "      <td>4.733333</td>\n",
       "      <td>1.85</td>\n",
       "      <td>2017-04-08</td>\n",
       "      <td>1</td>\n",
       "      <td>5</td>\n",
       "      <td>2</td>\n",
       "      <td>1</td>\n",
       "      <td>8</td>\n",
       "      <td>step_1</td>\n",
       "      <td>0</td>\n",
       "      <td>8.966667</td>\n",
       "      <td>Control</td>\n",
       "      <td>12.0</td>\n",
       "      <td>145.0</td>\n",
       "      <td>36.0</td>\n",
       "      <td>M</td>\n",
       "      <td>3.0</td>\n",
       "      <td>103520.22</td>\n",
       "      <td>1.0</td>\n",
       "      <td>4.0</td>\n",
       "    </tr>\n",
       "    <tr>\n",
       "      <th>9</th>\n",
       "      <td>1104</td>\n",
       "      <td>543158812_46395476577_767725_194240915_1815800...</td>\n",
       "      <td>0.000000</td>\n",
       "      <td>0.000000</td>\n",
       "      <td>0.000000</td>\n",
       "      <td>0.00</td>\n",
       "      <td>2017-06-12</td>\n",
       "      <td>1</td>\n",
       "      <td>0</td>\n",
       "      <td>0</td>\n",
       "      <td>0</td>\n",
       "      <td>0</td>\n",
       "      <td>start</td>\n",
       "      <td>0</td>\n",
       "      <td>0.000000</td>\n",
       "      <td>Control</td>\n",
       "      <td>5.0</td>\n",
       "      <td>66.0</td>\n",
       "      <td>48.0</td>\n",
       "      <td>U</td>\n",
       "      <td>3.0</td>\n",
       "      <td>154643.94</td>\n",
       "      <td>6.0</td>\n",
       "      <td>9.0</td>\n",
       "    </tr>\n",
       "    <tr>\n",
       "      <th>10</th>\n",
       "      <td>1104</td>\n",
       "      <td>643221571_99977972121_69283_194240915_18158000533</td>\n",
       "      <td>0.000000</td>\n",
       "      <td>0.000000</td>\n",
       "      <td>0.000000</td>\n",
       "      <td>0.00</td>\n",
       "      <td>2017-06-20</td>\n",
       "      <td>1</td>\n",
       "      <td>0</td>\n",
       "      <td>0</td>\n",
       "      <td>0</td>\n",
       "      <td>0</td>\n",
       "      <td>start</td>\n",
       "      <td>0</td>\n",
       "      <td>0.000000</td>\n",
       "      <td>Control</td>\n",
       "      <td>5.0</td>\n",
       "      <td>66.0</td>\n",
       "      <td>48.0</td>\n",
       "      <td>U</td>\n",
       "      <td>3.0</td>\n",
       "      <td>154643.94</td>\n",
       "      <td>6.0</td>\n",
       "      <td>9.0</td>\n",
       "    </tr>\n",
       "    <tr>\n",
       "      <th>11</th>\n",
       "      <td>1186</td>\n",
       "      <td>507052512_11309370126_442139_446844663_3161510...</td>\n",
       "      <td>0.000000</td>\n",
       "      <td>0.000000</td>\n",
       "      <td>0.000000</td>\n",
       "      <td>0.00</td>\n",
       "      <td>2017-04-08</td>\n",
       "      <td>1</td>\n",
       "      <td>0</td>\n",
       "      <td>0</td>\n",
       "      <td>0</td>\n",
       "      <td>0</td>\n",
       "      <td>start</td>\n",
       "      <td>0</td>\n",
       "      <td>0.000000</td>\n",
       "      <td>Control</td>\n",
       "      <td>8.0</td>\n",
       "      <td>99.0</td>\n",
       "      <td>22.0</td>\n",
       "      <td>U</td>\n",
       "      <td>2.0</td>\n",
       "      <td>31662.52</td>\n",
       "      <td>0.0</td>\n",
       "      <td>3.0</td>\n",
       "    </tr>\n",
       "    <tr>\n",
       "      <th>12</th>\n",
       "      <td>1186</td>\n",
       "      <td>795373564_99931517312_810896_446844663_3161510...</td>\n",
       "      <td>0.183333</td>\n",
       "      <td>0.183333</td>\n",
       "      <td>0.000000</td>\n",
       "      <td>0.00</td>\n",
       "      <td>2017-04-08</td>\n",
       "      <td>1</td>\n",
       "      <td>1</td>\n",
       "      <td>1</td>\n",
       "      <td>0</td>\n",
       "      <td>2</td>\n",
       "      <td>step_2</td>\n",
       "      <td>0</td>\n",
       "      <td>0.366667</td>\n",
       "      <td>Control</td>\n",
       "      <td>8.0</td>\n",
       "      <td>99.0</td>\n",
       "      <td>22.0</td>\n",
       "      <td>U</td>\n",
       "      <td>2.0</td>\n",
       "      <td>31662.52</td>\n",
       "      <td>0.0</td>\n",
       "      <td>3.0</td>\n",
       "    </tr>\n",
       "  </tbody>\n",
       "</table>\n",
       "</div>"
      ],
      "text/plain": [
       "    client_id                                   visit_visitor_id  start_time  \\\n",
       "0        1028  557292053_87239438319_391157_42237450_62128060588    0.816667   \n",
       "9        1104  543158812_46395476577_767725_194240915_1815800...    0.000000   \n",
       "10       1104  643221571_99977972121_69283_194240915_18158000533    0.000000   \n",
       "11       1186  507052512_11309370126_442139_446844663_3161510...    0.000000   \n",
       "12       1186  795373564_99931517312_810896_446844663_3161510...    0.183333   \n",
       "\n",
       "      step_1    step_2  step_3        date  start_step  1st_step  2nd_step  \\\n",
       "0   1.566667  4.733333    1.85  2017-04-08           1         5         2   \n",
       "9   0.000000  0.000000    0.00  2017-06-12           1         0         0   \n",
       "10  0.000000  0.000000    0.00  2017-06-20           1         0         0   \n",
       "11  0.000000  0.000000    0.00  2017-04-08           1         0         0   \n",
       "12  0.183333  0.000000    0.00  2017-04-08           1         1         1   \n",
       "\n",
       "    3rd_step  navigations_bt_start_last last_step  completion  \\\n",
       "0          1                          8    step_1           0   \n",
       "9          0                          0     start           0   \n",
       "10         0                          0     start           0   \n",
       "11         0                          0     start           0   \n",
       "12         0                          2    step_2           0   \n",
       "\n",
       "    total_time_visit Variation  clnt_tenure_yr  clnt_tenure_mnth  clnt_age  \\\n",
       "0           8.966667   Control            12.0             145.0      36.0   \n",
       "9           0.000000   Control             5.0              66.0      48.0   \n",
       "10          0.000000   Control             5.0              66.0      48.0   \n",
       "11          0.000000   Control             8.0              99.0      22.0   \n",
       "12          0.366667   Control             8.0              99.0      22.0   \n",
       "\n",
       "   gendr  num_accts        bal  calls_6_mnth  logons_6_mnth  \n",
       "0      M        3.0  103520.22           1.0            4.0  \n",
       "9      U        3.0  154643.94           6.0            9.0  \n",
       "10     U        3.0  154643.94           6.0            9.0  \n",
       "11     U        2.0   31662.52           0.0            3.0  \n",
       "12     U        2.0   31662.52           0.0            3.0  "
      ]
     },
     "execution_count": 24,
     "metadata": {},
     "output_type": "execute_result"
    }
   ],
   "source": [
    "df_control_final.head(5)"
   ]
  },
  {
   "cell_type": "markdown",
   "metadata": {},
   "source": [
    "### Combine data frames df_test_final and df_control_final as df_final for comparatrive analysis"
   ]
  },
  {
   "cell_type": "code",
   "execution_count": 31,
   "metadata": {},
   "outputs": [
    {
     "data": {
      "text/html": [
       "<div>\n",
       "<style scoped>\n",
       "    .dataframe tbody tr th:only-of-type {\n",
       "        vertical-align: middle;\n",
       "    }\n",
       "\n",
       "    .dataframe tbody tr th {\n",
       "        vertical-align: top;\n",
       "    }\n",
       "\n",
       "    .dataframe thead th {\n",
       "        text-align: right;\n",
       "    }\n",
       "</style>\n",
       "<table border=\"1\" class=\"dataframe\">\n",
       "  <thead>\n",
       "    <tr style=\"text-align: right;\">\n",
       "      <th></th>\n",
       "      <th>client_id</th>\n",
       "      <th>visit_visitor_id</th>\n",
       "      <th>start_time</th>\n",
       "      <th>step_1</th>\n",
       "      <th>step_2</th>\n",
       "      <th>step_3</th>\n",
       "      <th>date</th>\n",
       "      <th>start_step</th>\n",
       "      <th>1st_step</th>\n",
       "      <th>2nd_step</th>\n",
       "      <th>3rd_step</th>\n",
       "      <th>navigations_bt_start_last</th>\n",
       "      <th>last_step</th>\n",
       "      <th>completion</th>\n",
       "      <th>total_time_visit</th>\n",
       "      <th>Variation</th>\n",
       "      <th>clnt_tenure_yr</th>\n",
       "      <th>clnt_tenure_mnth</th>\n",
       "      <th>clnt_age</th>\n",
       "      <th>gendr</th>\n",
       "      <th>num_accts</th>\n",
       "      <th>bal</th>\n",
       "      <th>calls_6_mnth</th>\n",
       "      <th>logons_6_mnth</th>\n",
       "    </tr>\n",
       "  </thead>\n",
       "  <tbody>\n",
       "    <tr>\n",
       "      <th>0</th>\n",
       "      <td>555</td>\n",
       "      <td>637149525_38041617439_716659_402506806_5608737...</td>\n",
       "      <td>0.116667</td>\n",
       "      <td>0.533333</td>\n",
       "      <td>1.65</td>\n",
       "      <td>0.333333</td>\n",
       "      <td>2017-04-15</td>\n",
       "      <td>1</td>\n",
       "      <td>1</td>\n",
       "      <td>1</td>\n",
       "      <td>1</td>\n",
       "      <td>3</td>\n",
       "      <td>confirm</td>\n",
       "      <td>1</td>\n",
       "      <td>2.633333</td>\n",
       "      <td>Test</td>\n",
       "      <td>3.0</td>\n",
       "      <td>46.0</td>\n",
       "      <td>29.5</td>\n",
       "      <td>U</td>\n",
       "      <td>2.0</td>\n",
       "      <td>25454.66</td>\n",
       "      <td>2.0</td>\n",
       "      <td>6.0</td>\n",
       "    </tr>\n",
       "    <tr>\n",
       "      <th>1</th>\n",
       "      <td>647</td>\n",
       "      <td>40369564_40101682850_311847_66758770_53988066587</td>\n",
       "      <td>0.116667</td>\n",
       "      <td>0.300000</td>\n",
       "      <td>3.15</td>\n",
       "      <td>2.716667</td>\n",
       "      <td>2017-04-12</td>\n",
       "      <td>1</td>\n",
       "      <td>1</td>\n",
       "      <td>1</td>\n",
       "      <td>1</td>\n",
       "      <td>3</td>\n",
       "      <td>confirm</td>\n",
       "      <td>1</td>\n",
       "      <td>6.283333</td>\n",
       "      <td>Test</td>\n",
       "      <td>12.0</td>\n",
       "      <td>151.0</td>\n",
       "      <td>57.5</td>\n",
       "      <td>M</td>\n",
       "      <td>2.0</td>\n",
       "      <td>30525.80</td>\n",
       "      <td>0.0</td>\n",
       "      <td>4.0</td>\n",
       "    </tr>\n",
       "    <tr>\n",
       "      <th>2</th>\n",
       "      <td>934</td>\n",
       "      <td>7076463_57954418406_971348_810392784_45004760546</td>\n",
       "      <td>2.366667</td>\n",
       "      <td>0.000000</td>\n",
       "      <td>0.00</td>\n",
       "      <td>0.000000</td>\n",
       "      <td>2017-04-18</td>\n",
       "      <td>4</td>\n",
       "      <td>0</td>\n",
       "      <td>0</td>\n",
       "      <td>0</td>\n",
       "      <td>0</td>\n",
       "      <td>start</td>\n",
       "      <td>0</td>\n",
       "      <td>2.366667</td>\n",
       "      <td>Test</td>\n",
       "      <td>9.0</td>\n",
       "      <td>109.0</td>\n",
       "      <td>51.0</td>\n",
       "      <td>F</td>\n",
       "      <td>2.0</td>\n",
       "      <td>32522.88</td>\n",
       "      <td>0.0</td>\n",
       "      <td>3.0</td>\n",
       "    </tr>\n",
       "    <tr>\n",
       "      <th>3</th>\n",
       "      <td>1336</td>\n",
       "      <td>583743392_96265099036_939815_920624746_3260333...</td>\n",
       "      <td>0.416667</td>\n",
       "      <td>0.433333</td>\n",
       "      <td>0.85</td>\n",
       "      <td>1.816667</td>\n",
       "      <td>2017-05-08</td>\n",
       "      <td>1</td>\n",
       "      <td>1</td>\n",
       "      <td>1</td>\n",
       "      <td>1</td>\n",
       "      <td>3</td>\n",
       "      <td>confirm</td>\n",
       "      <td>1</td>\n",
       "      <td>3.516667</td>\n",
       "      <td>Test</td>\n",
       "      <td>48.0</td>\n",
       "      <td>576.0</td>\n",
       "      <td>42.0</td>\n",
       "      <td>M</td>\n",
       "      <td>4.0</td>\n",
       "      <td>130537.18</td>\n",
       "      <td>6.0</td>\n",
       "      <td>9.0</td>\n",
       "    </tr>\n",
       "    <tr>\n",
       "      <th>4</th>\n",
       "      <td>1336</td>\n",
       "      <td>614001770_19101025926_112779_920624746_3260333...</td>\n",
       "      <td>0.000000</td>\n",
       "      <td>0.000000</td>\n",
       "      <td>0.00</td>\n",
       "      <td>0.000000</td>\n",
       "      <td>2017-05-08</td>\n",
       "      <td>0</td>\n",
       "      <td>0</td>\n",
       "      <td>0</td>\n",
       "      <td>0</td>\n",
       "      <td>0</td>\n",
       "      <td>confirm</td>\n",
       "      <td>1</td>\n",
       "      <td>1.366667</td>\n",
       "      <td>Test</td>\n",
       "      <td>48.0</td>\n",
       "      <td>576.0</td>\n",
       "      <td>42.0</td>\n",
       "      <td>M</td>\n",
       "      <td>4.0</td>\n",
       "      <td>130537.18</td>\n",
       "      <td>6.0</td>\n",
       "      <td>9.0</td>\n",
       "    </tr>\n",
       "  </tbody>\n",
       "</table>\n",
       "</div>"
      ],
      "text/plain": [
       "   client_id                                   visit_visitor_id  start_time  \\\n",
       "0        555  637149525_38041617439_716659_402506806_5608737...    0.116667   \n",
       "1        647   40369564_40101682850_311847_66758770_53988066587    0.116667   \n",
       "2        934   7076463_57954418406_971348_810392784_45004760546    2.366667   \n",
       "3       1336  583743392_96265099036_939815_920624746_3260333...    0.416667   \n",
       "4       1336  614001770_19101025926_112779_920624746_3260333...    0.000000   \n",
       "\n",
       "     step_1  step_2    step_3        date  start_step  1st_step  2nd_step  \\\n",
       "0  0.533333    1.65  0.333333  2017-04-15           1         1         1   \n",
       "1  0.300000    3.15  2.716667  2017-04-12           1         1         1   \n",
       "2  0.000000    0.00  0.000000  2017-04-18           4         0         0   \n",
       "3  0.433333    0.85  1.816667  2017-05-08           1         1         1   \n",
       "4  0.000000    0.00  0.000000  2017-05-08           0         0         0   \n",
       "\n",
       "   3rd_step  navigations_bt_start_last last_step  completion  \\\n",
       "0         1                          3   confirm           1   \n",
       "1         1                          3   confirm           1   \n",
       "2         0                          0     start           0   \n",
       "3         1                          3   confirm           1   \n",
       "4         0                          0   confirm           1   \n",
       "\n",
       "   total_time_visit Variation  clnt_tenure_yr  clnt_tenure_mnth  clnt_age  \\\n",
       "0          2.633333      Test             3.0              46.0      29.5   \n",
       "1          6.283333      Test            12.0             151.0      57.5   \n",
       "2          2.366667      Test             9.0             109.0      51.0   \n",
       "3          3.516667      Test            48.0             576.0      42.0   \n",
       "4          1.366667      Test            48.0             576.0      42.0   \n",
       "\n",
       "  gendr  num_accts        bal  calls_6_mnth  logons_6_mnth  \n",
       "0     U        2.0   25454.66           2.0            6.0  \n",
       "1     M        2.0   30525.80           0.0            4.0  \n",
       "2     F        2.0   32522.88           0.0            3.0  \n",
       "3     M        4.0  130537.18           6.0            9.0  \n",
       "4     M        4.0  130537.18           6.0            9.0  "
      ]
     },
     "execution_count": 31,
     "metadata": {},
     "output_type": "execute_result"
    }
   ],
   "source": [
    "df_final = pd.concat([df_test_final, df_control_final]).reset_index(drop=True)\n",
    "df_final.head(5)"
   ]
  },
  {
   "cell_type": "code",
   "execution_count": 124,
   "metadata": {},
   "outputs": [],
   "source": [
    "df_final.to_csv('../Data/Tableau/df_final.csv', index=False)"
   ]
  },
  {
   "cell_type": "markdown",
   "metadata": {},
   "source": [
    "## Correlation between numerical variables"
   ]
  },
  {
   "cell_type": "code",
   "execution_count": 32,
   "metadata": {},
   "outputs": [
    {
     "data": {
      "image/png": "[encoded data removed]",
      "text/plain": [
       "<Figure size 2000x1800 with 2 Axes>"
      ]
     },
     "metadata": {},
     "output_type": "display_data"
    }
   ],
   "source": [
    "correlation_matrix = df_test_final.select_dtypes(include=[np.number]).corr()\n",
    "plt.figure(figsize=(20, 18))  # Adjust the figure size as needed\n",
    "sns.heatmap(correlation_matrix, annot=True, cmap='coolwarm', center=0, annot_kws={\"size\": 10})  # Adjust font size\n",
    "plt.title('Correlation Matrix', fontsize=20)  # Adjust title font size\n",
    "plt.xticks(rotation=45, ha='right', fontsize=12)  # Adjust x-axis tick labels\n",
    "plt.yticks(rotation=0, fontsize=12)  # Adjust y-axis tick labels\n",
    "plt.show()"
   ]
  },
  {
   "cell_type": "markdown",
   "metadata": {},
   "source": [
    "#### Listing of variables corelated with completion variable with their corelation coefficient and p-values"
   ]
  },
  {
   "cell_type": "code",
   "execution_count": 33,
   "metadata": {},
   "outputs": [
    {
     "data": {
      "text/html": [
       "<div>\n",
       "<style scoped>\n",
       "    .dataframe tbody tr th:only-of-type {\n",
       "        vertical-align: middle;\n",
       "    }\n",
       "\n",
       "    .dataframe tbody tr th {\n",
       "        vertical-align: top;\n",
       "    }\n",
       "\n",
       "    .dataframe thead th {\n",
       "        text-align: right;\n",
       "    }\n",
       "</style>\n",
       "<table border=\"1\" class=\"dataframe\">\n",
       "  <thead>\n",
       "    <tr style=\"text-align: right;\">\n",
       "      <th></th>\n",
       "      <th>Variable</th>\n",
       "      <th>Correlation Coefficient</th>\n",
       "      <th>P-value</th>\n",
       "    </tr>\n",
       "  </thead>\n",
       "  <tbody>\n",
       "    <tr>\n",
       "      <th>0</th>\n",
       "      <td>navigations_bt_start_last</td>\n",
       "      <td>0.339217</td>\n",
       "      <td>0.000000e+00</td>\n",
       "    </tr>\n",
       "    <tr>\n",
       "      <th>1</th>\n",
       "      <td>start_step</td>\n",
       "      <td>-0.259070</td>\n",
       "      <td>0.000000e+00</td>\n",
       "    </tr>\n",
       "    <tr>\n",
       "      <th>2</th>\n",
       "      <td>total_time_visit</td>\n",
       "      <td>0.125255</td>\n",
       "      <td>2.611848e-240</td>\n",
       "    </tr>\n",
       "    <tr>\n",
       "      <th>3</th>\n",
       "      <td>clnt_tenure_yr</td>\n",
       "      <td>-0.014905</td>\n",
       "      <td>8.706766e-05</td>\n",
       "    </tr>\n",
       "    <tr>\n",
       "      <th>4</th>\n",
       "      <td>clnt_age</td>\n",
       "      <td>-0.093312</td>\n",
       "      <td>8.106774e-134</td>\n",
       "    </tr>\n",
       "    <tr>\n",
       "      <th>5</th>\n",
       "      <td>num_accts</td>\n",
       "      <td>0.031850</td>\n",
       "      <td>4.997839e-17</td>\n",
       "    </tr>\n",
       "    <tr>\n",
       "      <th>6</th>\n",
       "      <td>calls_6_mnth</td>\n",
       "      <td>-0.029255</td>\n",
       "      <td>1.328559e-14</td>\n",
       "    </tr>\n",
       "    <tr>\n",
       "      <th>7</th>\n",
       "      <td>logons_6_mnth</td>\n",
       "      <td>-0.030828</td>\n",
       "      <td>4.761019e-16</td>\n",
       "    </tr>\n",
       "  </tbody>\n",
       "</table>\n",
       "</div>"
      ],
      "text/plain": [
       "                    Variable  Correlation Coefficient        P-value\n",
       "0  navigations_bt_start_last                 0.339217   0.000000e+00\n",
       "1                 start_step                -0.259070   0.000000e+00\n",
       "2           total_time_visit                 0.125255  2.611848e-240\n",
       "3             clnt_tenure_yr                -0.014905   8.706766e-05\n",
       "4                   clnt_age                -0.093312  8.106774e-134\n",
       "5                  num_accts                 0.031850   4.997839e-17\n",
       "6               calls_6_mnth                -0.029255   1.328559e-14\n",
       "7              logons_6_mnth                -0.030828   4.761019e-16"
      ]
     },
     "execution_count": 33,
     "metadata": {},
     "output_type": "execute_result"
    }
   ],
   "source": [
    "import pandas as pd\n",
    "    \n",
    "# function for calculating pearson correlation coefficient and p-value between 'completion' and other  'numerical variables'\n",
    "\n",
    "def calculate_correlation(df, var1, var2):\n",
    "    correlation_coef, p_value = pearsonr(df[var1], df[var2])\n",
    "    return correlation_coef, p_value\n",
    "\n",
    "# Calculate correlation coefficient and p-value for 'total_navigations' and 'completion'\n",
    "correlation_coef_tn, p_value_tn = calculate_correlation(df_final, 'navigations_bt_start_last', 'completion')\n",
    "\n",
    "# Calculate correlation coefficient and p-value for 'start_step' and 'completion'\n",
    "correlation_coef_ss, p_value_ss = calculate_correlation(df_final, 'start_step', 'completion')\n",
    "\n",
    "# Calculate correlation coefficient and p-value for 'total_time_visit' and 'completion'\n",
    "correlation_coef_ttv, p_value_ttv = calculate_correlation(df_final, 'total_time_visit', 'completion')\n",
    "\n",
    "# Calculate correlation coefficient and p-value for 'clnt_tenure_yr' and 'completion'\n",
    "correlation_coef_cty, p_value_cty = calculate_correlation(df_final, 'clnt_tenure_yr', 'completion')\n",
    "\n",
    "# Calculate correlation coefficient and p-value for 'clnt_age' and 'completion'\n",
    "correlation_coef_ca, p_value_ca = calculate_correlation(df_final, 'clnt_age', 'completion')\n",
    "\n",
    "# Calculate correlation coefficient and p-value for 'num_accts' and 'completion'\n",
    "correlation_coef_na, p_value_na = calculate_correlation(df_final, 'num_accts', 'completion')\n",
    "\n",
    "# Calculate correlation coefficient and p-value for 'calls_6_mnth' and 'completion'\n",
    "correlation_coef_c6m, p_value_c6m = calculate_correlation(df_final, 'calls_6_mnth', 'completion')\n",
    "\n",
    "# Calculate correlation coefficient and p-value for 'logons_6_mnth' and 'completion'\n",
    "correlation_coef_l6m, p_value_l6m = calculate_correlation(df_final, 'logons_6_mnth', 'completion')\n",
    "\n",
    "# Create a dictionary with the correlation coefficient and p-value for each variable\n",
    "correlation_data = {\n",
    "    'Variable': ['navigations_bt_start_last', 'start_step', 'total_time_visit', 'clnt_tenure_yr', 'clnt_age', 'num_accts', 'calls_6_mnth', 'logons_6_mnth'],\n",
    "    'Correlation Coefficient': [correlation_coef_tn, correlation_coef_ss, correlation_coef_ttv, correlation_coef_cty, correlation_coef_ca, correlation_coef_na, correlation_coef_c6m, correlation_coef_l6m],\n",
    "    'P-value': [p_value_tn, p_value_ss, p_value_ttv, p_value_cty, p_value_ca, p_value_na, p_value_c6m, p_value_l6m]\n",
    "}\n",
    "\n",
    "# Create a DataFrame from the correlation data\n",
    "correlation_table = pd.DataFrame(correlation_data)\n",
    "\n",
    "# Print the correlation table\n",
    "correlation_table"
   ]
  },
  {
   "cell_type": "code",
   "execution_count": 34,
   "metadata": {},
   "outputs": [
    {
     "data": {
      "text/plain": [
       "Index(['client_id', 'visit_visitor_id', 'start_time', 'step_1', 'step_2',\n",
       "       'step_3', 'date', 'start_step', '1st_step', '2nd_step', '3rd_step',\n",
       "       'navigations_bt_start_last', 'last_step', 'completion',\n",
       "       'total_time_visit', 'Variation', 'clnt_tenure_yr', 'clnt_tenure_mnth',\n",
       "       'clnt_age', 'gendr', 'num_accts', 'bal', 'calls_6_mnth',\n",
       "       'logons_6_mnth'],\n",
       "      dtype='object')"
      ]
     },
     "execution_count": 34,
     "metadata": {},
     "output_type": "execute_result"
    }
   ],
   "source": [
    "df_final.columns"
   ]
  },
  {
   "cell_type": "markdown",
   "metadata": {},
   "source": [
    "## Bivariate analysis"
   ]
  },
  {
   "cell_type": "code",
   "execution_count": null,
   "metadata": {},
   "outputs": [],
   "source": [
    "# Scatter Plot (for continuous variables)\n",
    "sns.scatterplot(x='variable1', y='variable2', data=df)\n",
    "plt.title('Scatter Plot')\n",
    "plt.show()"
   ]
  },
  {
   "cell_type": "code",
   "execution_count": null,
   "metadata": {},
   "outputs": [],
   "source": [
    "# Box Plot (for categorical vs continuous)\n",
    "sns.boxplot(x='categorical_variable', y='continuous_variable', data=df)\n",
    "plt.title('Box Plot')\n",
    "plt.show()"
   ]
  },
  {
   "cell_type": "code",
   "execution_count": null,
   "metadata": {},
   "outputs": [],
   "source": [
    "# Bar Plot (for categorical variables)\n",
    "sns.countplot(x='categorical_variable1', hue='categorical_variable2', data=df)\n",
    "plt.title('Bar Plot')\n",
    "plt.show()"
   ]
  },
  {
   "cell_type": "markdown",
   "metadata": {},
   "source": [
    "## Statistical Tests"
   ]
  },
  {
   "cell_type": "markdown",
   "metadata": {},
   "source": [
    "### Perform statistical tests to quantify the relationship between variables"
   ]
  },
  {
   "cell_type": "code",
   "execution_count": null,
   "metadata": {},
   "outputs": [],
   "source": [
    "# Pearson Correlation (for continuous variables)\n",
    "corr, p_value = pearsonr(df['variable1'], df['variable2'])\n",
    "print(f\"Pearson Correlation: {corr}, P-value: {p_value}\")"
   ]
  },
  {
   "cell_type": "code",
   "execution_count": null,
   "metadata": {},
   "outputs": [],
   "source": [
    " # Chi-Square Test (for categorical variables)\n",
    "contingency_table = pd.crosstab(df['categorical_variable1'], df['categorical_variable2'])\n",
    "chi2, p, dof, expected = chi2_contingency(contingency_table)\n",
    "print(f\"Chi-Square Test: Chi2={chi2}, P-value={p}\")"
   ]
  },
  {
   "cell_type": "markdown",
   "metadata": {},
   "source": [
    "## Hypothesis testing"
   ]
  },
  {
   "cell_type": "markdown",
   "metadata": {},
   "source": [
    "Test for Difference in Average Age\n",
    "Hypothesis:\n",
    "Null Hypothesis : The average age of clients engaging with the new process (Test) is the same as the average age of clients engaging with the old process (Control).\n",
    "Alternative Hypothesis : The average age of clients engaging with the new process (Test) is different from the average age of clients engaging with the old process (Control)."
   ]
  },
  {
   "cell_type": "code",
   "execution_count": null,
   "metadata": {},
   "outputs": [],
   "source": [
    "from scipy.stats import ttest_ind\n",
    "\n",
    "# Extract ages for each group\n",
    "test_age = df_final[df_final['Variation'] == 'Test']['clnt_age']\n",
    "control_age = df_final[df_final['Variation'] == 'Control']['clnt_age']\n",
    "\n",
    "# Perform t-test\n",
    "t_stat_age, p_value_age = ttest_ind(test_age, control_age)\n",
    "print(f'Age t-statistic: {t_stat_age}, p-value: {p_value_age}')"
   ]
  },
  {
   "cell_type": "markdown",
   "metadata": {},
   "source": [
    "The average age of clients in the Test group is not significantly different from the average age of clients in the Control group."
   ]
  },
  {
   "cell_type": "markdown",
   "metadata": {},
   "source": [
    "2. Test for Difference in Average Client Tenure\n",
    "Hypothesis:\n",
    "Null Hypothesis: The average client tenure of those engaging with the new process (Test) is the same as those engaging with the old process (Control).\n",
    "Alternative Hypothesis: The average client tenure of those engaging with the new process (Test) is different from those engaging with the old process (Control)."
   ]
  },
  {
   "cell_type": "code",
   "execution_count": null,
   "metadata": {},
   "outputs": [],
   "source": [
    "# Extract tenures for each group\n",
    "test_tenure = df_final[df_final['Variation'] == 'Test']['clnt_tenure_yr']\n",
    "control_tenure = df_final[df_final['Variation'] == 'Control']['clnt_tenure_yr']\n",
    "\n",
    "# Perform t-test\n",
    "t_stat_tenure, p_value_tenure = ttest_ind(test_tenure, control_tenure)\n",
    "print(f'Tenure t-statistic: {t_stat_tenure}, p-value: {p_value_tenure}')"
   ]
  },
  {
   "cell_type": "markdown",
   "metadata": {},
   "source": [
    "The average tenure of clients in the Test group is not significantly different from the average tenure of clients in the Control group."
   ]
  },
  {
   "cell_type": "markdown",
   "metadata": {},
   "source": [
    "3. Test for Gender Differences in Engagement\n",
    "Hypothesis:\n",
    "\n",
    "Null Hypothesis: Gender does not affect the likelihood of engaging with the new process (Test) or the old process (Control).\n",
    "Alternative Hypothesis: Gender affects the likelihood of engaging with the new process (Test) or the old process (Control)."
   ]
  },
  {
   "cell_type": "code",
   "execution_count": null,
   "metadata": {},
   "outputs": [],
   "source": [
    "from scipy.stats import chi2_contingency\n",
    "\n",
    "# Create a contingency table\n",
    "contingency_table_gender_process = pd.crosstab(df_final['gendr'], df_final['Variation'])\n",
    "\n",
    "# Perform Chi-Square test\n",
    "chi2_stat_gender, p_value_gender, dof, ex = chi2_contingency(contingency_table_gender_process)\n",
    "print(contingency_table_gender_process), print(f'Chi-square statistic for gender and process: {chi2_stat_gender}, p-value: {p_value_gender}')"
   ]
  },
  {
   "cell_type": "markdown",
   "metadata": {},
   "source": [
    "Gender does not appear to have a significant effect on whether clients engage with the new process (Test) or the old process (Control)."
   ]
  },
  {
   "cell_type": "markdown",
   "metadata": {},
   "source": [
    "Test for completion rate"
   ]
  },
  {
   "cell_type": "code",
   "execution_count": 57,
   "metadata": {},
   "outputs": [
    {
     "name": "stdout",
     "output_type": "stream",
     "text": [
      "Chi-square statistic for completion rates: 703.7294519176166, p-value: 4.620759680288328e-155\n"
     ]
    }
   ],
   "source": [
    "completion_table = pd.crosstab(df_final['Variation'], df_final['completion'])\n",
    "\n",
    "# Perform Chi-Square test\n",
    "chi2_stat_completion, p_value_completion, dof, ex = chi2_contingency(completion_table)\n",
    "print(f'Chi-square statistic for completion rates: {chi2_stat_completion}, p-value: {p_value_completion}')"
   ]
  },
  {
   "cell_type": "markdown",
   "metadata": {},
   "source": [
    "The completion rates for clients engaging with the new process (Test) are statistically significantly different from those engaging with the old process (Control)."
   ]
  },
  {
   "cell_type": "code",
   "execution_count": 56,
   "metadata": {},
   "outputs": [
    {
     "name": "stdout",
     "output_type": "stream",
     "text": [
      "Variation\n",
      "Control    0.476554\n",
      "Test       0.577420\n",
      "Name: completion, dtype: float64\n"
     ]
    }
   ],
   "source": [
    "completion_rates = df_final.groupby('Variation')['completion'].mean()\n",
    "print(completion_rates)"
   ]
  },
  {
   "cell_type": "markdown",
   "metadata": {},
   "source": [
    "### Testing the Hypothesis ensuring that the observed increase in completion rate from the A/B test meets or exceeds this 5% threshold."
   ]
  },
  {
   "cell_type": "code",
   "execution_count": 38,
   "metadata": {},
   "outputs": [],
   "source": [
    "# Calculate Completion Rates\n",
    "completion_rates = df_final.groupby('Variation')['completion'].mean()\n",
    "completion_rate_test = completion_rates.get('Test', 0)\n",
    "completion_rate_control = completion_rates.get('Control', 0)"
   ]
  },
  {
   "cell_type": "code",
   "execution_count": 39,
   "metadata": {},
   "outputs": [
    {
     "name": "stdout",
     "output_type": "stream",
     "text": [
      "Completion rate for Test group: 0.5774203976078875\n",
      "Completion rate for Control group: 0.47655448867344086\n",
      "Percentage increase in completion rate: 21.165661289902378%\n"
     ]
    }
   ],
   "source": [
    "# Calculate the percentage increase\n",
    "if completion_rate_control != 0:\n",
    "    percentage_increase = ((completion_rate_test - completion_rate_control) / completion_rate_control) * 100\n",
    "else:\n",
    "    percentage_increase = float('inf')  # Handle division by zero case\n",
    "\n",
    "print(f'Completion rate for Test group: {completion_rate_test}')\n",
    "print(f'Completion rate for Control group: {completion_rate_control}')\n",
    "print(f'Percentage increase in completion rate: {percentage_increase}%')"
   ]
  },
  {
   "cell_type": "markdown",
   "metadata": {},
   "source": [
    "Set up the Hypotheses:\n",
    "\n",
    "Null Hypothesis (H0): The increase in completion rate is less than 5%.\n",
    "Alternative Hypothesis (H1): The increase in completion rate is at least 5%.\n"
   ]
  },
  {
   "cell_type": "code",
   "execution_count": 40,
   "metadata": {},
   "outputs": [
    {
     "name": "stdout",
     "output_type": "stream",
     "text": [
      "Two-proportion z-test statistic: 26.5355303785506\n",
      "p-value: 3.772779681523872e-155\n"
     ]
    }
   ],
   "source": [
    "# Perform the Two-Proportion Z-Test:\n",
    "from statsmodels.stats.proportion import proportions_ztest\n",
    "\n",
    "# Define number of successes (completed visits) and number of trials (total visits) for both groups\n",
    "num_success_test = df_final[df_final['Variation'] == 'Test']['completion'].sum()\n",
    "num_trials_test = len(df_final[df_final['Variation'] == 'Test'])\n",
    "num_success_control = df_final[df_final['Variation'] == 'Control']['completion'].sum()\n",
    "num_trials_control = len(df_final[df_final['Variation'] == 'Control'])\n",
    "\n",
    "# Perform the two-proportion z-test\n",
    "successes = [num_success_test, num_success_control]\n",
    "trials = [num_trials_test, num_trials_control]\n",
    "z_stat, p_value = proportions_ztest(successes, trials)\n",
    "\n",
    "print(f'Two-proportion z-test statistic: {z_stat}')\n",
    "print(f'p-value: {p_value}')"
   ]
  },
  {
   "cell_type": "code",
   "execution_count": 41,
   "metadata": {},
   "outputs": [
    {
     "name": "stdout",
     "output_type": "stream",
     "text": [
      "The observed increase in completion rate meets or exceeds the 5% threshold.\n",
      "The increase in completion rate is statistically significant.\n"
     ]
    }
   ],
   "source": [
    "# Define the threshold for percentage increase\n",
    "threshold = 5.0\n",
    "\n",
    "# Check if the observed percentage increase meets or exceeds the threshold\n",
    "if percentage_increase >= threshold:\n",
    "    print('The observed increase in completion rate meets or exceeds the 5% threshold.')\n",
    "else:\n",
    "    print('The observed increase in completion rate does not meet the 5% threshold.')\n",
    "\n",
    "# Interpret the p-value\n",
    "if p_value < 0.05:\n",
    "    print('The increase in completion rate is statistically significant.')\n",
    "else:\n",
    "    print('The increase in completion rate is not statistically significant.')"
   ]
  },
  {
   "cell_type": "markdown",
   "metadata": {},
   "source": [
    "#### Hypothesis on Number of Accounts"
   ]
  },
  {
   "cell_type": "code",
   "execution_count": 42,
   "metadata": {},
   "outputs": [
    {
     "name": "stdout",
     "output_type": "stream",
     "text": [
      "Total time visit t-statistic: 8.195678831373497, p-value: 2.5339089883802613e-16\n"
     ]
    }
   ],
   "source": [
    "# Extract total time visit for each group\n",
    "test_time = df_final[df_final['Variation'] == 'Test']['total_time_visit']\n",
    "control_time = df_final[df_final['Variation'] == 'Control']['total_time_visit']\n",
    "\n",
    "# Perform t-test\n",
    "t_stat_time, p_value_time = ttest_ind(test_time, control_time)\n",
    "print(f'Total time visit t-statistic: {t_stat_time}, p-value: {p_value_time}')"
   ]
  },
  {
   "cell_type": "markdown",
   "metadata": {},
   "source": [
    "Reject the null hypothesis. This suggests that there is a statistically significant difference in the total time spent on the site between clients in the Test group (new process) and clients in the Control group (old process)."
   ]
  },
  {
   "cell_type": "markdown",
   "metadata": {},
   "source": [
    "#### Hypothesis on Number of Accounts"
   ]
  },
  {
   "cell_type": "markdown",
   "metadata": {},
   "source": [
    "\n",
    "Hypothesis: The average number of accounts is the same for clients engaging with the new process (Test) and those engaging with the old process (Control).\n",
    "Alternative Hypothesis: The average number of accounts is different for clients engaging with the new process and those engaging with the old process.\n",
    "Test: t-Test for independent samples.\n",
    "\n"
   ]
  },
  {
   "cell_type": "code",
   "execution_count": 43,
   "metadata": {},
   "outputs": [
    {
     "name": "stdout",
     "output_type": "stream",
     "text": [
      "Number of accounts t-statistic: -2.3994440909144426, p-value: 0.01642261042081469\n"
     ]
    }
   ],
   "source": [
    "\n",
    "# Extract number of accounts for each group\n",
    "test_accounts = df_final[df_final['Variation'] == 'Test']['num_accts']\n",
    "control_accounts = df_final[df_final['Variation'] == 'Control']['num_accts']\n",
    "# Perform t-test\n",
    "t_stat_accounts, p_value_accounts = ttest_ind(test_accounts, control_accounts)\n",
    "print(f'Number of accounts t-statistic: {t_stat_accounts}, p-value: {p_value_accounts}')"
   ]
  },
  {
   "cell_type": "markdown",
   "metadata": {},
   "source": [
    "Reject the null hypothesis. This indicates that there is a statistically significant difference in the number of accounts between the Test group and the Control group."
   ]
  },
  {
   "cell_type": "code",
   "execution_count": 44,
   "metadata": {},
   "outputs": [
    {
     "name": "stdout",
     "output_type": "stream",
     "text": [
      "Balance t-statistic: 2.405946773199229, p-value: 0.016133216335126644\n"
     ]
    }
   ],
   "source": [
    "test_balances = df_final[df_final['Variation'] == 'Test']['bal']\n",
    "control_balances = df_final[df_final['Variation'] == 'Control']['bal']\n",
    "\n",
    "# Perform t-test\n",
    "t_stat_balances, p_value_balances = ttest_ind(test_balances, control_balances)\n",
    "print(f'Balance t-statistic: {t_stat_balances}, p-value: {p_value_balances}')"
   ]
  },
  {
   "cell_type": "markdown",
   "metadata": {},
   "source": [
    " Reject the null hypothesis. This implies that there is a statistically significant difference in the average balance between the Test group (new process) and the Control group (old process)."
   ]
  },
  {
   "cell_type": "code",
   "execution_count": 45,
   "metadata": {},
   "outputs": [
    {
     "name": "stdout",
     "output_type": "stream",
     "text": [
      "Average balance for Test group: 170277.44707962932\n",
      "Average balance for Control group: 163254.5573925608\n"
     ]
    }
   ],
   "source": [
    "average_balance_test = df_final[df_final['Variation'] == 'Test']['bal'].mean()\n",
    "average_balance_control = df_final[df_final['Variation'] == 'Control']['bal'].mean()\n",
    "\n",
    "print(f'Average balance for Test group: {average_balance_test}')\n",
    "print(f'Average balance for Control group: {average_balance_control}')"
   ]
  },
  {
   "cell_type": "code",
   "execution_count": 46,
   "metadata": {},
   "outputs": [
    {
     "name": "stdout",
     "output_type": "stream",
     "text": [
      "Calls in last 6 months t-statistic: -3.2973508095615527, p-value: 0.000976505992265956\n"
     ]
    }
   ],
   "source": [
    "# Extract recent call activity for each group\n",
    "test_calls = df_final[df_final['Variation'] == 'Test']['calls_6_mnth']\n",
    "control_calls = df_final[df_final['Variation'] == 'Control']['calls_6_mnth']\n",
    "\n",
    "# Perform t-test\n",
    "t_stat_calls, p_value_calls = ttest_ind(test_calls, control_calls)\n",
    "print(f'Calls in last 6 months t-statistic: {t_stat_calls}, p-value: {p_value_calls}')"
   ]
  },
  {
   "cell_type": "markdown",
   "metadata": {},
   "source": [
    "Reject the null hypothesis. This means that there is a statistically significant difference in the number of calls in the last 6 months between the Test group (new process) and the Control group (old process)."
   ]
  },
  {
   "cell_type": "code",
   "execution_count": 47,
   "metadata": {},
   "outputs": [],
   "source": [
    "test_navigations = df_final[df_final['Variation'] == 'Test']['navigations_bt_start_last']\n",
    "control_navigations = df_final[df_final['Variation'] == 'Control']['navigations_bt_start_last']"
   ]
  },
  {
   "cell_type": "code",
   "execution_count": 48,
   "metadata": {},
   "outputs": [
    {
     "name": "stdout",
     "output_type": "stream",
     "text": [
      "Navigations between start and last t-statistic: 8.595203800696698, p-value: 8.481357697023248e-18\n"
     ]
    }
   ],
   "source": [
    "t_stat_navigations, p_value_navigations = ttest_ind(test_navigations, control_navigations)\n",
    "print(f'Navigations between start and last t-statistic: {t_stat_navigations}, p-value: {p_value_navigations}')"
   ]
  },
  {
   "cell_type": "markdown",
   "metadata": {},
   "source": [
    "reject the null hypothesis. This means that there is a statistically significant difference in the number of navigations between the Test and Control groups.\n",
    "\n",
    "Contextualize Findings:\n",
    "If the Test group has more navigations: This might indicate increased user activity or engagement with the new process.\n",
    "If the Test group has fewer navigations: This could suggest that the new process is more efficient or requires fewer steps.\n",
    "Needs further investigations"
   ]
  },
  {
   "cell_type": "markdown",
   "metadata": {},
   "source": [
    "### Hypothesis Testing for error rates"
   ]
  },
  {
   "cell_type": "markdown",
   "metadata": {},
   "source": [
    "Hypothesis:\n",
    "\n",
    "Null Hypothesis (H0): There is no significant difference in the error rates between the Test and Control groups.\n",
    "Alternative Hypothesis (H1): There is a significant difference in the error rates between the Test and Control groups."
   ]
  },
  {
   "cell_type": "code",
   "execution_count": null,
   "metadata": {},
   "outputs": [],
   "source": [
    "def calculate_error_rates(df):\n",
    "    # Sort the dataframe by 'visit_id' and 'date_time'\n",
    "    df = df.sort_values(by=['visit_id', 'date_time'])\n",
    "    \n",
    "    # Calculate the time difference between steps\n",
    "    df['time_diff'] = df.groupby('visit_id')['date_time'].diff().dt.total_seconds()\n",
    "    \n",
    "    \n",
    "    # Convert 'process_step' to a category type and then to codes for numerical comparison\n",
    "    df['process_step_code'] = df['process_step'].astype('category').cat.codes\n",
    "    \n",
    "    # Identify errors (going back to the previous step in less than 5 seconds)\n",
    "    df['error'] = (df['time_diff'] < 5) & (df['process_step_code'].diff() < 0)\n",
    "    \n",
    "    # Calculate the daily error rate\n",
    "    error_rate = df.groupby(df['date_time'].dt.date)['error'].mean()\n",
    "    \n",
    "    return error_rate"
   ]
  },
  {
   "cell_type": "code",
   "execution_count": 49,
   "metadata": {},
   "outputs": [
    {
     "name": "stdout",
     "output_type": "stream",
     "text": [
      "Error rate for Test group: 1.7322611928236624\n",
      "Error rate for Control group: 1.560050961747615\n"
     ]
    }
   ],
   "source": [
    "df_combined['date_time'] = pd.to_datetime(df_combined['date_time'])\n",
    "\n",
    "# Sort by client_id, visit_id, and date_time\n",
    "df_combined = df_combined.sort_values(by=['client_id', 'visit_id', 'date_time'])\n",
    "\n",
    "# Calculate the time difference to the previous step\n",
    "df_combined['time_to_previous_step'] = df_combined.groupby(['client_id', 'visit_id'])['date_time'].diff().dt.total_seconds()\n",
    "\n",
    "# Identify errors: going back to a previous step in less than 5 seconds\n",
    "df_combined['is_error'] = df_combined['time_to_previous_step'] < 30\n",
    "\n",
    "# Calculate errors for Test and Control groups\n",
    "errors_test = df_combined[(df_combined['Variation'] == 'Test') & (df_combined['is_error'])].shape[0]\n",
    "errors_control = df_combined[(df_combined['Variation'] == 'Control') & (df_combined['is_error'])].shape[0]\n",
    "\n",
    "# Calculate total users for each group\n",
    "total_users_test = df_combined[df_combined['Variation'] == 'Test']['visit_id'].nunique()\n",
    "total_users_control = df_combined[df_combined['Variation'] == 'Control']['visit_id'].nunique()\n",
    "\n",
    "# Compute error rates\n",
    "error_rate_test = errors_test / total_users_test\n",
    "error_rate_control = errors_control / total_users_control\n",
    "\n",
    "print(f'Error rate for Test group: {error_rate_test}')\n",
    "print(f'Error rate for Control group: {error_rate_control}')\n"
   ]
  },
  {
   "cell_type": "code",
   "execution_count": 50,
   "metadata": {},
   "outputs": [
    {
     "name": "stdout",
     "output_type": "stream",
     "text": [
      "Chi-square statistic: 46.65951837809329, p-value: 8.445576173807279e-12\n",
      "Reject the null hypothesis. There is a significant difference in error rates between the Test and Control groups.\n"
     ]
    }
   ],
   "source": [
    "# Perform the Chi-Square Test\n",
    "from scipy.stats import chi2_contingency\n",
    "\n",
    "# Calculate errors and non-errors for Test and Control groups\n",
    "errors_test = df_combined[(df_combined['Variation'] == 'Test') & (df_combined['is_error'])].shape[0]\n",
    "non_errors_test = df_combined[(df_combined['Variation'] == 'Test') & (~df_combined['is_error'])].shape[0]\n",
    "\n",
    "errors_control = df_combined[(df_combined['Variation'] == 'Control') & (df_combined['is_error'])].shape[0]\n",
    "non_errors_control = df_combined[(df_combined['Variation'] == 'Control') & (~df_combined['is_error'])].shape[0]\n",
    "\n",
    "# Create a contingency table\n",
    "contingency_table = [\n",
    "    [errors_test, non_errors_test],  # Test group\n",
    "    [errors_control, non_errors_control]  # Control group\n",
    "]\n",
    "\n",
    "# Perform the Chi-Square test\n",
    "chi2_stat, p_value, _, _ = chi2_contingency(contingency_table)\n",
    "\n",
    "print(f'Chi-square statistic: {chi2_stat}, p-value: {p_value}')\n",
    "\n",
    "# Interpret the result\n",
    "alpha = 0.05\n",
    "if p_value < alpha:\n",
    "    print(\"Reject the null hypothesis. There is a significant difference in error rates between the Test and Control groups.\")\n",
    "else:\n",
    "    print(\"Fail to reject the null hypothesis. There is no significant difference in error rates between the Test and Control groups.\")"
   ]
  },
  {
   "cell_type": "markdown",
   "metadata": {},
   "source": [
    "## Visualization of different parameters"
   ]
  },
  {
   "cell_type": "code",
   "execution_count": 52,
   "metadata": {},
   "outputs": [
    {
     "data": {
      "application/vnd.plotly.v1+json": {
       "config": {
        "plotlyServerURL": "https://plot.ly"
       },
       "data": [
        {
         "line": {
          "color": "blue"
         },
         "mode": "lines+markers",
         "name": "Completion = 0",
         "type": "scatter",
         "x": [
          0,
          1,
          2,
          3,
          4,
          5,
          6,
          7,
          8,
          9,
          10,
          11,
          12,
          13,
          14,
          15,
          16,
          17,
          18,
          20,
          21,
          23,
          25,
          27,
          28
         ],
         "y": [
          5085,
          3208,
          2116,
          2535,
          983,
          656,
          438,
          255,
          135,
          98,
          67,
          25,
          26,
          16,
          13,
          8,
          3,
          3,
          5,
          2,
          3,
          1,
          2,
          2,
          1
         ]
        },
        {
         "line": {
          "color": "red"
         },
         "mode": "lines+markers",
         "name": "Completion = 1",
         "type": "scatter",
         "x": [
          0,
          1,
          2,
          3,
          4,
          5,
          6,
          7,
          8,
          9,
          10,
          11,
          12,
          13,
          14,
          15,
          16,
          17,
          18,
          19,
          20,
          21,
          24,
          25,
          26
         ],
         "y": [
          3362,
          196,
          107,
          13227,
          2054,
          1016,
          623,
          314,
          231,
          118,
          62,
          27,
          29,
          19,
          14,
          3,
          4,
          4,
          3,
          4,
          2,
          4,
          7,
          1,
          1
         ]
        }
       ],
       "layout": {
        "legend": {
         "title": {
          "text": "Completion"
         }
        },
        "template": {
         "data": {
          "bar": [
           {
            "error_x": {
             "color": "#2a3f5f"
            },
            "error_y": {
             "color": "#2a3f5f"
            },
            "marker": {
             "line": {
              "color": "#E5ECF6",
              "width": 0.5
             },
             "pattern": {
              "fillmode": "overlay",
              "size": 10,
              "solidity": 0.2
             }
            },
            "type": "bar"
           }
          ],
          "barpolar": [
           {
            "marker": {
             "line": {
              "color": "#E5ECF6",
              "width": 0.5
             },
             "pattern": {
              "fillmode": "overlay",
              "size": 10,
              "solidity": 0.2
             }
            },
            "type": "barpolar"
           }
          ],
          "carpet": [
           {
            "aaxis": {
             "endlinecolor": "#2a3f5f",
             "gridcolor": "white",
             "linecolor": "white",
             "minorgridcolor": "white",
             "startlinecolor": "#2a3f5f"
            },
            "baxis": {
             "endlinecolor": "#2a3f5f",
             "gridcolor": "white",
             "linecolor": "white",
             "minorgridcolor": "white",
             "startlinecolor": "#2a3f5f"
            },
            "type": "carpet"
           }
          ],
          "choropleth": [
           {
            "colorbar": {
             "outlinewidth": 0,
             "ticks": ""
            },
            "type": "choropleth"
           }
          ],
          "contour": [
           {
            "colorbar": {
             "outlinewidth": 0,
             "ticks": ""
            },
            "colorscale": [
             [
              0,
              "#0d0887"
             ],
             [
              0.1111111111111111,
              "#46039f"
             ],
             [
              0.2222222222222222,
              "#7201a8"
             ],
             [
              0.3333333333333333,
              "#9c179e"
             ],
             [
              0.4444444444444444,
              "#bd3786"
             ],
             [
              0.5555555555555556,
              "#d8576b"
             ],
             [
              0.6666666666666666,
              "#ed7953"
             ],
             [
              0.7777777777777778,
              "#fb9f3a"
             ],
             [
              0.8888888888888888,
              "#fdca26"
             ],
             [
              1,
              "#f0f921"
             ]
            ],
            "type": "contour"
           }
          ],
          "contourcarpet": [
           {
            "colorbar": {
             "outlinewidth": 0,
             "ticks": ""
            },
            "type": "contourcarpet"
           }
          ],
          "heatmap": [
           {
            "colorbar": {
             "outlinewidth": 0,
             "ticks": ""
            },
            "colorscale": [
             [
              0,
              "#0d0887"
             ],
             [
              0.1111111111111111,
              "#46039f"
             ],
             [
              0.2222222222222222,
              "#7201a8"
             ],
             [
              0.3333333333333333,
              "#9c179e"
             ],
             [
              0.4444444444444444,
              "#bd3786"
             ],
             [
              0.5555555555555556,
              "#d8576b"
             ],
             [
              0.6666666666666666,
              "#ed7953"
             ],
             [
              0.7777777777777778,
              "#fb9f3a"
             ],
             [
              0.8888888888888888,
              "#fdca26"
             ],
             [
              1,
              "#f0f921"
             ]
            ],
            "type": "heatmap"
           }
          ],
          "heatmapgl": [
           {
            "colorbar": {
             "outlinewidth": 0,
             "ticks": ""
            },
            "colorscale": [
             [
              0,
              "#0d0887"
             ],
             [
              0.1111111111111111,
              "#46039f"
             ],
             [
              0.2222222222222222,
              "#7201a8"
             ],
             [
              0.3333333333333333,
              "#9c179e"
             ],
             [
              0.4444444444444444,
              "#bd3786"
             ],
             [
              0.5555555555555556,
              "#d8576b"
             ],
             [
              0.6666666666666666,
              "#ed7953"
             ],
             [
              0.7777777777777778,
              "#fb9f3a"
             ],
             [
              0.8888888888888888,
              "#fdca26"
             ],
             [
              1,
              "#f0f921"
             ]
            ],
            "type": "heatmapgl"
           }
          ],
          "histogram": [
           {
            "marker": {
             "pattern": {
              "fillmode": "overlay",
              "size": 10,
              "solidity": 0.2
             }
            },
            "type": "histogram"
           }
          ],
          "histogram2d": [
           {
            "colorbar": {
             "outlinewidth": 0,
             "ticks": ""
            },
            "colorscale": [
             [
              0,
              "#0d0887"
             ],
             [
              0.1111111111111111,
              "#46039f"
             ],
             [
              0.2222222222222222,
              "#7201a8"
             ],
             [
              0.3333333333333333,
              "#9c179e"
             ],
             [
              0.4444444444444444,
              "#bd3786"
             ],
             [
              0.5555555555555556,
              "#d8576b"
             ],
             [
              0.6666666666666666,
              "#ed7953"
             ],
             [
              0.7777777777777778,
              "#fb9f3a"
             ],
             [
              0.8888888888888888,
              "#fdca26"
             ],
             [
              1,
              "#f0f921"
             ]
            ],
            "type": "histogram2d"
           }
          ],
          "histogram2dcontour": [
           {
            "colorbar": {
             "outlinewidth": 0,
             "ticks": ""
            },
            "colorscale": [
             [
              0,
              "#0d0887"
             ],
             [
              0.1111111111111111,
              "#46039f"
             ],
             [
              0.2222222222222222,
              "#7201a8"
             ],
             [
              0.3333333333333333,
              "#9c179e"
             ],
             [
              0.4444444444444444,
              "#bd3786"
             ],
             [
              0.5555555555555556,
              "#d8576b"
             ],
             [
              0.6666666666666666,
              "#ed7953"
             ],
             [
              0.7777777777777778,
              "#fb9f3a"
             ],
             [
              0.8888888888888888,
              "#fdca26"
             ],
             [
              1,
              "#f0f921"
             ]
            ],
            "type": "histogram2dcontour"
           }
          ],
          "mesh3d": [
           {
            "colorbar": {
             "outlinewidth": 0,
             "ticks": ""
            },
            "type": "mesh3d"
           }
          ],
          "parcoords": [
           {
            "line": {
             "colorbar": {
              "outlinewidth": 0,
              "ticks": ""
             }
            },
            "type": "parcoords"
           }
          ],
          "pie": [
           {
            "automargin": true,
            "type": "pie"
           }
          ],
          "scatter": [
           {
            "fillpattern": {
             "fillmode": "overlay",
             "size": 10,
             "solidity": 0.2
            },
            "type": "scatter"
           }
          ],
          "scatter3d": [
           {
            "line": {
             "colorbar": {
              "outlinewidth": 0,
              "ticks": ""
             }
            },
            "marker": {
             "colorbar": {
              "outlinewidth": 0,
              "ticks": ""
             }
            },
            "type": "scatter3d"
           }
          ],
          "scattercarpet": [
           {
            "marker": {
             "colorbar": {
              "outlinewidth": 0,
              "ticks": ""
             }
            },
            "type": "scattercarpet"
           }
          ],
          "scattergeo": [
           {
            "marker": {
             "colorbar": {
              "outlinewidth": 0,
              "ticks": ""
             }
            },
            "type": "scattergeo"
           }
          ],
          "scattergl": [
           {
            "marker": {
             "colorbar": {
              "outlinewidth": 0,
              "ticks": ""
             }
            },
            "type": "scattergl"
           }
          ],
          "scattermapbox": [
           {
            "marker": {
             "colorbar": {
              "outlinewidth": 0,
              "ticks": ""
             }
            },
            "type": "scattermapbox"
           }
          ],
          "scatterpolar": [
           {
            "marker": {
             "colorbar": {
              "outlinewidth": 0,
              "ticks": ""
             }
            },
            "type": "scatterpolar"
           }
          ],
          "scatterpolargl": [
           {
            "marker": {
             "colorbar": {
              "outlinewidth": 0,
              "ticks": ""
             }
            },
            "type": "scatterpolargl"
           }
          ],
          "scatterternary": [
           {
            "marker": {
             "colorbar": {
              "outlinewidth": 0,
              "ticks": ""
             }
            },
            "type": "scatterternary"
           }
          ],
          "surface": [
           {
            "colorbar": {
             "outlinewidth": 0,
             "ticks": ""
            },
            "colorscale": [
             [
              0,
              "#0d0887"
             ],
             [
              0.1111111111111111,
              "#46039f"
             ],
             [
              0.2222222222222222,
              "#7201a8"
             ],
             [
              0.3333333333333333,
              "#9c179e"
             ],
             [
              0.4444444444444444,
              "#bd3786"
             ],
             [
              0.5555555555555556,
              "#d8576b"
             ],
             [
              0.6666666666666666,
              "#ed7953"
             ],
             [
              0.7777777777777778,
              "#fb9f3a"
             ],
             [
              0.8888888888888888,
              "#fdca26"
             ],
             [
              1,
              "#f0f921"
             ]
            ],
            "type": "surface"
           }
          ],
          "table": [
           {
            "cells": {
             "fill": {
              "color": "#EBF0F8"
             },
             "line": {
              "color": "white"
             }
            },
            "header": {
             "fill": {
              "color": "#C8D4E3"
             },
             "line": {
              "color": "white"
             }
            },
            "type": "table"
           }
          ]
         },
         "layout": {
          "annotationdefaults": {
           "arrowcolor": "#2a3f5f",
           "arrowhead": 0,
           "arrowwidth": 1
          },
          "autotypenumbers": "strict",
          "coloraxis": {
           "colorbar": {
            "outlinewidth": 0,
            "ticks": ""
           }
          },
          "colorscale": {
           "diverging": [
            [
             0,
             "#8e0152"
            ],
            [
             0.1,
             "#c51b7d"
            ],
            [
             0.2,
             "#de77ae"
            ],
            [
             0.3,
             "#f1b6da"
            ],
            [
             0.4,
             "#fde0ef"
            ],
            [
             0.5,
             "#f7f7f7"
            ],
            [
             0.6,
             "#e6f5d0"
            ],
            [
             0.7,
             "#b8e186"
            ],
            [
             0.8,
             "#7fbc41"
            ],
            [
             0.9,
             "#4d9221"
            ],
            [
             1,
             "#276419"
            ]
           ],
           "sequential": [
            [
             0,
             "#0d0887"
            ],
            [
             0.1111111111111111,
             "#46039f"
            ],
            [
             0.2222222222222222,
             "#7201a8"
            ],
            [
             0.3333333333333333,
             "#9c179e"
            ],
            [
             0.4444444444444444,
             "#bd3786"
            ],
            [
             0.5555555555555556,
             "#d8576b"
            ],
            [
             0.6666666666666666,
             "#ed7953"
            ],
            [
             0.7777777777777778,
             "#fb9f3a"
            ],
            [
             0.8888888888888888,
             "#fdca26"
            ],
            [
             1,
             "#f0f921"
            ]
           ],
           "sequentialminus": [
            [
             0,
             "#0d0887"
            ],
            [
             0.1111111111111111,
             "#46039f"
            ],
            [
             0.2222222222222222,
             "#7201a8"
            ],
            [
             0.3333333333333333,
             "#9c179e"
            ],
            [
             0.4444444444444444,
             "#bd3786"
            ],
            [
             0.5555555555555556,
             "#d8576b"
            ],
            [
             0.6666666666666666,
             "#ed7953"
            ],
            [
             0.7777777777777778,
             "#fb9f3a"
            ],
            [
             0.8888888888888888,
             "#fdca26"
            ],
            [
             1,
             "#f0f921"
            ]
           ]
          },
          "colorway": [
           "#636efa",
           "#EF553B",
           "#00cc96",
           "#ab63fa",
           "#FFA15A",
           "#19d3f3",
           "#FF6692",
           "#B6E880",
           "#FF97FF",
           "#FECB52"
          ],
          "font": {
           "color": "#2a3f5f"
          },
          "geo": {
           "bgcolor": "white",
           "lakecolor": "white",
           "landcolor": "#E5ECF6",
           "showlakes": true,
           "showland": true,
           "subunitcolor": "white"
          },
          "hoverlabel": {
           "align": "left"
          },
          "hovermode": "closest",
          "mapbox": {
           "style": "light"
          },
          "paper_bgcolor": "white",
          "plot_bgcolor": "#E5ECF6",
          "polar": {
           "angularaxis": {
            "gridcolor": "white",
            "linecolor": "white",
            "ticks": ""
           },
           "bgcolor": "#E5ECF6",
           "radialaxis": {
            "gridcolor": "white",
            "linecolor": "white",
            "ticks": ""
           }
          },
          "scene": {
           "xaxis": {
            "backgroundcolor": "#E5ECF6",
            "gridcolor": "white",
            "gridwidth": 2,
            "linecolor": "white",
            "showbackground": true,
            "ticks": "",
            "zerolinecolor": "white"
           },
           "yaxis": {
            "backgroundcolor": "#E5ECF6",
            "gridcolor": "white",
            "gridwidth": 2,
            "linecolor": "white",
            "showbackground": true,
            "ticks": "",
            "zerolinecolor": "white"
           },
           "zaxis": {
            "backgroundcolor": "#E5ECF6",
            "gridcolor": "white",
            "gridwidth": 2,
            "linecolor": "white",
            "showbackground": true,
            "ticks": "",
            "zerolinecolor": "white"
           }
          },
          "shapedefaults": {
           "line": {
            "color": "#2a3f5f"
           }
          },
          "ternary": {
           "aaxis": {
            "gridcolor": "white",
            "linecolor": "white",
            "ticks": ""
           },
           "baxis": {
            "gridcolor": "white",
            "linecolor": "white",
            "ticks": ""
           },
           "bgcolor": "#E5ECF6",
           "caxis": {
            "gridcolor": "white",
            "linecolor": "white",
            "ticks": ""
           }
          },
          "title": {
           "x": 0.05
          },
          "xaxis": {
           "automargin": true,
           "gridcolor": "white",
           "linecolor": "white",
           "ticks": "",
           "title": {
            "standoff": 15
           },
           "zerolinecolor": "white",
           "zerolinewidth": 2
          },
          "yaxis": {
           "automargin": true,
           "gridcolor": "white",
           "linecolor": "white",
           "ticks": "",
           "title": {
            "standoff": 15
           },
           "zerolinecolor": "white",
           "zerolinewidth": 2
          }
         }
        },
        "title": {
         "text": "Frequency of Total Navigations for Completion = 0 and 1"
        },
        "xaxis": {
         "title": {
          "text": "navigations_bt_start_last"
         }
        },
        "yaxis": {
         "title": {
          "text": "Frequency"
         }
        }
       }
      }
     },
     "metadata": {},
     "output_type": "display_data"
    }
   ],
   "source": [
    "import plotly.graph_objects as go\n",
    "filtered_df = df_test_final[df_test_final['navigations_bt_start_last'] <= 30]\n",
    "\n",
    "# Calculate the frequency of 'total_navigations' for 'completion' values 0 and 1\n",
    "freq_completion_0 = filtered_df[filtered_df['completion'] == 0]['navigations_bt_start_last'].value_counts().sort_index()\n",
    "freq_completion_1 = filtered_df[filtered_df['completion'] == 1]['navigations_bt_start_last'].value_counts().sort_index()\n",
    "\n",
    "# Create a line graph\n",
    "fig = go.Figure()\n",
    "\n",
    "# Line for completion = 0\n",
    "fig.add_trace(go.Scatter(\n",
    "    x=freq_completion_0.index,\n",
    "    y=freq_completion_0.values,\n",
    "    mode='lines+markers',\n",
    "    name='Completion = 0',\n",
    "    line=dict(color='blue')\n",
    "))\n",
    "\n",
    "# Line for completion = 1\n",
    "fig.add_trace(go.Scatter(\n",
    "    x=freq_completion_1.index,\n",
    "    y=freq_completion_1.values,\n",
    "    mode='lines+markers',\n",
    "    name='Completion = 1',\n",
    "    line=dict(color='red')\n",
    "))\n",
    "\n",
    "# Update layout\n",
    "fig.update_layout(\n",
    "    title='Frequency of Total Navigations for Completion = 0 and 1',\n",
    "    xaxis_title='navigations_bt_start_last',\n",
    "    yaxis_title='Frequency',\n",
    "    legend_title_text='Completion'\n",
    ")\n",
    "\n",
    "# Show the plot\n"
   ]
  },
  {
   "cell_type": "markdown",
   "metadata": {},
   "source": []
  },
  {
   "cell_type": "code",
   "execution_count": 53,
   "metadata": {},
   "outputs": [
    {
     "data": {
      "application/vnd.plotly.v1+json": {
       "config": {
        "plotlyServerURL": "https://plot.ly"
       },
       "data": [
        {
         "line": {
          "color": "blue"
         },
         "mode": "lines+markers",
         "name": "Completion = 0",
         "type": "scatter",
         "x": [
          0,
          1,
          2,
          3,
          4,
          5,
          6,
          7,
          8,
          9,
          10,
          11,
          12,
          13,
          14,
          15,
          16,
          17,
          21,
          24,
          26
         ],
         "y": [
          7568,
          2992,
          1888,
          2312,
          828,
          514,
          300,
          157,
          103,
          73,
          44,
          18,
          15,
          15,
          9,
          1,
          3,
          1,
          1,
          1,
          1
         ]
        },
        {
         "line": {
          "color": "red"
         },
         "mode": "lines+markers",
         "name": "Completion = 1",
         "type": "scatter",
         "x": [
          0,
          1,
          2,
          3,
          4,
          5,
          6,
          7,
          8,
          9,
          10,
          11,
          12,
          13,
          14,
          15,
          16,
          17,
          19,
          20,
          24,
          25,
          27
         ],
         "y": [
          761,
          165,
          103,
          10865,
          847,
          1132,
          595,
          403,
          170,
          122,
          62,
          45,
          24,
          13,
          7,
          4,
          6,
          2,
          1,
          1,
          2,
          1,
          2
         ]
        }
       ],
       "layout": {
        "legend": {
         "title": {
          "text": "Completion"
         }
        },
        "template": {
         "data": {
          "bar": [
           {
            "error_x": {
             "color": "#2a3f5f"
            },
            "error_y": {
             "color": "#2a3f5f"
            },
            "marker": {
             "line": {
              "color": "#E5ECF6",
              "width": 0.5
             },
             "pattern": {
              "fillmode": "overlay",
              "size": 10,
              "solidity": 0.2
             }
            },
            "type": "bar"
           }
          ],
          "barpolar": [
           {
            "marker": {
             "line": {
              "color": "#E5ECF6",
              "width": 0.5
             },
             "pattern": {
              "fillmode": "overlay",
              "size": 10,
              "solidity": 0.2
             }
            },
            "type": "barpolar"
           }
          ],
          "carpet": [
           {
            "aaxis": {
             "endlinecolor": "#2a3f5f",
             "gridcolor": "white",
             "linecolor": "white",
             "minorgridcolor": "white",
             "startlinecolor": "#2a3f5f"
            },
            "baxis": {
             "endlinecolor": "#2a3f5f",
             "gridcolor": "white",
             "linecolor": "white",
             "minorgridcolor": "white",
             "startlinecolor": "#2a3f5f"
            },
            "type": "carpet"
           }
          ],
          "choropleth": [
           {
            "colorbar": {
             "outlinewidth": 0,
             "ticks": ""
            },
            "type": "choropleth"
           }
          ],
          "contour": [
           {
            "colorbar": {
             "outlinewidth": 0,
             "ticks": ""
            },
            "colorscale": [
             [
              0,
              "#0d0887"
             ],
             [
              0.1111111111111111,
              "#46039f"
             ],
             [
              0.2222222222222222,
              "#7201a8"
             ],
             [
              0.3333333333333333,
              "#9c179e"
             ],
             [
              0.4444444444444444,
              "#bd3786"
             ],
             [
              0.5555555555555556,
              "#d8576b"
             ],
             [
              0.6666666666666666,
              "#ed7953"
             ],
             [
              0.7777777777777778,
              "#fb9f3a"
             ],
             [
              0.8888888888888888,
              "#fdca26"
             ],
             [
              1,
              "#f0f921"
             ]
            ],
            "type": "contour"
           }
          ],
          "contourcarpet": [
           {
            "colorbar": {
             "outlinewidth": 0,
             "ticks": ""
            },
            "type": "contourcarpet"
           }
          ],
          "heatmap": [
           {
            "colorbar": {
             "outlinewidth": 0,
             "ticks": ""
            },
            "colorscale": [
             [
              0,
              "#0d0887"
             ],
             [
              0.1111111111111111,
              "#46039f"
             ],
             [
              0.2222222222222222,
              "#7201a8"
             ],
             [
              0.3333333333333333,
              "#9c179e"
             ],
             [
              0.4444444444444444,
              "#bd3786"
             ],
             [
              0.5555555555555556,
              "#d8576b"
             ],
             [
              0.6666666666666666,
              "#ed7953"
             ],
             [
              0.7777777777777778,
              "#fb9f3a"
             ],
             [
              0.8888888888888888,
              "#fdca26"
             ],
             [
              1,
              "#f0f921"
             ]
            ],
            "type": "heatmap"
           }
          ],
          "heatmapgl": [
           {
            "colorbar": {
             "outlinewidth": 0,
             "ticks": ""
            },
            "colorscale": [
             [
              0,
              "#0d0887"
             ],
             [
              0.1111111111111111,
              "#46039f"
             ],
             [
              0.2222222222222222,
              "#7201a8"
             ],
             [
              0.3333333333333333,
              "#9c179e"
             ],
             [
              0.4444444444444444,
              "#bd3786"
             ],
             [
              0.5555555555555556,
              "#d8576b"
             ],
             [
              0.6666666666666666,
              "#ed7953"
             ],
             [
              0.7777777777777778,
              "#fb9f3a"
             ],
             [
              0.8888888888888888,
              "#fdca26"
             ],
             [
              1,
              "#f0f921"
             ]
            ],
            "type": "heatmapgl"
           }
          ],
          "histogram": [
           {
            "marker": {
             "pattern": {
              "fillmode": "overlay",
              "size": 10,
              "solidity": 0.2
             }
            },
            "type": "histogram"
           }
          ],
          "histogram2d": [
           {
            "colorbar": {
             "outlinewidth": 0,
             "ticks": ""
            },
            "colorscale": [
             [
              0,
              "#0d0887"
             ],
             [
              0.1111111111111111,
              "#46039f"
             ],
             [
              0.2222222222222222,
              "#7201a8"
             ],
             [
              0.3333333333333333,
              "#9c179e"
             ],
             [
              0.4444444444444444,
              "#bd3786"
             ],
             [
              0.5555555555555556,
              "#d8576b"
             ],
             [
              0.6666666666666666,
              "#ed7953"
             ],
             [
              0.7777777777777778,
              "#fb9f3a"
             ],
             [
              0.8888888888888888,
              "#fdca26"
             ],
             [
              1,
              "#f0f921"
             ]
            ],
            "type": "histogram2d"
           }
          ],
          "histogram2dcontour": [
           {
            "colorbar": {
             "outlinewidth": 0,
             "ticks": ""
            },
            "colorscale": [
             [
              0,
              "#0d0887"
             ],
             [
              0.1111111111111111,
              "#46039f"
             ],
             [
              0.2222222222222222,
              "#7201a8"
             ],
             [
              0.3333333333333333,
              "#9c179e"
             ],
             [
              0.4444444444444444,
              "#bd3786"
             ],
             [
              0.5555555555555556,
              "#d8576b"
             ],
             [
              0.6666666666666666,
              "#ed7953"
             ],
             [
              0.7777777777777778,
              "#fb9f3a"
             ],
             [
              0.8888888888888888,
              "#fdca26"
             ],
             [
              1,
              "#f0f921"
             ]
            ],
            "type": "histogram2dcontour"
           }
          ],
          "mesh3d": [
           {
            "colorbar": {
             "outlinewidth": 0,
             "ticks": ""
            },
            "type": "mesh3d"
           }
          ],
          "parcoords": [
           {
            "line": {
             "colorbar": {
              "outlinewidth": 0,
              "ticks": ""
             }
            },
            "type": "parcoords"
           }
          ],
          "pie": [
           {
            "automargin": true,
            "type": "pie"
           }
          ],
          "scatter": [
           {
            "fillpattern": {
             "fillmode": "overlay",
             "size": 10,
             "solidity": 0.2
            },
            "type": "scatter"
           }
          ],
          "scatter3d": [
           {
            "line": {
             "colorbar": {
              "outlinewidth": 0,
              "ticks": ""
             }
            },
            "marker": {
             "colorbar": {
              "outlinewidth": 0,
              "ticks": ""
             }
            },
            "type": "scatter3d"
           }
          ],
          "scattercarpet": [
           {
            "marker": {
             "colorbar": {
              "outlinewidth": 0,
              "ticks": ""
             }
            },
            "type": "scattercarpet"
           }
          ],
          "scattergeo": [
           {
            "marker": {
             "colorbar": {
              "outlinewidth": 0,
              "ticks": ""
             }
            },
            "type": "scattergeo"
           }
          ],
          "scattergl": [
           {
            "marker": {
             "colorbar": {
              "outlinewidth": 0,
              "ticks": ""
             }
            },
            "type": "scattergl"
           }
          ],
          "scattermapbox": [
           {
            "marker": {
             "colorbar": {
              "outlinewidth": 0,
              "ticks": ""
             }
            },
            "type": "scattermapbox"
           }
          ],
          "scatterpolar": [
           {
            "marker": {
             "colorbar": {
              "outlinewidth": 0,
              "ticks": ""
             }
            },
            "type": "scatterpolar"
           }
          ],
          "scatterpolargl": [
           {
            "marker": {
             "colorbar": {
              "outlinewidth": 0,
              "ticks": ""
             }
            },
            "type": "scatterpolargl"
           }
          ],
          "scatterternary": [
           {
            "marker": {
             "colorbar": {
              "outlinewidth": 0,
              "ticks": ""
             }
            },
            "type": "scatterternary"
           }
          ],
          "surface": [
           {
            "colorbar": {
             "outlinewidth": 0,
             "ticks": ""
            },
            "colorscale": [
             [
              0,
              "#0d0887"
             ],
             [
              0.1111111111111111,
              "#46039f"
             ],
             [
              0.2222222222222222,
              "#7201a8"
             ],
             [
              0.3333333333333333,
              "#9c179e"
             ],
             [
              0.4444444444444444,
              "#bd3786"
             ],
             [
              0.5555555555555556,
              "#d8576b"
             ],
             [
              0.6666666666666666,
              "#ed7953"
             ],
             [
              0.7777777777777778,
              "#fb9f3a"
             ],
             [
              0.8888888888888888,
              "#fdca26"
             ],
             [
              1,
              "#f0f921"
             ]
            ],
            "type": "surface"
           }
          ],
          "table": [
           {
            "cells": {
             "fill": {
              "color": "#EBF0F8"
             },
             "line": {
              "color": "white"
             }
            },
            "header": {
             "fill": {
              "color": "#C8D4E3"
             },
             "line": {
              "color": "white"
             }
            },
            "type": "table"
           }
          ]
         },
         "layout": {
          "annotationdefaults": {
           "arrowcolor": "#2a3f5f",
           "arrowhead": 0,
           "arrowwidth": 1
          },
          "autotypenumbers": "strict",
          "coloraxis": {
           "colorbar": {
            "outlinewidth": 0,
            "ticks": ""
           }
          },
          "colorscale": {
           "diverging": [
            [
             0,
             "#8e0152"
            ],
            [
             0.1,
             "#c51b7d"
            ],
            [
             0.2,
             "#de77ae"
            ],
            [
             0.3,
             "#f1b6da"
            ],
            [
             0.4,
             "#fde0ef"
            ],
            [
             0.5,
             "#f7f7f7"
            ],
            [
             0.6,
             "#e6f5d0"
            ],
            [
             0.7,
             "#b8e186"
            ],
            [
             0.8,
             "#7fbc41"
            ],
            [
             0.9,
             "#4d9221"
            ],
            [
             1,
             "#276419"
            ]
           ],
           "sequential": [
            [
             0,
             "#0d0887"
            ],
            [
             0.1111111111111111,
             "#46039f"
            ],
            [
             0.2222222222222222,
             "#7201a8"
            ],
            [
             0.3333333333333333,
             "#9c179e"
            ],
            [
             0.4444444444444444,
             "#bd3786"
            ],
            [
             0.5555555555555556,
             "#d8576b"
            ],
            [
             0.6666666666666666,
             "#ed7953"
            ],
            [
             0.7777777777777778,
             "#fb9f3a"
            ],
            [
             0.8888888888888888,
             "#fdca26"
            ],
            [
             1,
             "#f0f921"
            ]
           ],
           "sequentialminus": [
            [
             0,
             "#0d0887"
            ],
            [
             0.1111111111111111,
             "#46039f"
            ],
            [
             0.2222222222222222,
             "#7201a8"
            ],
            [
             0.3333333333333333,
             "#9c179e"
            ],
            [
             0.4444444444444444,
             "#bd3786"
            ],
            [
             0.5555555555555556,
             "#d8576b"
            ],
            [
             0.6666666666666666,
             "#ed7953"
            ],
            [
             0.7777777777777778,
             "#fb9f3a"
            ],
            [
             0.8888888888888888,
             "#fdca26"
            ],
            [
             1,
             "#f0f921"
            ]
           ]
          },
          "colorway": [
           "#636efa",
           "#EF553B",
           "#00cc96",
           "#ab63fa",
           "#FFA15A",
           "#19d3f3",
           "#FF6692",
           "#B6E880",
           "#FF97FF",
           "#FECB52"
          ],
          "font": {
           "color": "#2a3f5f"
          },
          "geo": {
           "bgcolor": "white",
           "lakecolor": "white",
           "landcolor": "#E5ECF6",
           "showlakes": true,
           "showland": true,
           "subunitcolor": "white"
          },
          "hoverlabel": {
           "align": "left"
          },
          "hovermode": "closest",
          "mapbox": {
           "style": "light"
          },
          "paper_bgcolor": "white",
          "plot_bgcolor": "#E5ECF6",
          "polar": {
           "angularaxis": {
            "gridcolor": "white",
            "linecolor": "white",
            "ticks": ""
           },
           "bgcolor": "#E5ECF6",
           "radialaxis": {
            "gridcolor": "white",
            "linecolor": "white",
            "ticks": ""
           }
          },
          "scene": {
           "xaxis": {
            "backgroundcolor": "#E5ECF6",
            "gridcolor": "white",
            "gridwidth": 2,
            "linecolor": "white",
            "showbackground": true,
            "ticks": "",
            "zerolinecolor": "white"
           },
           "yaxis": {
            "backgroundcolor": "#E5ECF6",
            "gridcolor": "white",
            "gridwidth": 2,
            "linecolor": "white",
            "showbackground": true,
            "ticks": "",
            "zerolinecolor": "white"
           },
           "zaxis": {
            "backgroundcolor": "#E5ECF6",
            "gridcolor": "white",
            "gridwidth": 2,
            "linecolor": "white",
            "showbackground": true,
            "ticks": "",
            "zerolinecolor": "white"
           }
          },
          "shapedefaults": {
           "line": {
            "color": "#2a3f5f"
           }
          },
          "ternary": {
           "aaxis": {
            "gridcolor": "white",
            "linecolor": "white",
            "ticks": ""
           },
           "baxis": {
            "gridcolor": "white",
            "linecolor": "white",
            "ticks": ""
           },
           "bgcolor": "#E5ECF6",
           "caxis": {
            "gridcolor": "white",
            "linecolor": "white",
            "ticks": ""
           }
          },
          "title": {
           "x": 0.05
          },
          "xaxis": {
           "automargin": true,
           "gridcolor": "white",
           "linecolor": "white",
           "ticks": "",
           "title": {
            "standoff": 15
           },
           "zerolinecolor": "white",
           "zerolinewidth": 2
          },
          "yaxis": {
           "automargin": true,
           "gridcolor": "white",
           "linecolor": "white",
           "ticks": "",
           "title": {
            "standoff": 15
           },
           "zerolinecolor": "white",
           "zerolinewidth": 2
          }
         }
        },
        "title": {
         "text": "Frequency of Total Navigations for Completion = 0 and 1"
        },
        "xaxis": {
         "title": {
          "text": "navigations_bt_start_last"
         }
        },
        "yaxis": {
         "title": {
          "text": "Frequency"
         }
        }
       }
      }
     },
     "metadata": {},
     "output_type": "display_data"
    }
   ],
   "source": [
    "filtered_df_control = df_control_final[df_control_final['navigations_bt_start_last'] <= 30]\n",
    "\n",
    "# Calculate the frequency of 'total_navigations' for 'completion' values 0 and 1\n",
    "freq_completion_0 = filtered_df_control[filtered_df_control['completion'] == 0]['navigations_bt_start_last'].value_counts().sort_index()\n",
    "freq_completion_1 = filtered_df_control[filtered_df_control['completion'] == 1]['navigations_bt_start_last'].value_counts().sort_index()\n",
    "\n",
    "# Create a line graph\n",
    "fig = go.Figure()\n",
    "\n",
    "# Line for completion = 0\n",
    "fig.add_trace(go.Scatter(\n",
    "    x=freq_completion_0.index,\n",
    "    y=freq_completion_0.values,\n",
    "    mode='lines+markers',\n",
    "    name='Completion = 0',\n",
    "    line=dict(color='blue')\n",
    "))\n",
    "\n",
    "# Line for completion = 1\n",
    "fig.add_trace(go.Scatter(\n",
    "    x=freq_completion_1.index,\n",
    "    y=freq_completion_1.values,\n",
    "    mode='lines+markers',\n",
    "    name='Completion = 1',\n",
    "    line=dict(color='red')\n",
    "))\n",
    "\n",
    "# Update layout\n",
    "fig.update_layout(\n",
    "    title='Frequency of Total Navigations for Completion = 0 and 1',\n",
    "    xaxis_title='navigations_bt_start_last',\n",
    "    yaxis_title='Frequency',\n",
    "    legend_title_text='Completion'\n",
    ")\n",
    "\n",
    "# Show the plot\n"
   ]
  },
  {
   "cell_type": "code",
   "execution_count": null,
   "metadata": {},
   "outputs": [],
   "source": []
  },
  {
   "cell_type": "code",
   "execution_count": 55,
   "metadata": {},
   "outputs": [
    {
     "data": {
      "application/vnd.plotly.v1+json": {
       "config": {
        "plotlyServerURL": "https://plot.ly"
       },
       "data": [
        {
         "mode": "lines+markers",
         "name": "Control",
         "type": "scatter",
         "x": [
          0,
          1,
          2,
          3,
          4,
          5,
          6,
          7,
          8,
          9,
          10,
          11,
          12,
          13,
          14,
          15,
          16,
          17,
          18,
          19,
          20,
          21,
          24,
          25,
          26,
          27
         ],
         "y": [
          0.04963151372855932,
          0.010761103502250048,
          0.006717537337768213,
          0.7086023609208896,
          0.055240331311550255,
          0.07382769190634579,
          0.038805191417204725,
          0.026283180069131936,
          0.011087197547772777,
          0.007956694710754582,
          0.004043566164481836,
          0.002934846409704559,
          0.001565251418509098,
          0.0008478445183590947,
          0.00045653166373182025,
          0.00026087523641818303,
          0.0003913128546272745,
          0.00013043761820909151,
          0,
          0.00006521880910454576,
          0.00006521880910454576,
          0,
          0.00013043761820909151,
          0.00006521880910454576,
          0,
          0.00013043761820909151
         ]
        },
        {
         "mode": "lines+markers",
         "name": "Test",
         "type": "scatter",
         "x": [
          0,
          1,
          2,
          3,
          4,
          5,
          6,
          7,
          8,
          9,
          10,
          11,
          12,
          13,
          14,
          15,
          16,
          17,
          18,
          19,
          20,
          21,
          24,
          25,
          26,
          27
         ],
         "y": [
          0.1568682344158268,
          0.009145203434117209,
          0.004992534527808884,
          0.6171612541993281,
          0.09583799925345278,
          0.04740574841358716,
          0.029068682344158266,
          0.014650989175065323,
          0.010778275475923853,
          0.005505785740948115,
          0.0028928704740574843,
          0.0012597984322508398,
          0.001353116834639791,
          0.0008865248226950354,
          0.0006532288167226577,
          0.00013997760358342665,
          0.0001866368047779022,
          0.0001866368047779022,
          0.00013997760358342665,
          0.0001866368047779022,
          0.0000933184023889511,
          0.0001866368047779022,
          0.00032661440836132883,
          0.00004665920119447555,
          0.00004665920119447555,
          0
         ]
        }
       ],
       "layout": {
        "legend": {
         "title": {
          "text": "Variation"
         }
        },
        "template": {
         "data": {
          "bar": [
           {
            "error_x": {
             "color": "#2a3f5f"
            },
            "error_y": {
             "color": "#2a3f5f"
            },
            "marker": {
             "line": {
              "color": "white",
              "width": 0.5
             },
             "pattern": {
              "fillmode": "overlay",
              "size": 10,
              "solidity": 0.2
             }
            },
            "type": "bar"
           }
          ],
          "barpolar": [
           {
            "marker": {
             "line": {
              "color": "white",
              "width": 0.5
             },
             "pattern": {
              "fillmode": "overlay",
              "size": 10,
              "solidity": 0.2
             }
            },
            "type": "barpolar"
           }
          ],
          "carpet": [
           {
            "aaxis": {
             "endlinecolor": "#2a3f5f",
             "gridcolor": "#C8D4E3",
             "linecolor": "#C8D4E3",
             "minorgridcolor": "#C8D4E3",
             "startlinecolor": "#2a3f5f"
            },
            "baxis": {
             "endlinecolor": "#2a3f5f",
             "gridcolor": "#C8D4E3",
             "linecolor": "#C8D4E3",
             "minorgridcolor": "#C8D4E3",
             "startlinecolor": "#2a3f5f"
            },
            "type": "carpet"
           }
          ],
          "choropleth": [
           {
            "colorbar": {
             "outlinewidth": 0,
             "ticks": ""
            },
            "type": "choropleth"
           }
          ],
          "contour": [
           {
            "colorbar": {
             "outlinewidth": 0,
             "ticks": ""
            },
            "colorscale": [
             [
              0,
              "#0d0887"
             ],
             [
              0.1111111111111111,
              "#46039f"
             ],
             [
              0.2222222222222222,
              "#7201a8"
             ],
             [
              0.3333333333333333,
              "#9c179e"
             ],
             [
              0.4444444444444444,
              "#bd3786"
             ],
             [
              0.5555555555555556,
              "#d8576b"
             ],
             [
              0.6666666666666666,
              "#ed7953"
             ],
             [
              0.7777777777777778,
              "#fb9f3a"
             ],
             [
              0.8888888888888888,
              "#fdca26"
             ],
             [
              1,
              "#f0f921"
             ]
            ],
            "type": "contour"
           }
          ],
          "contourcarpet": [
           {
            "colorbar": {
             "outlinewidth": 0,
             "ticks": ""
            },
            "type": "contourcarpet"
           }
          ],
          "heatmap": [
           {
            "colorbar": {
             "outlinewidth": 0,
             "ticks": ""
            },
            "colorscale": [
             [
              0,
              "#0d0887"
             ],
             [
              0.1111111111111111,
              "#46039f"
             ],
             [
              0.2222222222222222,
              "#7201a8"
             ],
             [
              0.3333333333333333,
              "#9c179e"
             ],
             [
              0.4444444444444444,
              "#bd3786"
             ],
             [
              0.5555555555555556,
              "#d8576b"
             ],
             [
              0.6666666666666666,
              "#ed7953"
             ],
             [
              0.7777777777777778,
              "#fb9f3a"
             ],
             [
              0.8888888888888888,
              "#fdca26"
             ],
             [
              1,
              "#f0f921"
             ]
            ],
            "type": "heatmap"
           }
          ],
          "heatmapgl": [
           {
            "colorbar": {
             "outlinewidth": 0,
             "ticks": ""
            },
            "colorscale": [
             [
              0,
              "#0d0887"
             ],
             [
              0.1111111111111111,
              "#46039f"
             ],
             [
              0.2222222222222222,
              "#7201a8"
             ],
             [
              0.3333333333333333,
              "#9c179e"
             ],
             [
              0.4444444444444444,
              "#bd3786"
             ],
             [
              0.5555555555555556,
              "#d8576b"
             ],
             [
              0.6666666666666666,
              "#ed7953"
             ],
             [
              0.7777777777777778,
              "#fb9f3a"
             ],
             [
              0.8888888888888888,
              "#fdca26"
             ],
             [
              1,
              "#f0f921"
             ]
            ],
            "type": "heatmapgl"
           }
          ],
          "histogram": [
           {
            "marker": {
             "pattern": {
              "fillmode": "overlay",
              "size": 10,
              "solidity": 0.2
             }
            },
            "type": "histogram"
           }
          ],
          "histogram2d": [
           {
            "colorbar": {
             "outlinewidth": 0,
             "ticks": ""
            },
            "colorscale": [
             [
              0,
              "#0d0887"
             ],
             [
              0.1111111111111111,
              "#46039f"
             ],
             [
              0.2222222222222222,
              "#7201a8"
             ],
             [
              0.3333333333333333,
              "#9c179e"
             ],
             [
              0.4444444444444444,
              "#bd3786"
             ],
             [
              0.5555555555555556,
              "#d8576b"
             ],
             [
              0.6666666666666666,
              "#ed7953"
             ],
             [
              0.7777777777777778,
              "#fb9f3a"
             ],
             [
              0.8888888888888888,
              "#fdca26"
             ],
             [
              1,
              "#f0f921"
             ]
            ],
            "type": "histogram2d"
           }
          ],
          "histogram2dcontour": [
           {
            "colorbar": {
             "outlinewidth": 0,
             "ticks": ""
            },
            "colorscale": [
             [
              0,
              "#0d0887"
             ],
             [
              0.1111111111111111,
              "#46039f"
             ],
             [
              0.2222222222222222,
              "#7201a8"
             ],
             [
              0.3333333333333333,
              "#9c179e"
             ],
             [
              0.4444444444444444,
              "#bd3786"
             ],
             [
              0.5555555555555556,
              "#d8576b"
             ],
             [
              0.6666666666666666,
              "#ed7953"
             ],
             [
              0.7777777777777778,
              "#fb9f3a"
             ],
             [
              0.8888888888888888,
              "#fdca26"
             ],
             [
              1,
              "#f0f921"
             ]
            ],
            "type": "histogram2dcontour"
           }
          ],
          "mesh3d": [
           {
            "colorbar": {
             "outlinewidth": 0,
             "ticks": ""
            },
            "type": "mesh3d"
           }
          ],
          "parcoords": [
           {
            "line": {
             "colorbar": {
              "outlinewidth": 0,
              "ticks": ""
             }
            },
            "type": "parcoords"
           }
          ],
          "pie": [
           {
            "automargin": true,
            "type": "pie"
           }
          ],
          "scatter": [
           {
            "fillpattern": {
             "fillmode": "overlay",
             "size": 10,
             "solidity": 0.2
            },
            "type": "scatter"
           }
          ],
          "scatter3d": [
           {
            "line": {
             "colorbar": {
              "outlinewidth": 0,
              "ticks": ""
             }
            },
            "marker": {
             "colorbar": {
              "outlinewidth": 0,
              "ticks": ""
             }
            },
            "type": "scatter3d"
           }
          ],
          "scattercarpet": [
           {
            "marker": {
             "colorbar": {
              "outlinewidth": 0,
              "ticks": ""
             }
            },
            "type": "scattercarpet"
           }
          ],
          "scattergeo": [
           {
            "marker": {
             "colorbar": {
              "outlinewidth": 0,
              "ticks": ""
             }
            },
            "type": "scattergeo"
           }
          ],
          "scattergl": [
           {
            "marker": {
             "colorbar": {
              "outlinewidth": 0,
              "ticks": ""
             }
            },
            "type": "scattergl"
           }
          ],
          "scattermapbox": [
           {
            "marker": {
             "colorbar": {
              "outlinewidth": 0,
              "ticks": ""
             }
            },
            "type": "scattermapbox"
           }
          ],
          "scatterpolar": [
           {
            "marker": {
             "colorbar": {
              "outlinewidth": 0,
              "ticks": ""
             }
            },
            "type": "scatterpolar"
           }
          ],
          "scatterpolargl": [
           {
            "marker": {
             "colorbar": {
              "outlinewidth": 0,
              "ticks": ""
             }
            },
            "type": "scatterpolargl"
           }
          ],
          "scatterternary": [
           {
            "marker": {
             "colorbar": {
              "outlinewidth": 0,
              "ticks": ""
             }
            },
            "type": "scatterternary"
           }
          ],
          "surface": [
           {
            "colorbar": {
             "outlinewidth": 0,
             "ticks": ""
            },
            "colorscale": [
             [
              0,
              "#0d0887"
             ],
             [
              0.1111111111111111,
              "#46039f"
             ],
             [
              0.2222222222222222,
              "#7201a8"
             ],
             [
              0.3333333333333333,
              "#9c179e"
             ],
             [
              0.4444444444444444,
              "#bd3786"
             ],
             [
              0.5555555555555556,
              "#d8576b"
             ],
             [
              0.6666666666666666,
              "#ed7953"
             ],
             [
              0.7777777777777778,
              "#fb9f3a"
             ],
             [
              0.8888888888888888,
              "#fdca26"
             ],
             [
              1,
              "#f0f921"
             ]
            ],
            "type": "surface"
           }
          ],
          "table": [
           {
            "cells": {
             "fill": {
              "color": "#EBF0F8"
             },
             "line": {
              "color": "white"
             }
            },
            "header": {
             "fill": {
              "color": "#C8D4E3"
             },
             "line": {
              "color": "white"
             }
            },
            "type": "table"
           }
          ]
         },
         "layout": {
          "annotationdefaults": {
           "arrowcolor": "#2a3f5f",
           "arrowhead": 0,
           "arrowwidth": 1
          },
          "autotypenumbers": "strict",
          "coloraxis": {
           "colorbar": {
            "outlinewidth": 0,
            "ticks": ""
           }
          },
          "colorscale": {
           "diverging": [
            [
             0,
             "#8e0152"
            ],
            [
             0.1,
             "#c51b7d"
            ],
            [
             0.2,
             "#de77ae"
            ],
            [
             0.3,
             "#f1b6da"
            ],
            [
             0.4,
             "#fde0ef"
            ],
            [
             0.5,
             "#f7f7f7"
            ],
            [
             0.6,
             "#e6f5d0"
            ],
            [
             0.7,
             "#b8e186"
            ],
            [
             0.8,
             "#7fbc41"
            ],
            [
             0.9,
             "#4d9221"
            ],
            [
             1,
             "#276419"
            ]
           ],
           "sequential": [
            [
             0,
             "#0d0887"
            ],
            [
             0.1111111111111111,
             "#46039f"
            ],
            [
             0.2222222222222222,
             "#7201a8"
            ],
            [
             0.3333333333333333,
             "#9c179e"
            ],
            [
             0.4444444444444444,
             "#bd3786"
            ],
            [
             0.5555555555555556,
             "#d8576b"
            ],
            [
             0.6666666666666666,
             "#ed7953"
            ],
            [
             0.7777777777777778,
             "#fb9f3a"
            ],
            [
             0.8888888888888888,
             "#fdca26"
            ],
            [
             1,
             "#f0f921"
            ]
           ],
           "sequentialminus": [
            [
             0,
             "#0d0887"
            ],
            [
             0.1111111111111111,
             "#46039f"
            ],
            [
             0.2222222222222222,
             "#7201a8"
            ],
            [
             0.3333333333333333,
             "#9c179e"
            ],
            [
             0.4444444444444444,
             "#bd3786"
            ],
            [
             0.5555555555555556,
             "#d8576b"
            ],
            [
             0.6666666666666666,
             "#ed7953"
            ],
            [
             0.7777777777777778,
             "#fb9f3a"
            ],
            [
             0.8888888888888888,
             "#fdca26"
            ],
            [
             1,
             "#f0f921"
            ]
           ]
          },
          "colorway": [
           "#636efa",
           "#EF553B",
           "#00cc96",
           "#ab63fa",
           "#FFA15A",
           "#19d3f3",
           "#FF6692",
           "#B6E880",
           "#FF97FF",
           "#FECB52"
          ],
          "font": {
           "color": "#2a3f5f"
          },
          "geo": {
           "bgcolor": "white",
           "lakecolor": "white",
           "landcolor": "white",
           "showlakes": true,
           "showland": true,
           "subunitcolor": "#C8D4E3"
          },
          "hoverlabel": {
           "align": "left"
          },
          "hovermode": "closest",
          "mapbox": {
           "style": "light"
          },
          "paper_bgcolor": "white",
          "plot_bgcolor": "white",
          "polar": {
           "angularaxis": {
            "gridcolor": "#EBF0F8",
            "linecolor": "#EBF0F8",
            "ticks": ""
           },
           "bgcolor": "white",
           "radialaxis": {
            "gridcolor": "#EBF0F8",
            "linecolor": "#EBF0F8",
            "ticks": ""
           }
          },
          "scene": {
           "xaxis": {
            "backgroundcolor": "white",
            "gridcolor": "#DFE8F3",
            "gridwidth": 2,
            "linecolor": "#EBF0F8",
            "showbackground": true,
            "ticks": "",
            "zerolinecolor": "#EBF0F8"
           },
           "yaxis": {
            "backgroundcolor": "white",
            "gridcolor": "#DFE8F3",
            "gridwidth": 2,
            "linecolor": "#EBF0F8",
            "showbackground": true,
            "ticks": "",
            "zerolinecolor": "#EBF0F8"
           },
           "zaxis": {
            "backgroundcolor": "white",
            "gridcolor": "#DFE8F3",
            "gridwidth": 2,
            "linecolor": "#EBF0F8",
            "showbackground": true,
            "ticks": "",
            "zerolinecolor": "#EBF0F8"
           }
          },
          "shapedefaults": {
           "line": {
            "color": "#2a3f5f"
           }
          },
          "ternary": {
           "aaxis": {
            "gridcolor": "#DFE8F3",
            "linecolor": "#A2B1C6",
            "ticks": ""
           },
           "baxis": {
            "gridcolor": "#DFE8F3",
            "linecolor": "#A2B1C6",
            "ticks": ""
           },
           "bgcolor": "white",
           "caxis": {
            "gridcolor": "#DFE8F3",
            "linecolor": "#A2B1C6",
            "ticks": ""
           }
          },
          "title": {
           "x": 0.05
          },
          "xaxis": {
           "automargin": true,
           "gridcolor": "#EBF0F8",
           "linecolor": "#EBF0F8",
           "ticks": "",
           "title": {
            "standoff": 15
           },
           "zerolinecolor": "#EBF0F8",
           "zerolinewidth": 2
          },
          "yaxis": {
           "automargin": true,
           "gridcolor": "#EBF0F8",
           "linecolor": "#EBF0F8",
           "ticks": "",
           "title": {
            "standoff": 15
           },
           "zerolinecolor": "#EBF0F8",
           "zerolinewidth": 2
          }
         }
        },
        "title": {
         "text": "Total Navigations done bteween start and last page by ussrs who completed the process"
        },
        "xaxis": {
         "title": {
          "text": "Navigations"
         }
        },
        "yaxis": {
         "title": {
          "text": "Normalized Frequency"
         }
        }
       }
      }
     },
     "metadata": {},
     "output_type": "display_data"
    }
   ],
   "source": [
    "filtered_df = df_final[(df_final['navigations_bt_start_last'] <= 30) & (df_final['completion'] == 1)]\n",
    "\n",
    "# Calculate the frequency of 'navigations_bt_start_last' for each variation\n",
    "freq = filtered_df.groupby('Variation')['navigations_bt_start_last'].value_counts().unstack().fillna(0)\n",
    "\n",
    "# Normalize the frequencies\n",
    "norm_freq = freq.div(freq.sum(axis=1), axis=0)\n",
    "\n",
    "# Reset index for plotting\n",
    "norm_freq = norm_freq.reset_index()\n",
    "\n",
    "# Melt DataFrame for easier plotting\n",
    "norm_freq_melted = norm_freq.melt(id_vars='Variation', var_name='Navigations', value_name='Normalized Frequency')\n",
    "fig = go.Figure()\n",
    "\n",
    "# Add traces for each variation\n",
    "for variation in norm_freq_melted['Variation'].unique():\n",
    "    df_variation = norm_freq_melted[norm_freq_melted['Variation'] == variation]\n",
    "    fig.add_trace(go.Scatter(\n",
    "        x=df_variation['Navigations'],\n",
    "        y=df_variation['Normalized Frequency'],\n",
    "        mode='lines+markers',\n",
    "        name=variation\n",
    "    ))\n",
    "\n",
    "# Update layout\n",
    "fig.update_layout(\n",
    "    title='Total Navigations done bteween start and last page by ussrs who completed the process',\n",
    "    xaxis_title='Navigations',\n",
    "    yaxis_title='Normalized Frequency',\n",
    "    legend_title='Variation',\n",
    "    template='plotly_white'\n",
    ")\n",
    "\n",
    "# Show plot\n",
    "fig.show()"
   ]
  },
  {
   "cell_type": "code",
   "execution_count": null,
   "metadata": {},
   "outputs": [],
   "source": [
    "df_test_final['date'] = pd.to_datetime(df_test_final['date'])\n",
    "df_control_final['date'] = pd.to_datetime(df_control_final['date'])\n",
    "\n",
    "# Filter data for the first month\n",
    "start_date = df_test_final['date'].min()\n",
    "end_date = start_date + pd.DateOffset(days=30)\n",
    "\n",
    "filtered_test_df = df_test_final[(df_test_final['date'] >= start_date) & (df_test_final['date'] < end_date)]\n",
    "filtered_control_df = df_control_final[(df_control_final['date'] >= start_date) & (df_control_final['date'] < end_date)]\n",
    "\n",
    "# Calculate daily completion rate for test data\n",
    "daily_completion_test = filtered_test_df.groupby(filtered_test_df['date'].dt.date)['completion'].mean()\n",
    "\n",
    "# Calculate daily completion rate for control data\n",
    "daily_completion_control = filtered_control_df.groupby(filtered_control_df['date'].dt.date)['completion'].mean()\n",
    "\n",
    "# Create a line+scatter plot\n",
    "fig = go.Figure()\n",
    "\n",
    "# Line+scatter for test data\n",
    "fig.add_trace(go.Scatter(\n",
    "    x=daily_completion_test.index,\n",
    "    y=daily_completion_test.values,\n",
    "    mode='lines+markers',\n",
    "    name='Test Data',\n",
    "    line=dict(color='blue')\n",
    "))\n",
    "\n",
    "# Line+scatter for control data\n",
    "fig.add_trace(go.Scatter(\n",
    "    x=daily_completion_control.index,\n",
    "    y=daily_completion_control.values,\n",
    "    mode='lines+markers',\n",
    "    name='Control Data',\n",
    "    line=dict(color='red')\n",
    "))\n",
    "\n",
    "# Update layout\n",
    "fig.update_layout(\n",
    "    title='Daily Completion Rate for Test and Control Data (First Month)',\n",
    "    xaxis_title='Date',\n",
    "    yaxis_title='Completion Rate',\n",
    "    yaxis_tickformat=',.0%',\n",
    "    legend_title_text='Data Source'\n",
    ")\n",
    "\n",
    "# Show the plot\n"
   ]
  },
  {
   "cell_type": "code",
   "execution_count": null,
   "metadata": {},
   "outputs": [],
   "source": [
    "df_test_final['date'] = pd.to_datetime(df_test_final['date'])\n",
    "df_control_final['date'] = pd.to_datetime(df_control_final['date'])\n",
    "\n",
    "# Calculate the start and end dates for the second month\n",
    "start_date = df_test_final['date'].min()\n",
    "end_first_month = start_date + pd.DateOffset(days=30)\n",
    "start_second_month = end_first_month\n",
    "end_second_month = start_second_month + pd.DateOffset(days=30)\n",
    "\n",
    "# Filter data for the second month\n",
    "filtered_test_df = df_test_final[(df_test_final['date'] >= start_second_month) & (df_test_final['date'] < end_second_month)]\n",
    "filtered_control_df = df_control_final[(df_control_final['date'] >= start_second_month) & (df_control_final['date'] < end_second_month)]\n",
    "\n",
    "# Calculate daily completion rate for test data\n",
    "daily_completion_test = filtered_test_df.groupby(filtered_test_df['date'].dt.date)['completion'].mean()\n",
    "\n",
    "# Calculate daily completion rate for control data\n",
    "daily_completion_control = filtered_control_df.groupby(filtered_control_df['date'].dt.date)['completion'].mean()\n",
    "\n",
    "# Create a line+scatter plot\n",
    "fig = go.Figure()\n",
    "\n",
    "# Line+scatter for test data\n",
    "fig.add_trace(go.Scatter(\n",
    "    x=daily_completion_test.index,\n",
    "    y=daily_completion_test.values,\n",
    "    mode='lines+markers',\n",
    "    name='Test Data',\n",
    "    line=dict(color='blue')\n",
    "))\n",
    "\n",
    "# Line+scatter for control data\n",
    "fig.add_trace(go.Scatter(\n",
    "    x=daily_completion_control.index,\n",
    "    y=daily_completion_control.values,\n",
    "    mode='lines+markers',\n",
    "    name='Control Data',\n",
    "    line=dict(color='red')\n",
    "))\n",
    "\n",
    "# Update layout\n",
    "fig.update_layout(\n",
    "    title='Daily Completion Rate for Test and Control Data (Second Month)',\n",
    "    xaxis_title='Date',\n",
    "    yaxis_title='Completion Rate',\n",
    "    yaxis_tickformat=',.0%',\n",
    "    legend_title_text='Data Source'\n",
    ")\n"
   ]
  },
  {
   "cell_type": "code",
   "execution_count": null,
   "metadata": {},
   "outputs": [],
   "source": [
    "df_test_final['date'] = pd.to_datetime(df_test_final['date'])\n",
    "df_control_final['date'] = pd.to_datetime(df_control_final['date'])\n",
    "\n",
    "# Calculate the start and end dates for the third month\n",
    "start_date = df_test_final['date'].min()\n",
    "end_first_month = start_date + pd.DateOffset(days=30)\n",
    "start_second_month = end_first_month\n",
    "end_second_month = start_second_month + pd.DateOffset(days=30)\n",
    "start_third_month = end_second_month\n",
    "end_third_month = start_third_month + pd.DateOffset(days=30)\n",
    "\n",
    "# Filter data for the third month\n",
    "filtered_test_df = df_test_final[(df_test_final['date'] >= start_third_month) & (df_test_final['date'] < end_third_month)]\n",
    "filtered_control_df = df_control_final[(df_control_final['date'] >= start_third_month) & (df_control_final['date'] < end_third_month)]\n",
    "\n",
    "# Calculate daily completion rate for test data\n",
    "daily_completion_test = filtered_test_df.groupby(filtered_test_df['date'].dt.date)['completion'].mean()\n",
    "\n",
    "# Calculate daily completion rate for control data\n",
    "daily_completion_control = filtered_control_df.groupby(filtered_control_df['date'].dt.date)['completion'].mean()\n",
    "\n",
    "# Create a line+scatter plot\n",
    "fig = go.Figure()\n",
    "\n",
    "# Line+scatter for test data\n",
    "fig.add_trace(go.Scatter(\n",
    "    x=daily_completion_test.index,\n",
    "    y=daily_completion_test.values,\n",
    "    mode='lines+markers',\n",
    "    name='Test Data',\n",
    "    line=dict(color='blue')\n",
    "))\n",
    "\n",
    "# Line+scatter for control data\n",
    "fig.add_trace(go.Scatter(\n",
    "    x=daily_completion_control.index,\n",
    "    y=daily_completion_control.values,\n",
    "    mode='lines+markers',\n",
    "    name='Control Data',\n",
    "    line=dict(color='red')\n",
    "))\n",
    "\n",
    "# Update layout\n",
    "fig.update_layout(\n",
    "    title='Daily Completion Rate for Test and Control Data (Third Month)',\n",
    "    xaxis_title='Date',\n",
    "    yaxis_title='Completion Rate',\n",
    "    yaxis_tickformat=',.0%',\n",
    "    legend_title_text='Data Source'\n",
    ")\n",
    "\n",
    "# Show the plot\n"
   ]
  },
  {
   "cell_type": "code",
   "execution_count": null,
   "metadata": {},
   "outputs": [],
   "source": [
    "df_test_final['date'] = pd.to_datetime(df_test_final['date'])\n",
    "df_control_final['date'] = pd.to_datetime(df_control_final['date'])\n",
    "\n",
    "# Calculate the start and end dates for the three months\n",
    "start_date = df_test_final['date'].min()\n",
    "end_third_month = start_date + pd.DateOffset(days=90)\n",
    "\n",
    "# Filter data for the three months\n",
    "filtered_test_df = df_test_final[(df_test_final['date'] >= start_date) & (df_test_final['date'] < end_third_month)]\n",
    "filtered_control_df = df_control_final[(df_control_final['date'] >= start_date) & (df_control_final['date'] < end_third_month)]\n",
    "\n",
    "# Calculate daily completion rate for test data\n",
    "daily_completion_test = filtered_test_df.groupby(filtered_test_df['date'].dt.date)['completion'].mean()\n",
    "\n",
    "# Calculate daily completion rate for control data\n",
    "daily_completion_control = filtered_control_df.groupby(filtered_control_df['date'].dt.date)['completion'].mean()\n",
    "\n",
    "# Create a line+scatter plot\n",
    "fig = go.Figure()\n",
    "\n",
    "# Line+scatter for test data\n",
    "fig.add_trace(go.Scatter(\n",
    "    x=daily_completion_test.index,\n",
    "    y=daily_completion_test.values,\n",
    "    mode='lines+markers',\n",
    "    name='Test Data',\n",
    "    line=dict(shape='linear', color='blue')\n",
    "))\n",
    "\n",
    "# Line+scatter for control data\n",
    "fig.add_trace(go.Scatter(\n",
    "    x=daily_completion_control.index,\n",
    "    y=daily_completion_control.values,\n",
    "    mode='lines+markers',\n",
    "    name='Control Data',\n",
    "    line=dict(shape='linear', color='red')\n",
    "))\n",
    "\n",
    "# Update layout\n",
    "fig.update_layout(\n",
    "    title='Daily Completion Rate for Test and Control Data (Three Months)',\n",
    "    xaxis_title='Date',\n",
    "    yaxis_title='Completion Rate',\n",
    "    yaxis_tickformat=',.0%',\n",
    "    legend_title_text='Data Source'\n",
    ")\n",
    "\n",
    "# Show the plot\n"
   ]
  },
  {
   "cell_type": "code",
   "execution_count": null,
   "metadata": {},
   "outputs": [],
   "source": [
    "df_test_final['date'] = pd.to_datetime(df_test_final['date'])\n",
    "df_control_final['date'] = pd.to_datetime(df_control_final['date'])\n",
    "\n",
    "# Filter data where total_navigations is 3\n",
    "filtered_test_df = df_test_final[df_test_final['total_navigations'] == 3]\n",
    "filtered_control_df = df_control_final[df_control_final['total_navigations'] == 3]\n",
    "\n",
    "# Calculate daily completion rate for test data where total_navigations is 3\n",
    "daily_completion_test = filtered_test_df.groupby(filtered_test_df['date'].dt.date)['completion'].mean()\n",
    "\n",
    "# Calculate daily completion rate for control data where total_navigations is 3\n",
    "daily_completion_control = filtered_control_df.groupby(filtered_control_df['date'].dt.date)['completion'].mean()\n",
    "\n",
    "# Create a line+scatter plot\n",
    "fig = go.Figure()\n",
    "\n",
    "# Line+scatter for test data\n",
    "fig.add_trace(go.Scatter(\n",
    "    x=daily_completion_test.index,\n",
    "    y=daily_completion_test.values,\n",
    "    mode='lines+markers',\n",
    "    name='Test Data',\n",
    "    line=dict(shape='linear', color='blue')\n",
    "))\n",
    "\n",
    "# Line+scatter for control data\n",
    "fig.add_trace(go.Scatter(\n",
    "    x=daily_completion_control.index,\n",
    "    y=daily_completion_control.values,\n",
    "    mode='lines+markers',\n",
    "    name='Control Data',\n",
    "    line=dict(shape='linear', color='red')\n",
    "))\n",
    "\n",
    "# Update layout\n",
    "fig.update_layout(\n",
    "    title='Daily Completion Rate for Test and Control Data (Total Navigations = 3)',\n",
    "    xaxis_title='Date',\n",
    "    yaxis_title='Completion Rate',\n",
    "    yaxis_tickformat=',.0%',\n",
    "    legend_title_text='Data Source'\n",
    ")\n",
    "\n",
    "# Show the plot"
   ]
  },
  {
   "cell_type": "code",
   "execution_count": null,
   "metadata": {},
   "outputs": [],
   "source": [
    "df_test_final['date'] = pd.to_datetime(df_test_final['date'])\n",
    "df_control_final['date'] = pd.to_datetime(df_control_final['date'])\n",
    "\n",
    "# Filter data where total_navigations is 3\n",
    "filtered_test_df = df_test_final[df_test_final['total_steps'] == 5]\n",
    "filtered_control_df = df_control_final[df_control_final['total_steps'] == 5]\n",
    "\n",
    "# Count occurrences of total_navigations = 3 by date for test data\n",
    "counts_test = filtered_test_df.groupby(filtered_test_df['date'].dt.date).size()\n",
    "\n",
    "# Count occurrences of total_navigations = 3 by date for control data\n",
    "counts_control = filtered_control_df.groupby(filtered_control_df['date'].dt.date).size()\n",
    "\n",
    "# Create a line+scatter plot\n",
    "fig = go.Figure()\n",
    "\n",
    "# Line+scatter for test data\n",
    "fig.add_trace(go.Scatter(\n",
    "    x=counts_test.index,\n",
    "    y=counts_test.values,\n",
    "    mode='lines+markers',\n",
    "    name='Test Data',\n",
    "    line=dict(shape='linear', color='blue')\n",
    "))\n",
    "\n",
    "# Line+scatter for control data\n",
    "fig.add_trace(go.Scatter(\n",
    "    x=counts_control.index,\n",
    "    y=counts_control.values,\n",
    "    mode='lines+markers',\n",
    "    name='Control Data',\n",
    "    line=dict(shape='linear', color='red')\n",
    "))\n",
    "\n",
    "# Update layout\n",
    "fig.update_layout(\n",
    "    title='Frequency of Total steps taken = 5 by Date',\n",
    "    xaxis_title='Date',\n",
    "    yaxis_title='Frequency of Total steps taken = 5',\n",
    "    legend_title_text='Data Source'\n",
    ")\n",
    "\n",
    "# Show the plot\n"
   ]
  },
  {
   "cell_type": "code",
   "execution_count": null,
   "metadata": {},
   "outputs": [],
   "source": [
    "df_test['date_time'] = pd.to_datetime(df_test['date_time'])\n",
    "df_control['date_time'] = pd.to_datetime(df_control['date_time'])\n",
    "\n",
    "# Function to calculate error rate and completion rate\n",
    "def calculate_rates(df):\n",
    "    # Sort the dataframe by 'visit_id' and 'date_time'\n",
    "    df = df.sort_values(by=['visit_id', 'date_time'])\n",
    "    \n",
    "    # Calculate the time difference between steps\n",
    "    df['time_diff'] = df.groupby('visit_id')['date_time'].diff().dt.total_seconds()\n",
    "    \n",
    "    # Identify completions (where process step is 'confirm')\n",
    "    df['completion'] = df['process_step'] == 'confirm'\n",
    "    \n",
    "    # Convert 'process_step' to a category type and then to codes for numerical comparison\n",
    "    df['process_step_code'] = df['process_step'].astype('category').cat.codes\n",
    "    \n",
    "    # Identify errors (going back to the previous step in less than 5 seconds)\n",
    "    df['error'] = (df['time_diff'] < 3) & (df['process_step_code'].diff() < 0)\n",
    "    \n",
    "    # Calculate the daily error rate\n",
    "    error_rate = df.groupby(df['date_time'].dt.date)['error'].mean()\n",
    "    \n",
    "    # Calculate the daily completion rate\n",
    "    completion_rate = df.groupby(df['date_time'].dt.date)['completion'].mean()\n",
    "    \n",
    "    return error_rate, completion_rate\n",
    "\n",
    "# Calculate rates for test data\n",
    "error_rate_test, completion_rate_test = calculate_rates(df_test)\n",
    "\n",
    "# Calculate rates for control data\n",
    "error_rate_control, completion_rate_control = calculate_rates(df_control)\n",
    "\n",
    "# Create a scatter plot with lines for error rate vs. completion rate\n",
    "fig = go.Figure()\n",
    "\n",
    "# Line+scatter for test data error rate\n",
    "fig.add_trace(go.Scatter(\n",
    "    x=error_rate_test.index,\n",
    "    y=error_rate_test.values,\n",
    "    mode='lines+markers',\n",
    "    name='Test Data Error Rate',\n",
    "    line=dict(shape='linear', color='red')\n",
    "))\n",
    "\n",
    "# Line+scatter for test data completion rate\n",
    "fig.add_trace(go.Scatter(\n",
    "    x=completion_rate_test.index,\n",
    "    y=completion_rate_test.values,\n",
    "    mode='lines+markers',\n",
    "    name='Test Data Completion Rate',\n",
    "    line=dict(shape='linear', color='blue')\n",
    "))\n",
    "\n",
    "# Line+scatter for control data error rate\n",
    "fig.add_trace(go.Scatter(\n",
    "    x=error_rate_control.index,\n",
    "    y=error_rate_control.values,\n",
    "    mode='lines+markers',\n",
    "    name='Control Data Error Rate',\n",
    "    line=dict(shape='linear', color='orange')\n",
    "))\n",
    "\n",
    "# Line+scatter for control data completion rate\n",
    "fig.add_trace(go.Scatter(\n",
    "    x=completion_rate_control.index,\n",
    "    y=completion_rate_control.values,\n",
    "    mode='lines+markers',\n",
    "    name='Control Data Completion Rate',\n",
    "    line=dict(shape='linear', color='green')\n",
    "))\n",
    "\n",
    "# Update layout\n",
    "fig.update_layout(\n",
    "    title='Completion Rate vs. Error Rate (Test and Control Data)',\n",
    "    xaxis_title='Date',\n",
    "    yaxis_title='Rate',\n",
    "    yaxis_tickformat=',.0%',\n",
    "    legend_title_text='Rate Type'\n",
    ")\n",
    "\n",
    "# Show the plot"
   ]
  },
  {
   "cell_type": "code",
   "execution_count": null,
   "metadata": {},
   "outputs": [],
   "source": []
  },
  {
   "cell_type": "code",
   "execution_count": null,
   "metadata": {},
   "outputs": [],
   "source": [
    "def plot_distribution(df, variable, title):\n",
    "    plt.figure(figsize=(12, 6))\n",
    "    sns.histplot(df[variable], kde=False, discrete=True, bins=range(df[variable].max() + 1))\n",
    "    plt.title(title)\n",
    "    plt.xlabel(variable)\n",
    "    plt.ylabel('Frequency')\n",
    "    plt.show()\n",
    "\n",
    "# Plot distribution for total navigations in both test and control datasets\n",
    "plot_distribution(df_test_final, 'total_navigations', 'Distribution of Total Navigations (Test Data)')\n",
    "plot_distribution(df_control_final, 'total_navigations', 'Distribution of Total Navigations (Control Data)')"
   ]
  },
  {
   "cell_type": "code",
   "execution_count": null,
   "metadata": {},
   "outputs": [],
   "source": [
    "from scipy.stats import shapiro\n",
    "\n",
    "# Check normality for total_navigations\n",
    "stat, p = shapiro(df_test_final['total_navigations'])\n",
    "print('Shapiro-Wilk Test: Statistics=%.3f, p=%.3f' % (stat, p))\n",
    "\n",
    "if p > 0.05:\n",
    "    print('Sample looks Gaussian (fail to reject H0)')\n",
    "else:\n",
    "    print('Sample does not look Gaussian (reject H0)')"
   ]
  },
  {
   "cell_type": "code",
   "execution_count": null,
   "metadata": {},
   "outputs": [],
   "source": [
    "from scipy.stats import spearmanr, kendalltau\n",
    "\n",
    "# Spearman correlation for test data\n",
    "spearman_corr, spearman_p = spearmanr(df_test_final['total_navigations'], df_test_final['completion'])\n",
    "print(f'Spearman correlation: {spearman_corr}, p-value: {spearman_p}')\n",
    "\n",
    "# Kendall's Tau correlation for test data\n",
    "kendall_corr, kendall_p = kendalltau(df_test_final['total_navigations'], df_test_final['completion'])\n",
    "print(f'Kendall Tau correlation: {kendall_corr}, p-value: {kendall_p}')"
   ]
  },
  {
   "cell_type": "code",
   "execution_count": null,
   "metadata": {},
   "outputs": [],
   "source": [
    "import matplotlib.pyplot as plt\n",
    "import seaborn as sns\n",
    "\n",
    "# Plot histogram\n",
    "plt.figure(figsize=(10, 5))\n",
    "sns.histplot(df_test_final['total_navigations'], kde=False, discrete=True)\n",
    "plt.title('Histogram of Total Navigations')\n",
    "plt.xlabel('Total Navigations')\n",
    "plt.ylabel('Frequency')\n",
    "plt.show()\n",
    "\n",
    "# Plot box plot\n",
    "plt.figure(figsize=(10, 5))\n",
    "sns.boxplot(x=df_test_final['total_navigations'])\n",
    "plt.title('Box Plot of Total Navigations')\n",
    "plt.xlabel('Total Navigations')\n",
    "plt.show()"
   ]
  },
  {
   "cell_type": "code",
   "execution_count": null,
   "metadata": {},
   "outputs": [],
   "source": [
    "# Log Transformation\n",
    "df_test_final['log_total_navigations'] = np.log1p(df_test_final['total_navigations'])\n",
    "\n",
    "# Check normality again after transformation\n",
    "stat, p = shapiro(df_test_final['log_total_navigations'])\n",
    "print('Shapiro-Wilk Test after Log Transformation: Statistics=%.3f, p=%.3f' % (stat, p))\n",
    "\n",
    "if p > 0.05:\n",
    "    print('Transformed sample looks Gaussian (fail to reject H0)')\n",
    "else:\n",
    "    print('Transformed sample does not look Gaussian (reject H0)')"
   ]
  },
  {
   "cell_type": "code",
   "execution_count": null,
   "metadata": {},
   "outputs": [],
   "source": [
    "import scipy.stats as stats\n",
    "def plot_histogram(data, column, title):\n",
    "    plt.figure(figsize=(10, 6))\n",
    "    sns.histplot(data[column], kde=True)\n",
    "    plt.title(title)\n",
    "    plt.xlabel(column)\n",
    "    plt.ylabel('Frequency')\n",
    "    plt.show()\n",
    "\n",
    "# Q-Q Plot\n",
    "def plot_qqplot(data, column, title):\n",
    "    plt.figure(figsize=(10, 6))\n",
    "    stats.probplot(data[column], dist=\"norm\", plot=plt)\n",
    "    plt.title(title)\n",
    "    plt.show()\n",
    "\n",
    "# Box Plot\n",
    "def plot_boxplot(data, column, title):\n",
    "    plt.figure(figsize=(10, 6))\n",
    "    sns.boxplot(x=data[column])\n",
    "    plt.title(title)\n",
    "    plt.xlabel(column)\n",
    "    plt.show()\n",
    "\n",
    "# Plot for 'total_navigations'\n",
    "plot_histogram(df_test_final, 'total_navigations', 'Histogram of Total Navigations (Test Data)')\n",
    "plot_qqplot(df_test_final, 'total_navigations', 'Q-Q Plot of Total Navigations (Test Data)')\n",
    "plot_boxplot(df_test_final, 'total_navigations', 'Box Plot of Total Navigations (Test Data)')"
   ]
  },
  {
   "cell_type": "code",
   "execution_count": null,
   "metadata": {},
   "outputs": [],
   "source": [
    "def shapiro_wilk_test(data, column):\n",
    "    stat, p = stats.shapiro(data[column])\n",
    "    print(f'Shapiro-Wilk Test for {column}: Statistics={stat}, p-value={p}')\n",
    "    if p > 0.05:\n",
    "        print(f'{column} looks Gaussian (fail to reject H0)')\n",
    "    else:\n",
    "        print(f'{column} does not look Gaussian (reject H0)')\n",
    "\n",
    "# Kolmogorov-Smirnov Test\n",
    "def kolmogorov_smirnov_test(data, column):\n",
    "    stat, p = stats.kstest(data[column], 'norm', args=(data[column].mean(), data[column].std()))\n",
    "    print(f'Kolmogorov-Smirnov Test for {column}: Statistics={stat}, p-value={p}')\n",
    "    if p > 0.05:\n",
    "        print(f'{column} looks Gaussian (fail to reject H0)')\n",
    "    else:\n",
    "        print(f'{column} does not look Gaussian (reject H0)')\n",
    "\n",
    "# Anderson-Darling Test\n",
    "def anderson_darling_test(data, column):\n",
    "    result = stats.anderson(data[column])\n",
    "    print(f'Anderson-Darling Test for {column}: Statistic={result.statistic}')\n",
    "    for i in range(len(result.critical_values)):\n",
    "        sl, cv = result.significance_level[i], result.critical_values[i]\n",
    "        if result.statistic < cv:\n",
    "            print(f'{sl}%: {column} looks Gaussian (fail to reject H0)')\n",
    "        else:\n",
    "            print(f'{sl}%: {column} does not look Gaussian (reject H0)')\n",
    "\n",
    "# D'Agostino's K-squared Test\n",
    "def dagostino_test(data, column):\n",
    "    stat, p = stats.normaltest(data[column])\n",
    "    print(f'D\\'Agostino\\'s K-squared Test for {column}: Statistics={stat}, p-value={p}')\n",
    "    if p > 0.05:\n",
    "        print(f'{column} looks Gaussian (fail to reject H0)')\n",
    "    else:\n",
    "        print(f'{column} does not look Gaussian (reject H0)')\n",
    "\n",
    "# Apply tests for 'total_navigations'\n",
    "shapiro_wilk_test(df_test_final, 'total_navigations')\n",
    "kolmogorov_smirnov_test(df_test_final, 'total_navigations')\n",
    "anderson_darling_test(df_test_final, 'total_navigations')\n",
    "dagostino_test(df_test_final, 'total_navigations')"
   ]
  },
  {
   "cell_type": "code",
   "execution_count": null,
   "metadata": {},
   "outputs": [],
   "source": [
    "plt.figure(figsize=(12, 6))\n",
    "plt.subplot(1, 2, 1)\n",
    "sns.histplot(df_test_final['total_navigations'], kde=True)\n",
    "plt.title('Original Data')\n",
    "plt.subplot(1, 2, 2)\n",
    "sns.histplot(df_test_final['log_total_navigations'], kde=True)\n",
    "plt.title('Log Transformed Data')\n",
    "plt.show()"
   ]
  },
  {
   "cell_type": "markdown",
   "metadata": {},
   "source": [
    "# Step by step EDA for numerical columns"
   ]
  },
  {
   "cell_type": "markdown",
   "metadata": {},
   "source": []
  },
  {
   "cell_type": "code",
   "execution_count": null,
   "metadata": {},
   "outputs": [],
   "source": [
    "sns.histplot(df_test_final['navigations_bt_start_last'], kde=True)\n",
    "plt.show()\n",
    "sns.boxplot(df_test_final['navigations_bt_start_last'])\n",
    "plt.show()"
   ]
  },
  {
   "cell_type": "code",
   "execution_count": null,
   "metadata": {},
   "outputs": [],
   "source": [
    "from scipy.stats import shapiro\n",
    "shapiro_test = shapiro(df_test_final['total_navigations'])\n",
    "print(shapiro_test)"
   ]
  },
  {
   "cell_type": "code",
   "execution_count": null,
   "metadata": {},
   "outputs": [],
   "source": [
    "from scipy import stats\n",
    "z_scores = stats.zscore(df_test_final['total_navigations'])\n",
    "outliers = np.where(np.abs(z_scores) > 3)\n",
    "print(outliers)"
   ]
  },
  {
   "cell_type": "code",
   "execution_count": null,
   "metadata": {},
   "outputs": [],
   "source": [
    "skewness = df_test_final['total_navigations'].skew()\n",
    "kurtosis = df_test_final['total_navigations'].kurt()\n",
    "print(f\"Skewness: {skewness}, Kurtosis: {kurtosis}\")"
   ]
  },
  {
   "cell_type": "code",
   "execution_count": null,
   "metadata": {},
   "outputs": [],
   "source": [
    "df_test_final['log_total_navigations'] = np.log(df_test_final['total_navigations'] + 1)\n",
    "sns.histplot(df_test_final['log_total_navigations'], kde=True)\n",
    "plt.show()"
   ]
  },
  {
   "cell_type": "code",
   "execution_count": null,
   "metadata": {},
   "outputs": [],
   "source": [
    "df_test_final['sqrt_total_navigations'] = np.sqrt(df_test_final['total_navigations'])\n",
    "\n",
    "# Check distribution of square root-transformed total_navigations\n",
    "plt.figure(figsize=(12, 6))\n",
    "plt.subplot(1, 2, 1)\n",
    "sns.histplot(df_test_final['sqrt_total_navigations'], kde=True)\n",
    "plt.title('Histogram of Square Root-Transformed Total Navigations')\n",
    "\n",
    "plt.subplot(1, 2, 2)\n",
    "stats.probplot(df_test_final['sqrt_total_navigations'], dist=\"norm\", plot=plt)\n",
    "plt.title('Q-Q Plot of Square Root-Transformed Total Navigations')\n",
    "\n",
    "plt.show()\n",
    "\n",
    "# Perform Shapiro-Wilk test for normality on square root-transformed data\n",
    "shapiro_test_sqrt = stats.shapiro(df_test_final['sqrt_total_navigations'])\n",
    "print(f'Shapiro-Wilk Test on Square Root-Transformed Data: Statistic={shapiro_test_sqrt.statistic}, p-value={shapiro_test_sqrt.pvalue}')"
   ]
  },
  {
   "cell_type": "code",
   "execution_count": null,
   "metadata": {},
   "outputs": [],
   "source": []
  },
  {
   "cell_type": "code",
   "execution_count": null,
   "metadata": {},
   "outputs": [],
   "source": [
    "df_test_final['yeojohnson_total_navigations'], fitted_lambda = stats.yeojohnson(df_test_final['total_navigations'])\n",
    "\n",
    "# Check distribution of Yeo-Johnson transformed total_navigations\n",
    "plt.figure(figsize=(12, 6))\n",
    "plt.subplot(1, 2, 1)\n",
    "sns.histplot(df_test_final['yeojohnson_total_navigations'], kde=True)\n",
    "plt.title('Histogram of Yeo-Johnson Transformed Total Navigations')\n",
    "\n",
    "plt.subplot(1, 2, 2)\n",
    "stats.probplot(df_test_final['yeojohnson_total_navigations'], dist=\"norm\", plot=plt)\n",
    "plt.title('Q-Q Plot of Yeo-Johnson Transformed Total Navigations')\n",
    "\n",
    "plt.show()\n",
    "\n",
    "# Perform Shapiro-Wilk test for normality on Yeo-Johnson transformed data\n",
    "shapiro_test_yeojohnson = stats.shapiro(df_test_final['yeojohnson_total_navigations'])\n",
    "print(f'Shapiro-Wilk Test on Yeo-Johnson Transformed Data: Statistic={shapiro_test_yeojohnson.statistic}, p-value={shapiro_test_yeojohnson.pvalue}')"
   ]
  },
  {
   "cell_type": "code",
   "execution_count": null,
   "metadata": {},
   "outputs": [],
   "source": [
    "def bootstrap_statistic(data, n_iterations=1000, stat_function=np.mean):\n",
    "    bootstrapped_stats = np.empty(n_iterations)\n",
    "    for i in range(n_iterations):\n",
    "        sample = np.random.choice(data, size=len(data), replace=True)\n",
    "        bootstrapped_stats[i] = stat_function(sample)\n",
    "    return bootstrapped_stats\n",
    "\n",
    "# Bootstrapping the mean of total navigations\n",
    "bootstrapped_means = bootstrap_statistic(df_test_final['total_navigations'].dropna())\n",
    "\n",
    "# Calculate confidence intervals\n",
    "confidence_interval = np.percentile(bootstrapped_means, [2.5, 97.5])\n",
    "print(\"95% Confidence Interval for the mean of total navigations:\", confidence_interval)\n",
    "\n",
    "\n",
    "import seaborn as sns\n",
    "import matplotlib.pyplot as plt\n",
    "\n",
    "# Plotting the distributions\n",
    "fig, axes = plt.subplots(1, 2, figsize=(12, 6))\n",
    "\n",
    "sns.histplot(df_test_final['total_navigations'], ax=axes[0], kde=True)\n",
    "axes[0].set_title('Original Data')\n",
    "\n",
    "sns.histplot(np.log1p(df_test_final['total_navigations']), ax=axes[1], kde=True)\n",
    "axes[1].set_title('Log-Transformed Data')\n",
    "\n",
    "plt.tight_layout()\n",
    "plt.show()"
   ]
  },
  {
   "cell_type": "code",
   "execution_count": null,
   "metadata": {},
   "outputs": [],
   "source": [
    "def bootstrap_statistic(data, n_iterations=1000, stat_function=np.mean):\n",
    "    bootstrapped_stats = np.empty(n_iterations)\n",
    "    for i in range(n_iterations):\n",
    "        sample = np.random.choice(data, size=len(data), replace=True)\n",
    "        bootstrapped_stats[i] = stat_function(sample)\n",
    "    return bootstrapped_stats\n",
    "\n",
    "# Calculate bootstrapped means\n",
    "bootstrapped_means = bootstrap_statistic(df_test_final['total_navigations'].dropna())\n",
    "\n",
    "# Calculate 95% confidence intervals\n",
    "confidence_interval = np.percentile(bootstrapped_means, [2.5, 97.5])\n",
    "print(\"95% Confidence Interval for the mean of total navigations:\", confidence_interval)\n",
    "\n",
    "import seaborn as sns\n",
    "import matplotlib.pyplot as plt\n",
    "\n",
    "# Plot the distribution of bootstrapped means\n",
    "sns.histplot(bootstrapped_means, kde=True)\n",
    "plt.axvline(confidence_interval[0], color='red', linestyle='--', label=f'Lower 95% CI: {confidence_interval[0]:.2f}')\n",
    "plt.axvline(confidence_interval[1], color='red', linestyle='--', label=f'Upper 95% CI: {confidence_interval[1]:.2f}')\n",
    "plt.title('Bootstrapped Means of Total Navigations')\n",
    "plt.xlabel('Mean of Total Navigations')\n",
    "plt.ylabel('Frequency')\n",
    "plt.legend()\n",
    "plt.show()"
   ]
  },
  {
   "cell_type": "code",
   "execution_count": null,
   "metadata": {},
   "outputs": [],
   "source": [
    "stat, p = shapiro(df_test_final['total_navigations'].dropna())\n",
    "print(f'Statistic: {stat}, P-value: {p}')\n",
    "\n",
    "import scipy.stats as stats\n",
    "import matplotlib.pyplot as plt\n",
    "\n",
    "stats.probplot(df_test_final['total_navigations'], dist=\"norm\", plot=plt)\n",
    "plt.show()"
   ]
  },
  {
   "cell_type": "code",
   "execution_count": null,
   "metadata": {},
   "outputs": [],
   "source": [
    "def bootstrap_mean(data, n_iterations=1000):\n",
    "    boot_means = np.empty(n_iterations)\n",
    "    for i in range(n_iterations):\n",
    "        sample = np.random.choice(data, size=len(data), replace=True)\n",
    "        boot_means[i] = np.mean(sample)\n",
    "    return boot_means\n",
    "\n",
    "# Bootstrapped means for total_navigations\n",
    "boot_means = bootstrap_mean(df_test_final['total_navigations'].dropna())\n",
    "\n",
    "# Calculate 95% confidence intervals\n",
    "ci_low, ci_high = np.percentile(boot_means, [2.5, 97.5])\n",
    "print(f'95% Confidence Interval for the mean of total navigations: [{ci_low}, {ci_high}]')\n",
    "\n",
    "# Plotting the bootstrapped means\n",
    "import seaborn as sns\n",
    "import matplotlib.pyplot as plt\n",
    "\n",
    "sns.histplot(boot_means, kde=True)\n",
    "plt.axvline(ci_low, color='red', linestyle='--', label=f'Lower 95% CI: {ci_low:.2f}')\n",
    "plt.axvline(ci_high, color='red', linestyle='--', label=f'Upper 95% CI: {ci_high:.2f}')\n",
    "plt.title('Bootstrapped Means of Total Navigations')\n",
    "plt.xlabel('Mean of Total Navigations')\n",
    "plt.ylabel('Frequency')\n",
    "plt.legend()\n",
    "plt.show()"
   ]
  },
  {
   "cell_type": "code",
   "execution_count": null,
   "metadata": {},
   "outputs": [],
   "source": [
    "z_scores = stats.zscore(df_test_final['total_time_visit'])\n",
    "abs_z_scores = abs(z_scores)\n",
    "filtered_entries = (abs_z_scores < 3)  # Remove entries with z-score > 3\n",
    "df_no_outliers = df_test_final[filtered_entries]\n",
    "\n",
    "# Creating the violin plot without outliers\n",
    "plt.figure(figsize=(10, 6))\n",
    "sns.violinplot(x='completion', y='total_time_visit', data=df_no_outliers)\n",
    "plt.title('Violin Plot of Total Navigations by Category (Outliers Removed)')\n",
    "plt.show()"
   ]
  },
  {
   "cell_type": "code",
   "execution_count": null,
   "metadata": {},
   "outputs": [],
   "source": [
    "df_no_outliers['log_total_navigations'] = np.log1p(df_no_outliers['total_time_visit'])\n",
    "\n",
    "# Creating the violin plot with transformed data\n",
    "plt.figure(figsize=(10, 6))\n",
    "sns.violinplot(x='completion', y='total_time_visit', data=df_no_outliers)\n",
    "plt.title('Violin Plot of Log Transformed Total Navigations by Category')\n",
    "plt.show()"
   ]
  },
  {
   "cell_type": "code",
   "execution_count": null,
   "metadata": {},
   "outputs": [],
   "source": [
    "from scipy import stats\n",
    "z_scores = np.abs(stats.zscore(df_test_final['navigations_bt_start_last']))\n",
    "\n",
    "# Define the threshold for identifying outliers\n",
    "threshold = 3\n",
    "\n",
    "# Get a boolean array indicating if each point is an outlier\n",
    "outliers = z_scores > threshold\n",
    "\n",
    "# Filter out the outliers\n",
    "df_test_final_no_outliers = df_test_final[~outliers]\n",
    "\n",
    "# Plotting the cleaned data\n",
    "import seaborn as sns\n",
    "import matplotlib.pyplot as plt\n",
    "\n",
    "sns.histplot(df_test_final_no_outliers['navigations_bt_start_last'], kde=True)\n",
    "plt.title('Distribution of Total Navigations After Removing Outliers')\n",
    "plt.xlabel('navigations_bt_start_last')\n",
    "plt.ylabel('Frequency')\n",
    "plt.show()"
   ]
  },
  {
   "cell_type": "code",
   "execution_count": null,
   "metadata": {},
   "outputs": [],
   "source": [
    "Q1 = df_test_final['navigations_bt_start_last'].quantile(0.25)\n",
    "Q3 = df_test_final['navigations_bt_start_last'].quantile(0.75)\n",
    "IQR = Q3 - Q1\n",
    "\n",
    "# Define the bounds for identifying outliers\n",
    "lower_bound = Q1 - 1.5 * IQR\n",
    "upper_bound = Q3 + 1.5 * IQR\n",
    "\n",
    "# Filter out the outliers\n",
    "df_test_final_no_outliers = df_test_final[(df_test_final['navigations_bt_start_last'] >= lower_bound) & \n",
    "                                          (df_test_final['navigations_bt_start_last'] <= upper_bound)]\n",
    "\n",
    "# Plotting the cleaned data\n",
    "sns.histplot(df_test_final_no_outliers['navigations_bt_start_last'], kde=True)\n",
    "plt.title('Distribution of Total Navigations After Removing Outliers')\n",
    "plt.xlabel('Total Navigations')\n",
    "plt.ylabel('Frequency')\n",
    "plt.show()"
   ]
  },
  {
   "cell_type": "markdown",
   "metadata": {},
   "source": [
    "### Experiment Design"
   ]
  },
  {
   "cell_type": "code",
   "execution_count": null,
   "metadata": {},
   "outputs": [],
   "source": [
    "\n",
    "\n",
    "# Experiment Design Evaluation with Visualizations\n",
    "def experiment_evaluation_with_visualizations(df_control, df_test):\n",
    "    control_size = df_control['visit_visitor_id'].nunique()\n",
    "    test_size = df_test['visit_visitor_id'].nunique()\n",
    "\n",
    "    print(\"Control Group Size:\", control_size)\n",
    "    print(\"Test Group Size:\", test_size)\n",
    "\n",
    "    # Plot Group Sizes\n",
    "    plt.figure(figsize=(10, 5))\n",
    "    plt.bar(['Control', 'Test'], [control_size, test_size], color=['blue', 'orange'])\n",
    "    plt.title('Group Sizes')\n",
    "    plt.ylabel('Number of Unique Visitors')\n",
    "    plt.show()\n",
    "\n",
    "    # Gender Distribution\n",
    "    gender_dist_control = df_control['gendr'].value_counts(normalize=True)\n",
    "    gender_dist_test = df_test['gendr'].value_counts(normalize=True)\n",
    "\n",
    "    print(\"Gender Distribution Control:\\n\", gender_dist_control)\n",
    "    print(\"Gender Distribution Test:\\n\", gender_dist_test)\n",
    "\n",
    "    # Plot Gender Distribution\n",
    "    fig, axs = plt.subplots(1, 2, figsize=(15, 5))\n",
    "\n",
    "    axs[0].pie(gender_dist_control, labels=gender_dist_control.index, autopct='%1.1f%%', colors=['lightblue', 'lightgreen'])\n",
    "    axs[0].set_title('Gender Distribution - Control Group')\n",
    "\n",
    "    axs[1].pie(gender_dist_test, labels=gender_dist_test.index, autopct='%1.1f%%', colors=['lightcoral', 'lightskyblue'])\n",
    "    axs[1].set_title('Gender Distribution - Test Group')\n",
    "\n",
    "    plt.show()\n",
    "\n",
    "experiment_evaluation_with_visualizations(df_control_final, df_test_final)\n"
   ]
  },
  {
   "cell_type": "code",
   "execution_count": null,
   "metadata": {},
   "outputs": [],
   "source": [
    "# Additional Data Needs\n",
    "print(\"Additional data that could enhance the analysis:\")\n",
    "print(\"- Detailed logs of user interactions (e.g., clicks, hovers)\")\n",
    "print(\"- Feedback or survey data on user satisfaction\")\n",
    "print(\"- Data on external factors that could influence user behavior (e.g., marketing campaigns)\")\n"
   ]
  },
  {
   "cell_type": "code",
   "execution_count": null,
   "metadata": {},
   "outputs": [],
   "source": []
  }
 ],
 "metadata": {
  "kernelspec": {
   "display_name": ".venv",
   "language": "python",
   "name": "python3"
  },
  "language_info": {
   "codemirror_mode": {
    "name": "ipython",
    "version": 3
   },
   "file_extension": ".py",
   "mimetype": "text/x-python",
   "name": "python",
   "nbconvert_exporter": "python",
   "pygments_lexer": "ipython3",
   "version": "3.11.7"
  }
 },
 "nbformat": 4,
 "nbformat_minor": 2
}
