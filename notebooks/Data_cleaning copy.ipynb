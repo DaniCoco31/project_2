{
 "cells": [
  {
   "cell_type": "code",
   "execution_count": 34,
   "metadata": {},
   "outputs": [],
   "source": [
    "import pandas as pd\n",
    "import sys\n",
    "import numpy as np\n",
    "sys.path.append('../src')\n",
    "from functions import *\n",
    "import seaborn as sns\n",
    "import matplotlib.pyplot as plt\n",
    "from scipy.stats import ttest_ind, chi2_contingency\n",
    "from scipy.stats import ttest_ind"
   ]
  },
  {
   "cell_type": "markdown",
   "metadata": {},
   "source": [
    "# Loading the Data:"
   ]
  },
  {
   "cell_type": "code",
   "execution_count": 35,
   "metadata": {},
   "outputs": [],
   "source": [
    "df_clients_profile = pd.read_csv('../Data/Raw/df_final_demo.txt')\n",
    "df_web_data_1 = pd.read_csv('../Data/Raw/df_final_web_data_pt_1.txt')\n",
    "df_web_data_2 = pd.read_csv('../Data/Raw/df_final_web_data_pt_2.txt')\n",
    "df_experiment_clients = pd.read_csv('../Data/Raw/df_final_experiment_clients.txt')\n",
    "pd.set_option('display.max_columns', None) # To display all columns\n",
    "df_web_data = pd.concat([df_web_data_1, df_web_data_2], ignore_index= True)"
   ]
  },
  {
   "cell_type": "markdown",
   "metadata": {},
   "source": [
    "# Exploratory Data Analysis (EDA):"
   ]
  },
  {
   "cell_type": "markdown",
   "metadata": {},
   "source": [
    "### Exploring numerical and categorical variables"
   ]
  },
  {
   "cell_type": "code",
   "execution_count": 36,
   "metadata": {},
   "outputs": [
    {
     "name": "stdout",
     "output_type": "stream",
     "text": [
      "<class 'pandas.core.frame.DataFrame'>\n",
      "RangeIndex: 70609 entries, 0 to 70608\n",
      "Data columns (total 9 columns):\n",
      " #   Column            Non-Null Count  Dtype  \n",
      "---  ------            --------------  -----  \n",
      " 0   client_id         70609 non-null  int64  \n",
      " 1   clnt_tenure_yr    70595 non-null  float64\n",
      " 2   clnt_tenure_mnth  70595 non-null  float64\n",
      " 3   clnt_age          70594 non-null  float64\n",
      " 4   gendr             70595 non-null  object \n",
      " 5   num_accts         70595 non-null  float64\n",
      " 6   bal               70595 non-null  float64\n",
      " 7   calls_6_mnth      70595 non-null  float64\n",
      " 8   logons_6_mnth     70595 non-null  float64\n",
      "dtypes: float64(7), int64(1), object(1)\n",
      "memory usage: 4.8+ MB\n"
     ]
    }
   ],
   "source": [
    "# Retrieving the unique data types present in the dataframe columns\n",
    "df_clients_profile.info()"
   ]
  },
  {
   "cell_type": "code",
   "execution_count": 37,
   "metadata": {},
   "outputs": [
    {
     "name": "stdout",
     "output_type": "stream",
     "text": [
      "<class 'pandas.core.frame.DataFrame'>\n",
      "RangeIndex: 70609 entries, 0 to 70608\n",
      "Data columns (total 2 columns):\n",
      " #   Column     Non-Null Count  Dtype \n",
      "---  ------     --------------  ----- \n",
      " 0   client_id  70609 non-null  int64 \n",
      " 1   Variation  50500 non-null  object\n",
      "dtypes: int64(1), object(1)\n",
      "memory usage: 1.1+ MB\n"
     ]
    }
   ],
   "source": [
    "df_experiment_clients.info()"
   ]
  },
  {
   "cell_type": "code",
   "execution_count": 38,
   "metadata": {},
   "outputs": [
    {
     "name": "stdout",
     "output_type": "stream",
     "text": [
      "<class 'pandas.core.frame.DataFrame'>\n",
      "RangeIndex: 755405 entries, 0 to 755404\n",
      "Data columns (total 5 columns):\n",
      " #   Column        Non-Null Count   Dtype \n",
      "---  ------        --------------   ----- \n",
      " 0   client_id     755405 non-null  int64 \n",
      " 1   visitor_id    755405 non-null  object\n",
      " 2   visit_id      755405 non-null  object\n",
      " 3   process_step  755405 non-null  object\n",
      " 4   date_time     755405 non-null  object\n",
      "dtypes: int64(1), object(4)\n",
      "memory usage: 28.8+ MB\n"
     ]
    }
   ],
   "source": [
    "df_web_data.info()"
   ]
  },
  {
   "cell_type": "code",
   "execution_count": 39,
   "metadata": {},
   "outputs": [
    {
     "name": "stdout",
     "output_type": "stream",
     "text": [
      "Index(['client_id', 'clnt_tenure_yr', 'clnt_tenure_mnth', 'clnt_age',\n",
      "       'num_accts', 'bal', 'calls_6_mnth', 'logons_6_mnth'],\n",
      "      dtype='object')\n"
     ]
    }
   ],
   "source": [
    "# Extracting column names with numerical data types from the dataframe\n",
    "numerical_columns_profile = df_clients_profile.select_dtypes(include=[np.number]).columns\n",
    "print(numerical_columns_profile)"
   ]
  },
  {
   "cell_type": "code",
   "execution_count": 40,
   "metadata": {},
   "outputs": [
    {
     "name": "stdout",
     "output_type": "stream",
     "text": [
      "Index(['client_id'], dtype='object')\n"
     ]
    }
   ],
   "source": [
    "# Extracting column names with numerical data types from the dataframe\n",
    "numerical_columns_web = df_web_data.select_dtypes(include=[np.number]).columns\n",
    "print(numerical_columns_web)"
   ]
  },
  {
   "cell_type": "code",
   "execution_count": 41,
   "metadata": {},
   "outputs": [
    {
     "name": "stdout",
     "output_type": "stream",
     "text": [
      "Index(['client_id'], dtype='object')\n"
     ]
    }
   ],
   "source": [
    "# Extracting column names with numerical data types from the dataframe\n",
    "numerical_columns_exp_cli = df_web_data.select_dtypes(include=[np.number]).columns\n",
    "print(numerical_columns_exp_cli)"
   ]
  },
  {
   "cell_type": "code",
   "execution_count": 42,
   "metadata": {},
   "outputs": [
    {
     "data": {
      "text/html": [
       "<div>\n",
       "<style scoped>\n",
       "    .dataframe tbody tr th:only-of-type {\n",
       "        vertical-align: middle;\n",
       "    }\n",
       "\n",
       "    .dataframe tbody tr th {\n",
       "        vertical-align: top;\n",
       "    }\n",
       "\n",
       "    .dataframe thead th {\n",
       "        text-align: right;\n",
       "    }\n",
       "</style>\n",
       "<table border=\"1\" class=\"dataframe\">\n",
       "  <thead>\n",
       "    <tr style=\"text-align: right;\">\n",
       "      <th></th>\n",
       "    </tr>\n",
       "  </thead>\n",
       "  <tbody>\n",
       "    <tr>\n",
       "      <th>0</th>\n",
       "    </tr>\n",
       "    <tr>\n",
       "      <th>1</th>\n",
       "    </tr>\n",
       "    <tr>\n",
       "      <th>2</th>\n",
       "    </tr>\n",
       "    <tr>\n",
       "      <th>3</th>\n",
       "    </tr>\n",
       "    <tr>\n",
       "      <th>4</th>\n",
       "    </tr>\n",
       "    <tr>\n",
       "      <th>...</th>\n",
       "    </tr>\n",
       "    <tr>\n",
       "      <th>70604</th>\n",
       "    </tr>\n",
       "    <tr>\n",
       "      <th>70605</th>\n",
       "    </tr>\n",
       "    <tr>\n",
       "      <th>70606</th>\n",
       "    </tr>\n",
       "    <tr>\n",
       "      <th>70607</th>\n",
       "    </tr>\n",
       "    <tr>\n",
       "      <th>70608</th>\n",
       "    </tr>\n",
       "  </tbody>\n",
       "</table>\n",
       "<p>70609 rows × 0 columns</p>\n",
       "</div>"
      ],
      "text/plain": [
       "Empty DataFrame\n",
       "Columns: []\n",
       "Index: [0, 1, 2, 3, 4, 5, 6, 7, 8, 9, 10, 11, 12, 13, 14, 15, 16, 17, 18, 19, 20, 21, 22, 23, 24, 25, 26, 27, 28, 29, 30, 31, 32, 33, 34, 35, 36, 37, 38, 39, 40, 41, 42, 43, 44, 45, 46, 47, 48, 49, 50, 51, 52, 53, 54, 55, 56, 57, 58, 59, 60, 61, 62, 63, 64, 65, 66, 67, 68, 69, 70, 71, 72, 73, 74, 75, 76, 77, 78, 79, 80, 81, 82, 83, 84, 85, 86, 87, 88, 89, 90, 91, 92, 93, 94, 95, 96, 97, 98, 99, ...]\n",
       "\n",
       "[70609 rows x 0 columns]"
      ]
     },
     "execution_count": 42,
     "metadata": {},
     "output_type": "execute_result"
    }
   ],
   "source": [
    "# Separating between discrete and continuous variables, as discrete ones could potentially be treated as categorical.\n",
    "# Remember to adjust the threshold (in this case, < 20) based on your dataset's specific characteristics and domain knowledge.\n",
    "potential_categorical_from_numerical_profile = df_clients_profile.select_dtypes(\"number\").loc[:, df_clients_profile.select_dtypes(\"number\").nunique() < 5]\n",
    "potential_categorical_from_numerical_profile"
   ]
  },
  {
   "cell_type": "code",
   "execution_count": 43,
   "metadata": {},
   "outputs": [
    {
     "data": {
      "text/html": [
       "<div>\n",
       "<style scoped>\n",
       "    .dataframe tbody tr th:only-of-type {\n",
       "        vertical-align: middle;\n",
       "    }\n",
       "\n",
       "    .dataframe tbody tr th {\n",
       "        vertical-align: top;\n",
       "    }\n",
       "\n",
       "    .dataframe thead th {\n",
       "        text-align: right;\n",
       "    }\n",
       "</style>\n",
       "<table border=\"1\" class=\"dataframe\">\n",
       "  <thead>\n",
       "    <tr style=\"text-align: right;\">\n",
       "      <th></th>\n",
       "    </tr>\n",
       "  </thead>\n",
       "  <tbody>\n",
       "    <tr>\n",
       "      <th>0</th>\n",
       "    </tr>\n",
       "    <tr>\n",
       "      <th>1</th>\n",
       "    </tr>\n",
       "    <tr>\n",
       "      <th>2</th>\n",
       "    </tr>\n",
       "    <tr>\n",
       "      <th>3</th>\n",
       "    </tr>\n",
       "    <tr>\n",
       "      <th>4</th>\n",
       "    </tr>\n",
       "    <tr>\n",
       "      <th>...</th>\n",
       "    </tr>\n",
       "    <tr>\n",
       "      <th>755400</th>\n",
       "    </tr>\n",
       "    <tr>\n",
       "      <th>755401</th>\n",
       "    </tr>\n",
       "    <tr>\n",
       "      <th>755402</th>\n",
       "    </tr>\n",
       "    <tr>\n",
       "      <th>755403</th>\n",
       "    </tr>\n",
       "    <tr>\n",
       "      <th>755404</th>\n",
       "    </tr>\n",
       "  </tbody>\n",
       "</table>\n",
       "<p>755405 rows × 0 columns</p>\n",
       "</div>"
      ],
      "text/plain": [
       "Empty DataFrame\n",
       "Columns: []\n",
       "Index: [0, 1, 2, 3, 4, 5, 6, 7, 8, 9, 10, 11, 12, 13, 14, 15, 16, 17, 18, 19, 20, 21, 22, 23, 24, 25, 26, 27, 28, 29, 30, 31, 32, 33, 34, 35, 36, 37, 38, 39, 40, 41, 42, 43, 44, 45, 46, 47, 48, 49, 50, 51, 52, 53, 54, 55, 56, 57, 58, 59, 60, 61, 62, 63, 64, 65, 66, 67, 68, 69, 70, 71, 72, 73, 74, 75, 76, 77, 78, 79, 80, 81, 82, 83, 84, 85, 86, 87, 88, 89, 90, 91, 92, 93, 94, 95, 96, 97, 98, 99, ...]\n",
       "\n",
       "[755405 rows x 0 columns]"
      ]
     },
     "execution_count": 43,
     "metadata": {},
     "output_type": "execute_result"
    }
   ],
   "source": [
    "# Separating between discrete and continuous variables, as discrete ones could potentially be treated as categorical.\n",
    "# Remember to adjust the threshold (in this case, < 20) based on your dataset's specific characteristics and domain knowledge.\n",
    "potential_categorical_from_numerical_web= df_web_data.select_dtypes(\"number\").loc[:, df_web_data.select_dtypes(\"number\").nunique() < 5]\n",
    "potential_categorical_from_numerical_web"
   ]
  },
  {
   "cell_type": "code",
   "execution_count": 44,
   "metadata": {},
   "outputs": [
    {
     "data": {
      "text/html": [
       "<div>\n",
       "<style scoped>\n",
       "    .dataframe tbody tr th:only-of-type {\n",
       "        vertical-align: middle;\n",
       "    }\n",
       "\n",
       "    .dataframe tbody tr th {\n",
       "        vertical-align: top;\n",
       "    }\n",
       "\n",
       "    .dataframe thead th {\n",
       "        text-align: right;\n",
       "    }\n",
       "</style>\n",
       "<table border=\"1\" class=\"dataframe\">\n",
       "  <thead>\n",
       "    <tr style=\"text-align: right;\">\n",
       "      <th></th>\n",
       "    </tr>\n",
       "  </thead>\n",
       "  <tbody>\n",
       "    <tr>\n",
       "      <th>0</th>\n",
       "    </tr>\n",
       "    <tr>\n",
       "      <th>1</th>\n",
       "    </tr>\n",
       "    <tr>\n",
       "      <th>2</th>\n",
       "    </tr>\n",
       "    <tr>\n",
       "      <th>3</th>\n",
       "    </tr>\n",
       "    <tr>\n",
       "      <th>4</th>\n",
       "    </tr>\n",
       "    <tr>\n",
       "      <th>...</th>\n",
       "    </tr>\n",
       "    <tr>\n",
       "      <th>70604</th>\n",
       "    </tr>\n",
       "    <tr>\n",
       "      <th>70605</th>\n",
       "    </tr>\n",
       "    <tr>\n",
       "      <th>70606</th>\n",
       "    </tr>\n",
       "    <tr>\n",
       "      <th>70607</th>\n",
       "    </tr>\n",
       "    <tr>\n",
       "      <th>70608</th>\n",
       "    </tr>\n",
       "  </tbody>\n",
       "</table>\n",
       "<p>70609 rows × 0 columns</p>\n",
       "</div>"
      ],
      "text/plain": [
       "Empty DataFrame\n",
       "Columns: []\n",
       "Index: [0, 1, 2, 3, 4, 5, 6, 7, 8, 9, 10, 11, 12, 13, 14, 15, 16, 17, 18, 19, 20, 21, 22, 23, 24, 25, 26, 27, 28, 29, 30, 31, 32, 33, 34, 35, 36, 37, 38, 39, 40, 41, 42, 43, 44, 45, 46, 47, 48, 49, 50, 51, 52, 53, 54, 55, 56, 57, 58, 59, 60, 61, 62, 63, 64, 65, 66, 67, 68, 69, 70, 71, 72, 73, 74, 75, 76, 77, 78, 79, 80, 81, 82, 83, 84, 85, 86, 87, 88, 89, 90, 91, 92, 93, 94, 95, 96, 97, 98, 99, ...]\n",
       "\n",
       "[70609 rows x 0 columns]"
      ]
     },
     "execution_count": 44,
     "metadata": {},
     "output_type": "execute_result"
    }
   ],
   "source": [
    "# Separating between discrete and continuous variables, as discrete ones could potentially be treated as categorical.\n",
    "# Remember to adjust the threshold (in this case, < 20) based on your dataset's specific characteristics and domain knowledge.\n",
    "potential_categorical_from_numerical_exp_cli= df_experiment_clients.select_dtypes(\"number\").loc[:, df_experiment_clients.select_dtypes(\"number\").nunique() < 5]\n",
    "potential_categorical_from_numerical_exp_cli"
   ]
  },
  {
   "cell_type": "code",
   "execution_count": 45,
   "metadata": {},
   "outputs": [
    {
     "data": {
      "text/plain": [
       "Index(['gendr'], dtype='object')"
      ]
     },
     "execution_count": 45,
     "metadata": {},
     "output_type": "execute_result"
    }
   ],
   "source": [
    "# Retrieving column names with object (typically string) data types from the dataframe\n",
    "df_clients_profile.select_dtypes(\"object\").columns"
   ]
  },
  {
   "cell_type": "code",
   "execution_count": 46,
   "metadata": {},
   "outputs": [
    {
     "data": {
      "text/plain": [
       "Index(['visitor_id', 'visit_id', 'process_step', 'date_time'], dtype='object')"
      ]
     },
     "execution_count": 46,
     "metadata": {},
     "output_type": "execute_result"
    }
   ],
   "source": [
    "# Retrieving column names with object (typically string) data types from the dataframe\n",
    "df_web_data.select_dtypes(\"object\").columns"
   ]
  },
  {
   "cell_type": "code",
   "execution_count": 47,
   "metadata": {},
   "outputs": [
    {
     "data": {
      "text/plain": [
       "Index(['Variation'], dtype='object')"
      ]
     },
     "execution_count": 47,
     "metadata": {},
     "output_type": "execute_result"
    }
   ],
   "source": [
    "# Retrieving column names with object (typically string) data types from the dataframe\n",
    "df_experiment_clients.select_dtypes(\"object\").columns"
   ]
  },
  {
   "cell_type": "code",
   "execution_count": 48,
   "metadata": {},
   "outputs": [
    {
     "data": {
      "text/plain": [
       "Index(['client_id', 'clnt_tenure_yr', 'clnt_tenure_mnth', 'clnt_age', 'gendr',\n",
       "       'num_accts', 'bal', 'calls_6_mnth', 'logons_6_mnth'],\n",
       "      dtype='object')"
      ]
     },
     "execution_count": 48,
     "metadata": {},
     "output_type": "execute_result"
    }
   ],
   "source": [
    "df_clients_profile.columns"
   ]
  },
  {
   "cell_type": "code",
   "execution_count": 49,
   "metadata": {},
   "outputs": [],
   "source": [
    "df_clients_profile['gendr'] = df_clients_profile['gendr'].replace(['U', 'X'], 'Other')"
   ]
  },
  {
   "cell_type": "markdown",
   "metadata": {},
   "source": [
    "# Drop duplicates values"
   ]
  },
  {
   "cell_type": "code",
   "execution_count": 50,
   "metadata": {},
   "outputs": [
    {
     "name": "stdout",
     "output_type": "stream",
     "text": [
      "Before\n",
      "client_id            0\n",
      "clnt_tenure_yr      14\n",
      "clnt_tenure_mnth    14\n",
      "clnt_age            15\n",
      "gendr               14\n",
      "num_accts           14\n",
      "bal                 14\n",
      "calls_6_mnth        14\n",
      "logons_6_mnth       14\n",
      "dtype: int64\n",
      "------------------------------------------\n",
      "------------------------------------------\n",
      "After\n",
      "client_id           0\n",
      "clnt_tenure_yr      0\n",
      "clnt_tenure_mnth    0\n",
      "clnt_age            0\n",
      "gendr               0\n",
      "num_accts           0\n",
      "bal                 0\n",
      "calls_6_mnth        0\n",
      "logons_6_mnth       0\n",
      "dtype: int64\n"
     ]
    }
   ],
   "source": [
    "#clean df_clients_profile\n",
    "df_clients_profile = print_clean_data(df_clients_profile)"
   ]
  },
  {
   "cell_type": "code",
   "execution_count": 51,
   "metadata": {},
   "outputs": [
    {
     "name": "stdout",
     "output_type": "stream",
     "text": [
      "Before\n",
      "client_id        0\n",
      "Variation    20109\n",
      "dtype: int64\n",
      "------------------------------------------\n",
      "To many NaN values in column: Variation\n",
      "------------------------------------------\n",
      "After\n",
      "client_id        0\n",
      "Variation    20109\n",
      "dtype: int64\n"
     ]
    }
   ],
   "source": [
    "#clean df_experiment_clients\n",
    "df_experiment_clients = print_clean_data(df_experiment_clients)"
   ]
  },
  {
   "cell_type": "code",
   "execution_count": 52,
   "metadata": {},
   "outputs": [
    {
     "name": "stdout",
     "output_type": "stream",
     "text": [
      "Before\n",
      "client_id       0\n",
      "visitor_id      0\n",
      "visit_id        0\n",
      "process_step    0\n",
      "date_time       0\n",
      "dtype: int64\n",
      "------------------------------------------\n",
      "------------------------------------------\n",
      "After\n",
      "client_id       0\n",
      "visitor_id      0\n",
      "visit_id        0\n",
      "process_step    0\n",
      "date_time       0\n",
      "dtype: int64\n"
     ]
    }
   ],
   "source": [
    "#clean df_web_data\n",
    "df_web_data = print_clean_data(df_web_data)"
   ]
  },
  {
   "cell_type": "code",
   "execution_count": 53,
   "metadata": {},
   "outputs": [
    {
     "data": {
      "text/html": [
       "<div>\n",
       "<style scoped>\n",
       "    .dataframe tbody tr th:only-of-type {\n",
       "        vertical-align: middle;\n",
       "    }\n",
       "\n",
       "    .dataframe tbody tr th {\n",
       "        vertical-align: top;\n",
       "    }\n",
       "\n",
       "    .dataframe thead th {\n",
       "        text-align: right;\n",
       "    }\n",
       "</style>\n",
       "<table border=\"1\" class=\"dataframe\">\n",
       "  <thead>\n",
       "    <tr style=\"text-align: right;\">\n",
       "      <th></th>\n",
       "      <th>client_id</th>\n",
       "      <th>visitor_id</th>\n",
       "      <th>visit_id</th>\n",
       "      <th>process_step</th>\n",
       "      <th>date_time</th>\n",
       "    </tr>\n",
       "  </thead>\n",
       "  <tbody>\n",
       "    <tr>\n",
       "      <th>0</th>\n",
       "      <td>9988021</td>\n",
       "      <td>580560515_7732621733</td>\n",
       "      <td>781255054_21935453173_531117</td>\n",
       "      <td>step_3</td>\n",
       "      <td>2017-04-17 15:27:07</td>\n",
       "    </tr>\n",
       "    <tr>\n",
       "      <th>1</th>\n",
       "      <td>9988021</td>\n",
       "      <td>580560515_7732621733</td>\n",
       "      <td>781255054_21935453173_531117</td>\n",
       "      <td>step_2</td>\n",
       "      <td>2017-04-17 15:26:51</td>\n",
       "    </tr>\n",
       "    <tr>\n",
       "      <th>2</th>\n",
       "      <td>9988021</td>\n",
       "      <td>580560515_7732621733</td>\n",
       "      <td>781255054_21935453173_531117</td>\n",
       "      <td>step_3</td>\n",
       "      <td>2017-04-17 15:19:22</td>\n",
       "    </tr>\n",
       "    <tr>\n",
       "      <th>3</th>\n",
       "      <td>9988021</td>\n",
       "      <td>580560515_7732621733</td>\n",
       "      <td>781255054_21935453173_531117</td>\n",
       "      <td>step_2</td>\n",
       "      <td>2017-04-17 15:19:13</td>\n",
       "    </tr>\n",
       "    <tr>\n",
       "      <th>4</th>\n",
       "      <td>9988021</td>\n",
       "      <td>580560515_7732621733</td>\n",
       "      <td>781255054_21935453173_531117</td>\n",
       "      <td>step_3</td>\n",
       "      <td>2017-04-17 15:18:04</td>\n",
       "    </tr>\n",
       "    <tr>\n",
       "      <th>5</th>\n",
       "      <td>9988021</td>\n",
       "      <td>580560515_7732621733</td>\n",
       "      <td>781255054_21935453173_531117</td>\n",
       "      <td>step_2</td>\n",
       "      <td>2017-04-17 15:17:15</td>\n",
       "    </tr>\n",
       "    <tr>\n",
       "      <th>6</th>\n",
       "      <td>9988021</td>\n",
       "      <td>580560515_7732621733</td>\n",
       "      <td>781255054_21935453173_531117</td>\n",
       "      <td>step_1</td>\n",
       "      <td>2017-04-17 15:17:01</td>\n",
       "    </tr>\n",
       "    <tr>\n",
       "      <th>7</th>\n",
       "      <td>9988021</td>\n",
       "      <td>580560515_7732621733</td>\n",
       "      <td>781255054_21935453173_531117</td>\n",
       "      <td>start</td>\n",
       "      <td>2017-04-17 15:16:22</td>\n",
       "    </tr>\n",
       "    <tr>\n",
       "      <th>8</th>\n",
       "      <td>8320017</td>\n",
       "      <td>39393514_33118319366</td>\n",
       "      <td>960651974_70596002104_312201</td>\n",
       "      <td>confirm</td>\n",
       "      <td>2017-04-05 13:10:05</td>\n",
       "    </tr>\n",
       "    <tr>\n",
       "      <th>9</th>\n",
       "      <td>8320017</td>\n",
       "      <td>39393514_33118319366</td>\n",
       "      <td>960651974_70596002104_312201</td>\n",
       "      <td>step_3</td>\n",
       "      <td>2017-04-05 13:09:43</td>\n",
       "    </tr>\n",
       "    <tr>\n",
       "      <th>10</th>\n",
       "      <td>8320017</td>\n",
       "      <td>39393514_33118319366</td>\n",
       "      <td>960651974_70596002104_312201</td>\n",
       "      <td>step_2</td>\n",
       "      <td>2017-04-05 13:08:40</td>\n",
       "    </tr>\n",
       "    <tr>\n",
       "      <th>11</th>\n",
       "      <td>8320017</td>\n",
       "      <td>39393514_33118319366</td>\n",
       "      <td>960651974_70596002104_312201</td>\n",
       "      <td>step_1</td>\n",
       "      <td>2017-04-05 13:08:24</td>\n",
       "    </tr>\n",
       "    <tr>\n",
       "      <th>12</th>\n",
       "      <td>8320017</td>\n",
       "      <td>39393514_33118319366</td>\n",
       "      <td>960651974_70596002104_312201</td>\n",
       "      <td>start</td>\n",
       "      <td>2017-04-05 13:08:06</td>\n",
       "    </tr>\n",
       "    <tr>\n",
       "      <th>13</th>\n",
       "      <td>4033851</td>\n",
       "      <td>762728880_76361333336</td>\n",
       "      <td>949661017_22392791362_127391</td>\n",
       "      <td>confirm</td>\n",
       "      <td>2017-04-05 12:29:03</td>\n",
       "    </tr>\n",
       "    <tr>\n",
       "      <th>14</th>\n",
       "      <td>4033851</td>\n",
       "      <td>762728880_76361333336</td>\n",
       "      <td>949661017_22392791362_127391</td>\n",
       "      <td>confirm</td>\n",
       "      <td>2017-04-05 12:29:01</td>\n",
       "    </tr>\n",
       "    <tr>\n",
       "      <th>15</th>\n",
       "      <td>4033851</td>\n",
       "      <td>762728880_76361333336</td>\n",
       "      <td>949661017_22392791362_127391</td>\n",
       "      <td>confirm</td>\n",
       "      <td>2017-04-05 12:28:52</td>\n",
       "    </tr>\n",
       "    <tr>\n",
       "      <th>16</th>\n",
       "      <td>4033851</td>\n",
       "      <td>762728880_76361333336</td>\n",
       "      <td>949661017_22392791362_127391</td>\n",
       "      <td>step_3</td>\n",
       "      <td>2017-04-05 12:26:08</td>\n",
       "    </tr>\n",
       "    <tr>\n",
       "      <th>17</th>\n",
       "      <td>4033851</td>\n",
       "      <td>762728880_76361333336</td>\n",
       "      <td>949661017_22392791362_127391</td>\n",
       "      <td>step_2</td>\n",
       "      <td>2017-04-05 12:24:43</td>\n",
       "    </tr>\n",
       "    <tr>\n",
       "      <th>18</th>\n",
       "      <td>4033851</td>\n",
       "      <td>762728880_76361333336</td>\n",
       "      <td>949661017_22392791362_127391</td>\n",
       "      <td>step_1</td>\n",
       "      <td>2017-04-05 12:24:12</td>\n",
       "    </tr>\n",
       "    <tr>\n",
       "      <th>19</th>\n",
       "      <td>4033851</td>\n",
       "      <td>762728880_76361333336</td>\n",
       "      <td>949661017_22392791362_127391</td>\n",
       "      <td>start</td>\n",
       "      <td>2017-04-05 12:24:04</td>\n",
       "    </tr>\n",
       "  </tbody>\n",
       "</table>\n",
       "</div>"
      ],
      "text/plain": [
       "    client_id             visitor_id                      visit_id  \\\n",
       "0     9988021   580560515_7732621733  781255054_21935453173_531117   \n",
       "1     9988021   580560515_7732621733  781255054_21935453173_531117   \n",
       "2     9988021   580560515_7732621733  781255054_21935453173_531117   \n",
       "3     9988021   580560515_7732621733  781255054_21935453173_531117   \n",
       "4     9988021   580560515_7732621733  781255054_21935453173_531117   \n",
       "5     9988021   580560515_7732621733  781255054_21935453173_531117   \n",
       "6     9988021   580560515_7732621733  781255054_21935453173_531117   \n",
       "7     9988021   580560515_7732621733  781255054_21935453173_531117   \n",
       "8     8320017   39393514_33118319366  960651974_70596002104_312201   \n",
       "9     8320017   39393514_33118319366  960651974_70596002104_312201   \n",
       "10    8320017   39393514_33118319366  960651974_70596002104_312201   \n",
       "11    8320017   39393514_33118319366  960651974_70596002104_312201   \n",
       "12    8320017   39393514_33118319366  960651974_70596002104_312201   \n",
       "13    4033851  762728880_76361333336  949661017_22392791362_127391   \n",
       "14    4033851  762728880_76361333336  949661017_22392791362_127391   \n",
       "15    4033851  762728880_76361333336  949661017_22392791362_127391   \n",
       "16    4033851  762728880_76361333336  949661017_22392791362_127391   \n",
       "17    4033851  762728880_76361333336  949661017_22392791362_127391   \n",
       "18    4033851  762728880_76361333336  949661017_22392791362_127391   \n",
       "19    4033851  762728880_76361333336  949661017_22392791362_127391   \n",
       "\n",
       "   process_step            date_time  \n",
       "0        step_3  2017-04-17 15:27:07  \n",
       "1        step_2  2017-04-17 15:26:51  \n",
       "2        step_3  2017-04-17 15:19:22  \n",
       "3        step_2  2017-04-17 15:19:13  \n",
       "4        step_3  2017-04-17 15:18:04  \n",
       "5        step_2  2017-04-17 15:17:15  \n",
       "6        step_1  2017-04-17 15:17:01  \n",
       "7         start  2017-04-17 15:16:22  \n",
       "8       confirm  2017-04-05 13:10:05  \n",
       "9        step_3  2017-04-05 13:09:43  \n",
       "10       step_2  2017-04-05 13:08:40  \n",
       "11       step_1  2017-04-05 13:08:24  \n",
       "12        start  2017-04-05 13:08:06  \n",
       "13      confirm  2017-04-05 12:29:03  \n",
       "14      confirm  2017-04-05 12:29:01  \n",
       "15      confirm  2017-04-05 12:28:52  \n",
       "16       step_3  2017-04-05 12:26:08  \n",
       "17       step_2  2017-04-05 12:24:43  \n",
       "18       step_1  2017-04-05 12:24:12  \n",
       "19        start  2017-04-05 12:24:04  "
      ]
     },
     "execution_count": 53,
     "metadata": {},
     "output_type": "execute_result"
    }
   ],
   "source": [
    "df_web_data.head(20)"
   ]
  },
  {
   "cell_type": "markdown",
   "metadata": {},
   "source": [
    "# Data Typing/Formatting"
   ]
  },
  {
   "cell_type": "code",
   "execution_count": 54,
   "metadata": {},
   "outputs": [
    {
     "data": {
      "text/html": [
       "<div>\n",
       "<style scoped>\n",
       "    .dataframe tbody tr th:only-of-type {\n",
       "        vertical-align: middle;\n",
       "    }\n",
       "\n",
       "    .dataframe tbody tr th {\n",
       "        vertical-align: top;\n",
       "    }\n",
       "\n",
       "    .dataframe thead th {\n",
       "        text-align: right;\n",
       "    }\n",
       "</style>\n",
       "<table border=\"1\" class=\"dataframe\">\n",
       "  <thead>\n",
       "    <tr style=\"text-align: right;\">\n",
       "      <th></th>\n",
       "      <th>client_id</th>\n",
       "      <th>clnt_tenure_yr</th>\n",
       "      <th>clnt_tenure_mnth</th>\n",
       "      <th>clnt_age</th>\n",
       "      <th>gendr</th>\n",
       "      <th>num_accts</th>\n",
       "      <th>bal</th>\n",
       "      <th>calls_6_mnth</th>\n",
       "      <th>logons_6_mnth</th>\n",
       "    </tr>\n",
       "  </thead>\n",
       "  <tbody>\n",
       "    <tr>\n",
       "      <th>0</th>\n",
       "      <td>836976</td>\n",
       "      <td>6.0</td>\n",
       "      <td>73.0</td>\n",
       "      <td>60.5</td>\n",
       "      <td>Other</td>\n",
       "      <td>2.0</td>\n",
       "      <td>45105.30</td>\n",
       "      <td>6.0</td>\n",
       "      <td>9.0</td>\n",
       "    </tr>\n",
       "    <tr>\n",
       "      <th>1</th>\n",
       "      <td>2304905</td>\n",
       "      <td>7.0</td>\n",
       "      <td>94.0</td>\n",
       "      <td>58.0</td>\n",
       "      <td>Other</td>\n",
       "      <td>2.0</td>\n",
       "      <td>110860.30</td>\n",
       "      <td>6.0</td>\n",
       "      <td>9.0</td>\n",
       "    </tr>\n",
       "    <tr>\n",
       "      <th>2</th>\n",
       "      <td>1439522</td>\n",
       "      <td>5.0</td>\n",
       "      <td>64.0</td>\n",
       "      <td>32.0</td>\n",
       "      <td>Other</td>\n",
       "      <td>2.0</td>\n",
       "      <td>52467.79</td>\n",
       "      <td>6.0</td>\n",
       "      <td>9.0</td>\n",
       "    </tr>\n",
       "    <tr>\n",
       "      <th>3</th>\n",
       "      <td>1562045</td>\n",
       "      <td>16.0</td>\n",
       "      <td>198.0</td>\n",
       "      <td>49.0</td>\n",
       "      <td>M</td>\n",
       "      <td>2.0</td>\n",
       "      <td>67454.65</td>\n",
       "      <td>3.0</td>\n",
       "      <td>6.0</td>\n",
       "    </tr>\n",
       "    <tr>\n",
       "      <th>4</th>\n",
       "      <td>5126305</td>\n",
       "      <td>12.0</td>\n",
       "      <td>145.0</td>\n",
       "      <td>33.0</td>\n",
       "      <td>F</td>\n",
       "      <td>2.0</td>\n",
       "      <td>103671.75</td>\n",
       "      <td>0.0</td>\n",
       "      <td>3.0</td>\n",
       "    </tr>\n",
       "    <tr>\n",
       "      <th>5</th>\n",
       "      <td>3727881</td>\n",
       "      <td>5.0</td>\n",
       "      <td>71.0</td>\n",
       "      <td>30.5</td>\n",
       "      <td>Other</td>\n",
       "      <td>2.0</td>\n",
       "      <td>23915.60</td>\n",
       "      <td>0.0</td>\n",
       "      <td>3.0</td>\n",
       "    </tr>\n",
       "    <tr>\n",
       "      <th>6</th>\n",
       "      <td>272934</td>\n",
       "      <td>5.0</td>\n",
       "      <td>66.0</td>\n",
       "      <td>58.5</td>\n",
       "      <td>Other</td>\n",
       "      <td>2.0</td>\n",
       "      <td>27021.42</td>\n",
       "      <td>2.0</td>\n",
       "      <td>5.0</td>\n",
       "    </tr>\n",
       "    <tr>\n",
       "      <th>7</th>\n",
       "      <td>388801</td>\n",
       "      <td>30.0</td>\n",
       "      <td>361.0</td>\n",
       "      <td>57.5</td>\n",
       "      <td>M</td>\n",
       "      <td>5.0</td>\n",
       "      <td>522498.72</td>\n",
       "      <td>1.0</td>\n",
       "      <td>4.0</td>\n",
       "    </tr>\n",
       "    <tr>\n",
       "      <th>8</th>\n",
       "      <td>285619</td>\n",
       "      <td>30.0</td>\n",
       "      <td>369.0</td>\n",
       "      <td>67.5</td>\n",
       "      <td>M</td>\n",
       "      <td>2.0</td>\n",
       "      <td>299388.72</td>\n",
       "      <td>3.0</td>\n",
       "      <td>6.0</td>\n",
       "    </tr>\n",
       "    <tr>\n",
       "      <th>9</th>\n",
       "      <td>8198645</td>\n",
       "      <td>15.0</td>\n",
       "      <td>189.0</td>\n",
       "      <td>54.5</td>\n",
       "      <td>F</td>\n",
       "      <td>2.0</td>\n",
       "      <td>382303.83</td>\n",
       "      <td>6.0</td>\n",
       "      <td>9.0</td>\n",
       "    </tr>\n",
       "  </tbody>\n",
       "</table>\n",
       "</div>"
      ],
      "text/plain": [
       "   client_id  clnt_tenure_yr  clnt_tenure_mnth  clnt_age  gendr  num_accts  \\\n",
       "0     836976             6.0              73.0      60.5  Other        2.0   \n",
       "1    2304905             7.0              94.0      58.0  Other        2.0   \n",
       "2    1439522             5.0              64.0      32.0  Other        2.0   \n",
       "3    1562045            16.0             198.0      49.0      M        2.0   \n",
       "4    5126305            12.0             145.0      33.0      F        2.0   \n",
       "5    3727881             5.0              71.0      30.5  Other        2.0   \n",
       "6     272934             5.0              66.0      58.5  Other        2.0   \n",
       "7     388801            30.0             361.0      57.5      M        5.0   \n",
       "8     285619            30.0             369.0      67.5      M        2.0   \n",
       "9    8198645            15.0             189.0      54.5      F        2.0   \n",
       "\n",
       "         bal  calls_6_mnth  logons_6_mnth  \n",
       "0   45105.30           6.0            9.0  \n",
       "1  110860.30           6.0            9.0  \n",
       "2   52467.79           6.0            9.0  \n",
       "3   67454.65           3.0            6.0  \n",
       "4  103671.75           0.0            3.0  \n",
       "5   23915.60           0.0            3.0  \n",
       "6   27021.42           2.0            5.0  \n",
       "7  522498.72           1.0            4.0  \n",
       "8  299388.72           3.0            6.0  \n",
       "9  382303.83           6.0            9.0  "
      ]
     },
     "execution_count": 54,
     "metadata": {},
     "output_type": "execute_result"
    }
   ],
   "source": [
    "df_clients_profile.head(10)"
   ]
  },
  {
   "cell_type": "code",
   "execution_count": 55,
   "metadata": {},
   "outputs": [
    {
     "data": {
      "text/plain": [
       "client_id             int64\n",
       "clnt_tenure_yr      float64\n",
       "clnt_tenure_mnth    float64\n",
       "clnt_age            float64\n",
       "gendr                object\n",
       "num_accts           float64\n",
       "bal                 float64\n",
       "calls_6_mnth        float64\n",
       "logons_6_mnth       float64\n",
       "dtype: object"
      ]
     },
     "execution_count": 55,
     "metadata": {},
     "output_type": "execute_result"
    }
   ],
   "source": [
    "df_clients_profile.dtypes"
   ]
  },
  {
   "cell_type": "code",
   "execution_count": 56,
   "metadata": {},
   "outputs": [
    {
     "data": {
      "text/plain": [
       "client_id     int64\n",
       "Variation    object\n",
       "dtype: object"
      ]
     },
     "execution_count": 56,
     "metadata": {},
     "output_type": "execute_result"
    }
   ],
   "source": [
    "df_experiment_clients.dtypes"
   ]
  },
  {
   "cell_type": "code",
   "execution_count": 57,
   "metadata": {},
   "outputs": [
    {
     "data": {
      "text/plain": [
       "client_id        int64\n",
       "visitor_id      object\n",
       "visit_id        object\n",
       "process_step    object\n",
       "date_time       object\n",
       "dtype: object"
      ]
     },
     "execution_count": 57,
     "metadata": {},
     "output_type": "execute_result"
    }
   ],
   "source": [
    "df_web_data.dtypes"
   ]
  },
  {
   "cell_type": "code",
   "execution_count": 58,
   "metadata": {},
   "outputs": [],
   "source": [
    "df_web_data['date_time'] = pd.to_datetime(df_web_data['date_time'], format='%Y-%m-%d %H:%M:%S')"
   ]
  },
  {
   "cell_type": "code",
   "execution_count": 59,
   "metadata": {},
   "outputs": [
    {
     "data": {
      "text/plain": [
       "client_id                int64\n",
       "visitor_id              object\n",
       "visit_id                object\n",
       "process_step            object\n",
       "date_time       datetime64[ns]\n",
       "dtype: object"
      ]
     },
     "execution_count": 59,
     "metadata": {},
     "output_type": "execute_result"
    }
   ],
   "source": [
    "df_web_data.dtypes"
   ]
  },
  {
   "cell_type": "code",
   "execution_count": 60,
   "metadata": {},
   "outputs": [],
   "source": [
    "# Convert specified columns to integer data type\n",
    "df_clients_profile['clnt_tenure_yr'] = df_clients_profile['clnt_tenure_yr'].astype(int)\n",
    "df_clients_profile['clnt_tenure_mnth'] = df_clients_profile['clnt_tenure_mnth'].astype(int)\n",
    "df_clients_profile['clnt_age'] = df_clients_profile['clnt_age'].astype(int)\n",
    "df_clients_profile['num_accts'] = df_clients_profile['num_accts'].astype(int)\n",
    "df_clients_profile['calls_6_mnth'] = df_clients_profile['calls_6_mnth'].astype(int)\n",
    "df_clients_profile['logons_6_mnth'] = df_clients_profile['logons_6_mnth'].astype(int)"
   ]
  },
  {
   "cell_type": "code",
   "execution_count": 61,
   "metadata": {},
   "outputs": [
    {
     "data": {
      "text/plain": [
       "client_id             int64\n",
       "clnt_tenure_yr        int64\n",
       "clnt_tenure_mnth      int64\n",
       "clnt_age              int64\n",
       "gendr                object\n",
       "num_accts             int64\n",
       "bal                 float64\n",
       "calls_6_mnth          int64\n",
       "logons_6_mnth         int64\n",
       "dtype: object"
      ]
     },
     "execution_count": 61,
     "metadata": {},
     "output_type": "execute_result"
    }
   ],
   "source": [
    "df_clients_profile.dtypes"
   ]
  },
  {
   "cell_type": "markdown",
   "metadata": {},
   "source": [
    "# Create a data frame with the clients that won't participe in the experiment."
   ]
  },
  {
   "cell_type": "code",
   "execution_count": 62,
   "metadata": {},
   "outputs": [
    {
     "data": {
      "text/html": [
       "<div>\n",
       "<style scoped>\n",
       "    .dataframe tbody tr th:only-of-type {\n",
       "        vertical-align: middle;\n",
       "    }\n",
       "\n",
       "    .dataframe tbody tr th {\n",
       "        vertical-align: top;\n",
       "    }\n",
       "\n",
       "    .dataframe thead th {\n",
       "        text-align: right;\n",
       "    }\n",
       "</style>\n",
       "<table border=\"1\" class=\"dataframe\">\n",
       "  <thead>\n",
       "    <tr style=\"text-align: right;\">\n",
       "      <th></th>\n",
       "      <th>client_id</th>\n",
       "      <th>Variation</th>\n",
       "    </tr>\n",
       "  </thead>\n",
       "  <tbody>\n",
       "    <tr>\n",
       "      <th>50500</th>\n",
       "      <td>5459747</td>\n",
       "      <td>NaN</td>\n",
       "    </tr>\n",
       "    <tr>\n",
       "      <th>50501</th>\n",
       "      <td>8031000</td>\n",
       "      <td>NaN</td>\n",
       "    </tr>\n",
       "    <tr>\n",
       "      <th>50502</th>\n",
       "      <td>1847030</td>\n",
       "      <td>NaN</td>\n",
       "    </tr>\n",
       "    <tr>\n",
       "      <th>50503</th>\n",
       "      <td>9713157</td>\n",
       "      <td>NaN</td>\n",
       "    </tr>\n",
       "    <tr>\n",
       "      <th>50504</th>\n",
       "      <td>7775828</td>\n",
       "      <td>NaN</td>\n",
       "    </tr>\n",
       "    <tr>\n",
       "      <th>...</th>\n",
       "      <td>...</td>\n",
       "      <td>...</td>\n",
       "    </tr>\n",
       "    <tr>\n",
       "      <th>70604</th>\n",
       "      <td>2443347</td>\n",
       "      <td>NaN</td>\n",
       "    </tr>\n",
       "    <tr>\n",
       "      <th>70605</th>\n",
       "      <td>8788427</td>\n",
       "      <td>NaN</td>\n",
       "    </tr>\n",
       "    <tr>\n",
       "      <th>70606</th>\n",
       "      <td>266828</td>\n",
       "      <td>NaN</td>\n",
       "    </tr>\n",
       "    <tr>\n",
       "      <th>70607</th>\n",
       "      <td>1266421</td>\n",
       "      <td>NaN</td>\n",
       "    </tr>\n",
       "    <tr>\n",
       "      <th>70608</th>\n",
       "      <td>9895983</td>\n",
       "      <td>NaN</td>\n",
       "    </tr>\n",
       "  </tbody>\n",
       "</table>\n",
       "<p>20109 rows × 2 columns</p>\n",
       "</div>"
      ],
      "text/plain": [
       "       client_id Variation\n",
       "50500    5459747       NaN\n",
       "50501    8031000       NaN\n",
       "50502    1847030       NaN\n",
       "50503    9713157       NaN\n",
       "50504    7775828       NaN\n",
       "...          ...       ...\n",
       "70604    2443347       NaN\n",
       "70605    8788427       NaN\n",
       "70606     266828       NaN\n",
       "70607    1266421       NaN\n",
       "70608    9895983       NaN\n",
       "\n",
       "[20109 rows x 2 columns]"
      ]
     },
     "execution_count": 62,
     "metadata": {},
     "output_type": "execute_result"
    }
   ],
   "source": [
    "#setting aside the clients that wont be part if the experiment\n",
    "null_df_experiment_clients = df_experiment_clients[df_experiment_clients['Variation'].isnull()]\n",
    "null_df_experiment_clients"
   ]
  },
  {
   "cell_type": "markdown",
   "metadata": {},
   "source": [
    "# Merge the clients in the web data"
   ]
  },
  {
   "cell_type": "markdown",
   "metadata": {},
   "source": [
    "### Identify the clients part of the test group"
   ]
  },
  {
   "cell_type": "code",
   "execution_count": 63,
   "metadata": {},
   "outputs": [
    {
     "data": {
      "text/html": [
       "<div>\n",
       "<style scoped>\n",
       "    .dataframe tbody tr th:only-of-type {\n",
       "        vertical-align: middle;\n",
       "    }\n",
       "\n",
       "    .dataframe tbody tr th {\n",
       "        vertical-align: top;\n",
       "    }\n",
       "\n",
       "    .dataframe thead th {\n",
       "        text-align: right;\n",
       "    }\n",
       "</style>\n",
       "<table border=\"1\" class=\"dataframe\">\n",
       "  <thead>\n",
       "    <tr style=\"text-align: right;\">\n",
       "      <th></th>\n",
       "      <th>client_id</th>\n",
       "      <th>Variation</th>\n",
       "    </tr>\n",
       "  </thead>\n",
       "  <tbody>\n",
       "    <tr>\n",
       "      <th>0</th>\n",
       "      <td>9988021</td>\n",
       "      <td>Test</td>\n",
       "    </tr>\n",
       "    <tr>\n",
       "      <th>1</th>\n",
       "      <td>8320017</td>\n",
       "      <td>Test</td>\n",
       "    </tr>\n",
       "    <tr>\n",
       "      <th>3</th>\n",
       "      <td>1982004</td>\n",
       "      <td>Test</td>\n",
       "    </tr>\n",
       "    <tr>\n",
       "      <th>5</th>\n",
       "      <td>9466803</td>\n",
       "      <td>Test</td>\n",
       "    </tr>\n",
       "    <tr>\n",
       "      <th>6</th>\n",
       "      <td>3170143</td>\n",
       "      <td>Test</td>\n",
       "    </tr>\n",
       "    <tr>\n",
       "      <th>8</th>\n",
       "      <td>5887227</td>\n",
       "      <td>Test</td>\n",
       "    </tr>\n",
       "    <tr>\n",
       "      <th>10</th>\n",
       "      <td>438567</td>\n",
       "      <td>Test</td>\n",
       "    </tr>\n",
       "    <tr>\n",
       "      <th>11</th>\n",
       "      <td>2519971</td>\n",
       "      <td>Test</td>\n",
       "    </tr>\n",
       "    <tr>\n",
       "      <th>13</th>\n",
       "      <td>5407849</td>\n",
       "      <td>Test</td>\n",
       "    </tr>\n",
       "    <tr>\n",
       "      <th>16</th>\n",
       "      <td>5308474</td>\n",
       "      <td>Test</td>\n",
       "    </tr>\n",
       "  </tbody>\n",
       "</table>\n",
       "</div>"
      ],
      "text/plain": [
       "    client_id Variation\n",
       "0     9988021      Test\n",
       "1     8320017      Test\n",
       "3     1982004      Test\n",
       "5     9466803      Test\n",
       "6     3170143      Test\n",
       "8     5887227      Test\n",
       "10     438567      Test\n",
       "11    2519971      Test\n",
       "13    5407849      Test\n",
       "16    5308474      Test"
      ]
     },
     "execution_count": 63,
     "metadata": {},
     "output_type": "execute_result"
    }
   ],
   "source": [
    "#id of clients that are part of the test\n",
    "df_experiment_clients_Test = df_experiment_clients[df_experiment_clients['Variation'] == 'Test']\n",
    "df_experiment_clients_Test.head(10)"
   ]
  },
  {
   "cell_type": "markdown",
   "metadata": {},
   "source": [
    "### df_test: combine visit_id with visitor_id and reoganize the columns."
   ]
  },
  {
   "cell_type": "code",
   "execution_count": 64,
   "metadata": {},
   "outputs": [
    {
     "data": {
      "text/html": [
       "<div>\n",
       "<style scoped>\n",
       "    .dataframe tbody tr th:only-of-type {\n",
       "        vertical-align: middle;\n",
       "    }\n",
       "\n",
       "    .dataframe tbody tr th {\n",
       "        vertical-align: top;\n",
       "    }\n",
       "\n",
       "    .dataframe thead th {\n",
       "        text-align: right;\n",
       "    }\n",
       "</style>\n",
       "<table border=\"1\" class=\"dataframe\">\n",
       "  <thead>\n",
       "    <tr style=\"text-align: right;\">\n",
       "      <th></th>\n",
       "      <th>client_id</th>\n",
       "      <th>visitor_id</th>\n",
       "      <th>visit_id</th>\n",
       "      <th>process_step</th>\n",
       "      <th>date_time</th>\n",
       "      <th>Variation</th>\n",
       "      <th>clnt_tenure_yr</th>\n",
       "      <th>clnt_tenure_mnth</th>\n",
       "      <th>clnt_age</th>\n",
       "      <th>gendr</th>\n",
       "      <th>num_accts</th>\n",
       "      <th>bal</th>\n",
       "      <th>calls_6_mnth</th>\n",
       "      <th>logons_6_mnth</th>\n",
       "    </tr>\n",
       "  </thead>\n",
       "  <tbody>\n",
       "    <tr>\n",
       "      <th>0</th>\n",
       "      <td>9988021</td>\n",
       "      <td>580560515_7732621733</td>\n",
       "      <td>781255054_21935453173_531117</td>\n",
       "      <td>step_3</td>\n",
       "      <td>2017-04-17 15:27:07</td>\n",
       "      <td>Test</td>\n",
       "      <td>5</td>\n",
       "      <td>64</td>\n",
       "      <td>79</td>\n",
       "      <td>Other</td>\n",
       "      <td>2</td>\n",
       "      <td>189023.86</td>\n",
       "      <td>1</td>\n",
       "      <td>4</td>\n",
       "    </tr>\n",
       "    <tr>\n",
       "      <th>1</th>\n",
       "      <td>9988021</td>\n",
       "      <td>580560515_7732621733</td>\n",
       "      <td>781255054_21935453173_531117</td>\n",
       "      <td>step_2</td>\n",
       "      <td>2017-04-17 15:26:51</td>\n",
       "      <td>Test</td>\n",
       "      <td>5</td>\n",
       "      <td>64</td>\n",
       "      <td>79</td>\n",
       "      <td>Other</td>\n",
       "      <td>2</td>\n",
       "      <td>189023.86</td>\n",
       "      <td>1</td>\n",
       "      <td>4</td>\n",
       "    </tr>\n",
       "    <tr>\n",
       "      <th>2</th>\n",
       "      <td>9988021</td>\n",
       "      <td>580560515_7732621733</td>\n",
       "      <td>781255054_21935453173_531117</td>\n",
       "      <td>step_3</td>\n",
       "      <td>2017-04-17 15:19:22</td>\n",
       "      <td>Test</td>\n",
       "      <td>5</td>\n",
       "      <td>64</td>\n",
       "      <td>79</td>\n",
       "      <td>Other</td>\n",
       "      <td>2</td>\n",
       "      <td>189023.86</td>\n",
       "      <td>1</td>\n",
       "      <td>4</td>\n",
       "    </tr>\n",
       "    <tr>\n",
       "      <th>3</th>\n",
       "      <td>9988021</td>\n",
       "      <td>580560515_7732621733</td>\n",
       "      <td>781255054_21935453173_531117</td>\n",
       "      <td>step_2</td>\n",
       "      <td>2017-04-17 15:19:13</td>\n",
       "      <td>Test</td>\n",
       "      <td>5</td>\n",
       "      <td>64</td>\n",
       "      <td>79</td>\n",
       "      <td>Other</td>\n",
       "      <td>2</td>\n",
       "      <td>189023.86</td>\n",
       "      <td>1</td>\n",
       "      <td>4</td>\n",
       "    </tr>\n",
       "    <tr>\n",
       "      <th>4</th>\n",
       "      <td>9988021</td>\n",
       "      <td>580560515_7732621733</td>\n",
       "      <td>781255054_21935453173_531117</td>\n",
       "      <td>step_3</td>\n",
       "      <td>2017-04-17 15:18:04</td>\n",
       "      <td>Test</td>\n",
       "      <td>5</td>\n",
       "      <td>64</td>\n",
       "      <td>79</td>\n",
       "      <td>Other</td>\n",
       "      <td>2</td>\n",
       "      <td>189023.86</td>\n",
       "      <td>1</td>\n",
       "      <td>4</td>\n",
       "    </tr>\n",
       "    <tr>\n",
       "      <th>5</th>\n",
       "      <td>9988021</td>\n",
       "      <td>580560515_7732621733</td>\n",
       "      <td>781255054_21935453173_531117</td>\n",
       "      <td>step_2</td>\n",
       "      <td>2017-04-17 15:17:15</td>\n",
       "      <td>Test</td>\n",
       "      <td>5</td>\n",
       "      <td>64</td>\n",
       "      <td>79</td>\n",
       "      <td>Other</td>\n",
       "      <td>2</td>\n",
       "      <td>189023.86</td>\n",
       "      <td>1</td>\n",
       "      <td>4</td>\n",
       "    </tr>\n",
       "    <tr>\n",
       "      <th>6</th>\n",
       "      <td>9988021</td>\n",
       "      <td>580560515_7732621733</td>\n",
       "      <td>781255054_21935453173_531117</td>\n",
       "      <td>step_1</td>\n",
       "      <td>2017-04-17 15:17:01</td>\n",
       "      <td>Test</td>\n",
       "      <td>5</td>\n",
       "      <td>64</td>\n",
       "      <td>79</td>\n",
       "      <td>Other</td>\n",
       "      <td>2</td>\n",
       "      <td>189023.86</td>\n",
       "      <td>1</td>\n",
       "      <td>4</td>\n",
       "    </tr>\n",
       "    <tr>\n",
       "      <th>7</th>\n",
       "      <td>9988021</td>\n",
       "      <td>580560515_7732621733</td>\n",
       "      <td>781255054_21935453173_531117</td>\n",
       "      <td>start</td>\n",
       "      <td>2017-04-17 15:16:22</td>\n",
       "      <td>Test</td>\n",
       "      <td>5</td>\n",
       "      <td>64</td>\n",
       "      <td>79</td>\n",
       "      <td>Other</td>\n",
       "      <td>2</td>\n",
       "      <td>189023.86</td>\n",
       "      <td>1</td>\n",
       "      <td>4</td>\n",
       "    </tr>\n",
       "    <tr>\n",
       "      <th>8</th>\n",
       "      <td>8320017</td>\n",
       "      <td>39393514_33118319366</td>\n",
       "      <td>960651974_70596002104_312201</td>\n",
       "      <td>confirm</td>\n",
       "      <td>2017-04-05 13:10:05</td>\n",
       "      <td>Test</td>\n",
       "      <td>22</td>\n",
       "      <td>274</td>\n",
       "      <td>34</td>\n",
       "      <td>M</td>\n",
       "      <td>2</td>\n",
       "      <td>36001.90</td>\n",
       "      <td>5</td>\n",
       "      <td>8</td>\n",
       "    </tr>\n",
       "    <tr>\n",
       "      <th>9</th>\n",
       "      <td>8320017</td>\n",
       "      <td>39393514_33118319366</td>\n",
       "      <td>960651974_70596002104_312201</td>\n",
       "      <td>step_3</td>\n",
       "      <td>2017-04-05 13:09:43</td>\n",
       "      <td>Test</td>\n",
       "      <td>22</td>\n",
       "      <td>274</td>\n",
       "      <td>34</td>\n",
       "      <td>M</td>\n",
       "      <td>2</td>\n",
       "      <td>36001.90</td>\n",
       "      <td>5</td>\n",
       "      <td>8</td>\n",
       "    </tr>\n",
       "    <tr>\n",
       "      <th>10</th>\n",
       "      <td>8320017</td>\n",
       "      <td>39393514_33118319366</td>\n",
       "      <td>960651974_70596002104_312201</td>\n",
       "      <td>step_2</td>\n",
       "      <td>2017-04-05 13:08:40</td>\n",
       "      <td>Test</td>\n",
       "      <td>22</td>\n",
       "      <td>274</td>\n",
       "      <td>34</td>\n",
       "      <td>M</td>\n",
       "      <td>2</td>\n",
       "      <td>36001.90</td>\n",
       "      <td>5</td>\n",
       "      <td>8</td>\n",
       "    </tr>\n",
       "    <tr>\n",
       "      <th>11</th>\n",
       "      <td>8320017</td>\n",
       "      <td>39393514_33118319366</td>\n",
       "      <td>960651974_70596002104_312201</td>\n",
       "      <td>step_1</td>\n",
       "      <td>2017-04-05 13:08:24</td>\n",
       "      <td>Test</td>\n",
       "      <td>22</td>\n",
       "      <td>274</td>\n",
       "      <td>34</td>\n",
       "      <td>M</td>\n",
       "      <td>2</td>\n",
       "      <td>36001.90</td>\n",
       "      <td>5</td>\n",
       "      <td>8</td>\n",
       "    </tr>\n",
       "    <tr>\n",
       "      <th>12</th>\n",
       "      <td>8320017</td>\n",
       "      <td>39393514_33118319366</td>\n",
       "      <td>960651974_70596002104_312201</td>\n",
       "      <td>start</td>\n",
       "      <td>2017-04-05 13:08:06</td>\n",
       "      <td>Test</td>\n",
       "      <td>22</td>\n",
       "      <td>274</td>\n",
       "      <td>34</td>\n",
       "      <td>M</td>\n",
       "      <td>2</td>\n",
       "      <td>36001.90</td>\n",
       "      <td>5</td>\n",
       "      <td>8</td>\n",
       "    </tr>\n",
       "    <tr>\n",
       "      <th>13</th>\n",
       "      <td>1982004</td>\n",
       "      <td>618934751_10082078917</td>\n",
       "      <td>132494692_73738638511_70823</td>\n",
       "      <td>confirm</td>\n",
       "      <td>2017-04-17 12:02:42</td>\n",
       "      <td>Test</td>\n",
       "      <td>6</td>\n",
       "      <td>80</td>\n",
       "      <td>44</td>\n",
       "      <td>Other</td>\n",
       "      <td>2</td>\n",
       "      <td>30231.76</td>\n",
       "      <td>1</td>\n",
       "      <td>4</td>\n",
       "    </tr>\n",
       "    <tr>\n",
       "      <th>14</th>\n",
       "      <td>1982004</td>\n",
       "      <td>618934751_10082078917</td>\n",
       "      <td>132494692_73738638511_70823</td>\n",
       "      <td>step_3</td>\n",
       "      <td>2017-04-17 12:01:09</td>\n",
       "      <td>Test</td>\n",
       "      <td>6</td>\n",
       "      <td>80</td>\n",
       "      <td>44</td>\n",
       "      <td>Other</td>\n",
       "      <td>2</td>\n",
       "      <td>30231.76</td>\n",
       "      <td>1</td>\n",
       "      <td>4</td>\n",
       "    </tr>\n",
       "  </tbody>\n",
       "</table>\n",
       "</div>"
      ],
      "text/plain": [
       "    client_id             visitor_id                      visit_id  \\\n",
       "0     9988021   580560515_7732621733  781255054_21935453173_531117   \n",
       "1     9988021   580560515_7732621733  781255054_21935453173_531117   \n",
       "2     9988021   580560515_7732621733  781255054_21935453173_531117   \n",
       "3     9988021   580560515_7732621733  781255054_21935453173_531117   \n",
       "4     9988021   580560515_7732621733  781255054_21935453173_531117   \n",
       "5     9988021   580560515_7732621733  781255054_21935453173_531117   \n",
       "6     9988021   580560515_7732621733  781255054_21935453173_531117   \n",
       "7     9988021   580560515_7732621733  781255054_21935453173_531117   \n",
       "8     8320017   39393514_33118319366  960651974_70596002104_312201   \n",
       "9     8320017   39393514_33118319366  960651974_70596002104_312201   \n",
       "10    8320017   39393514_33118319366  960651974_70596002104_312201   \n",
       "11    8320017   39393514_33118319366  960651974_70596002104_312201   \n",
       "12    8320017   39393514_33118319366  960651974_70596002104_312201   \n",
       "13    1982004  618934751_10082078917   132494692_73738638511_70823   \n",
       "14    1982004  618934751_10082078917   132494692_73738638511_70823   \n",
       "\n",
       "   process_step           date_time Variation  clnt_tenure_yr  \\\n",
       "0        step_3 2017-04-17 15:27:07      Test               5   \n",
       "1        step_2 2017-04-17 15:26:51      Test               5   \n",
       "2        step_3 2017-04-17 15:19:22      Test               5   \n",
       "3        step_2 2017-04-17 15:19:13      Test               5   \n",
       "4        step_3 2017-04-17 15:18:04      Test               5   \n",
       "5        step_2 2017-04-17 15:17:15      Test               5   \n",
       "6        step_1 2017-04-17 15:17:01      Test               5   \n",
       "7         start 2017-04-17 15:16:22      Test               5   \n",
       "8       confirm 2017-04-05 13:10:05      Test              22   \n",
       "9        step_3 2017-04-05 13:09:43      Test              22   \n",
       "10       step_2 2017-04-05 13:08:40      Test              22   \n",
       "11       step_1 2017-04-05 13:08:24      Test              22   \n",
       "12        start 2017-04-05 13:08:06      Test              22   \n",
       "13      confirm 2017-04-17 12:02:42      Test               6   \n",
       "14       step_3 2017-04-17 12:01:09      Test               6   \n",
       "\n",
       "    clnt_tenure_mnth  clnt_age  gendr  num_accts        bal  calls_6_mnth  \\\n",
       "0                 64        79  Other          2  189023.86             1   \n",
       "1                 64        79  Other          2  189023.86             1   \n",
       "2                 64        79  Other          2  189023.86             1   \n",
       "3                 64        79  Other          2  189023.86             1   \n",
       "4                 64        79  Other          2  189023.86             1   \n",
       "5                 64        79  Other          2  189023.86             1   \n",
       "6                 64        79  Other          2  189023.86             1   \n",
       "7                 64        79  Other          2  189023.86             1   \n",
       "8                274        34      M          2   36001.90             5   \n",
       "9                274        34      M          2   36001.90             5   \n",
       "10               274        34      M          2   36001.90             5   \n",
       "11               274        34      M          2   36001.90             5   \n",
       "12               274        34      M          2   36001.90             5   \n",
       "13                80        44  Other          2   30231.76             1   \n",
       "14                80        44  Other          2   30231.76             1   \n",
       "\n",
       "    logons_6_mnth  \n",
       "0               4  \n",
       "1               4  \n",
       "2               4  \n",
       "3               4  \n",
       "4               4  \n",
       "5               4  \n",
       "6               4  \n",
       "7               4  \n",
       "8               8  \n",
       "9               8  \n",
       "10              8  \n",
       "11              8  \n",
       "12              8  \n",
       "13              4  \n",
       "14              4  "
      ]
     },
     "execution_count": 64,
     "metadata": {},
     "output_type": "execute_result"
    }
   ],
   "source": [
    "final_df_Test = pd.merge(df_experiment_clients_Test, df_clients_profile, on='client_id', how='inner')\n",
    "final_df_Test = pd.merge(df_web_data, final_df_Test, on='client_id', how='inner')\n",
    "df_test = final_df_Test\n",
    "df_test.head(15)"
   ]
  },
  {
   "cell_type": "markdown",
   "metadata": {},
   "source": [
    "### Create the csv file to df_test"
   ]
  },
  {
   "cell_type": "code",
   "execution_count": 65,
   "metadata": {},
   "outputs": [],
   "source": [
    "df_test.to_csv('../Data/Cleaned_Data/df_test.csv', index=False)"
   ]
  },
  {
   "cell_type": "markdown",
   "metadata": {},
   "source": [
    "### df_control: combine visit_id with visitor_id and reoganize the columns."
   ]
  },
  {
   "cell_type": "code",
   "execution_count": 66,
   "metadata": {},
   "outputs": [
    {
     "data": {
      "text/html": [
       "<div>\n",
       "<style scoped>\n",
       "    .dataframe tbody tr th:only-of-type {\n",
       "        vertical-align: middle;\n",
       "    }\n",
       "\n",
       "    .dataframe tbody tr th {\n",
       "        vertical-align: top;\n",
       "    }\n",
       "\n",
       "    .dataframe thead th {\n",
       "        text-align: right;\n",
       "    }\n",
       "</style>\n",
       "<table border=\"1\" class=\"dataframe\">\n",
       "  <thead>\n",
       "    <tr style=\"text-align: right;\">\n",
       "      <th></th>\n",
       "      <th>client_id</th>\n",
       "      <th>Variation</th>\n",
       "    </tr>\n",
       "  </thead>\n",
       "  <tbody>\n",
       "    <tr>\n",
       "      <th>2</th>\n",
       "      <td>4033851</td>\n",
       "      <td>Control</td>\n",
       "    </tr>\n",
       "    <tr>\n",
       "      <th>4</th>\n",
       "      <td>9294070</td>\n",
       "      <td>Control</td>\n",
       "    </tr>\n",
       "    <tr>\n",
       "      <th>7</th>\n",
       "      <td>6651403</td>\n",
       "      <td>Control</td>\n",
       "    </tr>\n",
       "    <tr>\n",
       "      <th>9</th>\n",
       "      <td>2105948</td>\n",
       "      <td>Control</td>\n",
       "    </tr>\n",
       "    <tr>\n",
       "      <th>12</th>\n",
       "      <td>9814849</td>\n",
       "      <td>Control</td>\n",
       "    </tr>\n",
       "    <tr>\n",
       "      <th>14</th>\n",
       "      <td>7286739</td>\n",
       "      <td>Control</td>\n",
       "    </tr>\n",
       "    <tr>\n",
       "      <th>15</th>\n",
       "      <td>4446011</td>\n",
       "      <td>Control</td>\n",
       "    </tr>\n",
       "    <tr>\n",
       "      <th>20</th>\n",
       "      <td>4229407</td>\n",
       "      <td>Control</td>\n",
       "    </tr>\n",
       "    <tr>\n",
       "      <th>24</th>\n",
       "      <td>2842481</td>\n",
       "      <td>Control</td>\n",
       "    </tr>\n",
       "    <tr>\n",
       "      <th>27</th>\n",
       "      <td>1218661</td>\n",
       "      <td>Control</td>\n",
       "    </tr>\n",
       "  </tbody>\n",
       "</table>\n",
       "</div>"
      ],
      "text/plain": [
       "    client_id Variation\n",
       "2     4033851   Control\n",
       "4     9294070   Control\n",
       "7     6651403   Control\n",
       "9     2105948   Control\n",
       "12    9814849   Control\n",
       "14    7286739   Control\n",
       "15    4446011   Control\n",
       "20    4229407   Control\n",
       "24    2842481   Control\n",
       "27    1218661   Control"
      ]
     },
     "execution_count": 66,
     "metadata": {},
     "output_type": "execute_result"
    }
   ],
   "source": [
    "#id of clients that are part of the control group\n",
    "df_experiment_clients_Control = df_experiment_clients[df_experiment_clients['Variation'] == 'Control']\n",
    "df_experiment_clients_Control.head(10)"
   ]
  },
  {
   "cell_type": "code",
   "execution_count": null,
   "metadata": {},
   "outputs": [
    {
     "data": {
      "text/html": [
       "<div>\n",
       "<style scoped>\n",
       "    .dataframe tbody tr th:only-of-type {\n",
       "        vertical-align: middle;\n",
       "    }\n",
       "\n",
       "    .dataframe tbody tr th {\n",
       "        vertical-align: top;\n",
       "    }\n",
       "\n",
       "    .dataframe thead th {\n",
       "        text-align: right;\n",
       "    }\n",
       "</style>\n",
       "<table border=\"1\" class=\"dataframe\">\n",
       "  <thead>\n",
       "    <tr style=\"text-align: right;\">\n",
       "      <th></th>\n",
       "      <th>client_id</th>\n",
       "      <th>visitor_id</th>\n",
       "      <th>visit_id</th>\n",
       "      <th>process_step</th>\n",
       "      <th>date_time</th>\n",
       "      <th>Variation</th>\n",
       "      <th>clnt_tenure_yr</th>\n",
       "      <th>clnt_tenure_mnth</th>\n",
       "      <th>clnt_age</th>\n",
       "      <th>gendr</th>\n",
       "      <th>num_accts</th>\n",
       "      <th>bal</th>\n",
       "      <th>calls_6_mnth</th>\n",
       "      <th>logons_6_mnth</th>\n",
       "    </tr>\n",
       "  </thead>\n",
       "  <tbody>\n",
       "    <tr>\n",
       "      <th>0</th>\n",
       "      <td>9988021</td>\n",
       "      <td>580560515_7732621733</td>\n",
       "      <td>781255054_21935453173_531117</td>\n",
       "      <td>step_3</td>\n",
       "      <td>2017-04-17 15:27:07</td>\n",
       "      <td>Test</td>\n",
       "      <td>5</td>\n",
       "      <td>64</td>\n",
       "      <td>79</td>\n",
       "      <td>Other</td>\n",
       "      <td>2</td>\n",
       "      <td>189023.86</td>\n",
       "      <td>1</td>\n",
       "      <td>4</td>\n",
       "    </tr>\n",
       "    <tr>\n",
       "      <th>1</th>\n",
       "      <td>9988021</td>\n",
       "      <td>580560515_7732621733</td>\n",
       "      <td>781255054_21935453173_531117</td>\n",
       "      <td>step_2</td>\n",
       "      <td>2017-04-17 15:26:51</td>\n",
       "      <td>Test</td>\n",
       "      <td>5</td>\n",
       "      <td>64</td>\n",
       "      <td>79</td>\n",
       "      <td>Other</td>\n",
       "      <td>2</td>\n",
       "      <td>189023.86</td>\n",
       "      <td>1</td>\n",
       "      <td>4</td>\n",
       "    </tr>\n",
       "  </tbody>\n",
       "</table>\n",
       "</div>"
      ],
      "text/plain": [
       "   client_id            visitor_id                      visit_id process_step  \\\n",
       "0    9988021  580560515_7732621733  781255054_21935453173_531117       step_3   \n",
       "1    9988021  580560515_7732621733  781255054_21935453173_531117       step_2   \n",
       "\n",
       "            date_time Variation  clnt_tenure_yr  clnt_tenure_mnth  clnt_age  \\\n",
       "0 2017-04-17 15:27:07      Test               5                64        79   \n",
       "1 2017-04-17 15:26:51      Test               5                64        79   \n",
       "\n",
       "   gendr  num_accts        bal  calls_6_mnth  logons_6_mnth  \n",
       "0  Other          2  189023.86             1              4  \n",
       "1  Other          2  189023.86             1              4  "
      ]
     },
     "metadata": {},
     "output_type": "display_data"
    }
   ],
   "source": [
    "df_test.head(2)"
   ]
  },
  {
   "cell_type": "code",
   "execution_count": null,
   "metadata": {},
   "outputs": [],
   "source": [
    "# Assuming df_control is your DataFrame\n",
    "# 1. Data Preparation:\n",
    "df_test['date_time'] = pd.to_datetime(df_test['date_time'])\n",
    "df_test['date'] = df_test['date_time'].dt.date\n",
    "# Combine visit_id and visitor_id into a new column\n",
    "df_test['visit_visitor_id'] = df_test['visit_id'].astype(str) + \"_\" + df_test['visitor_id'].astype(str)"
   ]
  },
  {
   "cell_type": "code",
   "execution_count": null,
   "metadata": {},
   "outputs": [],
   "source": [
    "# 2. Calculate time differences per step and make them positive:\n",
    "# We need to sort the dataframe before calculating the time difference\n",
    "df_test = df_test.sort_values(by=['visit_id', 'client_id', 'date_time'])\n",
    "\n",
    "df_test['next_date_time'] = df_test.groupby(['visit_id', 'client_id'])['date_time'].shift(-1)\n",
    "\n",
    "# Calculate time spent in seconds, but make sure it's always positive\n",
    "df_test['time_diff_seconds'] = (df_test['next_date_time'] - df_test['date_time']).dt.total_seconds()\n",
    "df_test['time_diff_minutes'] = df_test['time_diff_seconds'] / 60\n",
    "\n",
    "\n",
    "\n",
    "# Get Last Step:\n",
    "# Calculate last_step *before* aggregating data \n",
    "last_step_df = df_test.groupby('visit_visitor_id')['process_step'].last().reset_index()\n",
    "last_step_df = last_step_df.rename(columns={'process_step': 'last_step'})\n"
   ]
  },
  {
   "cell_type": "code",
   "execution_count": null,
   "metadata": {},
   "outputs": [],
   "source": [
    "\n",
    "# 3. Calculate the number of steps per visit:\n",
    "df_test = pd.concat([df_test, pd.get_dummies(df_test['process_step'], prefix='count')], axis=1)\n",
    "df_steps_sum = df_test.groupby(by=['client_id', 'visit_id', 'visitor_id'])[['count_confirm', \n",
    "'count_start', 'count_step_1', 'count_step_2', 'count_step_3']].agg('sum')"
   ]
  },
  {
   "cell_type": "code",
   "execution_count": null,
   "metadata": {},
   "outputs": [],
   "source": [
    "# 4. Pivot the table to have one row per visit:\n",
    "df_pivot = df_test.pivot_table(index=['client_id', 'visitor_id', 'visit_id'], columns='process_step', values='time_diff_minutes', fill_value=0, aggfunc='sum')\n",
    "df_pivot = df_pivot.reset_index()\n",
    "df_pivot.columns.name = None  # Remove the 'process_step' header\n",
    "test_time_counts = pd.merge(df_pivot, df_steps_sum, on=['client_id', 'visitor_id', 'visit_id'])\n"
   ]
  },
  {
   "cell_type": "code",
   "execution_count": null,
   "metadata": {},
   "outputs": [],
   "source": [
    "# 5. Merge the data with the clients' profile:\n",
    "final_df_Test = pd.merge(df_experiment_clients_Test, df_clients_profile, on='client_id', how='inner')\n",
    "final_df_Test = pd.merge(test_time_counts, final_df_Test, on='client_id', how='inner')\n",
    "df_test_date = df_web_data.groupby(by = ['client_id', 'visit_id', 'visitor_id']).agg({'date_time': ['min', 'max']})\n",
    "df_test_date.columns = [''.join(col).strip() if isinstance(col, tuple) else col for col in df_test_date.columns]\n",
    "final_df_Test= pd.merge(df_test_date, final_df_Test, on=['client_id', 'visit_id', 'visitor_id'], how='inner')\n"
   ]
  },
  {
   "cell_type": "code",
   "execution_count": null,
   "metadata": {},
   "outputs": [],
   "source": [
    "# 5. Merge the data with the clients' profile and get initial and final dates:\n",
    "final_df_Test = pd.merge(test_time_counts, df_experiment_clients_Test, on='client_id', how='inner')\n",
    "final_df_Test = pd.merge(final_df_Test, df_clients_profile, on='client_id', how='inner')\n",
    "\n",
    "df_test_date = df_web_data.groupby(by = ['client_id', 'visit_id', 'visitor_id']).agg({'date_time': ['min', 'max']})\n",
    "df_test_date.columns = [''.join(col).strip() if isinstance(col, tuple) else col for col in df_test_date.columns]\n",
    "final_df_Test = pd.merge(df_test_date, final_df_Test, on=['client_id', 'visit_id', 'visitor_id'], how='inner')\n",
    "\n",
    "# Ensure visit_visitor_id exists in final_df_Test for the merge:\n",
    "final_df_Test['visit_visitor_id'] = final_df_Test['visit_id'].astype(str) + \"_\" + final_df_Test['visitor_id'].astype(str)  \n",
    "# Calculate total time spent in the website:\n",
    "# Calculate time spent in seconds, but make sure it's always positive\n",
    "df_test['time_diff_seconds'] = (df_test['next_date_time'] - df_test['date_time']).dt.total_seconds()\n",
    "df_test['time_diff_minutes'] = df_test['time_diff_seconds'] / 60\n",
    "# Merge with last_step_df:\n",
    "final_df_Test = pd.merge(final_df_Test, last_step_df, on='visit_visitor_id', how='left')\n",
    "\n",
    "# Extract the date from date_timemax into a new column called date\n",
    "final_df_Test['date'] = final_df_Test['date_timemax'].dt.date\n",
    "\n",
    "# Remove unnecessary columns \n",
    "final_df_Test = final_df_Test.drop(columns=['visit_id', 'visitor_id'])  # Remove only visit_id and visitor_id\n",
    "\n",
    "\n",
    "# Rename columns:\n",
    "final_df_Test = final_df_Test.rename(columns={\n",
    "    'date_timemin': 'initial_date', \n",
    "    'date_timemax': 'final_date', \n",
    "    'start': 'start_time', \n",
    "    'confirm': 'time_completion', \n",
    "    'count_confirm': 'completion',\n",
    "    'count_start': 'start_step', \n",
    "    'count_step_1': '1st_step', \n",
    "    'count_step_2': '2nd_step', \n",
    "    'count_step_3': '3rd_step',\n",
    "    'Variation': 'variation'\n",
    "})\n",
    "# Total navigations between start and last step (including start and last):\n",
    "final_df_Test['navigations_bt_start_last'] = final_df_Test.apply(\n",
    "    lambda row: row['start_step'] + row['1st_step'] + row['2nd_step'] + row['3rd_step'] + 1, \n",
    "    axis=1  # Add 1 for the last_step itself\n",
    ")\n"
   ]
  },
  {
   "cell_type": "markdown",
   "metadata": {},
   "source": [
    "### Create the csv file to df_control"
   ]
  },
  {
   "cell_type": "code",
   "execution_count": 67,
   "metadata": {},
   "outputs": [
    {
     "ename": "NameError",
     "evalue": "name 'df_control' is not defined",
     "output_type": "error",
     "traceback": [
      "\u001b[0;31m---------------------------------------------------------------------------\u001b[0m",
      "\u001b[0;31mNameError\u001b[0m                                 Traceback (most recent call last)",
      "Cell \u001b[0;32mIn[67], line 1\u001b[0m\n\u001b[0;32m----> 1\u001b[0m \u001b[43mdf_control\u001b[49m\u001b[38;5;241m.\u001b[39mto_csv(\u001b[38;5;124m'\u001b[39m\u001b[38;5;124m../Data/Cleaned_Data/df_control.csv\u001b[39m\u001b[38;5;124m'\u001b[39m, index\u001b[38;5;241m=\u001b[39m\u001b[38;5;28;01mFalse\u001b[39;00m)\n",
      "\u001b[0;31mNameError\u001b[0m: name 'df_control' is not defined"
     ]
    }
   ],
   "source": [
    "df_control.to_csv('../Data/Cleaned_Data/df_control.csv', index=False)"
   ]
  },
  {
   "cell_type": "markdown",
   "metadata": {},
   "source": [
    "# Pivot and create new columns"
   ]
  },
  {
   "cell_type": "markdown",
   "metadata": {},
   "source": [
    "### df_test"
   ]
  },
  {
   "cell_type": "code",
   "execution_count": null,
   "metadata": {},
   "outputs": [],
   "source": [
    "df_test.head(2)"
   ]
  },
  {
   "cell_type": "code",
   "execution_count": null,
   "metadata": {},
   "outputs": [],
   "source": [
    "# Assuming df_control is your DataFrame\n",
    "# 1. Data Preparation:\n",
    "df_test['date_time'] = pd.to_datetime(df_test['date_time'])\n",
    "df_test['date'] = df_test['date_time'].dt.date\n",
    "# Combine visit_id and visitor_id into a new column\n",
    "df_test['visit_visitor_id'] = df_test['visit_id'].astype(str) + \"_\" + df_test['visitor_id'].astype(str)"
   ]
  },
  {
   "cell_type": "code",
   "execution_count": null,
   "metadata": {},
   "outputs": [],
   "source": [
    "# 2. Calculate time differences per step and make them positive:\n",
    "# We need to sort the dataframe before calculating the time difference\n",
    "df_test = df_test.sort_values(by=['visit_id', 'client_id', 'date_time'])\n",
    "\n",
    "df_test['next_date_time'] = df_test.groupby(['visit_id', 'client_id'])['date_time'].shift(-1)\n",
    "\n",
    "# Calculate time spent in seconds, but make sure it's always positive\n",
    "df_test['time_diff_seconds'] = (df_test['next_date_time'] - df_test['date_time']).dt.total_seconds()\n",
    "df_test['time_diff_minutes'] = df_test['time_diff_seconds'] / 60\n",
    "\n",
    "\n",
    "\n",
    "# Get Last Step:\n",
    "# Calculate last_step *before* aggregating data \n",
    "last_step_df = df_test.groupby('visit_visitor_id')['process_step'].last().reset_index()\n",
    "last_step_df = last_step_df.rename(columns={'process_step': 'last_step'})\n"
   ]
  },
  {
   "cell_type": "code",
   "execution_count": null,
   "metadata": {},
   "outputs": [],
   "source": [
    "\n",
    "# 3. Calculate the number of steps per visit:\n",
    "df_test = pd.concat([df_test, pd.get_dummies(df_test['process_step'], prefix='count')], axis=1)\n",
    "df_steps_sum = df_test.groupby(by=['client_id', 'visit_id', 'visitor_id'])[['count_confirm', \n",
    "'count_start', 'count_step_1', 'count_step_2', 'count_step_3']].agg('sum')"
   ]
  },
  {
   "cell_type": "code",
   "execution_count": null,
   "metadata": {},
   "outputs": [],
   "source": [
    "# 4. Pivot the table to have one row per visit:\n",
    "df_pivot = df_test.pivot_table(index=['client_id', 'visitor_id', 'visit_id'], columns='process_step', values='time_diff_minutes', fill_value=0, aggfunc='sum')\n",
    "df_pivot = df_pivot.reset_index()\n",
    "df_pivot.columns.name = None  # Remove the 'process_step' header\n",
    "test_time_counts = pd.merge(df_pivot, df_steps_sum, on=['client_id', 'visitor_id', 'visit_id'])\n"
   ]
  },
  {
   "cell_type": "code",
   "execution_count": null,
   "metadata": {},
   "outputs": [],
   "source": [
    "# 5. Merge the data with the clients' profile and get initial and final dates:\n",
    "final_df_Test = pd.merge(test_time_counts, df_experiment_clients_Test, on='client_id', how='inner')\n",
    "final_df_Test = pd.merge(final_df_Test, df_clients_profile, on='client_id', how='inner')\n",
    "\n",
    "df_test_date = df_web_data.groupby(by = ['client_id', 'visit_id', 'visitor_id']).agg({'date_time': ['min', 'max']})\n",
    "df_test_date.columns = [''.join(col).strip() if isinstance(col, tuple) else col for col in df_test_date.columns]\n",
    "final_df_Test = pd.merge(df_test_date, final_df_Test, on=['client_id', 'visit_id', 'visitor_id'], how='inner')\n",
    "\n",
    "# Ensure visit_visitor_id exists in final_df_Test for the merge:\n",
    "final_df_Test['visit_visitor_id'] = final_df_Test['visit_id'].astype(str) + \"_\" + final_df_Test['visitor_id'].astype(str)  \n",
    "# Calculate total time spent in the website:\n",
    "# Calculate time spent in seconds, but make sure it's always positive\n",
    "df_test['time_diff_seconds'] = (df_test['next_date_time'] - df_test['date_time']).dt.total_seconds()\n",
    "df_test['time_diff_minutes'] = df_test['time_diff_seconds'] / 60\n",
    "# Merge with last_step_df:\n",
    "final_df_Test = pd.merge(final_df_Test, last_step_df, on='visit_visitor_id', how='left')\n",
    "\n",
    "# Extract the date from date_timemax into a new column called date\n",
    "final_df_Test['date'] = final_df_Test['date_timemax'].dt.date\n",
    "\n",
    "# Remove unnecessary columns \n",
    "final_df_Test = final_df_Test.drop(columns=['visit_id', 'visitor_id'])  # Remove only visit_id and visitor_id\n",
    "\n",
    "\n",
    "# Rename columns:\n",
    "final_df_Test = final_df_Test.rename(columns={\n",
    "    'date_timemin': 'initial_date', \n",
    "    'date_timemax': 'final_date', \n",
    "    'start': 'start_time', \n",
    "    'confirm': 'time_completion', \n",
    "    'count_confirm': 'completion',\n",
    "    'count_start': 'start_step', \n",
    "    'count_step_1': '1st_step', \n",
    "    'count_step_2': '2nd_step', \n",
    "    'count_step_3': '3rd_step',\n",
    "    'Variation': 'variation'\n",
    "})\n",
    "# Total navigations between start and last step (including start and last):\n",
    "final_df_Test['navigations_bt_start_last'] = final_df_Test.apply(\n",
    "    lambda row: row['start_step'] + row['1st_step'] + row['2nd_step'] + row['3rd_step'] + 1, \n",
    "    axis=1  # Add 1 for the last_step itself\n",
    ")\n"
   ]
  },
  {
   "cell_type": "code",
   "execution_count": null,
   "metadata": {},
   "outputs": [],
   "source": [
    "# 6. Create the final order of columns:\n",
    "old_order = ['client_id', 'visit_visitor_id', 'time_completion',\n",
    "       'start_time', 'step_1', 'step_2', 'step_3', 'completion', 'start_step',\n",
    "       '1st_step', '2nd_step', '3rd_step', 'variation', 'clnt_tenure_yr',\n",
    "       'clnt_tenure_mnth', 'clnt_age', 'gendr', 'num_accts', 'bal',\n",
    "       'calls_6_mnth', 'logons_6_mnth', 'visit_visitor_id', 'last_step',\n",
    "       'date', 'navigations_bt_start_last']\n",
    "new_order = ['client_id', 'visit_visitor_id', 'start_time', 'step_1', 'step_2', 'step_3','time_completion',\n",
    "       'navigations_bt_start_last', 'completion', \n",
    "       'start_step','1st_step', '2nd_step', '3rd_step',  'last_step', 'variation', \n",
    "       'clnt_tenure_yr', 'clnt_tenure_mnth', 'clnt_age', 'gendr', 'num_accts', 'bal',\n",
    "       'calls_6_mnth', 'logons_6_mnth',\n",
    "       'date', 'initial_date', 'final_date']\n",
    "df_test_final = final_df_Test[new_order]"
   ]
  },
  {
   "cell_type": "code",
   "execution_count": null,
   "metadata": {},
   "outputs": [],
   "source": [
    "df_test_final.to_csv('../Data/Cleaned_Data/df_test_final.csv', index=False)"
   ]
  },
  {
   "cell_type": "markdown",
   "metadata": {},
   "source": [
    "### Create the csv file to df_test_final"
   ]
  },
  {
   "cell_type": "code",
   "execution_count": null,
   "metadata": {},
   "outputs": [],
   "source": [
    "df_test_final.to_csv('../Data/Cleaned_Data/df_test_final.csv', index=False)"
   ]
  },
  {
   "cell_type": "markdown",
   "metadata": {},
   "source": [
    "# Combine df_test and df_control"
   ]
  },
  {
   "cell_type": "code",
   "execution_count": null,
   "metadata": {},
   "outputs": [],
   "source": [
    "df_combined = pd.concat([df_test, df_control]).reset_index(drop=True)\n",
    "df_combined.to_csv('../Data/Cleaned_Data/df_combined.csv', index=False)"
   ]
  },
  {
   "cell_type": "markdown",
   "metadata": {},
   "source": [
    "### df_control"
   ]
  },
  {
   "cell_type": "code",
   "execution_count": null,
   "metadata": {},
   "outputs": [],
   "source": [
    "numerical_cols = ['navigations_bt_start_last']\n",
    "correlations = df_test_final[numerical_cols + ['completion']].corr()['completion'].drop('completion')\n",
    "correlations"
   ]
  },
  {
   "cell_type": "code",
   "execution_count": null,
   "metadata": {},
   "outputs": [],
   "source": [
    "df_control.head(10)"
   ]
  },
  {
   "cell_type": "code",
   "execution_count": null,
   "metadata": {},
   "outputs": [],
   "source": [
    "# Assuming df_control is your DataFrame\n",
    "# 1. Data Preparation:\n",
    "df_control['date_time'] = pd.to_datetime(df_control['date_time'])\n",
    "df_control['date'] = df_control['date_time'].dt.date\n",
    "# Combine visit_id and visitor_id into a new column\n",
    "df_control['visit_visitor_id'] = df_control['visit_id'].astype(str) + \"_\" + df_control['visitor_id'].astype(str)"
   ]
  },
  {
   "cell_type": "code",
   "execution_count": null,
   "metadata": {},
   "outputs": [],
   "source": [
    "# 2. Calculate time differences per step and make them positive:\n",
    "# We need to sort the dataframe before calculating the time difference\n",
    "df_control = df_control.sort_values(by=['visit_id', 'client_id', 'date_time'])\n",
    "\n",
    "df_control['next_date_time'] = df_control.groupby(['visit_id', 'client_id'])['date_time'].shift(-1)\n",
    "\n",
    "# Calculate time spent in seconds, but make sure it's always positive\n",
    "df_control['time_diff_seconds'] = (df_control['next_date_time'] - df_control['date_time']).dt.total_seconds()\n",
    "df_control['time_diff_minutes'] = df_control['time_diff_seconds'] / 60"
   ]
  },
  {
   "cell_type": "code",
   "execution_count": null,
   "metadata": {},
   "outputs": [],
   "source": [
    "# 3. Pivot to Create Step Columns:\n",
    "df_pivot = df_control.pivot_table(index=['client_id', 'visitor_id', 'visit_id'], columns='process_step', values='time_diff_minutes', fill_value=0, aggfunc='sum')\n",
    "df_pivot = df_pivot.reset_index()\n",
    "df_pivot.columns.name = None  # Remove the 'process_step' header"
   ]
  },
  {
   "cell_type": "code",
   "execution_count": null,
   "metadata": {},
   "outputs": [],
   "source": [
    "# 4. Rename Columns & Calculate Total Time:\n",
    "df_pivot = df_pivot.rename(columns={'confirm': 'confirm_time', 'start': 'start_time', 'step_1': 'step_1', 'step_2': 'step_2', 'step_3': 'step_3'})\n",
    "\n",
    "df_pivot['total_time_visit'] = df_pivot[['start_time', 'step_1', 'step_2', 'step_3', 'confirm_time']].sum(axis=1)\n",
    "\n",
    "# 5. Merge with Original Data and Select/Reorder Columns:\n",
    "final_df_c = pd.merge(df_pivot, df_control[['client_id', 'visit_id','Variation', 'clnt_tenure_yr',\n",
    "       'clnt_tenure_mnth', 'clnt_age', 'gendr', 'num_accts', 'bal',\n",
    "       'calls_6_mnth', 'logons_6_mnth', 'date', 'process_step']], on=['client_id', 'visit_id'], how='left')"
   ]
  },
  {
   "cell_type": "code",
   "execution_count": null,
   "metadata": {},
   "outputs": [],
   "source": [
    "# Get last step per visit_id\n",
    "final_df_c['last_step'] = final_df_c.groupby('visit_id')['process_step'].transform('last')\n",
    "\n",
    "# Add new columns 1st_step, 2nd_step, 3rd_step for counts of step_1, step_2, step_3\n",
    "step_counts = df_control.groupby(['visit_visitor_id', 'process_step']).size().unstack(fill_value=0)\n",
    "\n",
    "# Add 1st_step, 2nd_step, 3rd_step columns to final_df\n",
    "final_df_c['visit_visitor_id'] = final_df_c['visit_id'].astype(str) + \"_\" + final_df_c['visitor_id'].astype(str)\n",
    "final_df_c['start_step'] = final_df_c['visit_visitor_id'].map(step_counts.get('start', pd.Series())).fillna(0).astype(int)\n",
    "final_df_c['1st_step'] = final_df_c['visit_visitor_id'].map(step_counts.get('step_1', pd.Series())).fillna(0).astype(int)\n",
    "final_df_c['2nd_step'] = final_df_c['visit_visitor_id'].map(step_counts.get('step_2', pd.Series())).fillna(0).astype(int)\n",
    "final_df_c['3rd_step'] = final_df_c['visit_visitor_id'].map(step_counts.get('step_3', pd.Series())).fillna(0).astype(int)\n",
    "\n",
    "# Create completion column\n",
    "final_df_c['completion'] = final_df_c['last_step'].apply(lambda x: 1 if x == 'confirm' else 0)\n",
    "\n",
    "# Create navigations_bt_start_last column\n",
    "final_df_c['navigations_bt_start_last'] = final_df_c['1st_step'] + final_df_t['2nd_step'] + final_df_t['3rd_step']"
   ]
  },
  {
   "cell_type": "code",
   "execution_count": null,
   "metadata": {},
   "outputs": [],
   "source": [
    "# Drop visit_visitor_id column if no longer needed\n",
    "final_df_c.drop(['visit_id', 'visitor_id', 'process_step', 'confirm_time'], axis=1, inplace=True)\n",
    "final_df_c.drop_duplicates(subset='visit_visitor_id', keep='first', inplace=True)"
   ]
  },
  {
   "cell_type": "code",
   "execution_count": null,
   "metadata": {},
   "outputs": [],
   "source": [
    "# Reorder columns to place navigations_bt_start_last after 3rd_step and completed at the end\n",
    "df_control_final = final_df_c.reindex(columns=[\n",
    "    'client_id', 'visit_visitor_id', 'start_time', 'step_1', 'step_2', 'step_3', \n",
    "    'date', 'start_step', '1st_step', '2nd_step', '3rd_step', 'navigations_bt_start_last', 'last_step', 'completion',\n",
    "    'total_time_visit', 'Variation', 'clnt_tenure_yr', 'clnt_tenure_mnth', \n",
    "    'clnt_age', 'gendr', 'num_accts', 'bal', 'calls_6_mnth', 'logons_6_mnth'\n",
    "])"
   ]
  },
  {
   "cell_type": "code",
   "execution_count": null,
   "metadata": {},
   "outputs": [],
   "source": [
    "df_control_final = convert_data_types(df_control_final)"
   ]
  },
  {
   "cell_type": "code",
   "execution_count": null,
   "metadata": {},
   "outputs": [],
   "source": [
    "df_control_final.dtypes"
   ]
  },
  {
   "cell_type": "markdown",
   "metadata": {},
   "source": [
    "### Create the csv file to df_test_final"
   ]
  },
  {
   "cell_type": "code",
   "execution_count": null,
   "metadata": {},
   "outputs": [],
   "source": [
    "df_control_final.to_csv('../Data/Cleaned_Data/df_control_final.csv', index=False)"
   ]
  },
  {
   "cell_type": "markdown",
   "metadata": {},
   "source": [
    "# New Data Frames"
   ]
  },
  {
   "cell_type": "markdown",
   "metadata": {},
   "source": [
    "## df_control_final"
   ]
  },
  {
   "cell_type": "code",
   "execution_count": null,
   "metadata": {},
   "outputs": [],
   "source": [
    "df_control_final.head(10)"
   ]
  },
  {
   "cell_type": "markdown",
   "metadata": {},
   "source": [
    "## df_test_final"
   ]
  },
  {
   "cell_type": "code",
   "execution_count": null,
   "metadata": {},
   "outputs": [],
   "source": [
    "df_test_final.head(10)"
   ]
  },
  {
   "cell_type": "markdown",
   "metadata": {},
   "source": [
    "### Create the csv file to combine_df"
   ]
  },
  {
   "cell_type": "code",
   "execution_count": null,
   "metadata": {},
   "outputs": [],
   "source": [
    "df_final = pd.concat([df_test_final, df_control_final], ignore_index=True)"
   ]
  },
  {
   "cell_type": "code",
   "execution_count": null,
   "metadata": {},
   "outputs": [],
   "source": [
    "df_final = convert_data_types(df_final)"
   ]
  },
  {
   "cell_type": "code",
   "execution_count": null,
   "metadata": {},
   "outputs": [],
   "source": [
    "df_final.to_csv('../Data/Cleaned_Data/df_final.csv', index=False)"
   ]
  },
  {
   "cell_type": "code",
   "execution_count": null,
   "metadata": {},
   "outputs": [],
   "source": [
    "df_final.sample(5)"
   ]
  },
  {
   "cell_type": "code",
   "execution_count": null,
   "metadata": {},
   "outputs": [],
   "source": [
    "df_final.info()"
   ]
  },
  {
   "cell_type": "code",
   "execution_count": null,
   "metadata": {},
   "outputs": [],
   "source": [
    "df_control_final['last_step'].value_counts()"
   ]
  },
  {
   "cell_type": "code",
   "execution_count": null,
   "metadata": {},
   "outputs": [],
   "source": [
    "df_final[['Variation','last_step']].value_counts()"
   ]
  },
  {
   "cell_type": "code",
   "execution_count": null,
   "metadata": {},
   "outputs": [],
   "source": []
  }
 ],
 "metadata": {
  "kernelspec": {
   "display_name": ".venv",
   "language": "python",
   "name": "python3"
  },
  "language_info": {
   "codemirror_mode": {
    "name": "ipython",
    "version": 3
   },
   "file_extension": ".py",
   "mimetype": "text/x-python",
   "name": "python",
   "nbconvert_exporter": "python",
   "pygments_lexer": "ipython3",
   "version": "3.10.12"
  }
 },
 "nbformat": 4,
 "nbformat_minor": 2
}
