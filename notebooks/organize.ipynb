{
 "cells": [
  {
   "cell_type": "code",
   "execution_count": null,
   "metadata": {},
   "outputs": [],
   "source": [
    "import pandas as pd\n",
    "import sys\n",
    "sys.path.append('../src')\n",
    "from functions import *\n",
    "import seaborn as sns\n",
    "import matplotlib.pyplot as plt\n",
    "from scipy.stats import ttest_ind, chi2_contingency\n",
    "from scipy.stats import ttest_ind\n",
    "\n",
    "\n",
    "df_clients_profile = pd.read_csv('../Data/raw/df_final_demo.txt')\n",
    "df_web_data_1 = pd.read_csv('../Data/raw/df_final_web_data_pt_1.txt')\n",
    "df_web_data_2 = pd.read_csv('../Data/raw/df_final_web_data_pt_2.txt')\n",
    "df_experiment_clients = pd.read_csv('../Data/raw/df_final_experiment_clients.txt')\n",
    "pd.set_option('display.max_columns', None)\n",
    "df_web_data = pd.concat([df_web_data_1, df_web_data_2], ignore_index= True)"
   ]
  },
  {
   "cell_type": "markdown",
   "metadata": {},
   "source": [
    "## Drop duplicates values"
   ]
  },
  {
   "cell_type": "code",
   "execution_count": null,
   "metadata": {},
   "outputs": [],
   "source": [
    "#clean df_clients_profile\n",
    "df_clients_profile = print_clean_data(df_clients_profile)"
   ]
  },
  {
   "cell_type": "code",
   "execution_count": null,
   "metadata": {},
   "outputs": [],
   "source": [
    "#clean df_experiment_clients\n",
    "df_experiment_clients = print_clean_data(df_experiment_clients)"
   ]
  },
  {
   "cell_type": "code",
   "execution_count": null,
   "metadata": {},
   "outputs": [],
   "source": [
    "#clean df_web_data\n",
    "df_web_data = print_clean_data(df_web_data)"
   ]
  },
  {
   "cell_type": "code",
   "execution_count": null,
   "metadata": {},
   "outputs": [],
   "source": [
    "df_web_data.head(20)"
   ]
  },
  {
   "cell_type": "markdown",
   "metadata": {},
   "source": [
    "## Create a data frame with the clients that won't participe in the experiment."
   ]
  },
  {
   "cell_type": "code",
   "execution_count": null,
   "metadata": {},
   "outputs": [],
   "source": [
    "#setting aside the clients that wont be part if the experiment\n",
    "null_df_experiment_clients = df_experiment_clients[df_experiment_clients['Variation'].isnull()]\n",
    "null_df_experiment_clients"
   ]
  },
  {
   "cell_type": "markdown",
   "metadata": {},
   "source": [
    "## Merge the clients in the web data"
   ]
  },
  {
   "cell_type": "markdown",
   "metadata": {},
   "source": [
    "### Identify the clients part of the test group"
   ]
  },
  {
   "cell_type": "code",
   "execution_count": null,
   "metadata": {},
   "outputs": [],
   "source": [
    "#id of clients that are part of the test\n",
    "df_experiment_clients_Test = df_experiment_clients[df_experiment_clients['Variation'] == 'Test']\n",
    "df_experiment_clients_Test.head(10)"
   ]
  },
  {
   "cell_type": "markdown",
   "metadata": {},
   "source": [
    "### df_test: combine visit_id with visitor_id and reoganize the columns."
   ]
  },
  {
   "cell_type": "code",
   "execution_count": null,
   "metadata": {},
   "outputs": [],
   "source": [
    "final_df_Test = pd.merge(df_experiment_clients_Test, df_clients_profile, on='client_id', how='inner')\n",
    "final_df_Test = pd.merge(df_web_data, final_df_Test, on='client_id', how='inner')\n",
    "df_test = final_df_Test\n",
    "df_test.to_csv('df_test.csv', index=False)\n",
    "#change the data type to datetime\n",
    "df_test['date_time'] = pd.to_datetime(df_test['date_time']) \n",
    "df_test.head(15)"
   ]
  },
  {
   "cell_type": "markdown",
   "metadata": {},
   "source": [
    "### df_control: combine visit_id with visitor_id and reoganize the columns."
   ]
  },
  {
   "cell_type": "code",
   "execution_count": null,
   "metadata": {},
   "outputs": [],
   "source": [
    "#id of clients that are part of the control group\n",
    "df_experiment_clients_Control = df_experiment_clients[df_experiment_clients['Variation'] == 'Control']\n",
    "df_experiment_clients_Control.head(10)"
   ]
  },
  {
   "cell_type": "code",
   "execution_count": null,
   "metadata": {},
   "outputs": [],
   "source": [
    "df_experiment_clients_Control = df_experiment_clients[df_experiment_clients['Variation'] == 'Control']\n",
    "final_df_Control = pd.merge(df_experiment_clients_Control, df_clients_profile, on='client_id', how='inner')\n",
    "final_df_Control = pd.merge(df_web_data, final_df_Control, on='client_id', how='inner')\n",
    "df_control = final_df_Control\n",
    "df_control.to_csv('df_control.csv', index=False)\n",
    "#change the data type to datetime\n",
    "df_control['date_time'] = pd.to_datetime(df_control['date_time']) \n",
    "df_control.head(20)"
   ]
  },
  {
   "cell_type": "markdown",
   "metadata": {},
   "source": [
    "## Pivot and create new columns"
   ]
  },
  {
   "cell_type": "markdown",
   "metadata": {},
   "source": [
    "### df_test"
   ]
  },
  {
   "cell_type": "code",
   "execution_count": null,
   "metadata": {},
   "outputs": [],
   "source": [
    "df_test"
   ]
  },
  {
   "cell_type": "code",
   "execution_count": null,
   "metadata": {},
   "outputs": [],
   "source": [
    "# Assuming df_control is your DataFrame\n",
    "# 1. Data Preparation:\n",
    "df_test['date_time'] = pd.to_datetime(df_test['date_time'])\n",
    "df_test['date'] = df_test['date_time'].dt.date\n",
    "# Combine visit_id and visitor_id into a new column\n",
    "df_test['visit_visitor_id'] = df_test['visit_id'].astype(str) + \"_\" + df_test['visitor_id'].astype(str)"
   ]
  },
  {
   "cell_type": "code",
   "execution_count": null,
   "metadata": {},
   "outputs": [],
   "source": [
    "# 2. Calculate time differences per step and make them positive:\n",
    "# We need to sort the dataframe before calculating the time difference\n",
    "df_test = df_test.sort_values(by=['visit_id', 'client_id', 'date_time'])\n",
    "\n",
    "df_test['next_date_time'] = df_test.groupby(['visit_id', 'client_id'])['date_time'].shift(-1)\n",
    "\n",
    "# Calculate time spent in seconds, but make sure it's always positive\n",
    "df_test['time_diff_seconds'] = (df_test['next_date_time'] - df_test['date_time']).dt.total_seconds()\n",
    "df_test['time_diff_minutes'] = df_test['time_diff_seconds'] / 60"
   ]
  },
  {
   "cell_type": "code",
   "execution_count": null,
   "metadata": {},
   "outputs": [],
   "source": [
    "# 3. Pivot to Create Step Columns:\n",
    "df_pivot = df_test.pivot_table(index=['client_id', 'visitor_id', 'visit_id'], columns='process_step', values='time_diff_minutes', fill_value=0, aggfunc='sum')\n",
    "df_pivot = df_pivot.reset_index()\n",
    "df_pivot.columns.name = None  # Remove the 'process_step' header"
   ]
  },
  {
   "cell_type": "code",
   "execution_count": null,
   "metadata": {},
   "outputs": [],
   "source": [
    "# 4. Rename Columns & Calculate Total Time:\n",
    "df_pivot = df_pivot.rename(columns={'confirm': 'confirm_time', 'start': 'start_time', 'step_1': 'step_1', 'step_2': 'step_2', 'step_3': 'step_3'})\n",
    "\n",
    "df_pivot['total_time_visit'] = df_pivot[['start_time', 'step_1', 'step_2', 'step_3', 'confirm_time']].sum(axis=1)\n",
    "\n",
    "# 5. Merge with Original Data and Select/Reorder Columns:\n",
    "final_df_t = pd.merge(df_pivot, df_test[['client_id', 'visit_id','Variation', 'clnt_tenure_yr',\n",
    "       'clnt_tenure_mnth', 'clnt_age', 'gendr', 'num_accts', 'bal',\n",
    "       'calls_6_mnth', 'logons_6_mnth', 'date', 'process_step']], on=['client_id', 'visit_id'], how='left')"
   ]
  },
  {
   "cell_type": "code",
   "execution_count": null,
   "metadata": {},
   "outputs": [],
   "source": [
    "# Get last step per visit_id\n",
    "final_df_t['last_step'] = final_df_t.groupby('visit_id')['process_step'].transform('last')\n",
    "\n",
    "# Add new columns bt_1, bt_2, bt_3 for counts of step_1, step_2, step_3\n",
    "step_counts = df_test.groupby(['visit_visitor_id', 'process_step']).size().unstack(fill_value=0)\n",
    "\n",
    "# Add bt_1, bt_2, bt_3 columns to final_df\n",
    "final_df_t['visit_visitor_id'] = final_df_t['visit_id'].astype(str) + \"_\" + final_df_t['visitor_id'].astype(str)\n",
    "final_df_t['bt_1'] = final_df_t['visit_visitor_id'].map(step_counts.get('step_1', pd.Series())).fillna(0).astype(int)\n",
    "final_df_t['bt_2'] = final_df_t['visit_visitor_id'].map(step_counts.get('step_2', pd.Series())).fillna(0).astype(int)\n",
    "final_df_t['bt_3'] = final_df_t['visit_visitor_id'].map(step_counts.get('step_3', pd.Series())).fillna(0).astype(int)"
   ]
  },
  {
   "cell_type": "code",
   "execution_count": null,
   "metadata": {},
   "outputs": [],
   "source": [
    "df_test_final[df_test_final['visit_visitor_id'] == '781255054_21935453173_531117_580560515_7732621733']"
   ]
  },
  {
   "cell_type": "code",
   "execution_count": null,
   "metadata": {},
   "outputs": [],
   "source": [
    "df_test[df_test['visit_visitor_id'] == '781255054_21935453173_531117_580560515_7732621733']"
   ]
  },
  {
   "cell_type": "code",
   "execution_count": null,
   "metadata": {},
   "outputs": [],
   "source": [
    "\n",
    "# Drop visit_visitor_id column if no longer needed\n",
    "final_df_t.drop(['visit_id', 'visitor_id','process_step', 'confirm_time'], axis=1, inplace=True)\n",
    "final_df_t.drop_duplicates(subset='visit_visitor_id', keep='first', inplace=True)\n",
    "#change the order of the columns\n",
    "df_test_final = final_df_t.reindex(columns=['client_id', 'visit_visitor_id', 'start_time', 'step_1', 'step_2', 'step_3', 'date', 'bt_1', 'bt_2', 'bt_3', 'last_step', 'total_time_visit', 'Variation', 'clnt_tenure_yr', 'clnt_tenure_mnth', 'clnt_age', 'gendr', 'num_accts', 'bal', 'calls_6_mnth', 'logons_6_mnth'])\n",
    "# Result\n",
    "df_test_final.head(30)"
   ]
  },
  {
   "cell_type": "markdown",
   "metadata": {},
   "source": [
    "### df_control"
   ]
  },
  {
   "cell_type": "code",
   "execution_count": null,
   "metadata": {},
   "outputs": [],
   "source": [
    "df_control.head(10)"
   ]
  },
  {
   "cell_type": "code",
   "execution_count": null,
   "metadata": {},
   "outputs": [],
   "source": [
    "# Assuming df_control is your DataFrame\n",
    "# 1. Data Preparation:\n",
    "df_control['date_time'] = pd.to_datetime(df_control['date_time'])\n",
    "df_control['date'] = df_control['date_time'].dt.date\n",
    "# Combine visit_id and visitor_id into a new column\n",
    "df_control['visit_visitor_id'] = df_control['visit_id'].astype(str) + \"_\" + df_control['visitor_id'].astype(str)"
   ]
  },
  {
   "cell_type": "code",
   "execution_count": null,
   "metadata": {},
   "outputs": [],
   "source": [
    "# 2. Calculate time differences per step and make them positive:\n",
    "# We need to sort the dataframe before calculating the time difference\n",
    "df_control = df_control.sort_values(by=['visit_id', 'client_id', 'date_time'])\n",
    "\n",
    "df_control['next_date_time'] = df_control.groupby(['visit_id', 'client_id'])['date_time'].shift(-1)\n",
    "\n",
    "# Calculate time spent in seconds, but make sure it's always positive\n",
    "df_control['time_diff_seconds'] = (df_control['next_date_time'] - df_control['date_time']).dt.total_seconds()\n",
    "df_control['time_diff_minutes'] = df_control['time_diff_seconds'] / 60"
   ]
  },
  {
   "cell_type": "code",
   "execution_count": null,
   "metadata": {},
   "outputs": [],
   "source": [
    "# 3. Pivot to Create Step Columns:\n",
    "df_pivot = df_control.pivot_table(index=['client_id', 'visitor_id', 'visit_id'], columns='process_step', values='time_diff_minutes', fill_value=0, aggfunc='sum')\n",
    "df_pivot = df_pivot.reset_index()\n",
    "df_pivot.columns.name = None  # Remove the 'process_step' header"
   ]
  },
  {
   "cell_type": "code",
   "execution_count": null,
   "metadata": {},
   "outputs": [],
   "source": [
    "# 4. Rename Columns & Calculate Total Time:\n",
    "df_pivot = df_pivot.rename(columns={'confirm': 'confirm_time', 'start': 'start_time', 'step_1': 'step_1', 'step_2': 'step_2', 'step_3': 'step_3'})\n",
    "\n",
    "df_pivot['total_time_visit'] = df_pivot[['start_time', 'step_1', 'step_2', 'step_3', 'confirm_time']].sum(axis=1)\n",
    "\n",
    "# 5. Merge with Original Data and Select/Reorder Columns:\n",
    "final_df_c = pd.merge(df_pivot, df_control[['client_id', 'visit_id','Variation', 'clnt_tenure_yr',\n",
    "       'clnt_tenure_mnth', 'clnt_age', 'gendr', 'num_accts', 'bal',\n",
    "       'calls_6_mnth', 'logons_6_mnth', 'date', 'process_step']], on=['client_id', 'visit_id'], how='left')"
   ]
  },
  {
   "cell_type": "code",
   "execution_count": null,
   "metadata": {},
   "outputs": [],
   "source": [
    "# Get last step per visit_id\n",
    "final_df_c['last_step'] = final_df_c.groupby('visit_id')['process_step'].transform('last')\n",
    "\n",
    "# Add new columns bt_1, bt_2, bt_3 for counts of step_1, step_2, step_3\n",
    "step_counts = df_control.groupby(['visit_visitor_id', 'process_step']).size().unstack(fill_value=0)\n",
    "\n",
    "# Add bt_1, bt_2, bt_3 columns to final_df\n",
    "final_df_c['visit_visitor_id'] = final_df_c['visit_id'].astype(str) + \"_\" + final_df_c['visitor_id'].astype(str)\n",
    "final_df_c['bt_1'] = final_df_c['visit_visitor_id'].map(step_counts.get('step_1', pd.Series())).fillna(0).astype(int)\n",
    "final_df_c['bt_2'] = final_df_c['visit_visitor_id'].map(step_counts.get('step_2', pd.Series())).fillna(0).astype(int)\n",
    "final_df_c['bt_3'] = final_df_c['visit_visitor_id'].map(step_counts.get('step_3', pd.Series())).fillna(0).astype(int)"
   ]
  },
  {
   "cell_type": "code",
   "execution_count": null,
   "metadata": {},
   "outputs": [],
   "source": [
    "\n",
    "# Drop visit_visitor_id column if no longer needed\n",
    "final_df_c.drop(['visit_id', 'visitor_id','process_step', 'confirm_time'], axis=1, inplace=True)\n",
    "final_df_c.drop_duplicates(subset='visit_visitor_id', keep='first', inplace=True)\n",
    "#change the order of the columns\n",
    "df_control_final = final_df_c.reindex(columns=['client_id', 'visit_visitor_id', 'start_time', 'step_1', 'step_2', 'step_3', 'date', 'bt_1', 'bt_2', 'bt_3', 'last_step', 'total_time_visit', 'Variation', 'clnt_tenure_yr', 'clnt_tenure_mnth', 'clnt_age', 'gendr', 'num_accts', 'bal', 'calls_6_mnth', 'logons_6_mnth'])\n",
    "# Result\n",
    "df_control_final.head(10)\n"
   ]
  },
  {
   "cell_type": "markdown",
   "metadata": {},
   "source": [
    "## 1. Demographic Analysis\n"
   ]
  },
  {
   "cell_type": "code",
   "execution_count": null,
   "metadata": {},
   "outputs": [],
   "source": [
    "\n",
    "# Univariate Analysis - Demographics\n",
    "def demographic_analysis(df, title):\n",
    "    plt.figure(figsize=(15, 10))\n",
    "\n",
    "    plt.subplot(2, 2, 1)\n",
    "    sns.countplot(data=df, x='gendr')\n",
    "    plt.title(f'{title} - Gender Distribution')\n",
    "\n",
    "    plt.subplot(2, 2, 2)\n",
    "    sns.histplot(data=df, x='clnt_age', bins=20)\n",
    "    plt.title(f'{title} - Age Distribution')\n",
    "\n",
    "    plt.subplot(2, 2, 3)\n",
    "    sns.histplot(data=df, x='clnt_tenure_yr', bins=20)\n",
    "    plt.title(f'{title} - Client Tenure (Years)')\n",
    "\n",
    "    plt.subplot(2, 2, 4)\n",
    "    sns.histplot(data=df, x='clnt_tenure_mnth', bins=20)\n",
    "    plt.title(f'{title} - Client Tenure (Months)')\n",
    "\n",
    "    plt.tight_layout()\n",
    "    plt.show()\n",
    "\n",
    "demographic_analysis(df_control_final, 'Control Group')\n",
    "demographic_analysis(df_test_final, 'Test Group')\n"
   ]
  },
  {
   "cell_type": "markdown",
   "metadata": {},
   "source": [
    "### Demographic side by side comparisson "
   ]
  },
  {
   "cell_type": "code",
   "execution_count": null,
   "metadata": {},
   "outputs": [],
   "source": [
    "def visualize_side_by_side(df1, df2, title1, title2, col):\n",
    "    plt.figure(figsize=(15, 5))\n",
    "\n",
    "    plt.subplot(1, 2, 1)\n",
    "    sns.histplot(data=df1, x=col, bins=20)\n",
    "    plt.title(title1)\n",
    "\n",
    "    plt.subplot(1, 2, 2)\n",
    "    sns.histplot(data=df2, x=col, bins=20)\n",
    "    plt.title(title2)\n",
    "\n",
    "    plt.tight_layout()\n",
    "    plt.show()\n",
    "\n",
    "visualize_side_by_side(df_control_final, df_test_final, 'Control Group', 'Test Group', 'clnt_age')\n",
    "visualize_side_by_side(df_control_final, df_test_final, 'Control Group', 'Test Group', 'clnt_tenure_yr')"
   ]
  },
  {
   "cell_type": "markdown",
   "metadata": {},
   "source": [
    "## 2. Client Behaviour Analysis\n"
   ]
  },
  {
   "cell_type": "code",
   "execution_count": null,
   "metadata": {},
   "outputs": [],
   "source": [
    "# Bivariate Analysis - Steps and Time\n",
    "def behavior_analysis(df, title):\n",
    "    plt.figure(figsize=(15, 10))\n",
    "\n",
    "    plt.subplot(2, 2, 1)\n",
    "    sns.histplot(data=df, x='start_time', bins=20)\n",
    "    plt.title(f'{title} - Start Time')\n",
    "\n",
    "    plt.subplot(2, 2, 2)\n",
    "    sns.histplot(data=df, x='step_1', bins=20)\n",
    "    plt.title(f'{title} - Step 1 Time')\n",
    "\n",
    "    plt.subplot(2, 2, 3)\n",
    "    sns.histplot(data=df, x='step_2', bins=20)\n",
    "    plt.title(f'{title} - Step 2 Time')\n",
    "\n",
    "    plt.subplot(2, 2, 4)\n",
    "    sns.histplot(data=df, x='step_3', bins=20)\n",
    "    plt.title(f'{title} - Step 3 Time')\n",
    "\n",
    "    plt.tight_layout()\n",
    "    plt.show()\n",
    "\n",
    "behavior_analysis(df_control_final, 'Control Group')\n",
    "behavior_analysis(df_test_final, 'Test Group')\n"
   ]
  },
  {
   "cell_type": "markdown",
   "metadata": {},
   "source": [
    "## 3. Key Performance Indicators (KPIs)\n"
   ]
  },
  {
   "cell_type": "code",
   "execution_count": null,
   "metadata": {},
   "outputs": [],
   "source": [
    "\n",
    "# Calculate KPIs\n",
    "def calculate_kpis(df):\n",
    "    kpis = {}\n",
    "\n",
    "    # Completion Rate\n",
    "    total_visits = df['visit_visitor_id'].nunique()\n",
    "    completed_visits = df[df['last_step'] == 'confirm']['visit_visitor_id'].nunique()\n",
    "    kpis['completion_rate'] = completed_visits / total_visits\n",
    "\n",
    "    # Time Spent on Each Step\n",
    "    kpis['avg_start_time'] = df['start_time'].mean()\n",
    "    kpis['avg_step_1_time'] = df['step_1'].mean()\n",
    "    kpis['avg_step_2_time'] = df['step_2'].mean()\n",
    "    kpis['avg_step_3_time'] = df['step_3'].mean()\n",
    "\n",
    "    # Error Rates\n",
    "    errors = df[(df['step_1'] < df['start_time']) | (df['step_2'] < df['step_1']) | (df['step_3'] < df['step_2'])]\n",
    "    kpis['error_rate'] = errors['visit_visitor_id'].nunique() / total_visits\n",
    "\n",
    "    return kpis\n",
    "\n",
    "kpis_control = calculate_kpis(df_control_final)\n",
    "kpis_test = calculate_kpis(df_test_final)\n",
    "\n",
    "print(\"Control Group KPIs:\", kpis_control)\n",
    "print(\"Test Group KPIs:\", kpis_test)\n",
    "\n",
    "# Convert KPIs to DataFrame for visualization\n",
    "kpis_df = pd.DataFrame([kpis_control, kpis_test], index=['Control', 'Test']).reset_index()\n",
    "kpis_df = kpis_df.melt(id_vars='index', var_name='KPI', value_name='Value')\n",
    "\n",
    "# Visualization\n",
    "plt.figure(figsize=(15, 8))\n",
    "\n",
    "# Completion Rate\n",
    "plt.subplot(2, 2, 1)\n",
    "sns.barplot(data=kpis_df[kpis_df['KPI'] == 'completion_rate'], x='index', y='Value')\n",
    "plt.title('Completion Rate')\n",
    "plt.ylabel('Completion Rate')\n",
    "plt.xlabel('Group')\n",
    "\n",
    "# Average Time Spent on Each Step\n",
    "plt.subplot(2, 2, 2)\n",
    "sns.barplot(data=kpis_df[kpis_df['KPI'].str.contains('avg')], x='KPI', y='Value', hue='index')\n",
    "plt.title('Average Time Spent on Each Step')\n",
    "plt.ylabel('Average Time (seconds)')\n",
    "plt.xlabel('Step')\n",
    "plt.xticks(rotation=45)\n",
    "\n",
    "# Error Rates\n",
    "plt.subplot(2, 2, 3)\n",
    "sns.barplot(data=kpis_df[kpis_df['KPI'] == 'error_rate'], x='index', y='Value')\n",
    "plt.title('Error Rate')\n",
    "plt.ylabel('Error Rate')\n",
    "plt.xlabel('Group')\n",
    "\n",
    "plt.tight_layout()\n",
    "plt.show()\n"
   ]
  },
  {
   "cell_type": "code",
   "execution_count": null,
   "metadata": {},
   "outputs": [],
   "source": [
    "df_test_final.shape"
   ]
  },
  {
   "cell_type": "code",
   "execution_count": null,
   "metadata": {},
   "outputs": [],
   "source": [
    "df_control_final.shape"
   ]
  },
  {
   "cell_type": "markdown",
   "metadata": {},
   "source": [
    "## 4. Hypothesis Testing"
   ]
  },
  {
   "cell_type": "markdown",
   "metadata": {},
   "source": [
    "### 4.1. Completion Rate"
   ]
  },
  {
   "cell_type": "code",
   "execution_count": null,
   "metadata": {},
   "outputs": [],
   "source": [
    "\n",
    "# Calculate KPIs\n",
    "def calculate_kpis(df):\n",
    "    kpis = {}\n",
    "    total_visits = df['visit_visitor_id'].nunique()\n",
    "    completed_visits = df[df['last_step'] == 'confirm']['visit_visitor_id'].nunique()\n",
    "    \n",
    "    # KPIs Calculation\n",
    "    kpis['completion_rate'] = completed_visits / total_visits\n",
    "    kpis['avg_start_time'] = df['start_time'].mean()\n",
    "    kpis['avg_step_1_time'] = df['step_1'].mean()\n",
    "    kpis['avg_step_2_time'] = df['step_2'].mean()\n",
    "    kpis['avg_step_3_time'] = df['step_3'].mean()\n",
    "    # Error Rates (new definition)\n",
    "    errors_bt_1 = df['bt_1'].duplicated(subset=['visit_visitor_id'], keep=False).sum()\n",
    "    errors_bt_2 = df['bt_2'].duplicated(subset=['visit_visitor_id'], keep=False).sum()\n",
    "    errors_bt_3 = df['bt_3'].duplicated(subset=['visit_visitor_id'], keep=False).sum()\n",
    "    total_errors = errors_bt_1 + errors_bt_2 + errors_bt_3\n",
    "\n",
    "    kpis['error_rate'] = total_errors / total_visits\n",
    "    \n",
    "    return kpis, total_visits, completed_visits\n",
    "\n",
    "kpis_control, total_visits_control, completed_visits_control = calculate_kpis(df_control_final)\n",
    "kpis_test, total_visits_test, completed_visits_test = calculate_kpis(df_test_final)\n",
    "\n",
    "print(\"Control Group KPIs:\", kpis_control)\n",
    "print(\"Test Group KPIs:\", kpis_test)\n",
    "\n",
    "# Chi-Squared Test for Completion Rate\n",
    "contingency_table = pd.DataFrame({\n",
    "    'Completed': [completed_visits_control, completed_visits_test],\n",
    "    'Not Completed': [total_visits_control - completed_visits_control, total_visits_test - completed_visits_test]\n",
    "}, index=['Control', 'Test'])\n",
    "\n",
    "chi2, p, _, _ = chi2_contingency(contingency_table)\n",
    "print(\"Chi-Squared Test p-value:\", p)\n",
    "\n",
    "# Convert KPIs to DataFrame for visualization\n",
    "kpis_df = pd.DataFrame([kpis_control, kpis_test], index=['Control', 'Test']).reset_index()\n",
    "kpis_df = kpis_df.melt(id_vars='index', var_name='KPI', value_name='Value')\n",
    "\n",
    "# Visualization\n",
    "plt.figure(figsize=(15, 8))\n",
    "\n",
    "# Completion Rate\n",
    "plt.subplot(2, 2, 1)\n",
    "sns.barplot(data=kpis_df[kpis_df['KPI'] == 'completion_rate'], x='index', y='Value')\n",
    "plt.title('Completion Rate')\n",
    "plt.ylabel('Completion Rate')\n",
    "plt.xlabel('Group')\n",
    "\n",
    "# Average Time Spent on Each Step\n",
    "plt.subplot(2, 2, 2)\n",
    "sns.barplot(data=kpis_df[kpis_df['KPI'].str.contains('avg')], x='KPI', y='Value', hue='index')\n",
    "plt.title('Average Time Spent on Each Step')\n",
    "plt.ylabel('Average Time (seconds)')\n",
    "plt.xlabel('Step')\n",
    "plt.xticks(rotation=45)\n",
    "\n",
    "# Error Rates\n",
    "plt.subplot(2, 2, 3)\n",
    "sns.barplot(data=kpis_df[kpis_df['KPI'] == 'error_rate'], x='index', y='Value')\n",
    "plt.title('Error Rate')\n",
    "plt.ylabel('Error Rate')\n",
    "plt.xlabel('Group')\n",
    "\n",
    "plt.tight_layout()\n",
    "plt.show()\n"
   ]
  },
  {
   "cell_type": "code",
   "execution_count": null,
   "metadata": {},
   "outputs": [],
   "source": [
    "import pandas as pd\n",
    "\n",
    "# Sample data for illustration\n",
    "# df_control_final and df_control_test should be defined with the columns mentioned in the problem statement\n",
    "\n",
    "def calculate_kpis(df):\n",
    "    kpis = {}\n",
    "\n",
    "    # Completion Rate\n",
    "    total_visits = df['visit_visitor_id'].nunique()\n",
    "    completed_visits = df[df['last_step'] == 'confirm']['visit_visitor_id'].nunique()\n",
    "    kpis['completion_rate'] = completed_visits / total_visits\n",
    "\n",
    "    # Time Spent on Each Step\n",
    "    kpis['avg_start_time'] = df['start_time'].mean()\n",
    "    kpis['avg_step_1_time'] = df['step_1'].mean()\n",
    "    kpis['avg_step_2_time'] = df['step_2'].mean()\n",
    "    kpis['avg_step_3_time'] = df['step_3'].mean()\n",
    "\n",
    "    # Error Rates (new definition)\n",
    "    errors_bt_1 = df['bt_1'].duplicated(subset=['visit_visitor_id'], keep=False).sum()\n",
    "    errors_bt_2 = df['bt_2'].duplicated(subset=['visit_visitor_id'], keep=False).sum()\n",
    "    errors_bt_3 = df['bt_3'].duplicated(subset=['visit_visitor_id'], keep=False).sum()\n",
    "    total_errors = errors_bt_1 + errors_bt_2 + errors_bt_3\n",
    "\n",
    "    kpis['error_rate'] = total_errors / total_visits\n",
    "\n",
    "    return kpis\n",
    "\n",
    "# Calculate KPIs for control and test groups\n",
    "kpis_control = calculate_kpis(df_control_final)\n",
    "kpis_test = calculate_kpis(df_control_test)\n",
    "\n",
    "print(\"Control Group KPIs:\", kpis_control)\n",
    "print(\"Test Group KPIs:\", kpis_test)\n"
   ]
  },
  {
   "cell_type": "markdown",
   "metadata": {},
   "source": [
    "### 4.2. Cost-Effectiveness Threshold"
   ]
  },
  {
   "cell_type": "code",
   "execution_count": null,
   "metadata": {},
   "outputs": [],
   "source": [
    "# Cost-Effectiveness Analysis\n",
    "completion_rate_increase = kpis_test['completion_rate'] - kpis_control['completion_rate']\n",
    "print(\"Completion Rate Increase:\", completion_rate_increase)\n",
    "\n",
    "if completion_rate_increase >= 0.05:\n",
    "    print(\"The new design meets the cost-effectiveness threshold.\")\n",
    "else:\n",
    "    print(\"The new design does not meet the cost-effectiveness threshold.\")\n"
   ]
  },
  {
   "cell_type": "markdown",
   "metadata": {},
   "source": [
    "### 4.3. Other Hypothesis Testing"
   ]
  },
  {
   "cell_type": "code",
   "execution_count": null,
   "metadata": {},
   "outputs": [],
   "source": [
    "\n",
    "\n",
    "# Average Age Hypothesis Test\n",
    "t_stat_age, p_value_age = ttest_ind(df_control_final['clnt_age'], df_test_final['clnt_age'])\n",
    "print(\"Average Age t-test p-value:\", p_value_age)\n",
    "\n",
    "# Client Tenure Hypothesis Test\n",
    "t_stat_tenure, p_value_tenure = ttest_ind(df_control_final['clnt_tenure_yr'], df_test_final['clnt_tenure_yr'])\n",
    "print(\"Client Tenure t-test p-value:\", p_value_tenure)\n",
    "\n",
    "# Gender Difference Hypothesis Test\n",
    "gender_counts_control = df_control_final['gendr'].value_counts()\n",
    "gender_counts_test = df_test_final['gendr'].value_counts()\n",
    "\n",
    "# Create a contingency table\n",
    "contingency_table = pd.DataFrame([gender_counts_control, gender_counts_test], index=['Control', 'Test'])\n",
    "\n",
    "chi2, p, _, _ = chi2_contingency(contingency_table)\n",
    "print(\"Gender Difference Chi-Squared Test p-value:\", p)\n",
    "\n"
   ]
  },
  {
   "cell_type": "markdown",
   "metadata": {},
   "source": [
    "## 5. Experiment Evaluation\n"
   ]
  },
  {
   "cell_type": "code",
   "execution_count": null,
   "metadata": {},
   "outputs": [],
   "source": [
    "\n",
    "\n",
    "# Experiment Design Evaluation with Visualizations\n",
    "def experiment_evaluation_with_visualizations(df_control, df_test):\n",
    "    control_size = df_control['visit_visitor_id'].nunique()\n",
    "    test_size = df_test['visit_visitor_id'].nunique()\n",
    "\n",
    "    print(\"Control Group Size:\", control_size)\n",
    "    print(\"Test Group Size:\", test_size)\n",
    "\n",
    "    # Plot Group Sizes\n",
    "    plt.figure(figsize=(10, 5))\n",
    "    plt.bar(['Control', 'Test'], [control_size, test_size], color=['blue', 'orange'])\n",
    "    plt.title('Group Sizes')\n",
    "    plt.ylabel('Number of Unique Visitors')\n",
    "    plt.show()\n",
    "\n",
    "    # Gender Distribution\n",
    "    gender_dist_control = df_control['gendr'].value_counts(normalize=True)\n",
    "    gender_dist_test = df_test['gendr'].value_counts(normalize=True)\n",
    "\n",
    "    print(\"Gender Distribution Control:\\n\", gender_dist_control)\n",
    "    print(\"Gender Distribution Test:\\n\", gender_dist_test)\n",
    "\n",
    "    # Plot Gender Distribution\n",
    "    fig, axs = plt.subplots(1, 2, figsize=(15, 5))\n",
    "\n",
    "    axs[0].pie(gender_dist_control, labels=gender_dist_control.index, autopct='%1.1f%%', colors=['lightblue', 'lightgreen'])\n",
    "    axs[0].set_title('Gender Distribution - Control Group')\n",
    "\n",
    "    axs[1].pie(gender_dist_test, labels=gender_dist_test.index, autopct='%1.1f%%', colors=['lightcoral', 'lightskyblue'])\n",
    "    axs[1].set_title('Gender Distribution - Test Group')\n",
    "\n",
    "    plt.show()\n",
    "\n",
    "experiment_evaluation_with_visualizations(df_control_final, df_test_final)\n"
   ]
  },
  {
   "cell_type": "code",
   "execution_count": null,
   "metadata": {},
   "outputs": [],
   "source": [
    "# Additional Data Needs\n",
    "print(\"Additional data that could enhance the analysis:\")\n",
    "print(\"- Detailed logs of user interactions (e.g., clicks, hovers)\")\n",
    "print(\"- Feedback or survey data on user satisfaction\")\n",
    "print(\"- Data on external factors that could influence user behavior (e.g., marketing campaigns)\")\n"
   ]
  },
  {
   "cell_type": "code",
   "execution_count": null,
   "metadata": {},
   "outputs": [],
   "source": []
  }
 ],
 "metadata": {
  "kernelspec": {
   "display_name": ".venv",
   "language": "python",
   "name": "python3"
  },
  "language_info": {
   "codemirror_mode": {
    "name": "ipython",
    "version": 3
   },
   "file_extension": ".py",
   "mimetype": "text/x-python",
   "name": "python",
   "nbconvert_exporter": "python",
   "pygments_lexer": "ipython3",
   "version": "3.10.12"
  }
 },
 "nbformat": 4,
 "nbformat_minor": 2
}
